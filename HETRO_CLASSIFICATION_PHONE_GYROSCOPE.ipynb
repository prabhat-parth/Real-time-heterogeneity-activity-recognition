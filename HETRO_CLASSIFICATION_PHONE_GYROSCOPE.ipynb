{
  "nbformat": 4,
  "nbformat_minor": 0,
  "metadata": {
    "colab": {
      "name": "HETRO_CLASSIFICATION_PHONE_GYROSCOPE.ipynb",
      "provenance": [],
      "mount_file_id": "1jtKGyjDGlB_ZZm6i2Er5_HahbyBH4U1x",
      "authorship_tag": "ABX9TyNKw3Ol5xxNFq9R/ZabMJCQ",
      "include_colab_link": true
    },
    "kernelspec": {
      "name": "python3",
      "display_name": "Python 3"
    },
    "accelerator": "GPU"
  },
  "cells": [
    {
      "cell_type": "markdown",
      "metadata": {
        "id": "view-in-github",
        "colab_type": "text"
      },
      "source": [
        "<a href=\"https://colab.research.google.com/github/prabhat-parth/Real-time-heterogeneity-activity-recognition/blob/master/HETRO_CLASSIFICATION_PHONE_GYROSCOPE.ipynb\" target=\"_parent\"><img src=\"https://colab.research.google.com/assets/colab-badge.svg\" alt=\"Open In Colab\"/></a>"
      ]
    },
    {
      "cell_type": "code",
      "metadata": {
        "id": "3D-b3qEOtDuF",
        "colab_type": "code",
        "outputId": "fa0e1f69-6732-4dfe-a26c-b0c809ff6d38",
        "colab": {
          "base_uri": "https://localhost:8080/",
          "height": 83
        }
      },
      "source": [
        "import tensorflow as tf\n",
        "from tensorflow.keras import Sequential\n",
        "from tensorflow.keras.layers import Flatten, Dense, Dropout, BatchNormalization\n",
        "from tensorflow.keras.layers import Conv2D, MaxPool2D\n",
        "from tensorflow.keras.optimizers import Adam\n",
        "print(tf.__version__)\n",
        "import pandas as pd\n",
        "import numpy as np\n",
        "import matplotlib.pyplot as plt\n",
        "from sklearn.model_selection import train_test_split\n",
        "from sklearn.preprocessing import StandardScaler, LabelEncoder\n",
        "import pandas as pd\n",
        "import numpy as np\n",
        "import pickle\n",
        "import matplotlib.pyplot as plt\n",
        "from scipy import stats\n",
        "import tensorflow as tf\n",
        "import seaborn as sns\n",
        "from pylab import rcParams\n",
        "from sklearn import metrics\n",
        "from sklearn.model_selection import train_test_split"
      ],
      "execution_count": 0,
      "outputs": [
        {
          "output_type": "display_data",
          "data": {
            "text/html": [
              "<p style=\"color: red;\">\n",
              "The default version of TensorFlow in Colab will soon switch to TensorFlow 2.x.<br>\n",
              "We recommend you <a href=\"https://www.tensorflow.org/guide/migrate\" target=\"_blank\">upgrade</a> now \n",
              "or ensure your notebook will continue to use TensorFlow 1.x via the <code>%tensorflow_version 1.x</code> magic:\n",
              "<a href=\"https://colab.research.google.com/notebooks/tensorflow_version.ipynb\" target=\"_blank\">more info</a>.</p>\n"
            ],
            "text/plain": [
              "<IPython.core.display.HTML object>"
            ]
          },
          "metadata": {
            "tags": []
          }
        },
        {
          "output_type": "stream",
          "text": [
            "1.15.0\n"
          ],
          "name": "stdout"
        }
      ]
    },
    {
      "cell_type": "code",
      "metadata": {
        "id": "ZRSexPxlOr_t",
        "colab_type": "code",
        "outputId": "c2fa310d-db37-4184-fe67-2571de92882e",
        "colab": {
          "base_uri": "https://localhost:8080/",
          "height": 35
        }
      },
      "source": [
        "import numpy as np\n",
        "import pandas as pd\n",
        "data = pd.read_csv(\"/content/drive/My Drive/HETRO_DATA/Activity recognition exp/Activity recognition exp/Phones_gyroscope.csv\")\n",
        "data.head()\n",
        "data.shape\n"
      ],
      "execution_count": 0,
      "outputs": [
        {
          "output_type": "execute_result",
          "data": {
            "text/plain": [
              "(13932632, 10)"
            ]
          },
          "metadata": {
            "tags": []
          },
          "execution_count": 2
        }
      ]
    },
    {
      "cell_type": "code",
      "metadata": {
        "id": "3HwiYzUkPnRN",
        "colab_type": "code",
        "outputId": "88c5c348-ec0e-4c0b-97da-91d18f459186",
        "colab": {
          "base_uri": "https://localhost:8080/",
          "height": 35
        }
      },
      "source": [
        "#Check for Duplicates\n",
        "print('No of duplicates in DATA: {}'.format(sum(data.duplicated())))\n"
      ],
      "execution_count": 0,
      "outputs": [
        {
          "output_type": "stream",
          "text": [
            "No of duplicates in DATA: 0\n"
          ],
          "name": "stdout"
        }
      ]
    },
    {
      "cell_type": "code",
      "metadata": {
        "id": "oratZmabQHat",
        "colab_type": "code",
        "outputId": "f7c9df7c-ceb8-4680-88f0-05999c064f68",
        "colab": {
          "base_uri": "https://localhost:8080/",
          "height": 35
        }
      },
      "source": [
        "#Checking for NaN/null values\n",
        "print('We have {} NaN/Null values in data'.format(data.isnull().values.sum()))"
      ],
      "execution_count": 0,
      "outputs": [
        {
          "output_type": "stream",
          "text": [
            "We have 1869627 NaN/Null values in data\n"
          ],
          "name": "stdout"
        }
      ]
    },
    {
      "cell_type": "code",
      "metadata": {
        "colab_type": "code",
        "id": "97Hzdh7SSYch",
        "colab": {}
      },
      "source": [
        "#sns.heatmap(data.isnull(), cbar=False)"
      ],
      "execution_count": 0,
      "outputs": []
    },
    {
      "cell_type": "code",
      "metadata": {
        "id": "gv9vr8XJRtJe",
        "colab_type": "code",
        "colab": {}
      },
      "source": [
        "data.dropna(axis=0, how='any', thresh=None, subset=None, inplace= True)"
      ],
      "execution_count": 0,
      "outputs": []
    },
    {
      "cell_type": "code",
      "metadata": {
        "id": "2HaYimWq7u2b",
        "colab_type": "code",
        "colab": {}
      },
      "source": [
        "#sns.heatmap(data.isnull(), cbar=False)"
      ],
      "execution_count": 0,
      "outputs": []
    },
    {
      "cell_type": "code",
      "metadata": {
        "colab_type": "code",
        "id": "dQcmi0pvS5Rl",
        "outputId": "05fc9833-ce77-4ac9-c7e7-814aaa672317",
        "colab": {
          "base_uri": "https://localhost:8080/",
          "height": 54
        }
      },
      "source": [
        "#Checking for NaN/null values\n",
        "print('We have {} NaN/Null values in data'.format(data.isnull().values.sum()))\n",
        "data.shape"
      ],
      "execution_count": 0,
      "outputs": [
        {
          "output_type": "stream",
          "text": [
            "We have 0 NaN/Null values in data\n"
          ],
          "name": "stdout"
        },
        {
          "output_type": "execute_result",
          "data": {
            "text/plain": [
              "(12063005, 10)"
            ]
          },
          "metadata": {
            "tags": []
          },
          "execution_count": 8
        }
      ]
    },
    {
      "cell_type": "code",
      "metadata": {
        "id": "2pF22Xd6knnC",
        "colab_type": "code",
        "outputId": "9f3cdb80-6e8a-49c2-b5b0-ca877cbab61d",
        "colab": {
          "base_uri": "https://localhost:8080/",
          "height": 35
        }
      },
      "source": [
        "#data = data.drop(['Arrival_Time'], axis = 1).copy()\n",
        "data.shape"
      ],
      "execution_count": 0,
      "outputs": [
        {
          "output_type": "execute_result",
          "data": {
            "text/plain": [
              "(12063005, 10)"
            ]
          },
          "metadata": {
            "tags": []
          },
          "execution_count": 9
        }
      ]
    },
    {
      "cell_type": "code",
      "metadata": {
        "id": "VcNHiyd0JldN",
        "colab_type": "code",
        "outputId": "840f5554-efbd-412d-a768-02b90367d199",
        "colab": {
          "base_uri": "https://localhost:8080/",
          "height": 198
        }
      },
      "source": [
        "data.head()"
      ],
      "execution_count": 0,
      "outputs": [
        {
          "output_type": "execute_result",
          "data": {
            "text/html": [
              "<div>\n",
              "<style scoped>\n",
              "    .dataframe tbody tr th:only-of-type {\n",
              "        vertical-align: middle;\n",
              "    }\n",
              "\n",
              "    .dataframe tbody tr th {\n",
              "        vertical-align: top;\n",
              "    }\n",
              "\n",
              "    .dataframe thead th {\n",
              "        text-align: right;\n",
              "    }\n",
              "</style>\n",
              "<table border=\"1\" class=\"dataframe\">\n",
              "  <thead>\n",
              "    <tr style=\"text-align: right;\">\n",
              "      <th></th>\n",
              "      <th>Index</th>\n",
              "      <th>Arrival_Time</th>\n",
              "      <th>Creation_Time</th>\n",
              "      <th>x</th>\n",
              "      <th>y</th>\n",
              "      <th>z</th>\n",
              "      <th>User</th>\n",
              "      <th>Model</th>\n",
              "      <th>Device</th>\n",
              "      <th>gt</th>\n",
              "    </tr>\n",
              "  </thead>\n",
              "  <tbody>\n",
              "    <tr>\n",
              "      <th>0</th>\n",
              "      <td>0</td>\n",
              "      <td>1424696633909</td>\n",
              "      <td>1424696631914042029</td>\n",
              "      <td>0.013748</td>\n",
              "      <td>-0.000626</td>\n",
              "      <td>-0.023376</td>\n",
              "      <td>a</td>\n",
              "      <td>nexus4</td>\n",
              "      <td>nexus4_1</td>\n",
              "      <td>stand</td>\n",
              "    </tr>\n",
              "    <tr>\n",
              "      <th>1</th>\n",
              "      <td>1</td>\n",
              "      <td>1424696633909</td>\n",
              "      <td>1424696631919046912</td>\n",
              "      <td>0.014816</td>\n",
              "      <td>-0.001694</td>\n",
              "      <td>-0.022308</td>\n",
              "      <td>a</td>\n",
              "      <td>nexus4</td>\n",
              "      <td>nexus4_1</td>\n",
              "      <td>stand</td>\n",
              "    </tr>\n",
              "    <tr>\n",
              "      <th>2</th>\n",
              "      <td>2</td>\n",
              "      <td>1424696633918</td>\n",
              "      <td>1424696631924051794</td>\n",
              "      <td>0.015884</td>\n",
              "      <td>-0.001694</td>\n",
              "      <td>-0.021240</td>\n",
              "      <td>a</td>\n",
              "      <td>nexus4</td>\n",
              "      <td>nexus4_1</td>\n",
              "      <td>stand</td>\n",
              "    </tr>\n",
              "    <tr>\n",
              "      <th>3</th>\n",
              "      <td>3</td>\n",
              "      <td>1424696633919</td>\n",
              "      <td>1424696631929117712</td>\n",
              "      <td>0.016953</td>\n",
              "      <td>-0.003830</td>\n",
              "      <td>-0.020172</td>\n",
              "      <td>a</td>\n",
              "      <td>nexus4</td>\n",
              "      <td>nexus4_1</td>\n",
              "      <td>stand</td>\n",
              "    </tr>\n",
              "    <tr>\n",
              "      <th>4</th>\n",
              "      <td>4</td>\n",
              "      <td>1424696633928</td>\n",
              "      <td>1424696631934214148</td>\n",
              "      <td>0.015884</td>\n",
              "      <td>-0.007034</td>\n",
              "      <td>-0.020172</td>\n",
              "      <td>a</td>\n",
              "      <td>nexus4</td>\n",
              "      <td>nexus4_1</td>\n",
              "      <td>stand</td>\n",
              "    </tr>\n",
              "  </tbody>\n",
              "</table>\n",
              "</div>"
            ],
            "text/plain": [
              "   Index   Arrival_Time        Creation_Time  ...   Model    Device     gt\n",
              "0      0  1424696633909  1424696631914042029  ...  nexus4  nexus4_1  stand\n",
              "1      1  1424696633909  1424696631919046912  ...  nexus4  nexus4_1  stand\n",
              "2      2  1424696633918  1424696631924051794  ...  nexus4  nexus4_1  stand\n",
              "3      3  1424696633919  1424696631929117712  ...  nexus4  nexus4_1  stand\n",
              "4      4  1424696633928  1424696631934214148  ...  nexus4  nexus4_1  stand\n",
              "\n",
              "[5 rows x 10 columns]"
            ]
          },
          "metadata": {
            "tags": []
          },
          "execution_count": 10
        }
      ]
    },
    {
      "cell_type": "code",
      "metadata": {
        "id": "0ZdYPJIjJo6I",
        "colab_type": "code",
        "outputId": "a2db08a1-8b7d-4850-a546-c9edc29b2fc4",
        "colab": {
          "base_uri": "https://localhost:8080/",
          "height": 198
        }
      },
      "source": [
        "#data = data.drop(['Index','Creation_Time','User','Model','Device'], axis = 1).copy()\n",
        "data.head()"
      ],
      "execution_count": 0,
      "outputs": [
        {
          "output_type": "execute_result",
          "data": {
            "text/html": [
              "<div>\n",
              "<style scoped>\n",
              "    .dataframe tbody tr th:only-of-type {\n",
              "        vertical-align: middle;\n",
              "    }\n",
              "\n",
              "    .dataframe tbody tr th {\n",
              "        vertical-align: top;\n",
              "    }\n",
              "\n",
              "    .dataframe thead th {\n",
              "        text-align: right;\n",
              "    }\n",
              "</style>\n",
              "<table border=\"1\" class=\"dataframe\">\n",
              "  <thead>\n",
              "    <tr style=\"text-align: right;\">\n",
              "      <th></th>\n",
              "      <th>Index</th>\n",
              "      <th>Arrival_Time</th>\n",
              "      <th>Creation_Time</th>\n",
              "      <th>x</th>\n",
              "      <th>y</th>\n",
              "      <th>z</th>\n",
              "      <th>User</th>\n",
              "      <th>Model</th>\n",
              "      <th>Device</th>\n",
              "      <th>gt</th>\n",
              "    </tr>\n",
              "  </thead>\n",
              "  <tbody>\n",
              "    <tr>\n",
              "      <th>0</th>\n",
              "      <td>0</td>\n",
              "      <td>1424696633909</td>\n",
              "      <td>1424696631914042029</td>\n",
              "      <td>0.013748</td>\n",
              "      <td>-0.000626</td>\n",
              "      <td>-0.023376</td>\n",
              "      <td>a</td>\n",
              "      <td>nexus4</td>\n",
              "      <td>nexus4_1</td>\n",
              "      <td>stand</td>\n",
              "    </tr>\n",
              "    <tr>\n",
              "      <th>1</th>\n",
              "      <td>1</td>\n",
              "      <td>1424696633909</td>\n",
              "      <td>1424696631919046912</td>\n",
              "      <td>0.014816</td>\n",
              "      <td>-0.001694</td>\n",
              "      <td>-0.022308</td>\n",
              "      <td>a</td>\n",
              "      <td>nexus4</td>\n",
              "      <td>nexus4_1</td>\n",
              "      <td>stand</td>\n",
              "    </tr>\n",
              "    <tr>\n",
              "      <th>2</th>\n",
              "      <td>2</td>\n",
              "      <td>1424696633918</td>\n",
              "      <td>1424696631924051794</td>\n",
              "      <td>0.015884</td>\n",
              "      <td>-0.001694</td>\n",
              "      <td>-0.021240</td>\n",
              "      <td>a</td>\n",
              "      <td>nexus4</td>\n",
              "      <td>nexus4_1</td>\n",
              "      <td>stand</td>\n",
              "    </tr>\n",
              "    <tr>\n",
              "      <th>3</th>\n",
              "      <td>3</td>\n",
              "      <td>1424696633919</td>\n",
              "      <td>1424696631929117712</td>\n",
              "      <td>0.016953</td>\n",
              "      <td>-0.003830</td>\n",
              "      <td>-0.020172</td>\n",
              "      <td>a</td>\n",
              "      <td>nexus4</td>\n",
              "      <td>nexus4_1</td>\n",
              "      <td>stand</td>\n",
              "    </tr>\n",
              "    <tr>\n",
              "      <th>4</th>\n",
              "      <td>4</td>\n",
              "      <td>1424696633928</td>\n",
              "      <td>1424696631934214148</td>\n",
              "      <td>0.015884</td>\n",
              "      <td>-0.007034</td>\n",
              "      <td>-0.020172</td>\n",
              "      <td>a</td>\n",
              "      <td>nexus4</td>\n",
              "      <td>nexus4_1</td>\n",
              "      <td>stand</td>\n",
              "    </tr>\n",
              "  </tbody>\n",
              "</table>\n",
              "</div>"
            ],
            "text/plain": [
              "   Index   Arrival_Time        Creation_Time  ...   Model    Device     gt\n",
              "0      0  1424696633909  1424696631914042029  ...  nexus4  nexus4_1  stand\n",
              "1      1  1424696633909  1424696631919046912  ...  nexus4  nexus4_1  stand\n",
              "2      2  1424696633918  1424696631924051794  ...  nexus4  nexus4_1  stand\n",
              "3      3  1424696633919  1424696631929117712  ...  nexus4  nexus4_1  stand\n",
              "4      4  1424696633928  1424696631934214148  ...  nexus4  nexus4_1  stand\n",
              "\n",
              "[5 rows x 10 columns]"
            ]
          },
          "metadata": {
            "tags": []
          },
          "execution_count": 11
        }
      ]
    },
    {
      "cell_type": "code",
      "metadata": {
        "id": "czgSYoh1ktNA",
        "colab_type": "code",
        "outputId": "29df4b69-5de6-49c8-b52b-6b618087ff40",
        "colab": {
          "base_uri": "https://localhost:8080/",
          "height": 145
        }
      },
      "source": [
        "data['gt'].value_counts()"
      ],
      "execution_count": 0,
      "outputs": [
        {
          "output_type": "execute_result",
          "data": {
            "text/plain": [
              "walk          2350429\n",
              "sit           2218501\n",
              "stand         2024206\n",
              "bike          1911730\n",
              "stairsup      1884306\n",
              "stairsdown    1673833\n",
              "Name: gt, dtype: int64"
            ]
          },
          "metadata": {
            "tags": []
          },
          "execution_count": 12
        }
      ]
    },
    {
      "cell_type": "code",
      "metadata": {
        "id": "ZxCdtxAxk0t6",
        "colab_type": "code",
        "outputId": "5863179a-5a77-42fe-9e18-99a12cc1d89f",
        "colab": {
          "base_uri": "https://localhost:8080/",
          "height": 308
        }
      },
      "source": [
        "data['x'] = data['x'].astype('float')\n",
        "data['y'] = data['y'].astype('float')\n",
        "data['z'] = data['z'].astype('float')\n",
        "data.info()\n",
        "data.shape\n"
      ],
      "execution_count": 0,
      "outputs": [
        {
          "output_type": "stream",
          "text": [
            "<class 'pandas.core.frame.DataFrame'>\n",
            "Int64Index: 12063005 entries, 0 to 13932631\n",
            "Data columns (total 10 columns):\n",
            "Index            int64\n",
            "Arrival_Time     int64\n",
            "Creation_Time    int64\n",
            "x                float64\n",
            "y                float64\n",
            "z                float64\n",
            "User             object\n",
            "Model            object\n",
            "Device           object\n",
            "gt               object\n",
            "dtypes: float64(3), int64(3), object(4)\n",
            "memory usage: 1012.4+ MB\n"
          ],
          "name": "stdout"
        },
        {
          "output_type": "execute_result",
          "data": {
            "text/plain": [
              "(12063005, 10)"
            ]
          },
          "metadata": {
            "tags": []
          },
          "execution_count": 13
        }
      ]
    },
    {
      "cell_type": "code",
      "metadata": {
        "id": "jW9HWs0pk9vm",
        "colab_type": "code",
        "outputId": "2c28f1e6-444e-41e5-942c-04eb835b218a",
        "colab": {
          "base_uri": "https://localhost:8080/",
          "height": 35
        }
      },
      "source": [
        "Fs = 20\n",
        "gt= data['gt'].value_counts().index\n",
        "gt"
      ],
      "execution_count": 0,
      "outputs": [
        {
          "output_type": "execute_result",
          "data": {
            "text/plain": [
              "Index(['walk', 'sit', 'stand', 'bike', 'stairsup', 'stairsdown'], dtype='object')"
            ]
          },
          "metadata": {
            "tags": []
          },
          "execution_count": 14
        }
      ]
    },
    {
      "cell_type": "code",
      "metadata": {
        "id": "b-Yg1SHFlZ-i",
        "colab_type": "code",
        "outputId": "6e3d28a1-00af-4223-c6aa-0d83fa55b5bc",
        "colab": {
          "base_uri": "https://localhost:8080/",
          "height": 198
        }
      },
      "source": [
        "from sklearn.preprocessing import LabelEncoder\n",
        "label = LabelEncoder()\n",
        "data['label'] = label.fit_transform(data['gt'])\n",
        "data.head()"
      ],
      "execution_count": 0,
      "outputs": [
        {
          "output_type": "execute_result",
          "data": {
            "text/html": [
              "<div>\n",
              "<style scoped>\n",
              "    .dataframe tbody tr th:only-of-type {\n",
              "        vertical-align: middle;\n",
              "    }\n",
              "\n",
              "    .dataframe tbody tr th {\n",
              "        vertical-align: top;\n",
              "    }\n",
              "\n",
              "    .dataframe thead th {\n",
              "        text-align: right;\n",
              "    }\n",
              "</style>\n",
              "<table border=\"1\" class=\"dataframe\">\n",
              "  <thead>\n",
              "    <tr style=\"text-align: right;\">\n",
              "      <th></th>\n",
              "      <th>Index</th>\n",
              "      <th>Arrival_Time</th>\n",
              "      <th>Creation_Time</th>\n",
              "      <th>x</th>\n",
              "      <th>y</th>\n",
              "      <th>z</th>\n",
              "      <th>User</th>\n",
              "      <th>Model</th>\n",
              "      <th>Device</th>\n",
              "      <th>gt</th>\n",
              "      <th>label</th>\n",
              "    </tr>\n",
              "  </thead>\n",
              "  <tbody>\n",
              "    <tr>\n",
              "      <th>0</th>\n",
              "      <td>0</td>\n",
              "      <td>1424696633909</td>\n",
              "      <td>1424696631914042029</td>\n",
              "      <td>0.013748</td>\n",
              "      <td>-0.000626</td>\n",
              "      <td>-0.023376</td>\n",
              "      <td>a</td>\n",
              "      <td>nexus4</td>\n",
              "      <td>nexus4_1</td>\n",
              "      <td>stand</td>\n",
              "      <td>4</td>\n",
              "    </tr>\n",
              "    <tr>\n",
              "      <th>1</th>\n",
              "      <td>1</td>\n",
              "      <td>1424696633909</td>\n",
              "      <td>1424696631919046912</td>\n",
              "      <td>0.014816</td>\n",
              "      <td>-0.001694</td>\n",
              "      <td>-0.022308</td>\n",
              "      <td>a</td>\n",
              "      <td>nexus4</td>\n",
              "      <td>nexus4_1</td>\n",
              "      <td>stand</td>\n",
              "      <td>4</td>\n",
              "    </tr>\n",
              "    <tr>\n",
              "      <th>2</th>\n",
              "      <td>2</td>\n",
              "      <td>1424696633918</td>\n",
              "      <td>1424696631924051794</td>\n",
              "      <td>0.015884</td>\n",
              "      <td>-0.001694</td>\n",
              "      <td>-0.021240</td>\n",
              "      <td>a</td>\n",
              "      <td>nexus4</td>\n",
              "      <td>nexus4_1</td>\n",
              "      <td>stand</td>\n",
              "      <td>4</td>\n",
              "    </tr>\n",
              "    <tr>\n",
              "      <th>3</th>\n",
              "      <td>3</td>\n",
              "      <td>1424696633919</td>\n",
              "      <td>1424696631929117712</td>\n",
              "      <td>0.016953</td>\n",
              "      <td>-0.003830</td>\n",
              "      <td>-0.020172</td>\n",
              "      <td>a</td>\n",
              "      <td>nexus4</td>\n",
              "      <td>nexus4_1</td>\n",
              "      <td>stand</td>\n",
              "      <td>4</td>\n",
              "    </tr>\n",
              "    <tr>\n",
              "      <th>4</th>\n",
              "      <td>4</td>\n",
              "      <td>1424696633928</td>\n",
              "      <td>1424696631934214148</td>\n",
              "      <td>0.015884</td>\n",
              "      <td>-0.007034</td>\n",
              "      <td>-0.020172</td>\n",
              "      <td>a</td>\n",
              "      <td>nexus4</td>\n",
              "      <td>nexus4_1</td>\n",
              "      <td>stand</td>\n",
              "      <td>4</td>\n",
              "    </tr>\n",
              "  </tbody>\n",
              "</table>\n",
              "</div>"
            ],
            "text/plain": [
              "   Index   Arrival_Time        Creation_Time  ...    Device     gt  label\n",
              "0      0  1424696633909  1424696631914042029  ...  nexus4_1  stand      4\n",
              "1      1  1424696633909  1424696631919046912  ...  nexus4_1  stand      4\n",
              "2      2  1424696633918  1424696631924051794  ...  nexus4_1  stand      4\n",
              "3      3  1424696633919  1424696631929117712  ...  nexus4_1  stand      4\n",
              "4      4  1424696633928  1424696631934214148  ...  nexus4_1  stand      4\n",
              "\n",
              "[5 rows x 11 columns]"
            ]
          },
          "metadata": {
            "tags": []
          },
          "execution_count": 15
        }
      ]
    },
    {
      "cell_type": "code",
      "metadata": {
        "id": "voiP0mliljDm",
        "colab_type": "code",
        "outputId": "6570870a-53a1-47a9-b63d-6c55e9d822ab",
        "colab": {
          "base_uri": "https://localhost:8080/",
          "height": 54
        }
      },
      "source": [
        "label.classes_"
      ],
      "execution_count": 0,
      "outputs": [
        {
          "output_type": "execute_result",
          "data": {
            "text/plain": [
              "array(['bike', 'sit', 'stairsdown', 'stairsup', 'stand', 'walk'],\n",
              "      dtype=object)"
            ]
          },
          "metadata": {
            "tags": []
          },
          "execution_count": 16
        }
      ]
    },
    {
      "cell_type": "code",
      "metadata": {
        "id": "AsLDkawYlmV4",
        "colab_type": "code",
        "outputId": "4fc72c44-727b-44fe-a8ff-7c20d0c285cb",
        "colab": {
          "base_uri": "https://localhost:8080/",
          "height": 407
        }
      },
      "source": [
        "X = data[['x', 'y', 'z']]\n",
        "y = data['label']\n",
        "scaler = StandardScaler()\n",
        "X = scaler.fit_transform(X)\n",
        "\n",
        "scaled_X = pd.DataFrame(data = X, columns = ['x', 'y', 'z'])\n",
        "scaled_X['label'] = y.values\n",
        "\n",
        "scaled_X"
      ],
      "execution_count": 0,
      "outputs": [
        {
          "output_type": "execute_result",
          "data": {
            "text/html": [
              "<div>\n",
              "<style scoped>\n",
              "    .dataframe tbody tr th:only-of-type {\n",
              "        vertical-align: middle;\n",
              "    }\n",
              "\n",
              "    .dataframe tbody tr th {\n",
              "        vertical-align: top;\n",
              "    }\n",
              "\n",
              "    .dataframe thead th {\n",
              "        text-align: right;\n",
              "    }\n",
              "</style>\n",
              "<table border=\"1\" class=\"dataframe\">\n",
              "  <thead>\n",
              "    <tr style=\"text-align: right;\">\n",
              "      <th></th>\n",
              "      <th>x</th>\n",
              "      <th>y</th>\n",
              "      <th>z</th>\n",
              "      <th>label</th>\n",
              "    </tr>\n",
              "  </thead>\n",
              "  <tbody>\n",
              "    <tr>\n",
              "      <th>0</th>\n",
              "      <td>0.019706</td>\n",
              "      <td>0.021055</td>\n",
              "      <td>-0.023556</td>\n",
              "      <td>4</td>\n",
              "    </tr>\n",
              "    <tr>\n",
              "      <th>1</th>\n",
              "      <td>0.022037</td>\n",
              "      <td>0.018703</td>\n",
              "      <td>-0.021469</td>\n",
              "      <td>4</td>\n",
              "    </tr>\n",
              "    <tr>\n",
              "      <th>2</th>\n",
              "      <td>0.024369</td>\n",
              "      <td>0.018703</td>\n",
              "      <td>-0.019383</td>\n",
              "      <td>4</td>\n",
              "    </tr>\n",
              "    <tr>\n",
              "      <th>3</th>\n",
              "      <td>0.026701</td>\n",
              "      <td>0.013998</td>\n",
              "      <td>-0.017296</td>\n",
              "      <td>4</td>\n",
              "    </tr>\n",
              "    <tr>\n",
              "      <th>4</th>\n",
              "      <td>0.024369</td>\n",
              "      <td>0.006941</td>\n",
              "      <td>-0.017296</td>\n",
              "      <td>4</td>\n",
              "    </tr>\n",
              "    <tr>\n",
              "      <th>...</th>\n",
              "      <td>...</td>\n",
              "      <td>...</td>\n",
              "      <td>...</td>\n",
              "      <td>...</td>\n",
              "    </tr>\n",
              "    <tr>\n",
              "      <th>12063000</th>\n",
              "      <td>-0.112567</td>\n",
              "      <td>0.766090</td>\n",
              "      <td>0.285217</td>\n",
              "      <td>0</td>\n",
              "    </tr>\n",
              "    <tr>\n",
              "      <th>12063001</th>\n",
              "      <td>-0.267023</td>\n",
              "      <td>0.510861</td>\n",
              "      <td>0.279498</td>\n",
              "      <td>0</td>\n",
              "    </tr>\n",
              "    <tr>\n",
              "      <th>12063002</th>\n",
              "      <td>-0.398044</td>\n",
              "      <td>0.146018</td>\n",
              "      <td>0.208002</td>\n",
              "      <td>0</td>\n",
              "    </tr>\n",
              "    <tr>\n",
              "      <th>12063003</th>\n",
              "      <td>-0.436391</td>\n",
              "      <td>-0.251602</td>\n",
              "      <td>0.145562</td>\n",
              "      <td>0</td>\n",
              "    </tr>\n",
              "    <tr>\n",
              "      <th>12063004</th>\n",
              "      <td>-0.363957</td>\n",
              "      <td>-0.437517</td>\n",
              "      <td>0.106478</td>\n",
              "      <td>0</td>\n",
              "    </tr>\n",
              "  </tbody>\n",
              "</table>\n",
              "<p>12063005 rows × 4 columns</p>\n",
              "</div>"
            ],
            "text/plain": [
              "                 x         y         z  label\n",
              "0         0.019706  0.021055 -0.023556      4\n",
              "1         0.022037  0.018703 -0.021469      4\n",
              "2         0.024369  0.018703 -0.019383      4\n",
              "3         0.026701  0.013998 -0.017296      4\n",
              "4         0.024369  0.006941 -0.017296      4\n",
              "...            ...       ...       ...    ...\n",
              "12063000 -0.112567  0.766090  0.285217      0\n",
              "12063001 -0.267023  0.510861  0.279498      0\n",
              "12063002 -0.398044  0.146018  0.208002      0\n",
              "12063003 -0.436391 -0.251602  0.145562      0\n",
              "12063004 -0.363957 -0.437517  0.106478      0\n",
              "\n",
              "[12063005 rows x 4 columns]"
            ]
          },
          "metadata": {
            "tags": []
          },
          "execution_count": 17
        }
      ]
    },
    {
      "cell_type": "code",
      "metadata": {
        "id": "3hi98Sixl7Ob",
        "colab_type": "code",
        "outputId": "7a3e4d50-84a7-4d20-994f-ca27edb3ce0d",
        "colab": {
          "base_uri": "https://localhost:8080/",
          "height": 54
        }
      },
      "source": [
        "label.classes_"
      ],
      "execution_count": 0,
      "outputs": [
        {
          "output_type": "execute_result",
          "data": {
            "text/plain": [
              "array(['bike', 'sit', 'stairsdown', 'stairsup', 'stand', 'walk'],\n",
              "      dtype=object)"
            ]
          },
          "metadata": {
            "tags": []
          },
          "execution_count": 18
        }
      ]
    },
    {
      "cell_type": "code",
      "metadata": {
        "id": "YkOBUiU01Rr7",
        "colab_type": "code",
        "colab": {}
      },
      "source": [
        "Fs = 50\n",
        "frame_size = Fs*4 # 80\n",
        "hop_size = Fs*2 # 40\n"
      ],
      "execution_count": 0,
      "outputs": []
    },
    {
      "cell_type": "code",
      "metadata": {
        "id": "BIOtEbjOoH4t",
        "colab_type": "code",
        "colab": {}
      },
      "source": [
        "import math as m\n",
        "def get_frames(data, frame_size, hop_size):\n",
        "\n",
        "  N_FEATURES = 3\n",
        "  frames = []\n",
        "  labels = []\n",
        "  for i in range(0, len(scaled_X) - frame_size,hop_size):\n",
        "    x = data['x'].values[i: i + frame_size]\n",
        "    y = data['y'].values[i: i + frame_size]\n",
        "    z = data['z'].values[i: i + frame_size]\n",
        "        # Retrieve the most often used label in this segment\n",
        "    label = stats.mode(scaled_X['label'][i: i + frame_size])[0][0]\n",
        "    frames.append([x, y, z])\n",
        "    labels.append(label)\n",
        "  # Bring the segments into a better shape\n",
        "  frames = np.asarray(frames, dtype= np.float32).reshape(-1, frame_size, N_FEATURES)\n",
        "  labels = np.asarray(labels)\n",
        "  return frames, labels\n"
      ],
      "execution_count": 0,
      "outputs": []
    },
    {
      "cell_type": "code",
      "metadata": {
        "colab_type": "code",
        "id": "ZruOiWuCsJ-m",
        "colab": {}
      },
      "source": [
        "X,y = get_frames(scaled_X, frame_size, hop_size)"
      ],
      "execution_count": 0,
      "outputs": []
    },
    {
      "cell_type": "code",
      "metadata": {
        "colab_type": "code",
        "id": "TlKwVuxQsJOX",
        "outputId": "3bd08226-8a22-4237-ce99-e4f6db5b09ff",
        "colab": {
          "base_uri": "https://localhost:8080/",
          "height": 35
        }
      },
      "source": [
        "X.shape\n",
        "y.shape"
      ],
      "execution_count": 0,
      "outputs": [
        {
          "output_type": "execute_result",
          "data": {
            "text/plain": [
              "(120629,)"
            ]
          },
          "metadata": {
            "tags": []
          },
          "execution_count": 22
        }
      ]
    },
    {
      "cell_type": "code",
      "metadata": {
        "id": "nqf7zeTA2WiX",
        "colab_type": "code",
        "colab": {}
      },
      "source": [
        "X_train, X_test, y_train, y_test = train_test_split(X,y, test_size = 0.2, random_state = 0, stratify = y)\n"
      ],
      "execution_count": 0,
      "outputs": []
    },
    {
      "cell_type": "code",
      "metadata": {
        "id": "d4nRHfpq1Rwp",
        "colab_type": "code",
        "outputId": "fc58406d-850c-4d05-b930-56d9ad21e07f",
        "colab": {
          "base_uri": "https://localhost:8080/",
          "height": 35
        }
      },
      "source": [
        "X_train.shape, X_test.shape"
      ],
      "execution_count": 0,
      "outputs": [
        {
          "output_type": "execute_result",
          "data": {
            "text/plain": [
              "((96503, 200, 3), (24126, 200, 3))"
            ]
          },
          "metadata": {
            "tags": []
          },
          "execution_count": 24
        }
      ]
    },
    {
      "cell_type": "code",
      "metadata": {
        "id": "2z45rOPQMRLK",
        "colab_type": "code",
        "outputId": "d44f38b8-0ca5-480f-ba91-450588b99e82",
        "colab": {
          "base_uri": "https://localhost:8080/",
          "height": 35
        }
      },
      "source": [
        "x_train_reshaped = X_train.reshape(96503, frame_size *3)\n",
        "x_test_reshaped = X_test.reshape(24126,frame_size * 3)\n",
        "x_train_reshaped.shape, x_test_reshaped.shape"
      ],
      "execution_count": 0,
      "outputs": [
        {
          "output_type": "execute_result",
          "data": {
            "text/plain": [
              "((96503, 600), (24126, 600))"
            ]
          },
          "metadata": {
            "tags": []
          },
          "execution_count": 25
        }
      ]
    },
    {
      "cell_type": "code",
      "metadata": {
        "id": "zqTTrd74h2GL",
        "colab_type": "code",
        "colab": {}
      },
      "source": [
        "from sklearn.metrics import accuracy_score, log_loss\n",
        "from sklearn.neighbors import KNeighborsClassifier\n",
        "from sklearn.svm import SVC, LinearSVC, NuSVC\n",
        "from sklearn.tree import DecisionTreeClassifier\n",
        "from sklearn.ensemble import RandomForestClassifier, AdaBoostClassifier, GradientBoostingClassifier\n",
        "from sklearn.naive_bayes import GaussianNB\n",
        "from sklearn.discriminant_analysis import LinearDiscriminantAnalysis\n",
        "from sklearn.discriminant_analysis import QuadraticDiscriminantAnalysis\n",
        "from sklearn import linear_model\n",
        "# Python script for confusion matrix creation. \n",
        "from sklearn.metrics import confusion_matrix \n",
        "from sklearn.metrics import accuracy_score \n",
        "from sklearn.metrics import classification_report\n",
        "from mlxtend.plotting import plot_confusion_matrix"
      ],
      "execution_count": 0,
      "outputs": []
    },
    {
      "cell_type": "code",
      "metadata": {
        "id": "GfmEPg8dh6Li",
        "colab_type": "code",
        "colab": {}
      },
      "source": [
        "classifiers = [\n",
        "    linear_model.LogisticRegression(),\n",
        "    #KNeighborsClassifier(3),\n",
        "    #SVC(kernel=\"rbf\", C=0.025, probability=True),\n",
        "    #NuSVC(probability=True),\n",
        "    DecisionTreeClassifier(),\n",
        "    RandomForestClassifier(),\n",
        "    AdaBoostClassifier(),\n",
        "    #GradientBoostingClassifier(),\n",
        "    GaussianNB(),\n",
        "    LinearDiscriminantAnalysis(),\n",
        "    QuadraticDiscriminantAnalysis()\n",
        "    ]"
      ],
      "execution_count": 0,
      "outputs": []
    },
    {
      "cell_type": "code",
      "metadata": {
        "colab_type": "code",
        "id": "m1NjawM0zs6X",
        "outputId": "62588f9a-767a-481d-a264-ca2fc43e047e",
        "colab": {
          "base_uri": "https://localhost:8080/",
          "height": 1000
        }
      },
      "source": [
        "# Logging for Visual Comparison\n",
        "log_cols=[\"Classifier\", \"Accuracy\", \"Log Loss\"]\n",
        "log = pd.DataFrame(columns=log_cols)\n",
        "\n",
        "for clf in classifiers:\n",
        "    clf.fit(x_train_reshaped, y_train)\n",
        "    name = clf.__class__.__name__    \n",
        "    print(\"=\"*30)\n",
        "    print(name)\n",
        "       \n",
        "    print('****Results****')\n",
        "    train_predictions = clf.predict(x_test_reshaped)\n",
        "    \n",
        "    acc = accuracy_score(y_test,train_predictions)\n",
        "    print(\"Accuracy: {:.4%}\".format(acc))\n",
        "    train_predictions = clf.predict_proba(x_test_reshaped)\n",
        "    ll = log_loss(y_test, train_predictions)\n",
        "    print(\"Log Loss: {}\".format(ll))\n",
        "    log_entry = pd.DataFrame([[name, acc*100, ll]], columns=log_cols)\n",
        "    log = log.append(log_entry) \n",
        "    \n",
        "    y_pred = clf.predict(x_test_reshaped)\n",
        "    print(confusion_matrix(y_test,y_pred))\n",
        "    print(accuracy_score(y_test,y_pred))\n",
        "    print(classification_report(y_test,y_pred))  \n",
        "    plot_confusion_matrix(conf_mat=confusion_matrix(y_test,y_pred),colorbar=True,show_absolute=False, show_normed=True, figsize=(7,7))\n",
        "    log_entry = pd.DataFrame([[name, acc*100, ll]], columns=log_cols)\n",
        "    \n",
        "    print(\"complete !!!\")\n",
        "\n",
        "print(\"=\"*30)"
      ],
      "execution_count": 0,
      "outputs": [
        {
          "output_type": "stream",
          "text": [
            "/usr/local/lib/python3.6/dist-packages/sklearn/linear_model/_logistic.py:940: ConvergenceWarning: lbfgs failed to converge (status=1):\n",
            "STOP: TOTAL NO. of ITERATIONS REACHED LIMIT.\n",
            "\n",
            "Increase the number of iterations (max_iter) or scale the data as shown in:\n",
            "    https://scikit-learn.org/stable/modules/preprocessing.html\n",
            "Please also refer to the documentation for alternative solver options:\n",
            "    https://scikit-learn.org/stable/modules/linear_model.html#logistic-regression\n",
            "  extra_warning_msg=_LOGISTIC_SOLVER_CONVERGENCE_MSG)\n"
          ],
          "name": "stderr"
        },
        {
          "output_type": "stream",
          "text": [
            "==============================\n",
            "LogisticRegression\n",
            "****Results****\n",
            "Accuracy: 20.8406%\n",
            "Log Loss: 1.7383119725031864\n",
            "[[ 168  522  619  867    2 1645]\n",
            " [   1   22   52   54    0 4309]\n",
            " [ 278  488 1258  370    6  948]\n",
            " [ 386  488  444 1192    4 1254]\n",
            " [   7   41   53   58    0 3890]\n",
            " [ 223 1222  361  501    5 2388]]\n",
            "0.20840586918676945\n",
            "              precision    recall  f1-score   support\n",
            "\n",
            "           0       0.16      0.04      0.07      3823\n",
            "           1       0.01      0.00      0.01      4438\n",
            "           2       0.45      0.38      0.41      3348\n",
            "           3       0.39      0.32      0.35      3768\n",
            "           4       0.00      0.00      0.00      4049\n",
            "           5       0.17      0.51      0.25      4700\n",
            "\n",
            "    accuracy                           0.21     24126\n",
            "   macro avg       0.20      0.21      0.18     24126\n",
            "weighted avg       0.18      0.21      0.17     24126\n",
            "\n",
            "complete !!!\n",
            "==============================\n",
            "DecisionTreeClassifier\n",
            "****Results****\n",
            "Accuracy: 69.7256%\n",
            "Log Loss: 10.45640482419082\n",
            "[[2784   93  221  369  164  192]\n",
            " [  61 3164   11    2 1198    2]\n",
            " [ 243   33 1994  426   69  583]\n",
            " [ 413   12  486 2567   27  263]\n",
            " [ 149 1184   30    8 2655   23]\n",
            " [ 235   25  505  250   27 3658]]\n",
            "0.6972560722871591\n",
            "              precision    recall  f1-score   support\n",
            "\n",
            "           0       0.72      0.73      0.72      3823\n",
            "           1       0.70      0.71      0.71      4438\n",
            "           2       0.61      0.60      0.60      3348\n",
            "           3       0.71      0.68      0.69      3768\n",
            "           4       0.64      0.66      0.65      4049\n",
            "           5       0.77      0.78      0.78      4700\n",
            "\n",
            "    accuracy                           0.70     24126\n",
            "   macro avg       0.69      0.69      0.69     24126\n",
            "weighted avg       0.70      0.70      0.70     24126\n",
            "\n",
            "complete !!!\n",
            "==============================\n",
            "RandomForestClassifier\n",
            "****Results****\n",
            "Accuracy: 88.0461%\n",
            "Log Loss: 0.4787525763309779\n",
            "[[3512   25   67   55   91   73]\n",
            " [  26 3596    4    1  811    0]\n",
            " [  50    1 2981  135    1  180]\n",
            " [  83    0  123 3509    0   53]\n",
            " [  65  730   17    1 3234    2]\n",
            " [  15    0  192   83    0 4410]]\n",
            "0.8804609135372627\n",
            "              precision    recall  f1-score   support\n",
            "\n",
            "           0       0.94      0.92      0.93      3823\n",
            "           1       0.83      0.81      0.82      4438\n",
            "           2       0.88      0.89      0.89      3348\n",
            "           3       0.93      0.93      0.93      3768\n",
            "           4       0.78      0.80      0.79      4049\n",
            "           5       0.93      0.94      0.94      4700\n",
            "\n",
            "    accuracy                           0.88     24126\n",
            "   macro avg       0.88      0.88      0.88     24126\n",
            "weighted avg       0.88      0.88      0.88     24126\n",
            "\n",
            "complete !!!\n",
            "==============================\n",
            "AdaBoostClassifier\n",
            "****Results****\n",
            "Accuracy: 42.5848%\n",
            "Log Loss: 1.6549359620932451\n",
            "[[ 604  170  181 1464  127 1277]\n",
            " [  25 4370    1    0   41    1]\n",
            " [ 303    4  636  776   34 1595]\n",
            " [ 246    0  239 1715    3 1565]\n",
            " [  93 3753    9    1  192    1]\n",
            " [ 427    0  433 1080    3 2757]]\n",
            "0.42584763325872504\n",
            "              precision    recall  f1-score   support\n",
            "\n",
            "           0       0.36      0.16      0.22      3823\n",
            "           1       0.53      0.98      0.69      4438\n",
            "           2       0.42      0.19      0.26      3348\n",
            "           3       0.34      0.46      0.39      3768\n",
            "           4       0.48      0.05      0.09      4049\n",
            "           5       0.38      0.59      0.46      4700\n",
            "\n",
            "    accuracy                           0.43     24126\n",
            "   macro avg       0.42      0.40      0.35     24126\n",
            "weighted avg       0.42      0.43      0.36     24126\n",
            "\n",
            "complete !!!\n",
            "==============================\n",
            "GaussianNB\n",
            "****Results****\n",
            "Accuracy: 57.1292%\n",
            "Log Loss: 13.486610073202806\n",
            "[[2491   36   16  431  182  667]\n",
            " [  53 4039    0    0  264   82]\n",
            " [ 110    0 1318  551    0 1369]\n",
            " [1195    0  258 1659    0  656]\n",
            " [  95 3160    7    1  658  128]\n",
            " [ 316    0  504  262    0 3618]]\n",
            "0.5712923816629363\n",
            "              precision    recall  f1-score   support\n",
            "\n",
            "           0       0.58      0.65      0.62      3823\n",
            "           1       0.56      0.91      0.69      4438\n",
            "           2       0.63      0.39      0.48      3348\n",
            "           3       0.57      0.44      0.50      3768\n",
            "           4       0.60      0.16      0.26      4049\n",
            "           5       0.55      0.77      0.64      4700\n",
            "\n",
            "    accuracy                           0.57     24126\n",
            "   macro avg       0.58      0.55      0.53     24126\n",
            "weighted avg       0.58      0.57      0.54     24126\n",
            "\n",
            "complete !!!\n",
            "==============================\n",
            "LinearDiscriminantAnalysis\n",
            "****Results****\n",
            "Accuracy: 20.9649%\n",
            "Log Loss: 1.7514667039307432\n",
            "[[ 179  624  572  831    8 1609]\n",
            " [   4  168   50   51    1 4164]\n",
            " [ 296  473 1206  395   39  939]\n",
            " [ 359  558  452 1194   24 1181]\n",
            " [   9  222   50   51    3 3714]\n",
            " [ 306 1177  361  505   43 2308]]\n",
            "0.2096493409599602\n",
            "              precision    recall  f1-score   support\n",
            "\n",
            "           0       0.16      0.05      0.07      3823\n",
            "           1       0.05      0.04      0.04      4438\n",
            "           2       0.45      0.36      0.40      3348\n",
            "           3       0.39      0.32      0.35      3768\n",
            "           4       0.03      0.00      0.00      4049\n",
            "           5       0.17      0.49      0.25      4700\n",
            "\n",
            "    accuracy                           0.21     24126\n",
            "   macro avg       0.21      0.21      0.19     24126\n",
            "weighted avg       0.19      0.21      0.18     24126\n",
            "\n",
            "complete !!!\n",
            "==============================\n",
            "QuadraticDiscriminantAnalysis\n",
            "****Results****\n",
            "Accuracy: 49.8093%\n",
            "Log Loss: 16.07820423914006\n",
            "[[3204   39  218  201   19  142]\n",
            " [ 100 4123   11    3  186   15]\n",
            " [ 779    1 1033  192    2 1341]\n",
            " [1528    0  588  566    1 1085]\n",
            " [ 131 3285   30   11  571   21]\n",
            " [1363    0  667  150    0 2520]]\n",
            "0.4980933432811075\n",
            "              precision    recall  f1-score   support\n",
            "\n",
            "           0       0.45      0.84      0.59      3823\n",
            "           1       0.55      0.93      0.69      4438\n",
            "           2       0.41      0.31      0.35      3348\n",
            "           3       0.50      0.15      0.23      3768\n",
            "           4       0.73      0.14      0.24      4049\n",
            "           5       0.49      0.54      0.51      4700\n",
            "\n",
            "    accuracy                           0.50     24126\n",
            "   macro avg       0.52      0.48      0.44     24126\n",
            "weighted avg       0.53      0.50      0.44     24126\n",
            "\n",
            "complete !!!\n",
            "==============================\n"
          ],
          "name": "stdout"
        },
        {
          "output_type": "display_data",
          "data": {
            "image/png": "[encoded data removed]",
            "text/plain": [
              "<Figure size 504x504 with 2 Axes>"
            ]
          },
          "metadata": {
            "tags": []
          }
        },
        {
          "output_type": "display_data",
          "data": {
            "image/png": "[encoded data removed]",
            "text/plain": [
              "<Figure size 504x504 with 2 Axes>"
            ]
          },
          "metadata": {
            "tags": []
          }
        },
        {
          "output_type": "display_data",
          "data": {
            "image/png": "[encoded data removed]",
            "text/plain": [
              "<Figure size 504x504 with 2 Axes>"
            ]
          },
          "metadata": {
            "tags": []
          }
        },
        {
          "output_type": "display_data",
          "data": {
            "image/png": "[encoded data removed]",
            "text/plain": [
              "<Figure size 504x504 with 2 Axes>"
            ]
          },
          "metadata": {
            "tags": []
          }
        },
        {
          "output_type": "display_data",
          "data": {
            "image/png": "[encoded data removed]",
            "text/plain": [
              "<Figure size 504x504 with 2 Axes>"
            ]
          },
          "metadata": {
            "tags": []
          }
        },
        {
          "output_type": "display_data",
          "data": {
            "image/png": "[encoded data removed]",
            "text/plain": [
              "<Figure size 504x504 with 2 Axes>"
            ]
          },
          "metadata": {
            "tags": []
          }
        },
        {
          "output_type": "display_data",
          "data": {
            "image/png": "[encoded data removed]",
            "text/plain": [
              "<Figure size 504x504 with 2 Axes>"
            ]
          },
          "metadata": {
            "tags": []
          }
        }
      ]
    },
    {
      "cell_type": "code",
      "metadata": {
        "id": "s_u10HW1uDAe",
        "colab_type": "code",
        "outputId": "eb7a55fc-304f-4767-9738-8196895452c4",
        "colab": {
          "base_uri": "https://localhost:8080/"
        }
      },
      "source": [
        "sns.set_color_codes(\"muted\")\n",
        "sns.barplot(x='Accuracy', y='Classifier', data=log, color=\"b\")\n",
        "\n",
        "plt.xlabel('Accuracy %')\n",
        "plt.title('Classifier Accuracy')\n",
        "plt.show()\n",
        "\n",
        "sns.set_color_codes(\"muted\")\n",
        "sns.barplot(x='Log Loss', y='Classifier', data=log, color=\"g\")\n",
        "\n",
        "plt.xlabel('Log Loss')\n",
        "plt.title('Classifier Log Loss')\n",
        "plt.show()"
      ],
      "execution_count": 0,
      "outputs": [
        {
          "output_type": "display_data",
          "data": {
            "image/png": "[encoded data removed]",
            "text/plain": [
              "<Figure size 432x288 with 1 Axes>"
            ]
          },
          "metadata": {
            "tags": []
          }
        },
        {
          "output_type": "display_data",
          "data": {
            "image/png": "[encoded data removed]",
            "text/plain": [
              "<Figure size 432x288 with 1 Axes>"
            ]
          },
          "metadata": {
            "tags": []
          }
        }
      ]
    }
  ]
}