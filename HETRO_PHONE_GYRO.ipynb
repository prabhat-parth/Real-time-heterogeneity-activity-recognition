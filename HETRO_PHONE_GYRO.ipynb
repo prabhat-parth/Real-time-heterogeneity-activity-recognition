{
  "nbformat": 4,
  "nbformat_minor": 0,
  "metadata": {
    "colab": {
      "name": "HETRO_PHONE_GYRO.ipynb",
      "provenance": [],
      "collapsed_sections": [],
      "machine_shape": "hm",
      "mount_file_id": "12ZUQHhTulOJ7wypWlOFG5xD43Wx18TLQ",
      "authorship_tag": "ABX9TyMfXC9uwpk67e7OZsn9dqQC",
      "include_colab_link": true
    },
    "kernelspec": {
      "name": "python3",
      "display_name": "Python 3"
    },
    "accelerator": "GPU"
  },
  "cells": [
    {
      "cell_type": "markdown",
      "metadata": {
        "id": "view-in-github",
        "colab_type": "text"
      },
      "source": [
        "<a href=\"https://colab.research.google.com/github/prabhat-parth/Real-time-heterogeneity-activity-recognition/blob/master/HETRO_PHONE_GYRO.ipynb\" target=\"_parent\"><img src=\"https://colab.research.google.com/assets/colab-badge.svg\" alt=\"Open In Colab\"/></a>"
      ]
    },
    {
      "cell_type": "code",
      "metadata": {
        "id": "3D-b3qEOtDuF",
        "colab_type": "code",
        "outputId": "38a1d66d-857b-4917-a017-05237c08df20",
        "colab": {
          "base_uri": "https://localhost:8080/",
          "height": 88
        }
      },
      "source": [
        "import tensorflow as tf\n",
        "from tensorflow.keras import Sequential\n",
        "from tensorflow.keras.layers import Flatten, Dense, Dropout, BatchNormalization\n",
        "from tensorflow.keras.layers import Conv2D, MaxPool2D\n",
        "from tensorflow.keras.optimizers import Adam\n",
        "print(tf.__version__)\n",
        "import pandas as pd\n",
        "import numpy as np\n",
        "import matplotlib.pyplot as plt\n",
        "from sklearn.model_selection import train_test_split\n",
        "from sklearn.preprocessing import StandardScaler, LabelEncoder\n",
        "import pandas as pd\n",
        "import numpy as np\n",
        "import pickle\n",
        "import matplotlib.pyplot as plt\n",
        "from scipy import stats\n",
        "import tensorflow as tf\n",
        "import seaborn as sns\n",
        "from pylab import rcParams\n",
        "from sklearn import metrics\n",
        "from sklearn.model_selection import train_test_split"
      ],
      "execution_count": 0,
      "outputs": [
        {
          "output_type": "stream",
          "text": [
            "2.2.0-rc2\n"
          ],
          "name": "stdout"
        },
        {
          "output_type": "stream",
          "text": [
            "/usr/local/lib/python3.6/dist-packages/statsmodels/tools/_testing.py:19: FutureWarning: pandas.util.testing is deprecated. Use the functions in the public API at pandas.testing instead.\n",
            "  import pandas.util.testing as tm\n"
          ],
          "name": "stderr"
        }
      ]
    },
    {
      "cell_type": "code",
      "metadata": {
        "id": "ZRSexPxlOr_t",
        "colab_type": "code",
        "outputId": "ad26d7d3-cfaa-4535-9141-e941b82f33c0",
        "colab": {
          "base_uri": "https://localhost:8080/",
          "height": 35
        }
      },
      "source": [
        "import numpy as np\n",
        "import pandas as pd\n",
        "data = pd.read_csv(\"/content/drive/My Drive/HETRO_DATA/Activity recognition exp/Activity recognition exp/Phones_gyroscope.csv\")\n",
        "data.head()\n",
        "data.shape\n"
      ],
      "execution_count": 0,
      "outputs": [
        {
          "output_type": "execute_result",
          "data": {
            "text/plain": [
              "(13932632, 10)"
            ]
          },
          "metadata": {
            "tags": []
          },
          "execution_count": 2
        }
      ]
    },
    {
      "cell_type": "code",
      "metadata": {
        "id": "3HwiYzUkPnRN",
        "colab_type": "code",
        "outputId": "655d89f5-6724-43c9-95a9-7e723dadd6bc",
        "colab": {
          "base_uri": "https://localhost:8080/",
          "height": 35
        }
      },
      "source": [
        "#Check for Duplicates\n",
        "print('No of duplicates in DATA: {}'.format(sum(data.duplicated())))\n"
      ],
      "execution_count": 0,
      "outputs": [
        {
          "output_type": "stream",
          "text": [
            "No of duplicates in DATA: 0\n"
          ],
          "name": "stdout"
        }
      ]
    },
    {
      "cell_type": "code",
      "metadata": {
        "id": "oratZmabQHat",
        "colab_type": "code",
        "outputId": "25c71fb5-5d0d-4a5f-b889-0f7b9e96a133",
        "colab": {
          "base_uri": "https://localhost:8080/",
          "height": 35
        }
      },
      "source": [
        "#Checking for NaN/null values\n",
        "print('We have {} NaN/Null values in data'.format(data.isnull().values.sum()))"
      ],
      "execution_count": 0,
      "outputs": [
        {
          "output_type": "stream",
          "text": [
            "We have 1869627 NaN/Null values in data\n"
          ],
          "name": "stdout"
        }
      ]
    },
    {
      "cell_type": "code",
      "metadata": {
        "colab_type": "code",
        "id": "97Hzdh7SSYch",
        "colab": {}
      },
      "source": [
        "#sns.heatmap(data.isnull(), cbar=False)"
      ],
      "execution_count": 0,
      "outputs": []
    },
    {
      "cell_type": "code",
      "metadata": {
        "id": "gv9vr8XJRtJe",
        "colab_type": "code",
        "colab": {}
      },
      "source": [
        "data.dropna(axis=0, how='any', thresh=None, subset=None, inplace= True)"
      ],
      "execution_count": 0,
      "outputs": []
    },
    {
      "cell_type": "code",
      "metadata": {
        "id": "2HaYimWq7u2b",
        "colab_type": "code",
        "colab": {}
      },
      "source": [
        "#sns.heatmap(data.isnull(), cbar=False)"
      ],
      "execution_count": 0,
      "outputs": []
    },
    {
      "cell_type": "code",
      "metadata": {
        "colab_type": "code",
        "id": "dQcmi0pvS5Rl",
        "outputId": "825eaae5-3712-4cac-d3ca-425a7a658ac7",
        "colab": {
          "base_uri": "https://localhost:8080/",
          "height": 54
        }
      },
      "source": [
        "#Checking for NaN/null values\n",
        "print('We have {} NaN/Null values in data'.format(data.isnull().values.sum()))\n",
        "data.shape"
      ],
      "execution_count": 0,
      "outputs": [
        {
          "output_type": "stream",
          "text": [
            "We have 0 NaN/Null values in data\n"
          ],
          "name": "stdout"
        },
        {
          "output_type": "execute_result",
          "data": {
            "text/plain": [
              "(12063005, 10)"
            ]
          },
          "metadata": {
            "tags": []
          },
          "execution_count": 8
        }
      ]
    },
    {
      "cell_type": "code",
      "metadata": {
        "id": "2pF22Xd6knnC",
        "colab_type": "code",
        "outputId": "e6c4e712-3786-478a-b5d2-01ac1abf5776",
        "colab": {
          "base_uri": "https://localhost:8080/",
          "height": 35
        }
      },
      "source": [
        "#data = data.drop(['Arrival_Time'], axis = 1).copy()\n",
        "data.shape"
      ],
      "execution_count": 0,
      "outputs": [
        {
          "output_type": "execute_result",
          "data": {
            "text/plain": [
              "(12063005, 10)"
            ]
          },
          "metadata": {
            "tags": []
          },
          "execution_count": 9
        }
      ]
    },
    {
      "cell_type": "code",
      "metadata": {
        "id": "VcNHiyd0JldN",
        "colab_type": "code",
        "outputId": "965d6558-a18b-416c-d017-88eaca674fd4",
        "colab": {
          "base_uri": "https://localhost:8080/",
          "height": 198
        }
      },
      "source": [
        "data.head()"
      ],
      "execution_count": 0,
      "outputs": [
        {
          "output_type": "execute_result",
          "data": {
            "text/html": [
              "<div>\n",
              "<style scoped>\n",
              "    .dataframe tbody tr th:only-of-type {\n",
              "        vertical-align: middle;\n",
              "    }\n",
              "\n",
              "    .dataframe tbody tr th {\n",
              "        vertical-align: top;\n",
              "    }\n",
              "\n",
              "    .dataframe thead th {\n",
              "        text-align: right;\n",
              "    }\n",
              "</style>\n",
              "<table border=\"1\" class=\"dataframe\">\n",
              "  <thead>\n",
              "    <tr style=\"text-align: right;\">\n",
              "      <th></th>\n",
              "      <th>Index</th>\n",
              "      <th>Arrival_Time</th>\n",
              "      <th>Creation_Time</th>\n",
              "      <th>x</th>\n",
              "      <th>y</th>\n",
              "      <th>z</th>\n",
              "      <th>User</th>\n",
              "      <th>Model</th>\n",
              "      <th>Device</th>\n",
              "      <th>gt</th>\n",
              "    </tr>\n",
              "  </thead>\n",
              "  <tbody>\n",
              "    <tr>\n",
              "      <th>0</th>\n",
              "      <td>0</td>\n",
              "      <td>1424696633909</td>\n",
              "      <td>1424696631914042029</td>\n",
              "      <td>0.013748</td>\n",
              "      <td>-0.000626</td>\n",
              "      <td>-0.023376</td>\n",
              "      <td>a</td>\n",
              "      <td>nexus4</td>\n",
              "      <td>nexus4_1</td>\n",
              "      <td>stand</td>\n",
              "    </tr>\n",
              "    <tr>\n",
              "      <th>1</th>\n",
              "      <td>1</td>\n",
              "      <td>1424696633909</td>\n",
              "      <td>1424696631919046912</td>\n",
              "      <td>0.014816</td>\n",
              "      <td>-0.001694</td>\n",
              "      <td>-0.022308</td>\n",
              "      <td>a</td>\n",
              "      <td>nexus4</td>\n",
              "      <td>nexus4_1</td>\n",
              "      <td>stand</td>\n",
              "    </tr>\n",
              "    <tr>\n",
              "      <th>2</th>\n",
              "      <td>2</td>\n",
              "      <td>1424696633918</td>\n",
              "      <td>1424696631924051794</td>\n",
              "      <td>0.015884</td>\n",
              "      <td>-0.001694</td>\n",
              "      <td>-0.021240</td>\n",
              "      <td>a</td>\n",
              "      <td>nexus4</td>\n",
              "      <td>nexus4_1</td>\n",
              "      <td>stand</td>\n",
              "    </tr>\n",
              "    <tr>\n",
              "      <th>3</th>\n",
              "      <td>3</td>\n",
              "      <td>1424696633919</td>\n",
              "      <td>1424696631929117712</td>\n",
              "      <td>0.016953</td>\n",
              "      <td>-0.003830</td>\n",
              "      <td>-0.020172</td>\n",
              "      <td>a</td>\n",
              "      <td>nexus4</td>\n",
              "      <td>nexus4_1</td>\n",
              "      <td>stand</td>\n",
              "    </tr>\n",
              "    <tr>\n",
              "      <th>4</th>\n",
              "      <td>4</td>\n",
              "      <td>1424696633928</td>\n",
              "      <td>1424696631934214148</td>\n",
              "      <td>0.015884</td>\n",
              "      <td>-0.007034</td>\n",
              "      <td>-0.020172</td>\n",
              "      <td>a</td>\n",
              "      <td>nexus4</td>\n",
              "      <td>nexus4_1</td>\n",
              "      <td>stand</td>\n",
              "    </tr>\n",
              "  </tbody>\n",
              "</table>\n",
              "</div>"
            ],
            "text/plain": [
              "   Index   Arrival_Time        Creation_Time  ...   Model    Device     gt\n",
              "0      0  1424696633909  1424696631914042029  ...  nexus4  nexus4_1  stand\n",
              "1      1  1424696633909  1424696631919046912  ...  nexus4  nexus4_1  stand\n",
              "2      2  1424696633918  1424696631924051794  ...  nexus4  nexus4_1  stand\n",
              "3      3  1424696633919  1424696631929117712  ...  nexus4  nexus4_1  stand\n",
              "4      4  1424696633928  1424696631934214148  ...  nexus4  nexus4_1  stand\n",
              "\n",
              "[5 rows x 10 columns]"
            ]
          },
          "metadata": {
            "tags": []
          },
          "execution_count": 10
        }
      ]
    },
    {
      "cell_type": "code",
      "metadata": {
        "id": "0ZdYPJIjJo6I",
        "colab_type": "code",
        "outputId": "ff45bb43-c491-41a4-816f-06ffb245796f",
        "colab": {
          "base_uri": "https://localhost:8080/",
          "height": 198
        }
      },
      "source": [
        "#data = data.drop(['Index','Creation_Time','User','Model','Device'], axis = 1).copy()\n",
        "data.head()"
      ],
      "execution_count": 0,
      "outputs": [
        {
          "output_type": "execute_result",
          "data": {
            "text/html": [
              "<div>\n",
              "<style scoped>\n",
              "    .dataframe tbody tr th:only-of-type {\n",
              "        vertical-align: middle;\n",
              "    }\n",
              "\n",
              "    .dataframe tbody tr th {\n",
              "        vertical-align: top;\n",
              "    }\n",
              "\n",
              "    .dataframe thead th {\n",
              "        text-align: right;\n",
              "    }\n",
              "</style>\n",
              "<table border=\"1\" class=\"dataframe\">\n",
              "  <thead>\n",
              "    <tr style=\"text-align: right;\">\n",
              "      <th></th>\n",
              "      <th>Index</th>\n",
              "      <th>Arrival_Time</th>\n",
              "      <th>Creation_Time</th>\n",
              "      <th>x</th>\n",
              "      <th>y</th>\n",
              "      <th>z</th>\n",
              "      <th>User</th>\n",
              "      <th>Model</th>\n",
              "      <th>Device</th>\n",
              "      <th>gt</th>\n",
              "    </tr>\n",
              "  </thead>\n",
              "  <tbody>\n",
              "    <tr>\n",
              "      <th>0</th>\n",
              "      <td>0</td>\n",
              "      <td>1424696633909</td>\n",
              "      <td>1424696631914042029</td>\n",
              "      <td>0.013748</td>\n",
              "      <td>-0.000626</td>\n",
              "      <td>-0.023376</td>\n",
              "      <td>a</td>\n",
              "      <td>nexus4</td>\n",
              "      <td>nexus4_1</td>\n",
              "      <td>stand</td>\n",
              "    </tr>\n",
              "    <tr>\n",
              "      <th>1</th>\n",
              "      <td>1</td>\n",
              "      <td>1424696633909</td>\n",
              "      <td>1424696631919046912</td>\n",
              "      <td>0.014816</td>\n",
              "      <td>-0.001694</td>\n",
              "      <td>-0.022308</td>\n",
              "      <td>a</td>\n",
              "      <td>nexus4</td>\n",
              "      <td>nexus4_1</td>\n",
              "      <td>stand</td>\n",
              "    </tr>\n",
              "    <tr>\n",
              "      <th>2</th>\n",
              "      <td>2</td>\n",
              "      <td>1424696633918</td>\n",
              "      <td>1424696631924051794</td>\n",
              "      <td>0.015884</td>\n",
              "      <td>-0.001694</td>\n",
              "      <td>-0.021240</td>\n",
              "      <td>a</td>\n",
              "      <td>nexus4</td>\n",
              "      <td>nexus4_1</td>\n",
              "      <td>stand</td>\n",
              "    </tr>\n",
              "    <tr>\n",
              "      <th>3</th>\n",
              "      <td>3</td>\n",
              "      <td>1424696633919</td>\n",
              "      <td>1424696631929117712</td>\n",
              "      <td>0.016953</td>\n",
              "      <td>-0.003830</td>\n",
              "      <td>-0.020172</td>\n",
              "      <td>a</td>\n",
              "      <td>nexus4</td>\n",
              "      <td>nexus4_1</td>\n",
              "      <td>stand</td>\n",
              "    </tr>\n",
              "    <tr>\n",
              "      <th>4</th>\n",
              "      <td>4</td>\n",
              "      <td>1424696633928</td>\n",
              "      <td>1424696631934214148</td>\n",
              "      <td>0.015884</td>\n",
              "      <td>-0.007034</td>\n",
              "      <td>-0.020172</td>\n",
              "      <td>a</td>\n",
              "      <td>nexus4</td>\n",
              "      <td>nexus4_1</td>\n",
              "      <td>stand</td>\n",
              "    </tr>\n",
              "  </tbody>\n",
              "</table>\n",
              "</div>"
            ],
            "text/plain": [
              "   Index   Arrival_Time        Creation_Time  ...   Model    Device     gt\n",
              "0      0  1424696633909  1424696631914042029  ...  nexus4  nexus4_1  stand\n",
              "1      1  1424696633909  1424696631919046912  ...  nexus4  nexus4_1  stand\n",
              "2      2  1424696633918  1424696631924051794  ...  nexus4  nexus4_1  stand\n",
              "3      3  1424696633919  1424696631929117712  ...  nexus4  nexus4_1  stand\n",
              "4      4  1424696633928  1424696631934214148  ...  nexus4  nexus4_1  stand\n",
              "\n",
              "[5 rows x 10 columns]"
            ]
          },
          "metadata": {
            "tags": []
          },
          "execution_count": 11
        }
      ]
    },
    {
      "cell_type": "code",
      "metadata": {
        "id": "czgSYoh1ktNA",
        "colab_type": "code",
        "outputId": "40dfde31-cf39-43db-d140-d518103cb401",
        "colab": {
          "base_uri": "https://localhost:8080/",
          "height": 145
        }
      },
      "source": [
        "data['gt'].value_counts()"
      ],
      "execution_count": 0,
      "outputs": [
        {
          "output_type": "execute_result",
          "data": {
            "text/plain": [
              "walk          2350429\n",
              "sit           2218501\n",
              "stand         2024206\n",
              "bike          1911730\n",
              "stairsup      1884306\n",
              "stairsdown    1673833\n",
              "Name: gt, dtype: int64"
            ]
          },
          "metadata": {
            "tags": []
          },
          "execution_count": 12
        }
      ]
    },
    {
      "cell_type": "code",
      "metadata": {
        "id": "ZxCdtxAxk0t6",
        "colab_type": "code",
        "outputId": "46e37502-85db-44bd-b0bc-05dab59298cb",
        "colab": {
          "base_uri": "https://localhost:8080/",
          "height": 308
        }
      },
      "source": [
        "data['x'] = data['x'].astype('float')\n",
        "data['y'] = data['y'].astype('float')\n",
        "data['z'] = data['z'].astype('float')\n",
        "data.info()\n",
        "data.shape\n"
      ],
      "execution_count": 0,
      "outputs": [
        {
          "output_type": "stream",
          "text": [
            "<class 'pandas.core.frame.DataFrame'>\n",
            "Int64Index: 12063005 entries, 0 to 13932631\n",
            "Data columns (total 10 columns):\n",
            "Index            int64\n",
            "Arrival_Time     int64\n",
            "Creation_Time    int64\n",
            "x                float64\n",
            "y                float64\n",
            "z                float64\n",
            "User             object\n",
            "Model            object\n",
            "Device           object\n",
            "gt               object\n",
            "dtypes: float64(3), int64(3), object(4)\n",
            "memory usage: 1012.4+ MB\n"
          ],
          "name": "stdout"
        },
        {
          "output_type": "execute_result",
          "data": {
            "text/plain": [
              "(12063005, 10)"
            ]
          },
          "metadata": {
            "tags": []
          },
          "execution_count": 13
        }
      ]
    },
    {
      "cell_type": "code",
      "metadata": {
        "id": "jW9HWs0pk9vm",
        "colab_type": "code",
        "outputId": "f54669e4-3bff-4612-b0c6-99dcbb734486",
        "colab": {
          "base_uri": "https://localhost:8080/",
          "height": 35
        }
      },
      "source": [
        "Fs = 20\n",
        "gt= data['gt'].value_counts().index\n",
        "gt"
      ],
      "execution_count": 0,
      "outputs": [
        {
          "output_type": "execute_result",
          "data": {
            "text/plain": [
              "Index(['walk', 'sit', 'stand', 'bike', 'stairsup', 'stairsdown'], dtype='object')"
            ]
          },
          "metadata": {
            "tags": []
          },
          "execution_count": 14
        }
      ]
    },
    {
      "cell_type": "code",
      "metadata": {
        "id": "b-Yg1SHFlZ-i",
        "colab_type": "code",
        "outputId": "9087c4b4-4e50-45ad-b138-ab291742a4c9",
        "colab": {
          "base_uri": "https://localhost:8080/",
          "height": 198
        }
      },
      "source": [
        "from sklearn.preprocessing import LabelEncoder\n",
        "label = LabelEncoder()\n",
        "data['label'] = label.fit_transform(data['gt'])\n",
        "data.head()"
      ],
      "execution_count": 0,
      "outputs": [
        {
          "output_type": "execute_result",
          "data": {
            "text/html": [
              "<div>\n",
              "<style scoped>\n",
              "    .dataframe tbody tr th:only-of-type {\n",
              "        vertical-align: middle;\n",
              "    }\n",
              "\n",
              "    .dataframe tbody tr th {\n",
              "        vertical-align: top;\n",
              "    }\n",
              "\n",
              "    .dataframe thead th {\n",
              "        text-align: right;\n",
              "    }\n",
              "</style>\n",
              "<table border=\"1\" class=\"dataframe\">\n",
              "  <thead>\n",
              "    <tr style=\"text-align: right;\">\n",
              "      <th></th>\n",
              "      <th>Index</th>\n",
              "      <th>Arrival_Time</th>\n",
              "      <th>Creation_Time</th>\n",
              "      <th>x</th>\n",
              "      <th>y</th>\n",
              "      <th>z</th>\n",
              "      <th>User</th>\n",
              "      <th>Model</th>\n",
              "      <th>Device</th>\n",
              "      <th>gt</th>\n",
              "      <th>label</th>\n",
              "    </tr>\n",
              "  </thead>\n",
              "  <tbody>\n",
              "    <tr>\n",
              "      <th>0</th>\n",
              "      <td>0</td>\n",
              "      <td>1424696633909</td>\n",
              "      <td>1424696631914042029</td>\n",
              "      <td>0.013748</td>\n",
              "      <td>-0.000626</td>\n",
              "      <td>-0.023376</td>\n",
              "      <td>a</td>\n",
              "      <td>nexus4</td>\n",
              "      <td>nexus4_1</td>\n",
              "      <td>stand</td>\n",
              "      <td>4</td>\n",
              "    </tr>\n",
              "    <tr>\n",
              "      <th>1</th>\n",
              "      <td>1</td>\n",
              "      <td>1424696633909</td>\n",
              "      <td>1424696631919046912</td>\n",
              "      <td>0.014816</td>\n",
              "      <td>-0.001694</td>\n",
              "      <td>-0.022308</td>\n",
              "      <td>a</td>\n",
              "      <td>nexus4</td>\n",
              "      <td>nexus4_1</td>\n",
              "      <td>stand</td>\n",
              "      <td>4</td>\n",
              "    </tr>\n",
              "    <tr>\n",
              "      <th>2</th>\n",
              "      <td>2</td>\n",
              "      <td>1424696633918</td>\n",
              "      <td>1424696631924051794</td>\n",
              "      <td>0.015884</td>\n",
              "      <td>-0.001694</td>\n",
              "      <td>-0.021240</td>\n",
              "      <td>a</td>\n",
              "      <td>nexus4</td>\n",
              "      <td>nexus4_1</td>\n",
              "      <td>stand</td>\n",
              "      <td>4</td>\n",
              "    </tr>\n",
              "    <tr>\n",
              "      <th>3</th>\n",
              "      <td>3</td>\n",
              "      <td>1424696633919</td>\n",
              "      <td>1424696631929117712</td>\n",
              "      <td>0.016953</td>\n",
              "      <td>-0.003830</td>\n",
              "      <td>-0.020172</td>\n",
              "      <td>a</td>\n",
              "      <td>nexus4</td>\n",
              "      <td>nexus4_1</td>\n",
              "      <td>stand</td>\n",
              "      <td>4</td>\n",
              "    </tr>\n",
              "    <tr>\n",
              "      <th>4</th>\n",
              "      <td>4</td>\n",
              "      <td>1424696633928</td>\n",
              "      <td>1424696631934214148</td>\n",
              "      <td>0.015884</td>\n",
              "      <td>-0.007034</td>\n",
              "      <td>-0.020172</td>\n",
              "      <td>a</td>\n",
              "      <td>nexus4</td>\n",
              "      <td>nexus4_1</td>\n",
              "      <td>stand</td>\n",
              "      <td>4</td>\n",
              "    </tr>\n",
              "  </tbody>\n",
              "</table>\n",
              "</div>"
            ],
            "text/plain": [
              "   Index   Arrival_Time        Creation_Time  ...    Device     gt  label\n",
              "0      0  1424696633909  1424696631914042029  ...  nexus4_1  stand      4\n",
              "1      1  1424696633909  1424696631919046912  ...  nexus4_1  stand      4\n",
              "2      2  1424696633918  1424696631924051794  ...  nexus4_1  stand      4\n",
              "3      3  1424696633919  1424696631929117712  ...  nexus4_1  stand      4\n",
              "4      4  1424696633928  1424696631934214148  ...  nexus4_1  stand      4\n",
              "\n",
              "[5 rows x 11 columns]"
            ]
          },
          "metadata": {
            "tags": []
          },
          "execution_count": 15
        }
      ]
    },
    {
      "cell_type": "code",
      "metadata": {
        "id": "voiP0mliljDm",
        "colab_type": "code",
        "outputId": "0f0bb5d3-7aaa-477d-9fd7-4185299b8d1a",
        "colab": {
          "base_uri": "https://localhost:8080/",
          "height": 54
        }
      },
      "source": [
        "label.classes_"
      ],
      "execution_count": 0,
      "outputs": [
        {
          "output_type": "execute_result",
          "data": {
            "text/plain": [
              "array(['bike', 'sit', 'stairsdown', 'stairsup', 'stand', 'walk'],\n",
              "      dtype=object)"
            ]
          },
          "metadata": {
            "tags": []
          },
          "execution_count": 16
        }
      ]
    },
    {
      "cell_type": "code",
      "metadata": {
        "id": "AsLDkawYlmV4",
        "colab_type": "code",
        "outputId": "08e6bbd7-e70d-4e85-ce11-a8656e930c04",
        "colab": {
          "base_uri": "https://localhost:8080/",
          "height": 407
        }
      },
      "source": [
        "X = data[['x', 'y', 'z']]\n",
        "y = data['label']\n",
        "scaler = StandardScaler()\n",
        "X = scaler.fit_transform(X)\n",
        "\n",
        "scaled_X = pd.DataFrame(data = X, columns = ['x', 'y', 'z'])\n",
        "scaled_X['label'] = y.values\n",
        "\n",
        "scaled_X"
      ],
      "execution_count": 0,
      "outputs": [
        {
          "output_type": "execute_result",
          "data": {
            "text/html": [
              "<div>\n",
              "<style scoped>\n",
              "    .dataframe tbody tr th:only-of-type {\n",
              "        vertical-align: middle;\n",
              "    }\n",
              "\n",
              "    .dataframe tbody tr th {\n",
              "        vertical-align: top;\n",
              "    }\n",
              "\n",
              "    .dataframe thead th {\n",
              "        text-align: right;\n",
              "    }\n",
              "</style>\n",
              "<table border=\"1\" class=\"dataframe\">\n",
              "  <thead>\n",
              "    <tr style=\"text-align: right;\">\n",
              "      <th></th>\n",
              "      <th>x</th>\n",
              "      <th>y</th>\n",
              "      <th>z</th>\n",
              "      <th>label</th>\n",
              "    </tr>\n",
              "  </thead>\n",
              "  <tbody>\n",
              "    <tr>\n",
              "      <th>0</th>\n",
              "      <td>0.019706</td>\n",
              "      <td>0.021055</td>\n",
              "      <td>-0.023556</td>\n",
              "      <td>4</td>\n",
              "    </tr>\n",
              "    <tr>\n",
              "      <th>1</th>\n",
              "      <td>0.022037</td>\n",
              "      <td>0.018703</td>\n",
              "      <td>-0.021469</td>\n",
              "      <td>4</td>\n",
              "    </tr>\n",
              "    <tr>\n",
              "      <th>2</th>\n",
              "      <td>0.024369</td>\n",
              "      <td>0.018703</td>\n",
              "      <td>-0.019383</td>\n",
              "      <td>4</td>\n",
              "    </tr>\n",
              "    <tr>\n",
              "      <th>3</th>\n",
              "      <td>0.026701</td>\n",
              "      <td>0.013998</td>\n",
              "      <td>-0.017296</td>\n",
              "      <td>4</td>\n",
              "    </tr>\n",
              "    <tr>\n",
              "      <th>4</th>\n",
              "      <td>0.024369</td>\n",
              "      <td>0.006941</td>\n",
              "      <td>-0.017296</td>\n",
              "      <td>4</td>\n",
              "    </tr>\n",
              "    <tr>\n",
              "      <th>...</th>\n",
              "      <td>...</td>\n",
              "      <td>...</td>\n",
              "      <td>...</td>\n",
              "      <td>...</td>\n",
              "    </tr>\n",
              "    <tr>\n",
              "      <th>12063000</th>\n",
              "      <td>-0.112567</td>\n",
              "      <td>0.766090</td>\n",
              "      <td>0.285217</td>\n",
              "      <td>0</td>\n",
              "    </tr>\n",
              "    <tr>\n",
              "      <th>12063001</th>\n",
              "      <td>-0.267023</td>\n",
              "      <td>0.510861</td>\n",
              "      <td>0.279498</td>\n",
              "      <td>0</td>\n",
              "    </tr>\n",
              "    <tr>\n",
              "      <th>12063002</th>\n",
              "      <td>-0.398044</td>\n",
              "      <td>0.146018</td>\n",
              "      <td>0.208002</td>\n",
              "      <td>0</td>\n",
              "    </tr>\n",
              "    <tr>\n",
              "      <th>12063003</th>\n",
              "      <td>-0.436391</td>\n",
              "      <td>-0.251602</td>\n",
              "      <td>0.145562</td>\n",
              "      <td>0</td>\n",
              "    </tr>\n",
              "    <tr>\n",
              "      <th>12063004</th>\n",
              "      <td>-0.363957</td>\n",
              "      <td>-0.437517</td>\n",
              "      <td>0.106478</td>\n",
              "      <td>0</td>\n",
              "    </tr>\n",
              "  </tbody>\n",
              "</table>\n",
              "<p>12063005 rows × 4 columns</p>\n",
              "</div>"
            ],
            "text/plain": [
              "                 x         y         z  label\n",
              "0         0.019706  0.021055 -0.023556      4\n",
              "1         0.022037  0.018703 -0.021469      4\n",
              "2         0.024369  0.018703 -0.019383      4\n",
              "3         0.026701  0.013998 -0.017296      4\n",
              "4         0.024369  0.006941 -0.017296      4\n",
              "...            ...       ...       ...    ...\n",
              "12063000 -0.112567  0.766090  0.285217      0\n",
              "12063001 -0.267023  0.510861  0.279498      0\n",
              "12063002 -0.398044  0.146018  0.208002      0\n",
              "12063003 -0.436391 -0.251602  0.145562      0\n",
              "12063004 -0.363957 -0.437517  0.106478      0\n",
              "\n",
              "[12063005 rows x 4 columns]"
            ]
          },
          "metadata": {
            "tags": []
          },
          "execution_count": 17
        }
      ]
    },
    {
      "cell_type": "code",
      "metadata": {
        "id": "3hi98Sixl7Ob",
        "colab_type": "code",
        "outputId": "55f10dd8-f5e2-4ab7-c098-0559277121dd",
        "colab": {
          "base_uri": "https://localhost:8080/",
          "height": 54
        }
      },
      "source": [
        "label.classes_"
      ],
      "execution_count": 0,
      "outputs": [
        {
          "output_type": "execute_result",
          "data": {
            "text/plain": [
              "array(['bike', 'sit', 'stairsdown', 'stairsup', 'stand', 'walk'],\n",
              "      dtype=object)"
            ]
          },
          "metadata": {
            "tags": []
          },
          "execution_count": 18
        }
      ]
    },
    {
      "cell_type": "code",
      "metadata": {
        "id": "YkOBUiU01Rr7",
        "colab_type": "code",
        "colab": {}
      },
      "source": [
        "Fs = 50\n",
        "frame_size = Fs*4 # 80\n",
        "hop_size = Fs*2 # 40\n"
      ],
      "execution_count": 0,
      "outputs": []
    },
    {
      "cell_type": "code",
      "metadata": {
        "id": "BIOtEbjOoH4t",
        "colab_type": "code",
        "colab": {}
      },
      "source": [
        "import math as m\n",
        "def get_frames(data, frame_size, hop_size):\n",
        "\n",
        "  N_FEATURES = 3\n",
        "  frames = []\n",
        "  labels = []\n",
        "  for i in range(0, len(scaled_X) - frame_size, hop_size):\n",
        "    x = data['x'].values[i: i + frame_size]\n",
        "    y = data['y'].values[i: i + frame_size]\n",
        "    z = data['z'].values[i: i + frame_size]\n",
        "        # Retrieve the most often used label in this segment\n",
        "    label = stats.mode(scaled_X['label'][i: i + frame_size])[0][0]\n",
        "    frames.append([x, y, z])\n",
        "    labels.append(label)\n",
        "  # Bring the segments into a better shape\n",
        "  frames = np.asarray(frames, dtype= np.float32).reshape(-1, frame_size, N_FEATURES)\n",
        "  labels = np.asarray(labels)\n",
        "  return frames, labels\n"
      ],
      "execution_count": 0,
      "outputs": []
    },
    {
      "cell_type": "code",
      "metadata": {
        "colab_type": "code",
        "id": "ZruOiWuCsJ-m",
        "colab": {}
      },
      "source": [
        "X,y = get_frames(scaled_X, frame_size, hop_size)"
      ],
      "execution_count": 0,
      "outputs": []
    },
    {
      "cell_type": "code",
      "metadata": {
        "colab_type": "code",
        "id": "TlKwVuxQsJOX",
        "outputId": "2176589a-9eb0-4c40-fa00-3a96fcb01b7d",
        "colab": {
          "base_uri": "https://localhost:8080/",
          "height": 35
        }
      },
      "source": [
        "X.shape\n",
        "y.shape"
      ],
      "execution_count": 0,
      "outputs": [
        {
          "output_type": "execute_result",
          "data": {
            "text/plain": [
              "(120629,)"
            ]
          },
          "metadata": {
            "tags": []
          },
          "execution_count": 22
        }
      ]
    },
    {
      "cell_type": "code",
      "metadata": {
        "id": "nqf7zeTA2WiX",
        "colab_type": "code",
        "colab": {}
      },
      "source": [
        "X_train, X_test, y_train, y_test = train_test_split(X,y, test_size = 0.2, random_state = 0, stratify = y)\n"
      ],
      "execution_count": 0,
      "outputs": []
    },
    {
      "cell_type": "code",
      "metadata": {
        "id": "d4nRHfpq1Rwp",
        "colab_type": "code",
        "outputId": "0d0f12b5-30de-4a58-e9c1-94363f6cc3b1",
        "colab": {
          "base_uri": "https://localhost:8080/",
          "height": 35
        }
      },
      "source": [
        "X_train.shape, X_test.shape"
      ],
      "execution_count": 0,
      "outputs": [
        {
          "output_type": "execute_result",
          "data": {
            "text/plain": [
              "((96503, 200, 3), (24126, 200, 3))"
            ]
          },
          "metadata": {
            "tags": []
          },
          "execution_count": 24
        }
      ]
    },
    {
      "cell_type": "code",
      "metadata": {
        "id": "2z45rOPQMRLK",
        "colab_type": "code",
        "outputId": "51e7249e-9898-4c3f-c2d1-a7bc38032ace",
        "colab": {
          "base_uri": "https://localhost:8080/",
          "height": 35
        }
      },
      "source": [
        "X_train = X_train.reshape(96503, 200, 3,1)\n",
        "X_test = X_test.reshape(24126, 200, 3,1)\n",
        "X_train[0].shape, X_test[0].shape"
      ],
      "execution_count": 0,
      "outputs": [
        {
          "output_type": "execute_result",
          "data": {
            "text/plain": [
              "((200, 3, 1), (200, 3, 1))"
            ]
          },
          "metadata": {
            "tags": []
          },
          "execution_count": 25
        }
      ]
    },
    {
      "cell_type": "code",
      "metadata": {
        "id": "yx5ufXF5NWB-",
        "colab_type": "code",
        "outputId": "488c7ee1-e261-4e6f-d89c-d3be561d4569",
        "colab": {
          "base_uri": "https://localhost:8080/",
          "height": 35
        }
      },
      "source": [
        "# Importing libraries\n",
        "import pandas as pd\n",
        "from matplotlib import pyplot\n",
        "from sklearn.preprocessing import StandardScaler\n",
        "from keras.models import Sequential\n",
        "from keras.layers import Dense\n",
        "from keras.layers import Flatten\n",
        "from keras.layers import Dropout\n",
        "from keras.layers.convolutional import Conv1D\n",
        "from keras.layers.convolutional import MaxPooling1D\n",
        "from keras.utils import to_categorical\n",
        "from keras.models import Sequential\n",
        "from keras.layers import LSTM\n",
        "from keras.layers.core import Dense, Dropout"
      ],
      "execution_count": 0,
      "outputs": [
        {
          "output_type": "stream",
          "text": [
            "Using TensorFlow backend.\n"
          ],
          "name": "stderr"
        }
      ]
    },
    {
      "cell_type": "code",
      "metadata": {
        "id": "RzkYLzMfdwXL",
        "colab_type": "code",
        "outputId": "f5b3ba22-3ef7-4ae7-e0ed-82e59fbd1134",
        "colab": {
          "base_uri": "https://localhost:8080/",
          "height": 674
        }
      },
      "source": [
        "from keras.models import Sequential\n",
        "from keras.layers import Conv2D, MaxPooling2D, Flatten, Dense, Dropout\n",
        "model = Sequential()\n",
        "model.add(Conv2D(filters=64, kernel_size=(3,3), padding='same', activation='relu',input_shape=X_train[0].shape))\n",
        "model.add(Dropout(0.3))\n",
        "model.add(MaxPooling2D(pool_size=2))\n",
        "\n",
        "model.add(Flatten())\n",
        "model.add(Dense(1024, activation='relu'))\n",
        "model.add(Dropout(0.5))\n",
        "model.add(Dense(6, activation='softmax'))\n",
        "model.summary()"
      ],
      "execution_count": 0,
      "outputs": [
        {
          "output_type": "stream",
          "text": [
            "WARNING:tensorflow:From /usr/local/lib/python3.6/dist-packages/keras/backend/tensorflow_backend.py:66: The name tf.get_default_graph is deprecated. Please use tf.compat.v1.get_default_graph instead.\n",
            "\n",
            "WARNING:tensorflow:From /usr/local/lib/python3.6/dist-packages/keras/backend/tensorflow_backend.py:541: The name tf.placeholder is deprecated. Please use tf.compat.v1.placeholder instead.\n",
            "\n",
            "WARNING:tensorflow:From /usr/local/lib/python3.6/dist-packages/keras/backend/tensorflow_backend.py:4432: The name tf.random_uniform is deprecated. Please use tf.random.uniform instead.\n",
            "\n",
            "WARNING:tensorflow:From /usr/local/lib/python3.6/dist-packages/keras/backend/tensorflow_backend.py:148: The name tf.placeholder_with_default is deprecated. Please use tf.compat.v1.placeholder_with_default instead.\n",
            "\n",
            "WARNING:tensorflow:From /usr/local/lib/python3.6/dist-packages/keras/backend/tensorflow_backend.py:3733: calling dropout (from tensorflow.python.ops.nn_ops) with keep_prob is deprecated and will be removed in a future version.\n",
            "Instructions for updating:\n",
            "Please use `rate` instead of `keep_prob`. Rate should be set to `rate = 1 - keep_prob`.\n",
            "WARNING:tensorflow:From /usr/local/lib/python3.6/dist-packages/keras/backend/tensorflow_backend.py:4267: The name tf.nn.max_pool is deprecated. Please use tf.nn.max_pool2d instead.\n",
            "\n",
            "Model: \"sequential_1\"\n",
            "_________________________________________________________________\n",
            "Layer (type)                 Output Shape              Param #   \n",
            "=================================================================\n",
            "conv2d_1 (Conv2D)            (None, 200, 3, 64)        640       \n",
            "_________________________________________________________________\n",
            "dropout_1 (Dropout)          (None, 200, 3, 64)        0         \n",
            "_________________________________________________________________\n",
            "max_pooling2d_1 (MaxPooling2 (None, 100, 1, 64)        0         \n",
            "_________________________________________________________________\n",
            "flatten_1 (Flatten)          (None, 6400)              0         \n",
            "_________________________________________________________________\n",
            "dense_1 (Dense)              (None, 1024)              6554624   \n",
            "_________________________________________________________________\n",
            "dropout_2 (Dropout)          (None, 1024)              0         \n",
            "_________________________________________________________________\n",
            "dense_2 (Dense)              (None, 6)                 6150      \n",
            "=================================================================\n",
            "Total params: 6,561,414\n",
            "Trainable params: 6,561,414\n",
            "Non-trainable params: 0\n",
            "_________________________________________________________________\n"
          ],
          "name": "stdout"
        }
      ]
    },
    {
      "cell_type": "code",
      "metadata": {
        "id": "LSRSMKjIecw4",
        "colab_type": "code",
        "outputId": "82d6654d-c515-4e94-f31b-b384d8eebe26",
        "colab": {
          "base_uri": "https://localhost:8080/",
          "height": 110
        }
      },
      "source": [
        "from keras import optimizers\n",
        "sgd = optimizers.adam(lr=0.0001)\n",
        "model.compile(loss='sparse_categorical_crossentropy', optimizer=sgd, metrics=['accuracy'])"
      ],
      "execution_count": 0,
      "outputs": [
        {
          "output_type": "stream",
          "text": [
            "WARNING:tensorflow:From /usr/local/lib/python3.6/dist-packages/keras/optimizers.py:793: The name tf.train.Optimizer is deprecated. Please use tf.compat.v1.train.Optimizer instead.\n",
            "\n",
            "WARNING:tensorflow:From /usr/local/lib/python3.6/dist-packages/keras/backend/tensorflow_backend.py:3622: The name tf.log is deprecated. Please use tf.math.log instead.\n",
            "\n"
          ],
          "name": "stdout"
        }
      ]
    },
    {
      "cell_type": "code",
      "metadata": {
        "id": "eX_iqGtZegEs",
        "colab_type": "code",
        "outputId": "1d93f58c-e887-436f-e794-7995141569ad",
        "colab": {
          "base_uri": "https://localhost:8080/",
          "height": 1000
        }
      },
      "source": [
        "history = model.fit(X_train, y_train, epochs =30, validation_data= (X_test, y_test),batch_size=64, verbose=1)"
      ],
      "execution_count": 0,
      "outputs": [
        {
          "output_type": "stream",
          "text": [
            "WARNING:tensorflow:From /usr/local/lib/python3.6/dist-packages/tensorflow_core/python/ops/math_grad.py:1424: where (from tensorflow.python.ops.array_ops) is deprecated and will be removed in a future version.\n",
            "Instructions for updating:\n",
            "Use tf.where in 2.0, which has the same broadcast rule as np.where\n",
            "WARNING:tensorflow:From /usr/local/lib/python3.6/dist-packages/keras/backend/tensorflow_backend.py:1033: The name tf.assign_add is deprecated. Please use tf.compat.v1.assign_add instead.\n",
            "\n",
            "WARNING:tensorflow:From /usr/local/lib/python3.6/dist-packages/keras/backend/tensorflow_backend.py:1020: The name tf.assign is deprecated. Please use tf.compat.v1.assign instead.\n",
            "\n",
            "WARNING:tensorflow:From /usr/local/lib/python3.6/dist-packages/keras/backend/tensorflow_backend.py:3005: The name tf.Session is deprecated. Please use tf.compat.v1.Session instead.\n",
            "\n",
            "Train on 96503 samples, validate on 24126 samples\n",
            "Epoch 1/30\n",
            "WARNING:tensorflow:From /usr/local/lib/python3.6/dist-packages/keras/backend/tensorflow_backend.py:190: The name tf.get_default_session is deprecated. Please use tf.compat.v1.get_default_session instead.\n",
            "\n",
            "WARNING:tensorflow:From /usr/local/lib/python3.6/dist-packages/keras/backend/tensorflow_backend.py:197: The name tf.ConfigProto is deprecated. Please use tf.compat.v1.ConfigProto instead.\n",
            "\n",
            "WARNING:tensorflow:From /usr/local/lib/python3.6/dist-packages/keras/backend/tensorflow_backend.py:207: The name tf.global_variables is deprecated. Please use tf.compat.v1.global_variables instead.\n",
            "\n",
            "WARNING:tensorflow:From /usr/local/lib/python3.6/dist-packages/keras/backend/tensorflow_backend.py:216: The name tf.is_variable_initialized is deprecated. Please use tf.compat.v1.is_variable_initialized instead.\n",
            "\n",
            "WARNING:tensorflow:From /usr/local/lib/python3.6/dist-packages/keras/backend/tensorflow_backend.py:223: The name tf.variables_initializer is deprecated. Please use tf.compat.v1.variables_initializer instead.\n",
            "\n",
            "96503/96503 [==============================] - 23s 243us/step - loss: 0.7015 - acc: 0.7020 - val_loss: 0.5284 - val_acc: 0.7926\n",
            "Epoch 2/30\n",
            "96503/96503 [==============================] - 9s 98us/step - loss: 0.4789 - acc: 0.7983 - val_loss: 0.4433 - val_acc: 0.8321\n",
            "Epoch 3/30\n",
            "96503/96503 [==============================] - 9s 98us/step - loss: 0.4187 - acc: 0.8270 - val_loss: 0.4072 - val_acc: 0.8518\n",
            "Epoch 4/30\n",
            "96503/96503 [==============================] - 9s 98us/step - loss: 0.3801 - acc: 0.8438 - val_loss: 0.3742 - val_acc: 0.8607\n",
            "Epoch 5/30\n",
            "96503/96503 [==============================] - 9s 98us/step - loss: 0.3541 - acc: 0.8566 - val_loss: 0.3525 - val_acc: 0.8672\n",
            "Epoch 6/30\n",
            "96503/96503 [==============================] - 9s 98us/step - loss: 0.3346 - acc: 0.8644 - val_loss: 0.3436 - val_acc: 0.8742\n",
            "Epoch 7/30\n",
            "96503/96503 [==============================] - 10s 100us/step - loss: 0.3172 - acc: 0.8710 - val_loss: 0.3270 - val_acc: 0.8793\n",
            "Epoch 8/30\n",
            "96503/96503 [==============================] - 10s 100us/step - loss: 0.3012 - acc: 0.8761 - val_loss: 0.3223 - val_acc: 0.8841\n",
            "Epoch 9/30\n",
            "96503/96503 [==============================] - 9s 97us/step - loss: 0.2894 - acc: 0.8826 - val_loss: 0.3157 - val_acc: 0.8873\n",
            "Epoch 10/30\n",
            "96503/96503 [==============================] - 10s 98us/step - loss: 0.2785 - acc: 0.8868 - val_loss: 0.3047 - val_acc: 0.8874\n",
            "Epoch 11/30\n",
            "96503/96503 [==============================] - 10s 99us/step - loss: 0.2674 - acc: 0.8915 - val_loss: 0.3156 - val_acc: 0.8882\n",
            "Epoch 12/30\n",
            "96503/96503 [==============================] - 9s 97us/step - loss: 0.2562 - acc: 0.8952 - val_loss: 0.2906 - val_acc: 0.8948\n",
            "Epoch 13/30\n",
            "96503/96503 [==============================] - 10s 98us/step - loss: 0.2485 - acc: 0.8994 - val_loss: 0.2837 - val_acc: 0.8975\n",
            "Epoch 14/30\n",
            "96503/96503 [==============================] - 9s 98us/step - loss: 0.2415 - acc: 0.9020 - val_loss: 0.2833 - val_acc: 0.9008\n",
            "Epoch 15/30\n",
            "96503/96503 [==============================] - 9s 97us/step - loss: 0.2346 - acc: 0.9050 - val_loss: 0.2753 - val_acc: 0.9016\n",
            "Epoch 16/30\n",
            "96503/96503 [==============================] - 9s 98us/step - loss: 0.2269 - acc: 0.9087 - val_loss: 0.2713 - val_acc: 0.9028\n",
            "Epoch 17/30\n",
            "96503/96503 [==============================] - 9s 97us/step - loss: 0.2214 - acc: 0.9105 - val_loss: 0.2762 - val_acc: 0.9024\n",
            "Epoch 18/30\n",
            "96503/96503 [==============================] - 9s 98us/step - loss: 0.2173 - acc: 0.9121 - val_loss: 0.2645 - val_acc: 0.9077\n",
            "Epoch 19/30\n",
            "96503/96503 [==============================] - 9s 98us/step - loss: 0.2106 - acc: 0.9150 - val_loss: 0.2668 - val_acc: 0.9079\n",
            "Epoch 20/30\n",
            "96503/96503 [==============================] - 9s 97us/step - loss: 0.2047 - acc: 0.9171 - val_loss: 0.2636 - val_acc: 0.9101\n",
            "Epoch 21/30\n",
            "96503/96503 [==============================] - 10s 99us/step - loss: 0.2013 - acc: 0.9197 - val_loss: 0.2606 - val_acc: 0.9109\n",
            "Epoch 22/30\n",
            "96503/96503 [==============================] - 9s 98us/step - loss: 0.1965 - acc: 0.9204 - val_loss: 0.2665 - val_acc: 0.9097\n",
            "Epoch 23/30\n",
            "96503/96503 [==============================] - 9s 98us/step - loss: 0.1933 - acc: 0.9228 - val_loss: 0.2594 - val_acc: 0.9104\n",
            "Epoch 24/30\n",
            "96503/96503 [==============================] - 9s 98us/step - loss: 0.1880 - acc: 0.9249 - val_loss: 0.2563 - val_acc: 0.9119\n",
            "Epoch 25/30\n",
            "96503/96503 [==============================] - 9s 98us/step - loss: 0.1855 - acc: 0.9256 - val_loss: 0.2604 - val_acc: 0.9114\n",
            "Epoch 26/30\n",
            "96503/96503 [==============================] - 9s 98us/step - loss: 0.1823 - acc: 0.9280 - val_loss: 0.2529 - val_acc: 0.9152\n",
            "Epoch 27/30\n",
            "96503/96503 [==============================] - 9s 97us/step - loss: 0.1785 - acc: 0.9285 - val_loss: 0.2486 - val_acc: 0.9153\n",
            "Epoch 28/30\n",
            "96503/96503 [==============================] - 9s 97us/step - loss: 0.1760 - acc: 0.9296 - val_loss: 0.2563 - val_acc: 0.9140\n",
            "Epoch 29/30\n",
            "96503/96503 [==============================] - 9s 98us/step - loss: 0.1755 - acc: 0.9306 - val_loss: 0.2565 - val_acc: 0.9142\n",
            "Epoch 30/30\n",
            "96503/96503 [==============================] - 9s 98us/step - loss: 0.1714 - acc: 0.9326 - val_loss: 0.2505 - val_acc: 0.9151\n"
          ],
          "name": "stdout"
        }
      ]
    },
    {
      "cell_type": "code",
      "metadata": {
        "id": "Av3b7ZuloL82",
        "colab_type": "code",
        "outputId": "eaa58add-0390-4f50-81fa-e64443d22cdf",
        "colab": {
          "base_uri": "https://localhost:8080/",
          "height": 977
        }
      },
      "source": [
        "import matplotlib.pyplot as plt1\n",
        "\n",
        "# Plot training & validation accuracy values\n",
        "plt.figure(figsize=(12,8))\n",
        "plt.plot(history.history['acc'],label='Train acc')\n",
        "plt.plot(history.history['val_acc'],label = 'Validation acc')\n",
        "plt.xlabel('epoch no')\n",
        "plt.ylabel('acc')\n",
        "plt.legend()\n",
        "plt.show()\n",
        "\n",
        "plt.figure(figsize=(12,8))\n",
        "plt.plot(history.history['loss'],label='Train loss')\n",
        "plt.plot(history.history['val_loss'],label = 'Validation loss')\n",
        "plt.xlabel('epoch no')\n",
        "plt.ylabel('loss')\n",
        "plt.legend()\n",
        "plt.show()\n"
      ],
      "execution_count": 0,
      "outputs": [
        {
          "output_type": "display_data",
          "data": {
            "image/png": "[encoded data removed]",
            "text/plain": [
              "<Figure size 864x576 with 1 Axes>"
            ]
          },
          "metadata": {
            "tags": []
          }
        },
        {
          "output_type": "display_data",
          "data": {
            "image/png": "[encoded data removed]",
            "text/plain": [
              "<Figure size 864x576 with 1 Axes>"
            ]
          },
          "metadata": {
            "tags": []
          }
        }
      ]
    },
    {
      "cell_type": "code",
      "metadata": {
        "id": "xQya7dGhoOlv",
        "colab_type": "code",
        "outputId": "c0e9f81e-db9f-4171-9726-ba89989cb493",
        "colab": {
          "base_uri": "https://localhost:8080/",
          "height": 842
        }
      },
      "source": [
        "from mlxtend.plotting import plot_confusion_matrix\n",
        "from sklearn.metrics import confusion_matrix\n",
        "from sklearn.metrics import accuracy_score \n",
        "from sklearn.metrics import classification_report\n",
        "\n",
        "y_pred = model.predict_classes(X_test)\n",
        "mat = confusion_matrix(y_test, y_pred)\n",
        "print(confusion_matrix(y_test, y_pred))\n",
        "print(accuracy_score(y_test,y_pred))\n",
        "print(classification_report(y_test,y_pred))\n",
        "\n",
        "plot_confusion_matrix(conf_mat=mat, show_normed=True, figsize=(7,7))"
      ],
      "execution_count": 0,
      "outputs": [
        {
          "output_type": "stream",
          "text": [
            "[[3629   40   65   50   26   13]\n",
            " [  22 3842    5    1  568    0]\n",
            " [  19    1 3181  109    0   38]\n",
            " [  18    1  105 3626    0   18]\n",
            " [  31  710    5    0 3300    3]\n",
            " [   7    0  131   63    0 4499]]\n",
            "0.9150708778910719\n",
            "              precision    recall  f1-score   support\n",
            "\n",
            "           0       0.97      0.95      0.96      3823\n",
            "           1       0.84      0.87      0.85      4438\n",
            "           2       0.91      0.95      0.93      3348\n",
            "           3       0.94      0.96      0.95      3768\n",
            "           4       0.85      0.82      0.83      4049\n",
            "           5       0.98      0.96      0.97      4700\n",
            "\n",
            "    accuracy                           0.92     24126\n",
            "   macro avg       0.92      0.92      0.92     24126\n",
            "weighted avg       0.92      0.92      0.92     24126\n",
            "\n"
          ],
          "name": "stdout"
        },
        {
          "output_type": "execute_result",
          "data": {
            "text/plain": [
              "(<Figure size 504x504 with 1 Axes>,\n",
              " <matplotlib.axes._subplots.AxesSubplot at 0x7fad000837f0>)"
            ]
          },
          "metadata": {
            "tags": []
          },
          "execution_count": 31
        },
        {
          "output_type": "display_data",
          "data": {
            "image/png": "[encoded data removed]",
            "text/plain": [
              "<Figure size 504x504 with 1 Axes>"
            ]
          },
          "metadata": {
            "tags": []
          }
        }
      ]
    },
    {
      "cell_type": "code",
      "metadata": {
        "id": "RXjBJvwy5uiM",
        "colab_type": "code",
        "outputId": "ee3e2a53-15f3-49ad-810e-558646571091",
        "colab": {
          "base_uri": "https://localhost:8080/",
          "height": 1000
        }
      },
      "source": [
        "from mlxtend.plotting import plot_confusion_matrix\n",
        "from sklearn.metrics import confusion_matrix\n",
        "from sklearn.metrics import accuracy_score \n",
        "from sklearn.metrics import classification_report\n",
        "from keras.models import Sequential\n",
        "from keras.layers import Conv2D, MaxPooling2D, Flatten, Dense, Dropout\n",
        "from keras import optimizers\n",
        "\n",
        "fruits = [64,128,256,512,1024]\n",
        "for x in fruits:\n",
        "  print(x)\n",
        "\n",
        "  model = Sequential()\n",
        "  model.add(Conv2D(filters=64, kernel_size=(3,3), padding='same', activation='relu',input_shape=X_train[0].shape))\n",
        "  model.add(Dropout(0.3))\n",
        "  model.add(MaxPooling2D(pool_size=2))\n",
        "  model.add(Flatten())\n",
        "  model.add(Dense(1024, activation='relu'))\n",
        "  model.add(Dropout(0.5))\n",
        "  model.add(Dense(6, activation='softmax'))\n",
        "  model.summary()\n",
        "  sgd = optimizers.adam(lr=0.0001)\n",
        "  model.compile(loss='sparse_categorical_crossentropy', optimizer=sgd, metrics=['accuracy'])\n",
        "  history = model.fit(X_train, y_train, epochs =30, validation_data= (X_test, y_test),batch_size=x, verbose=1)  \n",
        "  y_pred = model.predict_classes(X_test)\n",
        "  mat = confusion_matrix(y_test, y_pred)\n",
        "  print(confusion_matrix(y_test, y_pred))\n",
        "  print(accuracy_score(y_test,y_pred))\n",
        "  print(classification_report(y_test,y_pred))\n",
        "\n"
      ],
      "execution_count": 0,
      "outputs": [
        {
          "output_type": "stream",
          "text": [
            "64\n",
            "Model: \"sequential_2\"\n",
            "_________________________________________________________________\n",
            "Layer (type)                 Output Shape              Param #   \n",
            "=================================================================\n",
            "conv2d_2 (Conv2D)            (None, 200, 3, 64)        640       \n",
            "_________________________________________________________________\n",
            "dropout_3 (Dropout)          (None, 200, 3, 64)        0         \n",
            "_________________________________________________________________\n",
            "max_pooling2d_2 (MaxPooling2 (None, 100, 1, 64)        0         \n",
            "_________________________________________________________________\n",
            "flatten_2 (Flatten)          (None, 6400)              0         \n",
            "_________________________________________________________________\n",
            "dense_3 (Dense)              (None, 1024)              6554624   \n",
            "_________________________________________________________________\n",
            "dropout_4 (Dropout)          (None, 1024)              0         \n",
            "_________________________________________________________________\n",
            "dense_4 (Dense)              (None, 6)                 6150      \n",
            "=================================================================\n",
            "Total params: 6,561,414\n",
            "Trainable params: 6,561,414\n",
            "Non-trainable params: 0\n",
            "_________________________________________________________________\n",
            "Train on 96503 samples, validate on 24126 samples\n",
            "Epoch 1/30\n",
            "96503/96503 [==============================] - 10s 103us/step - loss: 0.7021 - acc: 0.7031 - val_loss: 0.5188 - val_acc: 0.7981\n",
            "Epoch 2/30\n",
            "96503/96503 [==============================] - 9s 98us/step - loss: 0.4751 - acc: 0.8020 - val_loss: 0.4487 - val_acc: 0.8377\n",
            "Epoch 3/30\n",
            "96503/96503 [==============================] - 9s 98us/step - loss: 0.4184 - acc: 0.8287 - val_loss: 0.3964 - val_acc: 0.8502\n",
            "Epoch 4/30\n",
            "96503/96503 [==============================] - 9s 97us/step - loss: 0.3790 - acc: 0.8476 - val_loss: 0.3731 - val_acc: 0.8652\n",
            "Epoch 5/30\n",
            "96503/96503 [==============================] - 9s 98us/step - loss: 0.3557 - acc: 0.8567 - val_loss: 0.3632 - val_acc: 0.8684\n",
            "Epoch 6/30\n",
            "96503/96503 [==============================] - 9s 98us/step - loss: 0.3356 - acc: 0.8635 - val_loss: 0.3400 - val_acc: 0.8768\n",
            "Epoch 7/30\n",
            "96503/96503 [==============================] - 9s 98us/step - loss: 0.3200 - acc: 0.8702 - val_loss: 0.3337 - val_acc: 0.8798\n",
            "Epoch 8/30\n",
            "96503/96503 [==============================] - 9s 98us/step - loss: 0.3070 - acc: 0.8762 - val_loss: 0.3259 - val_acc: 0.8797\n",
            "Epoch 9/30\n",
            "96503/96503 [==============================] - 9s 98us/step - loss: 0.2948 - acc: 0.8802 - val_loss: 0.3146 - val_acc: 0.8866\n",
            "Epoch 10/30\n",
            "96503/96503 [==============================] - 10s 100us/step - loss: 0.2810 - acc: 0.8851 - val_loss: 0.3072 - val_acc: 0.8850\n",
            "Epoch 11/30\n",
            "96503/96503 [==============================] - 9s 98us/step - loss: 0.2735 - acc: 0.8886 - val_loss: 0.2981 - val_acc: 0.8952\n",
            "Epoch 12/30\n",
            "96503/96503 [==============================] - 9s 97us/step - loss: 0.2611 - acc: 0.8937 - val_loss: 0.2976 - val_acc: 0.8951\n",
            "Epoch 13/30\n",
            "96503/96503 [==============================] - 9s 98us/step - loss: 0.2553 - acc: 0.8962 - val_loss: 0.2920 - val_acc: 0.8946\n",
            "Epoch 14/30\n",
            "96503/96503 [==============================] - 9s 98us/step - loss: 0.2481 - acc: 0.8994 - val_loss: 0.2866 - val_acc: 0.8953\n",
            "Epoch 15/30\n",
            "96503/96503 [==============================] - 9s 97us/step - loss: 0.2401 - acc: 0.9019 - val_loss: 0.2796 - val_acc: 0.8982\n",
            "Epoch 16/30\n",
            "96503/96503 [==============================] - 9s 98us/step - loss: 0.2363 - acc: 0.9052 - val_loss: 0.2808 - val_acc: 0.9016\n",
            "Epoch 17/30\n",
            "96503/96503 [==============================] - 9s 97us/step - loss: 0.2289 - acc: 0.9077 - val_loss: 0.2772 - val_acc: 0.9031\n",
            "Epoch 18/30\n",
            "96503/96503 [==============================] - 9s 98us/step - loss: 0.2232 - acc: 0.9100 - val_loss: 0.2698 - val_acc: 0.9060\n",
            "Epoch 19/30\n",
            "96503/96503 [==============================] - 9s 98us/step - loss: 0.2187 - acc: 0.9122 - val_loss: 0.2688 - val_acc: 0.9056\n",
            "Epoch 20/30\n",
            "96503/96503 [==============================] - 9s 97us/step - loss: 0.2136 - acc: 0.9147 - val_loss: 0.2669 - val_acc: 0.9078\n",
            "Epoch 21/30\n",
            "96503/96503 [==============================] - 9s 98us/step - loss: 0.2097 - acc: 0.9154 - val_loss: 0.2597 - val_acc: 0.9076\n",
            "Epoch 22/30\n",
            "96503/96503 [==============================] - 9s 98us/step - loss: 0.2047 - acc: 0.9183 - val_loss: 0.2572 - val_acc: 0.9103\n",
            "Epoch 23/30\n",
            "96503/96503 [==============================] - 9s 98us/step - loss: 0.2007 - acc: 0.9198 - val_loss: 0.2651 - val_acc: 0.9067\n",
            "Epoch 24/30\n",
            "96503/96503 [==============================] - 9s 98us/step - loss: 0.1959 - acc: 0.9220 - val_loss: 0.2582 - val_acc: 0.9084\n",
            "Epoch 25/30\n",
            "96503/96503 [==============================] - 9s 97us/step - loss: 0.1927 - acc: 0.9225 - val_loss: 0.2570 - val_acc: 0.9118\n",
            "Epoch 26/30\n",
            "96503/96503 [==============================] - 9s 97us/step - loss: 0.1902 - acc: 0.9239 - val_loss: 0.2533 - val_acc: 0.9130\n",
            "Epoch 27/30\n",
            "96503/96503 [==============================] - 9s 98us/step - loss: 0.1856 - acc: 0.9260 - val_loss: 0.2586 - val_acc: 0.9110\n",
            "Epoch 28/30\n",
            "96503/96503 [==============================] - 9s 98us/step - loss: 0.1838 - acc: 0.9273 - val_loss: 0.2522 - val_acc: 0.9131\n",
            "Epoch 29/30\n",
            "96503/96503 [==============================] - 9s 97us/step - loss: 0.1798 - acc: 0.9286 - val_loss: 0.2540 - val_acc: 0.9132\n",
            "Epoch 30/30\n",
            "96503/96503 [==============================] - 9s 97us/step - loss: 0.1776 - acc: 0.9286 - val_loss: 0.2513 - val_acc: 0.9141\n",
            "[[3632   33   62   55   31   10]\n",
            " [  25 3571    2    1  839    0]\n",
            " [  22    2 3172  110    0   42]\n",
            " [  19    1   99 3623    0   26]\n",
            " [  35  483    4    3 3522    2]\n",
            " [   3    0  110   53    0 4534]]\n",
            "0.9141175495316256\n",
            "              precision    recall  f1-score   support\n",
            "\n",
            "           0       0.97      0.95      0.96      3823\n",
            "           1       0.87      0.80      0.84      4438\n",
            "           2       0.92      0.95      0.93      3348\n",
            "           3       0.94      0.96      0.95      3768\n",
            "           4       0.80      0.87      0.83      4049\n",
            "           5       0.98      0.96      0.97      4700\n",
            "\n",
            "    accuracy                           0.91     24126\n",
            "   macro avg       0.92      0.92      0.92     24126\n",
            "weighted avg       0.92      0.91      0.91     24126\n",
            "\n",
            "128\n",
            "Model: \"sequential_3\"\n",
            "_________________________________________________________________\n",
            "Layer (type)                 Output Shape              Param #   \n",
            "=================================================================\n",
            "conv2d_3 (Conv2D)            (None, 200, 3, 64)        640       \n",
            "_________________________________________________________________\n",
            "dropout_5 (Dropout)          (None, 200, 3, 64)        0         \n",
            "_________________________________________________________________\n",
            "max_pooling2d_3 (MaxPooling2 (None, 100, 1, 64)        0         \n",
            "_________________________________________________________________\n",
            "flatten_3 (Flatten)          (None, 6400)              0         \n",
            "_________________________________________________________________\n",
            "dense_5 (Dense)              (None, 1024)              6554624   \n",
            "_________________________________________________________________\n",
            "dropout_6 (Dropout)          (None, 1024)              0         \n",
            "_________________________________________________________________\n",
            "dense_6 (Dense)              (None, 6)                 6150      \n",
            "=================================================================\n",
            "Total params: 6,561,414\n",
            "Trainable params: 6,561,414\n",
            "Non-trainable params: 0\n",
            "_________________________________________________________________\n",
            "Train on 96503 samples, validate on 24126 samples\n",
            "Epoch 1/30\n",
            "96503/96503 [==============================] - 7s 67us/step - loss: 0.7758 - acc: 0.6785 - val_loss: 0.5692 - val_acc: 0.7786\n",
            "Epoch 2/30\n",
            "96503/96503 [==============================] - 6s 60us/step - loss: 0.5066 - acc: 0.7821 - val_loss: 0.4818 - val_acc: 0.8129\n",
            "Epoch 3/30\n",
            "96503/96503 [==============================] - 6s 60us/step - loss: 0.4456 - acc: 0.8140 - val_loss: 0.4356 - val_acc: 0.8302\n",
            "Epoch 4/30\n",
            "96503/96503 [==============================] - 6s 59us/step - loss: 0.4066 - acc: 0.8329 - val_loss: 0.4074 - val_acc: 0.8548\n",
            "Epoch 5/30\n",
            "96503/96503 [==============================] - 6s 60us/step - loss: 0.3770 - acc: 0.8461 - val_loss: 0.3802 - val_acc: 0.8590\n",
            "Epoch 6/30\n",
            "96503/96503 [==============================] - 6s 60us/step - loss: 0.3553 - acc: 0.8551 - val_loss: 0.3649 - val_acc: 0.8652\n",
            "Epoch 7/30\n",
            "96503/96503 [==============================] - 6s 60us/step - loss: 0.3406 - acc: 0.8615 - val_loss: 0.3510 - val_acc: 0.8718\n",
            "Epoch 8/30\n",
            "96503/96503 [==============================] - 6s 60us/step - loss: 0.3256 - acc: 0.8669 - val_loss: 0.3423 - val_acc: 0.8763\n",
            "Epoch 9/30\n",
            "96503/96503 [==============================] - 6s 60us/step - loss: 0.3122 - acc: 0.8721 - val_loss: 0.3380 - val_acc: 0.8772\n",
            "Epoch 10/30\n",
            "96503/96503 [==============================] - 6s 60us/step - loss: 0.3026 - acc: 0.8773 - val_loss: 0.3270 - val_acc: 0.8850\n",
            "Epoch 11/30\n",
            "96503/96503 [==============================] - 6s 60us/step - loss: 0.2901 - acc: 0.8815 - val_loss: 0.3109 - val_acc: 0.8854\n",
            "Epoch 12/30\n",
            "96503/96503 [==============================] - 6s 60us/step - loss: 0.2830 - acc: 0.8844 - val_loss: 0.3105 - val_acc: 0.8880\n",
            "Epoch 13/30\n",
            "96503/96503 [==============================] - 6s 66us/step - loss: 0.2729 - acc: 0.8887 - val_loss: 0.3035 - val_acc: 0.8869\n",
            "Epoch 14/30\n",
            "96503/96503 [==============================] - 6s 65us/step - loss: 0.2652 - acc: 0.8910 - val_loss: 0.3096 - val_acc: 0.8861\n",
            "Epoch 15/30\n",
            "96503/96503 [==============================] - 6s 66us/step - loss: 0.2599 - acc: 0.8935 - val_loss: 0.3001 - val_acc: 0.8930\n",
            "Epoch 16/30\n",
            "96503/96503 [==============================] - 6s 65us/step - loss: 0.2517 - acc: 0.8982 - val_loss: 0.2944 - val_acc: 0.8917\n",
            "Epoch 17/30\n",
            "96503/96503 [==============================] - 6s 65us/step - loss: 0.2477 - acc: 0.8996 - val_loss: 0.2875 - val_acc: 0.8961\n",
            "Epoch 18/30\n",
            "96503/96503 [==============================] - 6s 59us/step - loss: 0.2417 - acc: 0.9017 - val_loss: 0.2836 - val_acc: 0.8978\n",
            "Epoch 19/30\n",
            "96503/96503 [==============================] - 6s 60us/step - loss: 0.2349 - acc: 0.9038 - val_loss: 0.2814 - val_acc: 0.9004\n",
            "Epoch 20/30\n",
            "96503/96503 [==============================] - 6s 61us/step - loss: 0.2296 - acc: 0.9055 - val_loss: 0.2752 - val_acc: 0.9010\n",
            "Epoch 21/30\n",
            "96503/96503 [==============================] - 6s 62us/step - loss: 0.2246 - acc: 0.9082 - val_loss: 0.2734 - val_acc: 0.9040\n",
            "Epoch 22/30\n",
            "96503/96503 [==============================] - 6s 60us/step - loss: 0.2203 - acc: 0.9099 - val_loss: 0.2766 - val_acc: 0.9055\n",
            "Epoch 23/30\n",
            "96503/96503 [==============================] - 6s 61us/step - loss: 0.2167 - acc: 0.9125 - val_loss: 0.2654 - val_acc: 0.9065\n",
            "Epoch 24/30\n",
            "96503/96503 [==============================] - 6s 65us/step - loss: 0.2128 - acc: 0.9135 - val_loss: 0.2689 - val_acc: 0.9041\n",
            "Epoch 25/30\n",
            "96503/96503 [==============================] - 6s 66us/step - loss: 0.2082 - acc: 0.9154 - val_loss: 0.2743 - val_acc: 0.9076\n",
            "Epoch 26/30\n",
            "96503/96503 [==============================] - 6s 65us/step - loss: 0.2054 - acc: 0.9177 - val_loss: 0.2713 - val_acc: 0.9040\n",
            "Epoch 27/30\n",
            "96503/96503 [==============================] - 6s 65us/step - loss: 0.2007 - acc: 0.9184 - val_loss: 0.2645 - val_acc: 0.9064\n",
            "Epoch 28/30\n",
            "96503/96503 [==============================] - 6s 65us/step - loss: 0.1987 - acc: 0.9207 - val_loss: 0.2629 - val_acc: 0.9084\n",
            "Epoch 29/30\n",
            "96503/96503 [==============================] - 6s 65us/step - loss: 0.1936 - acc: 0.9218 - val_loss: 0.2599 - val_acc: 0.9095\n",
            "Epoch 30/30\n",
            "96503/96503 [==============================] - 6s 65us/step - loss: 0.1910 - acc: 0.9235 - val_loss: 0.2640 - val_acc: 0.9107\n",
            "[[3584   42   77   81   28   11]\n",
            " [  24 3762    2    1  648    1]\n",
            " [  17    2 3165  119    1   44]\n",
            " [  14    1   93 3638    1   21]\n",
            " [  29  716    3    0 3299    2]\n",
            " [   5    0  120   51    0 4524]]\n",
            "0.9107187266849043\n",
            "              precision    recall  f1-score   support\n",
            "\n",
            "           0       0.98      0.94      0.96      3823\n",
            "           1       0.83      0.85      0.84      4438\n",
            "           2       0.91      0.95      0.93      3348\n",
            "           3       0.94      0.97      0.95      3768\n",
            "           4       0.83      0.81      0.82      4049\n",
            "           5       0.98      0.96      0.97      4700\n",
            "\n",
            "    accuracy                           0.91     24126\n",
            "   macro avg       0.91      0.91      0.91     24126\n",
            "weighted avg       0.91      0.91      0.91     24126\n",
            "\n",
            "256\n",
            "Model: \"sequential_4\"\n",
            "_________________________________________________________________\n",
            "Layer (type)                 Output Shape              Param #   \n",
            "=================================================================\n",
            "conv2d_4 (Conv2D)            (None, 200, 3, 64)        640       \n",
            "_________________________________________________________________\n",
            "dropout_7 (Dropout)          (None, 200, 3, 64)        0         \n",
            "_________________________________________________________________\n",
            "max_pooling2d_4 (MaxPooling2 (None, 100, 1, 64)        0         \n",
            "_________________________________________________________________\n",
            "flatten_4 (Flatten)          (None, 6400)              0         \n",
            "_________________________________________________________________\n",
            "dense_7 (Dense)              (None, 1024)              6554624   \n",
            "_________________________________________________________________\n",
            "dropout_8 (Dropout)          (None, 1024)              0         \n",
            "_________________________________________________________________\n",
            "dense_8 (Dense)              (None, 6)                 6150      \n",
            "=================================================================\n",
            "Total params: 6,561,414\n",
            "Trainable params: 6,561,414\n",
            "Non-trainable params: 0\n",
            "_________________________________________________________________\n",
            "Train on 96503 samples, validate on 24126 samples\n",
            "Epoch 1/30\n",
            "96503/96503 [==============================] - 5s 51us/step - loss: 0.8823 - acc: 0.6455 - val_loss: 0.6190 - val_acc: 0.7571\n",
            "Epoch 2/30\n",
            "96503/96503 [==============================] - 4s 44us/step - loss: 0.5396 - acc: 0.7646 - val_loss: 0.5169 - val_acc: 0.7970\n",
            "Epoch 3/30\n",
            "96503/96503 [==============================] - 4s 44us/step - loss: 0.4728 - acc: 0.7985 - val_loss: 0.4634 - val_acc: 0.8303\n",
            "Epoch 4/30\n",
            "96503/96503 [==============================] - 4s 43us/step - loss: 0.4341 - acc: 0.8189 - val_loss: 0.4295 - val_acc: 0.8354\n",
            "Epoch 5/30\n",
            "96503/96503 [==============================] - 4s 43us/step - loss: 0.4043 - acc: 0.8315 - val_loss: 0.4129 - val_acc: 0.8459\n",
            "Epoch 6/30\n",
            "96503/96503 [==============================] - 4s 44us/step - loss: 0.3808 - acc: 0.8439 - val_loss: 0.3919 - val_acc: 0.8597\n",
            "Epoch 7/30\n",
            "96503/96503 [==============================] - 4s 43us/step - loss: 0.3631 - acc: 0.8521 - val_loss: 0.3763 - val_acc: 0.8594\n",
            "Epoch 8/30\n",
            "96503/96503 [==============================] - 4s 43us/step - loss: 0.3486 - acc: 0.8579 - val_loss: 0.3670 - val_acc: 0.8625\n",
            "Epoch 9/30\n",
            "96503/96503 [==============================] - 4s 44us/step - loss: 0.3340 - acc: 0.8628 - val_loss: 0.3547 - val_acc: 0.8686\n",
            "Epoch 10/30\n",
            "96503/96503 [==============================] - 4s 43us/step - loss: 0.3223 - acc: 0.8679 - val_loss: 0.3410 - val_acc: 0.8712\n",
            "Epoch 11/30\n",
            "96503/96503 [==============================] - 4s 44us/step - loss: 0.3133 - acc: 0.8717 - val_loss: 0.3335 - val_acc: 0.8782\n",
            "Epoch 12/30\n",
            "96503/96503 [==============================] - 4s 44us/step - loss: 0.3033 - acc: 0.8759 - val_loss: 0.3300 - val_acc: 0.8775\n",
            "Epoch 13/30\n",
            "96503/96503 [==============================] - 4s 44us/step - loss: 0.2937 - acc: 0.8804 - val_loss: 0.3253 - val_acc: 0.8814\n",
            "Epoch 14/30\n",
            "96503/96503 [==============================] - 4s 44us/step - loss: 0.2879 - acc: 0.8827 - val_loss: 0.3180 - val_acc: 0.8838\n",
            "Epoch 15/30\n",
            "96503/96503 [==============================] - 4s 43us/step - loss: 0.2803 - acc: 0.8852 - val_loss: 0.3170 - val_acc: 0.8858\n",
            "Epoch 16/30\n",
            "96503/96503 [==============================] - 4s 43us/step - loss: 0.2743 - acc: 0.8874 - val_loss: 0.3099 - val_acc: 0.8860\n",
            "Epoch 17/30\n",
            "96503/96503 [==============================] - 4s 44us/step - loss: 0.2674 - acc: 0.8910 - val_loss: 0.3051 - val_acc: 0.8935\n",
            "Epoch 18/30\n",
            "96503/96503 [==============================] - 4s 43us/step - loss: 0.2597 - acc: 0.8935 - val_loss: 0.2990 - val_acc: 0.8919\n",
            "Epoch 19/30\n",
            "96503/96503 [==============================] - 4s 43us/step - loss: 0.2548 - acc: 0.8953 - val_loss: 0.3019 - val_acc: 0.8907\n",
            "Epoch 20/30\n",
            "96503/96503 [==============================] - 4s 43us/step - loss: 0.2514 - acc: 0.8969 - val_loss: 0.2965 - val_acc: 0.8949\n",
            "Epoch 21/30\n",
            "96503/96503 [==============================] - 4s 44us/step - loss: 0.2466 - acc: 0.8989 - val_loss: 0.2938 - val_acc: 0.8943\n",
            "Epoch 22/30\n",
            "96503/96503 [==============================] - 4s 43us/step - loss: 0.2391 - acc: 0.9019 - val_loss: 0.2882 - val_acc: 0.8977\n",
            "Epoch 23/30\n",
            "96503/96503 [==============================] - 4s 44us/step - loss: 0.2363 - acc: 0.9040 - val_loss: 0.2863 - val_acc: 0.8980\n",
            "Epoch 24/30\n",
            "96503/96503 [==============================] - 4s 44us/step - loss: 0.2301 - acc: 0.9054 - val_loss: 0.2837 - val_acc: 0.8968\n",
            "Epoch 25/30\n",
            "96503/96503 [==============================] - 4s 43us/step - loss: 0.2277 - acc: 0.9066 - val_loss: 0.2819 - val_acc: 0.9003\n",
            "Epoch 26/30\n",
            "96503/96503 [==============================] - 4s 43us/step - loss: 0.2244 - acc: 0.9082 - val_loss: 0.2777 - val_acc: 0.9018\n",
            "Epoch 27/30\n",
            "96503/96503 [==============================] - 4s 43us/step - loss: 0.2184 - acc: 0.9109 - val_loss: 0.2828 - val_acc: 0.8976\n",
            "Epoch 28/30\n",
            "96503/96503 [==============================] - 4s 44us/step - loss: 0.2150 - acc: 0.9128 - val_loss: 0.2739 - val_acc: 0.9035\n",
            "Epoch 29/30\n",
            "96503/96503 [==============================] - 4s 43us/step - loss: 0.2133 - acc: 0.9131 - val_loss: 0.2755 - val_acc: 0.9022\n",
            "Epoch 30/30\n",
            "96503/96503 [==============================] - 4s 43us/step - loss: 0.2108 - acc: 0.9147 - val_loss: 0.2739 - val_acc: 0.9043\n",
            "[[3621   42   68   49   26   17]\n",
            " [  30 3779    4    0  624    1]\n",
            " [  23    1 3173  116    1   34]\n",
            " [  29    1   89 3629    0   20]\n",
            " [  38  894    5    0 3109    3]\n",
            " [   8    0  128   58    0 4506]]\n",
            "0.9042941225234187\n",
            "              precision    recall  f1-score   support\n",
            "\n",
            "           0       0.97      0.95      0.96      3823\n",
            "           1       0.80      0.85      0.83      4438\n",
            "           2       0.92      0.95      0.93      3348\n",
            "           3       0.94      0.96      0.95      3768\n",
            "           4       0.83      0.77      0.80      4049\n",
            "           5       0.98      0.96      0.97      4700\n",
            "\n",
            "    accuracy                           0.90     24126\n",
            "   macro avg       0.91      0.91      0.91     24126\n",
            "weighted avg       0.90      0.90      0.90     24126\n",
            "\n",
            "512\n",
            "Model: \"sequential_5\"\n",
            "_________________________________________________________________\n",
            "Layer (type)                 Output Shape              Param #   \n",
            "=================================================================\n",
            "conv2d_5 (Conv2D)            (None, 200, 3, 64)        640       \n",
            "_________________________________________________________________\n",
            "dropout_9 (Dropout)          (None, 200, 3, 64)        0         \n",
            "_________________________________________________________________\n",
            "max_pooling2d_5 (MaxPooling2 (None, 100, 1, 64)        0         \n",
            "_________________________________________________________________\n",
            "flatten_5 (Flatten)          (None, 6400)              0         \n",
            "_________________________________________________________________\n",
            "dense_9 (Dense)              (None, 1024)              6554624   \n",
            "_________________________________________________________________\n",
            "dropout_10 (Dropout)         (None, 1024)              0         \n",
            "_________________________________________________________________\n",
            "dense_10 (Dense)             (None, 6)                 6150      \n",
            "=================================================================\n",
            "Total params: 6,561,414\n",
            "Trainable params: 6,561,414\n",
            "Non-trainable params: 0\n",
            "_________________________________________________________________\n",
            "Train on 96503 samples, validate on 24126 samples\n",
            "Epoch 1/30\n",
            "96503/96503 [==============================] - 4s 40us/step - loss: 1.0467 - acc: 0.6026 - val_loss: 0.7237 - val_acc: 0.7336\n",
            "Epoch 2/30\n",
            "96503/96503 [==============================] - 3s 32us/step - loss: 0.5982 - acc: 0.7410 - val_loss: 0.5653 - val_acc: 0.7822\n",
            "Epoch 3/30\n",
            " 4608/96503 [>.............................] - ETA: 2s - loss: 0.5428 - acc: 0.7613"
          ],
          "name": "stdout"
        }
      ]
    },
    {
      "cell_type": "code",
      "metadata": {
        "id": "GO95nZfz52IF",
        "colab_type": "code",
        "colab": {}
      },
      "source": [
        "from mlxtend.plotting import plot_confusion_matrix\n",
        "from sklearn.metrics import confusion_matrix\n",
        "from sklearn.metrics import accuracy_score \n",
        "from sklearn.metrics import classification_report\n",
        "from keras.models import Sequential\n",
        "from keras.layers import Conv2D, MaxPooling2D, Flatten, Dense, Dropout\n",
        "from keras import optimizers\n",
        "\n",
        "fruits = [0.0001,0.001,0.01,0.1,1.0]\n",
        "for x in fruits:\n",
        "  print(x)\n",
        "  model = Sequential()\n",
        "  model.add(Conv2D(filters=64, kernel_size=(3,3), padding='same', activation='relu',input_shape=X_train[0].shape))\n",
        "  model.add(Dropout(0.3))\n",
        "  model.add(MaxPooling2D(pool_size=2))\n",
        "  model.add(Flatten())\n",
        "  model.add(Dense(1024, activation='relu'))\n",
        "  model.add(Dropout(0.5))\n",
        "  model.add(Dense(6, activation='softmax'))\n",
        "  model.summary() \n",
        "  sgd = optimizers.adam(lr=x)\n",
        "  model.compile(loss='sparse_categorical_crossentropy', optimizer=sgd, metrics=['accuracy'])\n",
        "  history = model.fit(X_train, y_train, epochs =30, validation_data= (X_test, y_test),batch_size=64, verbose=1)  \n",
        "  y_pred = model.predict_classes(X_test)\n",
        "  mat = confusion_matrix(y_test, y_pred)\n",
        "  print(confusion_matrix(y_test, y_pred))\n",
        "  print(accuracy_score(y_test,y_pred))\n",
        "  print(classification_report(y_test,y_pred))"
      ],
      "execution_count": 0,
      "outputs": []
    }
  ]
}