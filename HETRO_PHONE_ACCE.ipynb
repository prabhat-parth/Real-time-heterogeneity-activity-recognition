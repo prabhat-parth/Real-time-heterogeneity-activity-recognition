{
  "nbformat": 4,
  "nbformat_minor": 0,
  "metadata": {
    "colab": {
      "name": "HETRO_PHONE_ACCE.ipynb",
      "provenance": [],
      "collapsed_sections": [],
      "machine_shape": "hm",
      "mount_file_id": "1Y7tb9NxJDtKsL1o823GvycTcm778qdbA",
      "authorship_tag": "ABX9TyP5oz79+HnHZD+/36MFvjDU",
      "include_colab_link": true
    },
    "kernelspec": {
      "name": "python3",
      "display_name": "Python 3"
    },
    "accelerator": "GPU"
  },
  "cells": [
    {
      "cell_type": "markdown",
      "metadata": {
        "id": "view-in-github",
        "colab_type": "text"
      },
      "source": [
        "<a href=\"https://colab.research.google.com/github/prabhat-parth/Real-time-heterogeneity-activity-recognition/blob/master/HETRO_PHONE_ACCE.ipynb\" target=\"_parent\"><img src=\"https://colab.research.google.com/assets/colab-badge.svg\" alt=\"Open In Colab\"/></a>"
      ]
    },
    {
      "cell_type": "code",
      "metadata": {
        "id": "pvyI9QVHT17j",
        "colab_type": "code",
        "outputId": "ff874730-a3c7-47b4-96c3-12d2e42ee291",
        "colab": {
          "base_uri": "https://localhost:8080/",
          "height": 836
        }
      },
      "source": [
        "!pip install tensorflow==1.15.0"
      ],
      "execution_count": 1,
      "outputs": [
        {
          "output_type": "stream",
          "text": [
            "Collecting tensorflow==1.15.0\n",
            "\u001b[?25l  Downloading https://files.pythonhosted.org/packages/3f/98/5a99af92fb911d7a88a0005ad55005f35b4c1ba8d75fba02df726cd936e6/tensorflow-1.15.0-cp36-cp36m-manylinux2010_x86_64.whl (412.3MB)\n",
            "\u001b[K     |████████████████████████████████| 412.3MB 38kB/s \n",
            "\u001b[?25hRequirement already satisfied: protobuf>=3.6.1 in /usr/local/lib/python3.6/dist-packages (from tensorflow==1.15.0) (3.10.0)\n",
            "Collecting tensorflow-estimator==1.15.1\n",
            "\u001b[?25l  Downloading https://files.pythonhosted.org/packages/de/62/2ee9cd74c9fa2fa450877847ba560b260f5d0fb70ee0595203082dafcc9d/tensorflow_estimator-1.15.1-py2.py3-none-any.whl (503kB)\n",
            "\u001b[K     |████████████████████████████████| 512kB 38.7MB/s \n",
            "\u001b[?25hCollecting tensorboard<1.16.0,>=1.15.0\n",
            "\u001b[?25l  Downloading https://files.pythonhosted.org/packages/1e/e9/d3d747a97f7188f48aa5eda486907f3b345cd409f0a0850468ba867db246/tensorboard-1.15.0-py3-none-any.whl (3.8MB)\n",
            "\u001b[K     |████████████████████████████████| 3.8MB 41.4MB/s \n",
            "\u001b[?25hRequirement already satisfied: keras-applications>=1.0.8 in /usr/local/lib/python3.6/dist-packages (from tensorflow==1.15.0) (1.0.8)\n",
            "Requirement already satisfied: grpcio>=1.8.6 in /usr/local/lib/python3.6/dist-packages (from tensorflow==1.15.0) (1.28.1)\n",
            "Requirement already satisfied: wrapt>=1.11.1 in /usr/local/lib/python3.6/dist-packages (from tensorflow==1.15.0) (1.12.1)\n",
            "Requirement already satisfied: keras-preprocessing>=1.0.5 in /usr/local/lib/python3.6/dist-packages (from tensorflow==1.15.0) (1.1.0)\n",
            "Requirement already satisfied: numpy<2.0,>=1.16.0 in /usr/local/lib/python3.6/dist-packages (from tensorflow==1.15.0) (1.18.2)\n",
            "Requirement already satisfied: termcolor>=1.1.0 in /usr/local/lib/python3.6/dist-packages (from tensorflow==1.15.0) (1.1.0)\n",
            "Requirement already satisfied: six>=1.10.0 in /usr/local/lib/python3.6/dist-packages (from tensorflow==1.15.0) (1.12.0)\n",
            "Requirement already satisfied: astor>=0.6.0 in /usr/local/lib/python3.6/dist-packages (from tensorflow==1.15.0) (0.8.1)\n",
            "Requirement already satisfied: google-pasta>=0.1.6 in /usr/local/lib/python3.6/dist-packages (from tensorflow==1.15.0) (0.2.0)\n",
            "Requirement already satisfied: absl-py>=0.7.0 in /usr/local/lib/python3.6/dist-packages (from tensorflow==1.15.0) (0.9.0)\n",
            "Collecting gast==0.2.2\n",
            "  Downloading https://files.pythonhosted.org/packages/4e/35/11749bf99b2d4e3cceb4d55ca22590b0d7c2c62b9de38ac4a4a7f4687421/gast-0.2.2.tar.gz\n",
            "Requirement already satisfied: wheel>=0.26 in /usr/local/lib/python3.6/dist-packages (from tensorflow==1.15.0) (0.34.2)\n",
            "Requirement already satisfied: opt-einsum>=2.3.2 in /usr/local/lib/python3.6/dist-packages (from tensorflow==1.15.0) (3.2.0)\n",
            "Requirement already satisfied: setuptools in /usr/local/lib/python3.6/dist-packages (from protobuf>=3.6.1->tensorflow==1.15.0) (46.1.3)\n",
            "Requirement already satisfied: markdown>=2.6.8 in /usr/local/lib/python3.6/dist-packages (from tensorboard<1.16.0,>=1.15.0->tensorflow==1.15.0) (3.2.1)\n",
            "Requirement already satisfied: werkzeug>=0.11.15 in /usr/local/lib/python3.6/dist-packages (from tensorboard<1.16.0,>=1.15.0->tensorflow==1.15.0) (1.0.1)\n",
            "Requirement already satisfied: h5py in /usr/local/lib/python3.6/dist-packages (from keras-applications>=1.0.8->tensorflow==1.15.0) (2.10.0)\n",
            "Building wheels for collected packages: gast\n",
            "  Building wheel for gast (setup.py) ... \u001b[?25l\u001b[?25hdone\n",
            "  Created wheel for gast: filename=gast-0.2.2-cp36-none-any.whl size=7540 sha256=73a4ae16555d071fc574518babd0b8c24e51922738c927f5e3b1975c338ca1a3\n",
            "  Stored in directory: /root/.cache/pip/wheels/5c/2e/7e/a1d4d4fcebe6c381f378ce7743a3ced3699feb89bcfbdadadd\n",
            "Successfully built gast\n",
            "Installing collected packages: tensorflow-estimator, tensorboard, gast, tensorflow\n",
            "  Found existing installation: tensorflow-estimator 2.2.0rc0\n",
            "    Uninstalling tensorflow-estimator-2.2.0rc0:\n",
            "      Successfully uninstalled tensorflow-estimator-2.2.0rc0\n",
            "  Found existing installation: tensorboard 2.2.0\n",
            "    Uninstalling tensorboard-2.2.0:\n",
            "      Successfully uninstalled tensorboard-2.2.0\n",
            "  Found existing installation: gast 0.3.3\n",
            "    Uninstalling gast-0.3.3:\n",
            "      Successfully uninstalled gast-0.3.3\n",
            "  Found existing installation: tensorflow 2.2.0rc3\n",
            "    Uninstalling tensorflow-2.2.0rc3:\n",
            "      Successfully uninstalled tensorflow-2.2.0rc3\n",
            "Successfully installed gast-0.2.2 tensorboard-1.15.0 tensorflow-1.15.0 tensorflow-estimator-1.15.1\n"
          ],
          "name": "stdout"
        }
      ]
    },
    {
      "cell_type": "code",
      "metadata": {
        "id": "UykIFrGJUCu8",
        "colab_type": "code",
        "outputId": "6fec70dd-62c3-4dd5-e076-f024ef5cfd44",
        "colab": {
          "base_uri": "https://localhost:8080/",
          "height": 134
        }
      },
      "source": [
        "import tensorflow as tf\n",
        "from tensorflow.keras import Sequential\n",
        "from tensorflow.keras.layers import Flatten, Dense, Dropout, BatchNormalization\n",
        "from tensorflow.keras.layers import Conv2D, MaxPool2D\n",
        "from tensorflow.keras.optimizers import Adam\n",
        "print(tf.__version__)\n",
        "import pandas as pd\n",
        "import numpy as np\n",
        "import matplotlib.pyplot as plt\n",
        "from sklearn.model_selection import train_test_split\n",
        "from sklearn.preprocessing import StandardScaler, LabelEncoder\n",
        "import pandas as pd\n",
        "import numpy as np\n",
        "import pickle\n",
        "import matplotlib.pyplot as plt\n",
        "from scipy import stats\n",
        "import tensorflow as tf\n",
        "import seaborn as sns\n",
        "from pylab import rcParams\n",
        "from sklearn import metrics\n",
        "from sklearn.model_selection import train_test_split"
      ],
      "execution_count": 2,
      "outputs": [
        {
          "output_type": "display_data",
          "data": {
            "text/html": [
              "<p style=\"color: red;\">\n",
              "The default version of TensorFlow in Colab will switch to TensorFlow 2.x on the 27th of March, 2020.<br>\n",
              "We recommend you <a href=\"https://www.tensorflow.org/guide/migrate\" target=\"_blank\">upgrade</a> now\n",
              "or ensure your notebook will continue to use TensorFlow 1.x via the <code>%tensorflow_version 1.x</code> magic:\n",
              "<a href=\"https://colab.research.google.com/notebooks/tensorflow_version.ipynb\" target=\"_blank\">more info</a>.</p>\n"
            ],
            "text/plain": [
              "<IPython.core.display.HTML object>"
            ]
          },
          "metadata": {
            "tags": []
          }
        },
        {
          "output_type": "stream",
          "text": [
            "1.15.0\n"
          ],
          "name": "stdout"
        },
        {
          "output_type": "stream",
          "text": [
            "/usr/local/lib/python3.6/dist-packages/statsmodels/tools/_testing.py:19: FutureWarning: pandas.util.testing is deprecated. Use the functions in the public API at pandas.testing instead.\n",
            "  import pandas.util.testing as tm\n"
          ],
          "name": "stderr"
        }
      ]
    },
    {
      "cell_type": "code",
      "metadata": {
        "id": "ZRSexPxlOr_t",
        "colab_type": "code",
        "outputId": "7777cdec-5213-4efd-fd60-163e7f7a8d5c",
        "colab": {
          "base_uri": "https://localhost:8080/",
          "height": 34
        }
      },
      "source": [
        "import numpy as np\n",
        "import pandas as pd\n",
        "data = pd.read_csv(\"/content/drive/My Drive/HETRO_DATA/Activity recognition exp/Activity recognition exp/Phones_accelerometer.csv\")\n",
        "data.head()\n",
        "data.shape\n"
      ],
      "execution_count": 3,
      "outputs": [
        {
          "output_type": "execute_result",
          "data": {
            "text/plain": [
              "(13062475, 10)"
            ]
          },
          "metadata": {
            "tags": []
          },
          "execution_count": 3
        }
      ]
    },
    {
      "cell_type": "code",
      "metadata": {
        "id": "3HwiYzUkPnRN",
        "colab_type": "code",
        "outputId": "7ec0d7fa-d58b-464f-e74a-b15b983f8f7c",
        "colab": {
          "base_uri": "https://localhost:8080/",
          "height": 34
        }
      },
      "source": [
        "#Check for Duplicates\n",
        "print('No of duplicates in DATA: {}'.format(sum(data.duplicated())))\n"
      ],
      "execution_count": 4,
      "outputs": [
        {
          "output_type": "stream",
          "text": [
            "No of duplicates in DATA: 0\n"
          ],
          "name": "stdout"
        }
      ]
    },
    {
      "cell_type": "code",
      "metadata": {
        "id": "oratZmabQHat",
        "colab_type": "code",
        "outputId": "cbb49890-e1fa-4713-b7cc-e083d6a988ad",
        "colab": {
          "base_uri": "https://localhost:8080/",
          "height": 34
        }
      },
      "source": [
        "#Checking for NaN/null values\n",
        "print('We have {} NaN/Null values in data'.format(data.isnull().values.sum()))"
      ],
      "execution_count": 5,
      "outputs": [
        {
          "output_type": "stream",
          "text": [
            "We have 1783200 NaN/Null values in data\n"
          ],
          "name": "stdout"
        }
      ]
    },
    {
      "cell_type": "code",
      "metadata": {
        "colab_type": "code",
        "id": "97Hzdh7SSYch",
        "colab": {}
      },
      "source": [
        "#sns.heatmap(data.isnull(), cbar=False)"
      ],
      "execution_count": 0,
      "outputs": []
    },
    {
      "cell_type": "code",
      "metadata": {
        "id": "gv9vr8XJRtJe",
        "colab_type": "code",
        "colab": {}
      },
      "source": [
        "data.dropna(axis=0, how='any', thresh=None, subset=None, inplace= True)"
      ],
      "execution_count": 0,
      "outputs": []
    },
    {
      "cell_type": "code",
      "metadata": {
        "id": "2HaYimWq7u2b",
        "colab_type": "code",
        "colab": {}
      },
      "source": [
        "#sns.heatmap(data.isnull(), cbar=False)"
      ],
      "execution_count": 0,
      "outputs": []
    },
    {
      "cell_type": "code",
      "metadata": {
        "colab_type": "code",
        "id": "dQcmi0pvS5Rl",
        "outputId": "a1c4fa99-3cc1-4f57-eb3e-9b53c877743a",
        "colab": {
          "base_uri": "https://localhost:8080/",
          "height": 51
        }
      },
      "source": [
        "#Checking for NaN/null values\n",
        "print('We have {} NaN/Null values in data'.format(data.isnull().values.sum()))\n",
        "data.shape"
      ],
      "execution_count": 9,
      "outputs": [
        {
          "output_type": "stream",
          "text": [
            "We have 0 NaN/Null values in data\n"
          ],
          "name": "stdout"
        },
        {
          "output_type": "execute_result",
          "data": {
            "text/plain": [
              "(11279275, 10)"
            ]
          },
          "metadata": {
            "tags": []
          },
          "execution_count": 9
        }
      ]
    },
    {
      "cell_type": "code",
      "metadata": {
        "id": "2pF22Xd6knnC",
        "colab_type": "code",
        "outputId": "958e6a4c-9437-4330-ddd7-33de286b9eff",
        "colab": {
          "base_uri": "https://localhost:8080/",
          "height": 34
        }
      },
      "source": [
        "#data = data.drop(['Arrival_Time'], axis = 1).copy()\n",
        "data.shape"
      ],
      "execution_count": 10,
      "outputs": [
        {
          "output_type": "execute_result",
          "data": {
            "text/plain": [
              "(11279275, 10)"
            ]
          },
          "metadata": {
            "tags": []
          },
          "execution_count": 10
        }
      ]
    },
    {
      "cell_type": "code",
      "metadata": {
        "id": "VcNHiyd0JldN",
        "colab_type": "code",
        "outputId": "3bb955b4-b90d-4ab6-c78a-d35b645c77d6",
        "colab": {
          "base_uri": "https://localhost:8080/",
          "height": 204
        }
      },
      "source": [
        "data.head()"
      ],
      "execution_count": 11,
      "outputs": [
        {
          "output_type": "execute_result",
          "data": {
            "text/html": [
              "<div>\n",
              "<style scoped>\n",
              "    .dataframe tbody tr th:only-of-type {\n",
              "        vertical-align: middle;\n",
              "    }\n",
              "\n",
              "    .dataframe tbody tr th {\n",
              "        vertical-align: top;\n",
              "    }\n",
              "\n",
              "    .dataframe thead th {\n",
              "        text-align: right;\n",
              "    }\n",
              "</style>\n",
              "<table border=\"1\" class=\"dataframe\">\n",
              "  <thead>\n",
              "    <tr style=\"text-align: right;\">\n",
              "      <th></th>\n",
              "      <th>Index</th>\n",
              "      <th>Arrival_Time</th>\n",
              "      <th>Creation_Time</th>\n",
              "      <th>x</th>\n",
              "      <th>y</th>\n",
              "      <th>z</th>\n",
              "      <th>User</th>\n",
              "      <th>Model</th>\n",
              "      <th>Device</th>\n",
              "      <th>gt</th>\n",
              "    </tr>\n",
              "  </thead>\n",
              "  <tbody>\n",
              "    <tr>\n",
              "      <th>0</th>\n",
              "      <td>0</td>\n",
              "      <td>1424696633908</td>\n",
              "      <td>1424696631913248572</td>\n",
              "      <td>-5.958191</td>\n",
              "      <td>0.688065</td>\n",
              "      <td>8.135345</td>\n",
              "      <td>a</td>\n",
              "      <td>nexus4</td>\n",
              "      <td>nexus4_1</td>\n",
              "      <td>stand</td>\n",
              "    </tr>\n",
              "    <tr>\n",
              "      <th>1</th>\n",
              "      <td>1</td>\n",
              "      <td>1424696633909</td>\n",
              "      <td>1424696631918283972</td>\n",
              "      <td>-5.952240</td>\n",
              "      <td>0.670212</td>\n",
              "      <td>8.136536</td>\n",
              "      <td>a</td>\n",
              "      <td>nexus4</td>\n",
              "      <td>nexus4_1</td>\n",
              "      <td>stand</td>\n",
              "    </tr>\n",
              "    <tr>\n",
              "      <th>2</th>\n",
              "      <td>2</td>\n",
              "      <td>1424696633918</td>\n",
              "      <td>1424696631923288855</td>\n",
              "      <td>-5.995087</td>\n",
              "      <td>0.653549</td>\n",
              "      <td>8.204376</td>\n",
              "      <td>a</td>\n",
              "      <td>nexus4</td>\n",
              "      <td>nexus4_1</td>\n",
              "      <td>stand</td>\n",
              "    </tr>\n",
              "    <tr>\n",
              "      <th>3</th>\n",
              "      <td>3</td>\n",
              "      <td>1424696633919</td>\n",
              "      <td>1424696631928385290</td>\n",
              "      <td>-5.942718</td>\n",
              "      <td>0.676163</td>\n",
              "      <td>8.128204</td>\n",
              "      <td>a</td>\n",
              "      <td>nexus4</td>\n",
              "      <td>nexus4_1</td>\n",
              "      <td>stand</td>\n",
              "    </tr>\n",
              "    <tr>\n",
              "      <th>4</th>\n",
              "      <td>4</td>\n",
              "      <td>1424696633929</td>\n",
              "      <td>1424696631933420691</td>\n",
              "      <td>-5.991516</td>\n",
              "      <td>0.641647</td>\n",
              "      <td>8.135345</td>\n",
              "      <td>a</td>\n",
              "      <td>nexus4</td>\n",
              "      <td>nexus4_1</td>\n",
              "      <td>stand</td>\n",
              "    </tr>\n",
              "  </tbody>\n",
              "</table>\n",
              "</div>"
            ],
            "text/plain": [
              "   Index   Arrival_Time        Creation_Time  ...   Model    Device     gt\n",
              "0      0  1424696633908  1424696631913248572  ...  nexus4  nexus4_1  stand\n",
              "1      1  1424696633909  1424696631918283972  ...  nexus4  nexus4_1  stand\n",
              "2      2  1424696633918  1424696631923288855  ...  nexus4  nexus4_1  stand\n",
              "3      3  1424696633919  1424696631928385290  ...  nexus4  nexus4_1  stand\n",
              "4      4  1424696633929  1424696631933420691  ...  nexus4  nexus4_1  stand\n",
              "\n",
              "[5 rows x 10 columns]"
            ]
          },
          "metadata": {
            "tags": []
          },
          "execution_count": 11
        }
      ]
    },
    {
      "cell_type": "code",
      "metadata": {
        "id": "0ZdYPJIjJo6I",
        "colab_type": "code",
        "outputId": "335cc236-1892-4e8f-a6ef-cec27a5ebfc8",
        "colab": {
          "base_uri": "https://localhost:8080/",
          "height": 204
        }
      },
      "source": [
        "#data = data.drop(['Index','Creation_Time','User','Model','Device'], axis = 1).copy()\n",
        "data.head()"
      ],
      "execution_count": 12,
      "outputs": [
        {
          "output_type": "execute_result",
          "data": {
            "text/html": [
              "<div>\n",
              "<style scoped>\n",
              "    .dataframe tbody tr th:only-of-type {\n",
              "        vertical-align: middle;\n",
              "    }\n",
              "\n",
              "    .dataframe tbody tr th {\n",
              "        vertical-align: top;\n",
              "    }\n",
              "\n",
              "    .dataframe thead th {\n",
              "        text-align: right;\n",
              "    }\n",
              "</style>\n",
              "<table border=\"1\" class=\"dataframe\">\n",
              "  <thead>\n",
              "    <tr style=\"text-align: right;\">\n",
              "      <th></th>\n",
              "      <th>Index</th>\n",
              "      <th>Arrival_Time</th>\n",
              "      <th>Creation_Time</th>\n",
              "      <th>x</th>\n",
              "      <th>y</th>\n",
              "      <th>z</th>\n",
              "      <th>User</th>\n",
              "      <th>Model</th>\n",
              "      <th>Device</th>\n",
              "      <th>gt</th>\n",
              "    </tr>\n",
              "  </thead>\n",
              "  <tbody>\n",
              "    <tr>\n",
              "      <th>0</th>\n",
              "      <td>0</td>\n",
              "      <td>1424696633908</td>\n",
              "      <td>1424696631913248572</td>\n",
              "      <td>-5.958191</td>\n",
              "      <td>0.688065</td>\n",
              "      <td>8.135345</td>\n",
              "      <td>a</td>\n",
              "      <td>nexus4</td>\n",
              "      <td>nexus4_1</td>\n",
              "      <td>stand</td>\n",
              "    </tr>\n",
              "    <tr>\n",
              "      <th>1</th>\n",
              "      <td>1</td>\n",
              "      <td>1424696633909</td>\n",
              "      <td>1424696631918283972</td>\n",
              "      <td>-5.952240</td>\n",
              "      <td>0.670212</td>\n",
              "      <td>8.136536</td>\n",
              "      <td>a</td>\n",
              "      <td>nexus4</td>\n",
              "      <td>nexus4_1</td>\n",
              "      <td>stand</td>\n",
              "    </tr>\n",
              "    <tr>\n",
              "      <th>2</th>\n",
              "      <td>2</td>\n",
              "      <td>1424696633918</td>\n",
              "      <td>1424696631923288855</td>\n",
              "      <td>-5.995087</td>\n",
              "      <td>0.653549</td>\n",
              "      <td>8.204376</td>\n",
              "      <td>a</td>\n",
              "      <td>nexus4</td>\n",
              "      <td>nexus4_1</td>\n",
              "      <td>stand</td>\n",
              "    </tr>\n",
              "    <tr>\n",
              "      <th>3</th>\n",
              "      <td>3</td>\n",
              "      <td>1424696633919</td>\n",
              "      <td>1424696631928385290</td>\n",
              "      <td>-5.942718</td>\n",
              "      <td>0.676163</td>\n",
              "      <td>8.128204</td>\n",
              "      <td>a</td>\n",
              "      <td>nexus4</td>\n",
              "      <td>nexus4_1</td>\n",
              "      <td>stand</td>\n",
              "    </tr>\n",
              "    <tr>\n",
              "      <th>4</th>\n",
              "      <td>4</td>\n",
              "      <td>1424696633929</td>\n",
              "      <td>1424696631933420691</td>\n",
              "      <td>-5.991516</td>\n",
              "      <td>0.641647</td>\n",
              "      <td>8.135345</td>\n",
              "      <td>a</td>\n",
              "      <td>nexus4</td>\n",
              "      <td>nexus4_1</td>\n",
              "      <td>stand</td>\n",
              "    </tr>\n",
              "  </tbody>\n",
              "</table>\n",
              "</div>"
            ],
            "text/plain": [
              "   Index   Arrival_Time        Creation_Time  ...   Model    Device     gt\n",
              "0      0  1424696633908  1424696631913248572  ...  nexus4  nexus4_1  stand\n",
              "1      1  1424696633909  1424696631918283972  ...  nexus4  nexus4_1  stand\n",
              "2      2  1424696633918  1424696631923288855  ...  nexus4  nexus4_1  stand\n",
              "3      3  1424696633919  1424696631928385290  ...  nexus4  nexus4_1  stand\n",
              "4      4  1424696633929  1424696631933420691  ...  nexus4  nexus4_1  stand\n",
              "\n",
              "[5 rows x 10 columns]"
            ]
          },
          "metadata": {
            "tags": []
          },
          "execution_count": 12
        }
      ]
    },
    {
      "cell_type": "code",
      "metadata": {
        "id": "czgSYoh1ktNA",
        "colab_type": "code",
        "outputId": "b7a42856-61b7-411d-89e8-be74f359ba2e",
        "colab": {
          "base_uri": "https://localhost:8080/",
          "height": 136
        }
      },
      "source": [
        "data['gt'].value_counts()"
      ],
      "execution_count": 13,
      "outputs": [
        {
          "output_type": "execute_result",
          "data": {
            "text/plain": [
              "walk          2192401\n",
              "sit           1991919\n",
              "stand         1851492\n",
              "bike          1845557\n",
              "stairsup      1782010\n",
              "stairsdown    1615896\n",
              "Name: gt, dtype: int64"
            ]
          },
          "metadata": {
            "tags": []
          },
          "execution_count": 13
        }
      ]
    },
    {
      "cell_type": "code",
      "metadata": {
        "id": "ZxCdtxAxk0t6",
        "colab_type": "code",
        "outputId": "00f5f7c1-0643-4ff7-b9dc-e6035a1d8444",
        "colab": {
          "base_uri": "https://localhost:8080/",
          "height": 323
        }
      },
      "source": [
        "data['x'] = data['x'].astype('float')\n",
        "data['y'] = data['y'].astype('float')\n",
        "data['z'] = data['z'].astype('float')\n",
        "data.info()\n",
        "data.shape\n"
      ],
      "execution_count": 14,
      "outputs": [
        {
          "output_type": "stream",
          "text": [
            "<class 'pandas.core.frame.DataFrame'>\n",
            "Int64Index: 11279275 entries, 0 to 13062474\n",
            "Data columns (total 10 columns):\n",
            " #   Column         Dtype  \n",
            "---  ------         -----  \n",
            " 0   Index          int64  \n",
            " 1   Arrival_Time   int64  \n",
            " 2   Creation_Time  int64  \n",
            " 3   x              float64\n",
            " 4   y              float64\n",
            " 5   z              float64\n",
            " 6   User           object \n",
            " 7   Model          object \n",
            " 8   Device         object \n",
            " 9   gt             object \n",
            "dtypes: float64(3), int64(3), object(4)\n",
            "memory usage: 946.6+ MB\n"
          ],
          "name": "stdout"
        },
        {
          "output_type": "execute_result",
          "data": {
            "text/plain": [
              "(11279275, 10)"
            ]
          },
          "metadata": {
            "tags": []
          },
          "execution_count": 14
        }
      ]
    },
    {
      "cell_type": "code",
      "metadata": {
        "id": "jW9HWs0pk9vm",
        "colab_type": "code",
        "outputId": "4f39d404-f3b2-44df-a50d-4f0d6d4e8bdc",
        "colab": {
          "base_uri": "https://localhost:8080/",
          "height": 34
        }
      },
      "source": [
        "Fs = 20\n",
        "gt= data['gt'].value_counts().index\n",
        "gt"
      ],
      "execution_count": 15,
      "outputs": [
        {
          "output_type": "execute_result",
          "data": {
            "text/plain": [
              "Index(['walk', 'sit', 'stand', 'bike', 'stairsup', 'stairsdown'], dtype='object')"
            ]
          },
          "metadata": {
            "tags": []
          },
          "execution_count": 15
        }
      ]
    },
    {
      "cell_type": "code",
      "metadata": {
        "id": "b-Yg1SHFlZ-i",
        "colab_type": "code",
        "outputId": "dc7d6875-f850-45c6-90e6-ea7bf8e2b1e6",
        "colab": {
          "base_uri": "https://localhost:8080/",
          "height": 204
        }
      },
      "source": [
        "from sklearn.preprocessing import LabelEncoder\n",
        "label = LabelEncoder()\n",
        "data['label'] = label.fit_transform(data['gt'])\n",
        "data.head()"
      ],
      "execution_count": 16,
      "outputs": [
        {
          "output_type": "execute_result",
          "data": {
            "text/html": [
              "<div>\n",
              "<style scoped>\n",
              "    .dataframe tbody tr th:only-of-type {\n",
              "        vertical-align: middle;\n",
              "    }\n",
              "\n",
              "    .dataframe tbody tr th {\n",
              "        vertical-align: top;\n",
              "    }\n",
              "\n",
              "    .dataframe thead th {\n",
              "        text-align: right;\n",
              "    }\n",
              "</style>\n",
              "<table border=\"1\" class=\"dataframe\">\n",
              "  <thead>\n",
              "    <tr style=\"text-align: right;\">\n",
              "      <th></th>\n",
              "      <th>Index</th>\n",
              "      <th>Arrival_Time</th>\n",
              "      <th>Creation_Time</th>\n",
              "      <th>x</th>\n",
              "      <th>y</th>\n",
              "      <th>z</th>\n",
              "      <th>User</th>\n",
              "      <th>Model</th>\n",
              "      <th>Device</th>\n",
              "      <th>gt</th>\n",
              "      <th>label</th>\n",
              "    </tr>\n",
              "  </thead>\n",
              "  <tbody>\n",
              "    <tr>\n",
              "      <th>0</th>\n",
              "      <td>0</td>\n",
              "      <td>1424696633908</td>\n",
              "      <td>1424696631913248572</td>\n",
              "      <td>-5.958191</td>\n",
              "      <td>0.688065</td>\n",
              "      <td>8.135345</td>\n",
              "      <td>a</td>\n",
              "      <td>nexus4</td>\n",
              "      <td>nexus4_1</td>\n",
              "      <td>stand</td>\n",
              "      <td>4</td>\n",
              "    </tr>\n",
              "    <tr>\n",
              "      <th>1</th>\n",
              "      <td>1</td>\n",
              "      <td>1424696633909</td>\n",
              "      <td>1424696631918283972</td>\n",
              "      <td>-5.952240</td>\n",
              "      <td>0.670212</td>\n",
              "      <td>8.136536</td>\n",
              "      <td>a</td>\n",
              "      <td>nexus4</td>\n",
              "      <td>nexus4_1</td>\n",
              "      <td>stand</td>\n",
              "      <td>4</td>\n",
              "    </tr>\n",
              "    <tr>\n",
              "      <th>2</th>\n",
              "      <td>2</td>\n",
              "      <td>1424696633918</td>\n",
              "      <td>1424696631923288855</td>\n",
              "      <td>-5.995087</td>\n",
              "      <td>0.653549</td>\n",
              "      <td>8.204376</td>\n",
              "      <td>a</td>\n",
              "      <td>nexus4</td>\n",
              "      <td>nexus4_1</td>\n",
              "      <td>stand</td>\n",
              "      <td>4</td>\n",
              "    </tr>\n",
              "    <tr>\n",
              "      <th>3</th>\n",
              "      <td>3</td>\n",
              "      <td>1424696633919</td>\n",
              "      <td>1424696631928385290</td>\n",
              "      <td>-5.942718</td>\n",
              "      <td>0.676163</td>\n",
              "      <td>8.128204</td>\n",
              "      <td>a</td>\n",
              "      <td>nexus4</td>\n",
              "      <td>nexus4_1</td>\n",
              "      <td>stand</td>\n",
              "      <td>4</td>\n",
              "    </tr>\n",
              "    <tr>\n",
              "      <th>4</th>\n",
              "      <td>4</td>\n",
              "      <td>1424696633929</td>\n",
              "      <td>1424696631933420691</td>\n",
              "      <td>-5.991516</td>\n",
              "      <td>0.641647</td>\n",
              "      <td>8.135345</td>\n",
              "      <td>a</td>\n",
              "      <td>nexus4</td>\n",
              "      <td>nexus4_1</td>\n",
              "      <td>stand</td>\n",
              "      <td>4</td>\n",
              "    </tr>\n",
              "  </tbody>\n",
              "</table>\n",
              "</div>"
            ],
            "text/plain": [
              "   Index   Arrival_Time        Creation_Time  ...    Device     gt  label\n",
              "0      0  1424696633908  1424696631913248572  ...  nexus4_1  stand      4\n",
              "1      1  1424696633909  1424696631918283972  ...  nexus4_1  stand      4\n",
              "2      2  1424696633918  1424696631923288855  ...  nexus4_1  stand      4\n",
              "3      3  1424696633919  1424696631928385290  ...  nexus4_1  stand      4\n",
              "4      4  1424696633929  1424696631933420691  ...  nexus4_1  stand      4\n",
              "\n",
              "[5 rows x 11 columns]"
            ]
          },
          "metadata": {
            "tags": []
          },
          "execution_count": 16
        }
      ]
    },
    {
      "cell_type": "code",
      "metadata": {
        "id": "voiP0mliljDm",
        "colab_type": "code",
        "outputId": "6e8ef327-7d56-4bcc-aeaf-cb4556617c2a",
        "colab": {
          "base_uri": "https://localhost:8080/",
          "height": 51
        }
      },
      "source": [
        "label.classes_"
      ],
      "execution_count": 17,
      "outputs": [
        {
          "output_type": "execute_result",
          "data": {
            "text/plain": [
              "array(['bike', 'sit', 'stairsdown', 'stairsup', 'stand', 'walk'],\n",
              "      dtype=object)"
            ]
          },
          "metadata": {
            "tags": []
          },
          "execution_count": 17
        }
      ]
    },
    {
      "cell_type": "code",
      "metadata": {
        "id": "AsLDkawYlmV4",
        "colab_type": "code",
        "outputId": "9ebf0304-a9f8-40e8-e36a-2b41bee8a0f8",
        "colab": {
          "base_uri": "https://localhost:8080/",
          "height": 419
        }
      },
      "source": [
        "X = data[['x', 'y', 'z']]\n",
        "y = data['label']\n",
        "scaler = StandardScaler()\n",
        "X = scaler.fit_transform(X)\n",
        "\n",
        "scaled_X = pd.DataFrame(data = X, columns = ['x', 'y', 'z'])\n",
        "scaled_X['label'] = y.values\n",
        "\n",
        "scaled_X"
      ],
      "execution_count": 18,
      "outputs": [
        {
          "output_type": "execute_result",
          "data": {
            "text/html": [
              "<div>\n",
              "<style scoped>\n",
              "    .dataframe tbody tr th:only-of-type {\n",
              "        vertical-align: middle;\n",
              "    }\n",
              "\n",
              "    .dataframe tbody tr th {\n",
              "        vertical-align: top;\n",
              "    }\n",
              "\n",
              "    .dataframe thead th {\n",
              "        text-align: right;\n",
              "    }\n",
              "</style>\n",
              "<table border=\"1\" class=\"dataframe\">\n",
              "  <thead>\n",
              "    <tr style=\"text-align: right;\">\n",
              "      <th></th>\n",
              "      <th>x</th>\n",
              "      <th>y</th>\n",
              "      <th>z</th>\n",
              "      <th>label</th>\n",
              "    </tr>\n",
              "  </thead>\n",
              "  <tbody>\n",
              "    <tr>\n",
              "      <th>0</th>\n",
              "      <td>-1.105237</td>\n",
              "      <td>0.345730</td>\n",
              "      <td>-0.340154</td>\n",
              "      <td>4</td>\n",
              "    </tr>\n",
              "    <tr>\n",
              "      <th>1</th>\n",
              "      <td>-1.103729</td>\n",
              "      <td>0.334192</td>\n",
              "      <td>-0.339632</td>\n",
              "      <td>4</td>\n",
              "    </tr>\n",
              "    <tr>\n",
              "      <th>2</th>\n",
              "      <td>-1.114581</td>\n",
              "      <td>0.323423</td>\n",
              "      <td>-0.309885</td>\n",
              "      <td>4</td>\n",
              "    </tr>\n",
              "    <tr>\n",
              "      <th>3</th>\n",
              "      <td>-1.101318</td>\n",
              "      <td>0.338038</td>\n",
              "      <td>-0.343285</td>\n",
              "      <td>4</td>\n",
              "    </tr>\n",
              "    <tr>\n",
              "      <th>4</th>\n",
              "      <td>-1.113677</td>\n",
              "      <td>0.315731</td>\n",
              "      <td>-0.340154</td>\n",
              "      <td>4</td>\n",
              "    </tr>\n",
              "    <tr>\n",
              "      <th>...</th>\n",
              "      <td>...</td>\n",
              "      <td>...</td>\n",
              "      <td>...</td>\n",
              "      <td>...</td>\n",
              "    </tr>\n",
              "    <tr>\n",
              "      <th>11279270</th>\n",
              "      <td>0.753091</td>\n",
              "      <td>0.000076</td>\n",
              "      <td>0.459814</td>\n",
              "      <td>0</td>\n",
              "    </tr>\n",
              "    <tr>\n",
              "      <th>11279271</th>\n",
              "      <td>0.753091</td>\n",
              "      <td>0.000076</td>\n",
              "      <td>0.392627</td>\n",
              "      <td>0</td>\n",
              "    </tr>\n",
              "    <tr>\n",
              "      <th>11279272</th>\n",
              "      <td>0.791899</td>\n",
              "      <td>0.000076</td>\n",
              "      <td>0.392627</td>\n",
              "      <td>0</td>\n",
              "    </tr>\n",
              "    <tr>\n",
              "      <th>11279273</th>\n",
              "      <td>0.791899</td>\n",
              "      <td>-0.098951</td>\n",
              "      <td>0.459814</td>\n",
              "      <td>0</td>\n",
              "    </tr>\n",
              "    <tr>\n",
              "      <th>11279274</th>\n",
              "      <td>0.753091</td>\n",
              "      <td>-0.098951</td>\n",
              "      <td>0.459814</td>\n",
              "      <td>0</td>\n",
              "    </tr>\n",
              "  </tbody>\n",
              "</table>\n",
              "<p>11279275 rows × 4 columns</p>\n",
              "</div>"
            ],
            "text/plain": [
              "                 x         y         z  label\n",
              "0        -1.105237  0.345730 -0.340154      4\n",
              "1        -1.103729  0.334192 -0.339632      4\n",
              "2        -1.114581  0.323423 -0.309885      4\n",
              "3        -1.101318  0.338038 -0.343285      4\n",
              "4        -1.113677  0.315731 -0.340154      4\n",
              "...            ...       ...       ...    ...\n",
              "11279270  0.753091  0.000076  0.459814      0\n",
              "11279271  0.753091  0.000076  0.392627      0\n",
              "11279272  0.791899  0.000076  0.392627      0\n",
              "11279273  0.791899 -0.098951  0.459814      0\n",
              "11279274  0.753091 -0.098951  0.459814      0\n",
              "\n",
              "[11279275 rows x 4 columns]"
            ]
          },
          "metadata": {
            "tags": []
          },
          "execution_count": 18
        }
      ]
    },
    {
      "cell_type": "code",
      "metadata": {
        "id": "3hi98Sixl7Ob",
        "colab_type": "code",
        "outputId": "289c6387-5b35-4c86-cdbc-3ed3709e6fb0",
        "colab": {
          "base_uri": "https://localhost:8080/",
          "height": 51
        }
      },
      "source": [
        "label.classes_"
      ],
      "execution_count": 19,
      "outputs": [
        {
          "output_type": "execute_result",
          "data": {
            "text/plain": [
              "array(['bike', 'sit', 'stairsdown', 'stairsup', 'stand', 'walk'],\n",
              "      dtype=object)"
            ]
          },
          "metadata": {
            "tags": []
          },
          "execution_count": 19
        }
      ]
    },
    {
      "cell_type": "code",
      "metadata": {
        "id": "YkOBUiU01Rr7",
        "colab_type": "code",
        "colab": {}
      },
      "source": [
        "Fs = 50\n",
        "frame_size = Fs*4 # 200\n",
        "hop_size = Fs*2 # 200\n"
      ],
      "execution_count": 0,
      "outputs": []
    },
    {
      "cell_type": "code",
      "metadata": {
        "id": "BIOtEbjOoH4t",
        "colab_type": "code",
        "colab": {}
      },
      "source": [
        "import math as m\n",
        "def get_frames(data, frame_size, hop_size):\n",
        "\n",
        "  N_FEATURES = 3\n",
        "  frames = []\n",
        "  labels = []\n",
        "  for i in range(0, len(scaled_X) - frame_size, hop_size):\n",
        "    x = data['x'].values[i: i + frame_size]\n",
        "    y = data['y'].values[i: i + frame_size]\n",
        "    z = data['z'].values[i: i + frame_size]\n",
        "        # Retrieve the most often used label in this segment\n",
        "    label = stats.mode(scaled_X['label'][i: i + frame_size])[0][0]\n",
        "    frames.append([x, y, z])\n",
        "    labels.append(label)\n",
        "  # Bring the segments into a better shape\n",
        "  frames = np.asarray(frames, dtype= np.float32).reshape(-1, frame_size, N_FEATURES)\n",
        "  labels = np.asarray(labels)\n",
        "  return frames, labels\n"
      ],
      "execution_count": 0,
      "outputs": []
    },
    {
      "cell_type": "code",
      "metadata": {
        "colab_type": "code",
        "id": "ZruOiWuCsJ-m",
        "colab": {}
      },
      "source": [
        "X,y = get_frames(scaled_X, frame_size, hop_size)"
      ],
      "execution_count": 0,
      "outputs": []
    },
    {
      "cell_type": "code",
      "metadata": {
        "colab_type": "code",
        "id": "TlKwVuxQsJOX",
        "outputId": "8996439f-d43a-4842-cc1a-4fbddc362654",
        "colab": {
          "base_uri": "https://localhost:8080/",
          "height": 34
        }
      },
      "source": [
        "X.shape\n",
        "y.shape"
      ],
      "execution_count": 23,
      "outputs": [
        {
          "output_type": "execute_result",
          "data": {
            "text/plain": [
              "(112791,)"
            ]
          },
          "metadata": {
            "tags": []
          },
          "execution_count": 23
        }
      ]
    },
    {
      "cell_type": "code",
      "metadata": {
        "id": "nqf7zeTA2WiX",
        "colab_type": "code",
        "colab": {}
      },
      "source": [
        "X_train, X_test, y_train, y_test = train_test_split(X,y, test_size = 0.2, random_state = 0, stratify = y)\n"
      ],
      "execution_count": 0,
      "outputs": []
    },
    {
      "cell_type": "code",
      "metadata": {
        "id": "d4nRHfpq1Rwp",
        "colab_type": "code",
        "outputId": "8bb66070-0dce-499b-b55c-003526f8608c",
        "colab": {
          "base_uri": "https://localhost:8080/",
          "height": 34
        }
      },
      "source": [
        "X_train.shape, X_test.shape"
      ],
      "execution_count": 25,
      "outputs": [
        {
          "output_type": "execute_result",
          "data": {
            "text/plain": [
              "((90232, 200, 3), (22559, 200, 3))"
            ]
          },
          "metadata": {
            "tags": []
          },
          "execution_count": 25
        }
      ]
    },
    {
      "cell_type": "code",
      "metadata": {
        "id": "2z45rOPQMRLK",
        "colab_type": "code",
        "outputId": "88c35a79-95ea-473c-bc73-46cf322a9e80",
        "colab": {
          "base_uri": "https://localhost:8080/",
          "height": 34
        }
      },
      "source": [
        "X_train = X_train.reshape(90232, 200, 3,1)\n",
        "X_test = X_test.reshape(22559, 200, 3,1)\n",
        "X_train[0].shape, X_test[0].shape"
      ],
      "execution_count": 26,
      "outputs": [
        {
          "output_type": "execute_result",
          "data": {
            "text/plain": [
              "((200, 3, 1), (200, 3, 1))"
            ]
          },
          "metadata": {
            "tags": []
          },
          "execution_count": 26
        }
      ]
    },
    {
      "cell_type": "code",
      "metadata": {
        "id": "yx5ufXF5NWB-",
        "colab_type": "code",
        "outputId": "1fabb239-3c13-4a79-b9ff-4679e12c32ae",
        "colab": {
          "base_uri": "https://localhost:8080/",
          "height": 34
        }
      },
      "source": [
        "# Importing libraries\n",
        "import pandas as pd\n",
        "from matplotlib import pyplot\n",
        "from sklearn.preprocessing import StandardScaler\n",
        "from keras.models import Sequential\n",
        "from keras.layers import Dense\n",
        "from keras.layers import Flatten\n",
        "from keras.layers import Dropout\n",
        "from keras.layers.convolutional import Conv1D\n",
        "from keras.layers.convolutional import MaxPooling1D\n",
        "from keras.utils import to_categorical\n",
        "from keras.models import Sequential\n",
        "from keras.layers import LSTM\n",
        "from keras.layers.core import Dense, Dropout"
      ],
      "execution_count": 27,
      "outputs": [
        {
          "output_type": "stream",
          "text": [
            "Using TensorFlow backend.\n"
          ],
          "name": "stderr"
        }
      ]
    },
    {
      "cell_type": "code",
      "metadata": {
        "id": "RzkYLzMfdwXL",
        "colab_type": "code",
        "outputId": "ac0e184b-7f8e-4fc3-9b5f-508325918056",
        "colab": {
          "base_uri": "https://localhost:8080/",
          "height": 496
        }
      },
      "source": [
        "from keras.models import Sequential\n",
        "from keras.layers import Conv2D, MaxPooling2D, Flatten, Dense, Dropout\n",
        "model = Sequential()\n",
        "model.add(Conv2D(filters=16, kernel_size=(3,3), padding='same', activation='relu',input_shape=X_train[0].shape))\n",
        "model.add(Dropout(0.3))\n",
        "model.add(MaxPooling2D(pool_size=2))\n",
        "model.add(Flatten())\n",
        "model.add(Dense(1024, activation='relu'))\n",
        "model.add(Dropout(0.5))\n",
        "model.add(Dense(6, activation='softmax'))\n",
        "model.summary()"
      ],
      "execution_count": 28,
      "outputs": [
        {
          "output_type": "stream",
          "text": [
            "WARNING:tensorflow:From /usr/local/lib/python3.6/dist-packages/tensorflow_core/python/ops/resource_variable_ops.py:1630: calling BaseResourceVariable.__init__ (from tensorflow.python.ops.resource_variable_ops) with constraint is deprecated and will be removed in a future version.\n",
            "Instructions for updating:\n",
            "If using Keras pass *_constraint arguments to layers.\n",
            "WARNING:tensorflow:From /usr/local/lib/python3.6/dist-packages/keras/backend/tensorflow_backend.py:4070: The name tf.nn.max_pool is deprecated. Please use tf.nn.max_pool2d instead.\n",
            "\n",
            "Model: \"sequential_1\"\n",
            "_________________________________________________________________\n",
            "Layer (type)                 Output Shape              Param #   \n",
            "=================================================================\n",
            "conv2d_1 (Conv2D)            (None, 200, 3, 16)        160       \n",
            "_________________________________________________________________\n",
            "dropout_1 (Dropout)          (None, 200, 3, 16)        0         \n",
            "_________________________________________________________________\n",
            "max_pooling2d_1 (MaxPooling2 (None, 100, 1, 16)        0         \n",
            "_________________________________________________________________\n",
            "flatten_1 (Flatten)          (None, 1600)              0         \n",
            "_________________________________________________________________\n",
            "dense_1 (Dense)              (None, 1024)              1639424   \n",
            "_________________________________________________________________\n",
            "dropout_2 (Dropout)          (None, 1024)              0         \n",
            "_________________________________________________________________\n",
            "dense_2 (Dense)              (None, 6)                 6150      \n",
            "=================================================================\n",
            "Total params: 1,645,734\n",
            "Trainable params: 1,645,734\n",
            "Non-trainable params: 0\n",
            "_________________________________________________________________\n"
          ],
          "name": "stdout"
        }
      ]
    },
    {
      "cell_type": "code",
      "metadata": {
        "id": "LSRSMKjIecw4",
        "colab_type": "code",
        "colab": {}
      },
      "source": [
        "from keras import optimizers\n",
        "sgd = optimizers.adam(lr=0.0001)\n",
        "model.compile(loss='sparse_categorical_crossentropy', optimizer=sgd, metrics=['accuracy'])"
      ],
      "execution_count": 0,
      "outputs": []
    },
    {
      "cell_type": "code",
      "metadata": {
        "id": "eX_iqGtZegEs",
        "colab_type": "code",
        "outputId": "17c17b61-7a05-4e36-bb24-7f295d41ff73",
        "colab": {
          "base_uri": "https://localhost:8080/",
          "height": 1000
        }
      },
      "source": [
        "history = model.fit(X_train, y_train, epochs =30, validation_data= (X_test, y_test),batch_size=64, verbose=1)"
      ],
      "execution_count": 30,
      "outputs": [
        {
          "output_type": "stream",
          "text": [
            "WARNING:tensorflow:From /usr/local/lib/python3.6/dist-packages/keras/backend/tensorflow_backend.py:422: The name tf.global_variables is deprecated. Please use tf.compat.v1.global_variables instead.\n",
            "\n",
            "Train on 90232 samples, validate on 22559 samples\n",
            "Epoch 1/30\n",
            "90232/90232 [==============================] - 12s 138us/step - loss: 0.6098 - accuracy: 0.7827 - val_loss: 0.3742 - val_accuracy: 0.9032\n",
            "Epoch 2/30\n",
            "90232/90232 [==============================] - 6s 72us/step - loss: 0.3073 - accuracy: 0.9001 - val_loss: 0.2685 - val_accuracy: 0.9275\n",
            "Epoch 3/30\n",
            "90232/90232 [==============================] - 6s 71us/step - loss: 0.2411 - accuracy: 0.9225 - val_loss: 0.2243 - val_accuracy: 0.9418\n",
            "Epoch 4/30\n",
            "90232/90232 [==============================] - 6s 71us/step - loss: 0.1995 - accuracy: 0.9358 - val_loss: 0.1920 - val_accuracy: 0.9497\n",
            "Epoch 5/30\n",
            "90232/90232 [==============================] - 7s 75us/step - loss: 0.1725 - accuracy: 0.9447 - val_loss: 0.1742 - val_accuracy: 0.9529\n",
            "Epoch 6/30\n",
            "90232/90232 [==============================] - 7s 74us/step - loss: 0.1564 - accuracy: 0.9490 - val_loss: 0.1693 - val_accuracy: 0.9505\n",
            "Epoch 7/30\n",
            "90232/90232 [==============================] - 6s 72us/step - loss: 0.1404 - accuracy: 0.9536 - val_loss: 0.1466 - val_accuracy: 0.9574\n",
            "Epoch 8/30\n",
            "90232/90232 [==============================] - 6s 72us/step - loss: 0.1319 - accuracy: 0.9569 - val_loss: 0.1409 - val_accuracy: 0.9596\n",
            "Epoch 9/30\n",
            "90232/90232 [==============================] - 6s 71us/step - loss: 0.1211 - accuracy: 0.9610 - val_loss: 0.1377 - val_accuracy: 0.9614\n",
            "Epoch 10/30\n",
            "90232/90232 [==============================] - 6s 72us/step - loss: 0.1116 - accuracy: 0.9636 - val_loss: 0.1323 - val_accuracy: 0.9626\n",
            "Epoch 11/30\n",
            "90232/90232 [==============================] - 6s 72us/step - loss: 0.1048 - accuracy: 0.9650 - val_loss: 0.1288 - val_accuracy: 0.9633\n",
            "Epoch 12/30\n",
            "90232/90232 [==============================] - 6s 71us/step - loss: 0.0989 - accuracy: 0.9668 - val_loss: 0.1252 - val_accuracy: 0.9637\n",
            "Epoch 13/30\n",
            "90232/90232 [==============================] - 6s 71us/step - loss: 0.0927 - accuracy: 0.9691 - val_loss: 0.1206 - val_accuracy: 0.9650\n",
            "Epoch 14/30\n",
            "90232/90232 [==============================] - 6s 71us/step - loss: 0.0891 - accuracy: 0.9702 - val_loss: 0.1218 - val_accuracy: 0.9640\n",
            "Epoch 15/30\n",
            "90232/90232 [==============================] - 6s 72us/step - loss: 0.0844 - accuracy: 0.9718 - val_loss: 0.1168 - val_accuracy: 0.9664\n",
            "Epoch 16/30\n",
            "90232/90232 [==============================] - 7s 78us/step - loss: 0.0800 - accuracy: 0.9735 - val_loss: 0.1155 - val_accuracy: 0.9663\n",
            "Epoch 17/30\n",
            "90232/90232 [==============================] - 7s 74us/step - loss: 0.0772 - accuracy: 0.9743 - val_loss: 0.1094 - val_accuracy: 0.9670\n",
            "Epoch 18/30\n",
            "90232/90232 [==============================] - 6s 71us/step - loss: 0.0744 - accuracy: 0.9753 - val_loss: 0.1101 - val_accuracy: 0.9660\n",
            "Epoch 19/30\n",
            "90232/90232 [==============================] - 6s 71us/step - loss: 0.0692 - accuracy: 0.9767 - val_loss: 0.1078 - val_accuracy: 0.9672\n",
            "Epoch 20/30\n",
            "90232/90232 [==============================] - 6s 71us/step - loss: 0.0675 - accuracy: 0.9771 - val_loss: 0.1063 - val_accuracy: 0.9688\n",
            "Epoch 21/30\n",
            "90232/90232 [==============================] - 6s 71us/step - loss: 0.0662 - accuracy: 0.9779 - val_loss: 0.1054 - val_accuracy: 0.9681\n",
            "Epoch 22/30\n",
            "90232/90232 [==============================] - 6s 71us/step - loss: 0.0603 - accuracy: 0.9798 - val_loss: 0.1071 - val_accuracy: 0.9680\n",
            "Epoch 23/30\n",
            "90232/90232 [==============================] - 6s 71us/step - loss: 0.0594 - accuracy: 0.9802 - val_loss: 0.1060 - val_accuracy: 0.9685\n",
            "Epoch 24/30\n",
            "90232/90232 [==============================] - 6s 71us/step - loss: 0.0571 - accuracy: 0.9808 - val_loss: 0.1068 - val_accuracy: 0.9680\n",
            "Epoch 25/30\n",
            "90232/90232 [==============================] - 6s 71us/step - loss: 0.0561 - accuracy: 0.9810 - val_loss: 0.0998 - val_accuracy: 0.9704\n",
            "Epoch 26/30\n",
            "90232/90232 [==============================] - 6s 71us/step - loss: 0.0523 - accuracy: 0.9823 - val_loss: 0.1030 - val_accuracy: 0.9690\n",
            "Epoch 27/30\n",
            "90232/90232 [==============================] - 6s 71us/step - loss: 0.0522 - accuracy: 0.9824 - val_loss: 0.0994 - val_accuracy: 0.9715\n",
            "Epoch 28/30\n",
            "90232/90232 [==============================] - 6s 72us/step - loss: 0.0502 - accuracy: 0.9827 - val_loss: 0.1005 - val_accuracy: 0.9700\n",
            "Epoch 29/30\n",
            "90232/90232 [==============================] - 6s 71us/step - loss: 0.0493 - accuracy: 0.9832 - val_loss: 0.0990 - val_accuracy: 0.9712\n",
            "Epoch 30/30\n",
            "90232/90232 [==============================] - 6s 71us/step - loss: 0.0471 - accuracy: 0.9842 - val_loss: 0.1010 - val_accuracy: 0.9701\n"
          ],
          "name": "stdout"
        }
      ]
    },
    {
      "cell_type": "code",
      "metadata": {
        "id": "j2A3XLPW-dhq",
        "colab_type": "code",
        "colab": {
          "base_uri": "https://localhost:8080/",
          "height": 527
        },
        "outputId": "d2de302d-c15e-41c8-fc6e-6891b38a90db"
      },
      "source": [
        "#history.history['accuracy']\n",
        "history.history['val_accuracy']"
      ],
      "execution_count": 33,
      "outputs": [
        {
          "output_type": "execute_result",
          "data": {
            "text/plain": [
              "[0.9032315015792847,\n",
              " 0.9274790287017822,\n",
              " 0.9418413639068604,\n",
              " 0.9496874809265137,\n",
              " 0.9529234170913696,\n",
              " 0.9505296945571899,\n",
              " 0.9574006199836731,\n",
              " 0.959617018699646,\n",
              " 0.9613901376724243,\n",
              " 0.962631344795227,\n",
              " 0.9632962346076965,\n",
              " 0.9636508822441101,\n",
              " 0.9649807214736938,\n",
              " 0.9640054702758789,\n",
              " 0.9663991928100586,\n",
              " 0.9663105607032776,\n",
              " 0.96701979637146,\n",
              " 0.965955913066864,\n",
              " 0.9671527743339539,\n",
              " 0.9687929153442383,\n",
              " 0.9680836796760559,\n",
              " 0.968039333820343,\n",
              " 0.9685269594192505,\n",
              " 0.967950701713562,\n",
              " 0.9704331159591675,\n",
              " 0.969014585018158,\n",
              " 0.9714526534080505,\n",
              " 0.970034122467041,\n",
              " 0.971186637878418,\n",
              " 0.9701228141784668]"
            ]
          },
          "metadata": {
            "tags": []
          },
          "execution_count": 33
        }
      ]
    },
    {
      "cell_type": "code",
      "metadata": {
        "id": "gmf9OrqKvmS3",
        "colab_type": "code",
        "colab": {
          "base_uri": "https://localhost:8080/",
          "height": 527
        },
        "outputId": "a086619f-7b64-48b0-99f8-ff449267220e"
      },
      "source": [
        "history.history['loss']\n",
        "#history.history['val_loss']"
      ],
      "execution_count": 34,
      "outputs": [
        {
          "output_type": "execute_result",
          "data": {
            "text/plain": [
              "[0.6098054620335844,\n",
              " 0.3072681027779248,\n",
              " 0.2410874068948413,\n",
              " 0.1994521690710754,\n",
              " 0.1725360505604577,\n",
              " 0.1564367444481777,\n",
              " 0.14041745322363017,\n",
              " 0.1318850499906537,\n",
              " 0.12110803097615967,\n",
              " 0.11163478129795124,\n",
              " 0.1047949937294192,\n",
              " 0.09893910235756968,\n",
              " 0.09268427276158969,\n",
              " 0.08914242748388089,\n",
              " 0.08443203791335221,\n",
              " 0.08004214768278566,\n",
              " 0.07720315665196882,\n",
              " 0.07444723331674065,\n",
              " 0.06923926316111849,\n",
              " 0.06746130608869726,\n",
              " 0.06622409664595821,\n",
              " 0.060265745739729565,\n",
              " 0.059365712540718464,\n",
              " 0.057099785301175425,\n",
              " 0.05612108230432944,\n",
              " 0.0522589561056241,\n",
              " 0.05216573743804099,\n",
              " 0.05021634303520193,\n",
              " 0.049251838900830576,\n",
              " 0.04712686886473723]"
            ]
          },
          "metadata": {
            "tags": []
          },
          "execution_count": 34
        }
      ]
    },
    {
      "cell_type": "code",
      "metadata": {
        "id": "Av3b7ZuloL82",
        "colab_type": "code",
        "colab": {
          "base_uri": "https://localhost:8080/",
          "height": 977
        },
        "outputId": "3e4f8aa1-3655-4443-8f04-ae2ead8a8d70"
      },
      "source": [
        "import matplotlib.pyplot as plt1\n",
        "\n",
        "# Plot training & validation accuracy values\n",
        "plt.figure(figsize=(12,8))\n",
        "plt.plot(history.history['accuracy'],label='Train acc')\n",
        "plt.plot(history.history['val_accuracy'],label = 'Validation acc')\n",
        "plt.xlabel('epoch no')\n",
        "plt.ylabel('acc')\n",
        "plt.legend()\n",
        "plt.show()\n",
        "\n",
        "plt.figure(figsize=(12,8))\n",
        "plt.plot(history.history['loss'],label='Train loss')\n",
        "plt.plot(history.history['val_loss'],label = 'Validation loss')\n",
        "plt.xlabel('epoch no')\n",
        "plt.ylabel('loss')\n",
        "plt.legend()\n",
        "plt.show()\n"
      ],
      "execution_count": 37,
      "outputs": [
        {
          "output_type": "display_data",
          "data": {
            "image/png": "[encoded data removed]",
            "text/plain": [
              "<Figure size 864x576 with 1 Axes>"
            ]
          },
          "metadata": {
            "tags": [],
            "needs_background": "light"
          }
        },
        {
          "output_type": "display_data",
          "data": {
            "image/png": "[encoded data removed]",
            "text/plain": [
              "<Figure size 864x576 with 1 Axes>"
            ]
          },
          "metadata": {
            "tags": [],
            "needs_background": "light"
          }
        }
      ]
    },
    {
      "cell_type": "code",
      "metadata": {
        "id": "xQya7dGhoOlv",
        "colab_type": "code",
        "colab": {
          "base_uri": "https://localhost:8080/",
          "height": 816
        },
        "outputId": "aa643190-608e-48ae-e297-75bcfe1e8d49"
      },
      "source": [
        "from mlxtend.plotting import plot_confusion_matrix\n",
        "from sklearn.metrics import confusion_matrix\n",
        "from sklearn.metrics import accuracy_score \n",
        "from sklearn.metrics import classification_report\n",
        "\n",
        "y_pred = model.predict_classes(X_test)\n",
        "mat = confusion_matrix(y_test, y_pred)\n",
        "print(confusion_matrix(y_test, y_pred))\n",
        "print(accuracy_score(y_test,y_pred))\n",
        "print(classification_report(y_test,y_pred))\n",
        "\n",
        "plot_confusion_matrix(conf_mat=mat, show_normed=True,cmap=plt.cm.Blues,show_absolute=True, figsize=(7,7))"
      ],
      "execution_count": 38,
      "outputs": [
        {
          "output_type": "stream",
          "text": [
            "[[3618    8   26   17   12   10]\n",
            " [   2 3971    0    1   10    1]\n",
            " [   8    0 3003  146    1   71]\n",
            " [   4    0   95 3404    1   62]\n",
            " [  27   22    1    1 3652    0]\n",
            " [   8    0   65   73    2 4237]]\n",
            "0.9701227891307239\n",
            "              precision    recall  f1-score   support\n",
            "\n",
            "           0       0.99      0.98      0.98      3691\n",
            "           1       0.99      1.00      0.99      3985\n",
            "           2       0.94      0.93      0.94      3229\n",
            "           3       0.93      0.95      0.94      3566\n",
            "           4       0.99      0.99      0.99      3703\n",
            "           5       0.97      0.97      0.97      4385\n",
            "\n",
            "    accuracy                           0.97     22559\n",
            "   macro avg       0.97      0.97      0.97     22559\n",
            "weighted avg       0.97      0.97      0.97     22559\n",
            "\n"
          ],
          "name": "stdout"
        },
        {
          "output_type": "execute_result",
          "data": {
            "text/plain": [
              "(<Figure size 504x504 with 1 Axes>,\n",
              " <matplotlib.axes._subplots.AxesSubplot at 0x7f6035dc7860>)"
            ]
          },
          "metadata": {
            "tags": []
          },
          "execution_count": 38
        },
        {
          "output_type": "display_data",
          "data": {
            "image/png": "[encoded data removed]",
            "text/plain": [
              "<Figure size 504x504 with 1 Axes>"
            ]
          },
          "metadata": {
            "tags": [],
            "needs_background": "light"
          }
        }
      ]
    },
    {
      "cell_type": "code",
      "metadata": {
        "id": "TmANvaPvZKUp",
        "colab_type": "code",
        "colab": {
          "base_uri": "https://localhost:8080/",
          "height": 1000
        },
        "outputId": "09181a5c-7d0f-46fb-85d1-6f1d0f936c4d"
      },
      "source": [
        "# list all data in history\n",
        "print(history.history.keys())\n",
        "# summarize history for accuracy\n",
        "plt.figure(figsize=(12,8))\n",
        "plt.plot(history.history['accuracy'])\n",
        "plt.plot(history.history['val_accuracy'])\n",
        "plt.title('model accuracy')\n",
        "plt.ylabel('accuracy')\n",
        "plt.xlabel('epoch')\n",
        "plt.legend(['train', 'test'], loc='upper left')\n",
        "plt.show()\n",
        "# summarize history for loss\n",
        "plt.figure(figsize=(12,8))\n",
        "plt.plot(history.history['loss'])\n",
        "plt.plot(history.history['val_loss'])\n",
        "plt.title('model loss')\n",
        "plt.ylabel('loss')\n",
        "plt.xlabel('epoch')\n",
        "plt.legend(['train', 'test'], loc='upper left')\n",
        "plt.show()"
      ],
      "execution_count": 41,
      "outputs": [
        {
          "output_type": "stream",
          "text": [
            "dict_keys(['val_loss', 'val_accuracy', 'loss', 'accuracy'])\n"
          ],
          "name": "stdout"
        },
        {
          "output_type": "display_data",
          "data": {
            "image/png": "[encoded data removed]",
            "text/plain": [
              "<Figure size 864x576 with 1 Axes>"
            ]
          },
          "metadata": {
            "tags": [],
            "needs_background": "light"
          }
        },
        {
          "output_type": "display_data",
          "data": {
            "image/png": "[encoded data removed]",
            "text/plain": [
              "<Figure size 864x576 with 1 Axes>"
            ]
          },
          "metadata": {
            "tags": [],
            "needs_background": "light"
          }
        }
      ]
    },
    {
      "cell_type": "code",
      "metadata": {
        "id": "prRXa_pFdDVC",
        "colab_type": "code",
        "colab": {
          "base_uri": "https://localhost:8080/",
          "height": 865
        },
        "outputId": "a130d964-1a1a-4988-ed60-9d77b147c83b"
      },
      "source": [
        "from keras.models import Sequential\n",
        "from keras.layers import Dense\n",
        "from keras.utils.vis_utils import plot_model\n",
        "plot_model(model, to_file='model_plot.png', show_shapes=True, show_layer_names=True)"
      ],
      "execution_count": 42,
      "outputs": [
        {
          "output_type": "execute_result",
          "data": {
            "image/png": "[encoded data removed]",
            "text/plain": [
              "<IPython.core.display.Image object>"
            ]
          },
          "metadata": {
            "tags": []
          },
          "execution_count": 42
        }
      ]
    },
    {
      "cell_type": "code",
      "metadata": {
        "id": "RXjBJvwy5uiM",
        "colab_type": "code",
        "colab": {
          "base_uri": "https://localhost:8080/",
          "height": 1000
        },
        "outputId": "fff5b17d-4f01-4a1a-ee7a-a2bca3a43443"
      },
      "source": [
        "from mlxtend.plotting import plot_confusion_matrix\n",
        "from sklearn.metrics import confusion_matrix\n",
        "from sklearn.metrics import accuracy_score \n",
        "from sklearn.metrics import classification_report\n",
        "from keras.models import Sequential\n",
        "from keras.layers import Conv2D, MaxPooling2D, Flatten, Dense, Dropout\n",
        "from keras import optimizers\n",
        "\n",
        "fruits = [64,128,256,512,1024]\n",
        "for x in fruits:\n",
        "  print(x)\n",
        "\n",
        "  model = Sequential()\n",
        "  model.add(Conv2D(filters=64, kernel_size=(3,3), padding='same', activation='relu',input_shape=X_train[0].shape))\n",
        "  model.add(Dropout(0.3))\n",
        "  model.add(MaxPooling2D(pool_size=2))\n",
        "  model.add(Flatten())\n",
        "  model.add(Dense(1024, activation='relu'))\n",
        "  model.add(Dropout(0.5))\n",
        "  model.add(Dense(6, activation='softmax'))\n",
        "  model.summary()\n",
        "  sgd = optimizers.adam(lr=0.0001)\n",
        "  model.compile(loss='sparse_categorical_crossentropy', optimizer=sgd, metrics=['accuracy'])\n",
        "  history = model.fit(X_train, y_train, epochs =30, validation_data= (X_test, y_test),batch_size=x, verbose=1)  \n",
        "  y_pred = model.predict_classes(X_test)\n",
        "  mat = confusion_matrix(y_test, y_pred)\n",
        "  print(confusion_matrix(y_test, y_pred))\n",
        "  print(accuracy_score(y_test,y_pred))\n",
        "  print(classification_report(y_test,y_pred))\n",
        "\n"
      ],
      "execution_count": 43,
      "outputs": [
        {
          "output_type": "stream",
          "text": [
            "64\n",
            "Model: \"sequential_2\"\n",
            "_________________________________________________________________\n",
            "Layer (type)                 Output Shape              Param #   \n",
            "=================================================================\n",
            "conv2d_2 (Conv2D)            (None, 200, 3, 64)        640       \n",
            "_________________________________________________________________\n",
            "dropout_3 (Dropout)          (None, 200, 3, 64)        0         \n",
            "_________________________________________________________________\n",
            "max_pooling2d_2 (MaxPooling2 (None, 100, 1, 64)        0         \n",
            "_________________________________________________________________\n",
            "flatten_2 (Flatten)          (None, 6400)              0         \n",
            "_________________________________________________________________\n",
            "dense_3 (Dense)              (None, 1024)              6554624   \n",
            "_________________________________________________________________\n",
            "dropout_4 (Dropout)          (None, 1024)              0         \n",
            "_________________________________________________________________\n",
            "dense_4 (Dense)              (None, 6)                 6150      \n",
            "=================================================================\n",
            "Total params: 6,561,414\n",
            "Trainable params: 6,561,414\n",
            "Non-trainable params: 0\n",
            "_________________________________________________________________\n",
            "Train on 90232 samples, validate on 22559 samples\n",
            "Epoch 1/30\n",
            "90232/90232 [==============================] - 10s 105us/step - loss: 0.5159 - accuracy: 0.8189 - val_loss: 0.3053 - val_accuracy: 0.9261\n",
            "Epoch 2/30\n",
            "90232/90232 [==============================] - 9s 102us/step - loss: 0.2619 - accuracy: 0.9160 - val_loss: 0.2333 - val_accuracy: 0.9379\n",
            "Epoch 3/30\n",
            "90232/90232 [==============================] - 9s 101us/step - loss: 0.2040 - accuracy: 0.9323 - val_loss: 0.1864 - val_accuracy: 0.9483\n",
            "Epoch 4/30\n",
            "90232/90232 [==============================] - 9s 101us/step - loss: 0.1733 - accuracy: 0.9430 - val_loss: 0.1630 - val_accuracy: 0.9535\n",
            "Epoch 5/30\n",
            "90232/90232 [==============================] - 9s 101us/step - loss: 0.1491 - accuracy: 0.9504 - val_loss: 0.1466 - val_accuracy: 0.9583\n",
            "Epoch 6/30\n",
            "90232/90232 [==============================] - 9s 101us/step - loss: 0.1341 - accuracy: 0.9554 - val_loss: 0.1434 - val_accuracy: 0.9577\n",
            "Epoch 7/30\n",
            "90232/90232 [==============================] - 10s 106us/step - loss: 0.1220 - accuracy: 0.9593 - val_loss: 0.1298 - val_accuracy: 0.9619\n",
            "Epoch 8/30\n",
            "90232/90232 [==============================] - 9s 103us/step - loss: 0.1105 - accuracy: 0.9630 - val_loss: 0.1294 - val_accuracy: 0.9603\n",
            "Epoch 9/30\n",
            "90232/90232 [==============================] - 9s 101us/step - loss: 0.1013 - accuracy: 0.9660 - val_loss: 0.1212 - val_accuracy: 0.9642\n",
            "Epoch 10/30\n",
            "90232/90232 [==============================] - 9s 101us/step - loss: 0.0956 - accuracy: 0.9680 - val_loss: 0.1165 - val_accuracy: 0.9648\n",
            "Epoch 11/30\n",
            "90232/90232 [==============================] - 9s 101us/step - loss: 0.0891 - accuracy: 0.9699 - val_loss: 0.1111 - val_accuracy: 0.9665\n",
            "Epoch 12/30\n",
            "90232/90232 [==============================] - 9s 101us/step - loss: 0.0812 - accuracy: 0.9730 - val_loss: 0.1094 - val_accuracy: 0.9667\n",
            "Epoch 13/30\n",
            "90232/90232 [==============================] - 9s 101us/step - loss: 0.0778 - accuracy: 0.9741 - val_loss: 0.1041 - val_accuracy: 0.9675\n",
            "Epoch 14/30\n",
            "90232/90232 [==============================] - 9s 101us/step - loss: 0.0731 - accuracy: 0.9760 - val_loss: 0.1037 - val_accuracy: 0.9682\n",
            "Epoch 15/30\n",
            "90232/90232 [==============================] - 9s 101us/step - loss: 0.0686 - accuracy: 0.9772 - val_loss: 0.1074 - val_accuracy: 0.9685\n",
            "Epoch 16/30\n",
            "90232/90232 [==============================] - 9s 101us/step - loss: 0.0651 - accuracy: 0.9784 - val_loss: 0.1022 - val_accuracy: 0.9691\n",
            "Epoch 17/30\n",
            "90232/90232 [==============================] - 9s 101us/step - loss: 0.0628 - accuracy: 0.9790 - val_loss: 0.1059 - val_accuracy: 0.9677\n",
            "Epoch 18/30\n",
            "90232/90232 [==============================] - 9s 101us/step - loss: 0.0598 - accuracy: 0.9799 - val_loss: 0.0988 - val_accuracy: 0.9699\n",
            "Epoch 19/30\n",
            "90232/90232 [==============================] - 9s 101us/step - loss: 0.0563 - accuracy: 0.9811 - val_loss: 0.1008 - val_accuracy: 0.9687\n",
            "Epoch 20/30\n",
            "90232/90232 [==============================] - 9s 101us/step - loss: 0.0534 - accuracy: 0.9815 - val_loss: 0.1028 - val_accuracy: 0.9681\n",
            "Epoch 21/30\n",
            "90232/90232 [==============================] - 9s 101us/step - loss: 0.0507 - accuracy: 0.9829 - val_loss: 0.0973 - val_accuracy: 0.9702\n",
            "Epoch 22/30\n",
            "90232/90232 [==============================] - 9s 101us/step - loss: 0.0494 - accuracy: 0.9834 - val_loss: 0.1018 - val_accuracy: 0.9682\n",
            "Epoch 23/30\n",
            "90232/90232 [==============================] - 9s 101us/step - loss: 0.0448 - accuracy: 0.9847 - val_loss: 0.1002 - val_accuracy: 0.9689\n",
            "Epoch 24/30\n",
            "90232/90232 [==============================] - 9s 101us/step - loss: 0.0452 - accuracy: 0.9851 - val_loss: 0.0987 - val_accuracy: 0.9703\n",
            "Epoch 25/30\n",
            "90232/90232 [==============================] - 9s 101us/step - loss: 0.0435 - accuracy: 0.9857 - val_loss: 0.1013 - val_accuracy: 0.9690\n",
            "Epoch 26/30\n",
            "90232/90232 [==============================] - 9s 101us/step - loss: 0.0398 - accuracy: 0.9872 - val_loss: 0.1009 - val_accuracy: 0.9701\n",
            "Epoch 27/30\n",
            "90232/90232 [==============================] - 9s 101us/step - loss: 0.0406 - accuracy: 0.9863 - val_loss: 0.1010 - val_accuracy: 0.9699\n",
            "Epoch 28/30\n",
            "90232/90232 [==============================] - 9s 101us/step - loss: 0.0392 - accuracy: 0.9867 - val_loss: 0.1042 - val_accuracy: 0.9687\n",
            "Epoch 29/30\n",
            "90232/90232 [==============================] - 9s 101us/step - loss: 0.0382 - accuracy: 0.9871 - val_loss: 0.0983 - val_accuracy: 0.9709\n",
            "Epoch 30/30\n",
            "90232/90232 [==============================] - 9s 101us/step - loss: 0.0349 - accuracy: 0.9881 - val_loss: 0.1031 - val_accuracy: 0.9696\n",
            "[[3606    8   26   29   16    6]\n",
            " [   4 3973    0    0    7    1]\n",
            " [   9    0 3018  167    1   34]\n",
            " [   2    1   86 3444    0   33]\n",
            " [  19   20    0    0 3664    0]\n",
            " [   5    1   95  112    3 4169]]\n",
            "0.9696351788643114\n",
            "              precision    recall  f1-score   support\n",
            "\n",
            "           0       0.99      0.98      0.98      3691\n",
            "           1       0.99      1.00      0.99      3985\n",
            "           2       0.94      0.93      0.94      3229\n",
            "           3       0.92      0.97      0.94      3566\n",
            "           4       0.99      0.99      0.99      3703\n",
            "           5       0.98      0.95      0.97      4385\n",
            "\n",
            "    accuracy                           0.97     22559\n",
            "   macro avg       0.97      0.97      0.97     22559\n",
            "weighted avg       0.97      0.97      0.97     22559\n",
            "\n",
            "128\n",
            "Model: \"sequential_3\"\n",
            "_________________________________________________________________\n",
            "Layer (type)                 Output Shape              Param #   \n",
            "=================================================================\n",
            "conv2d_3 (Conv2D)            (None, 200, 3, 64)        640       \n",
            "_________________________________________________________________\n",
            "dropout_5 (Dropout)          (None, 200, 3, 64)        0         \n",
            "_________________________________________________________________\n",
            "max_pooling2d_3 (MaxPooling2 (None, 100, 1, 64)        0         \n",
            "_________________________________________________________________\n",
            "flatten_3 (Flatten)          (None, 6400)              0         \n",
            "_________________________________________________________________\n",
            "dense_5 (Dense)              (None, 1024)              6554624   \n",
            "_________________________________________________________________\n",
            "dropout_6 (Dropout)          (None, 1024)              0         \n",
            "_________________________________________________________________\n",
            "dense_6 (Dense)              (None, 6)                 6150      \n",
            "=================================================================\n",
            "Total params: 6,561,414\n",
            "Trainable params: 6,561,414\n",
            "Non-trainable params: 0\n",
            "_________________________________________________________________\n",
            "Train on 90232 samples, validate on 22559 samples\n",
            "Epoch 1/30\n",
            "90232/90232 [==============================] - 6s 66us/step - loss: 0.5874 - accuracy: 0.7939 - val_loss: 0.3545 - val_accuracy: 0.9126\n",
            "Epoch 2/30\n",
            "90232/90232 [==============================] - 6s 63us/step - loss: 0.2903 - accuracy: 0.9077 - val_loss: 0.2557 - val_accuracy: 0.9354\n",
            "Epoch 3/30\n",
            "90232/90232 [==============================] - 6s 65us/step - loss: 0.2210 - accuracy: 0.9291 - val_loss: 0.2035 - val_accuracy: 0.9452\n",
            "Epoch 4/30\n",
            "90232/90232 [==============================] - 6s 63us/step - loss: 0.1874 - accuracy: 0.9395 - val_loss: 0.1797 - val_accuracy: 0.9521\n",
            "Epoch 5/30\n",
            "90232/90232 [==============================] - 6s 62us/step - loss: 0.1632 - accuracy: 0.9470 - val_loss: 0.1620 - val_accuracy: 0.9558\n",
            "Epoch 6/30\n",
            "90232/90232 [==============================] - 6s 63us/step - loss: 0.1457 - accuracy: 0.9522 - val_loss: 0.1562 - val_accuracy: 0.9559\n",
            "Epoch 7/30\n",
            "90232/90232 [==============================] - 6s 63us/step - loss: 0.1332 - accuracy: 0.9555 - val_loss: 0.1488 - val_accuracy: 0.9582\n",
            "Epoch 8/30\n",
            "90232/90232 [==============================] - 6s 62us/step - loss: 0.1209 - accuracy: 0.9602 - val_loss: 0.1341 - val_accuracy: 0.9611\n",
            "Epoch 9/30\n",
            "90232/90232 [==============================] - 6s 63us/step - loss: 0.1124 - accuracy: 0.9631 - val_loss: 0.1260 - val_accuracy: 0.9638\n",
            "Epoch 10/30\n",
            "90232/90232 [==============================] - 6s 62us/step - loss: 0.1059 - accuracy: 0.9650 - val_loss: 0.1234 - val_accuracy: 0.9657\n",
            "Epoch 11/30\n",
            "90232/90232 [==============================] - 6s 62us/step - loss: 0.0983 - accuracy: 0.9675 - val_loss: 0.1187 - val_accuracy: 0.9641\n",
            "Epoch 12/30\n",
            "90232/90232 [==============================] - 6s 63us/step - loss: 0.0916 - accuracy: 0.9693 - val_loss: 0.1122 - val_accuracy: 0.9669\n",
            "Epoch 13/30\n",
            "90232/90232 [==============================] - 6s 62us/step - loss: 0.0851 - accuracy: 0.9716 - val_loss: 0.1141 - val_accuracy: 0.9670\n",
            "Epoch 14/30\n",
            "90232/90232 [==============================] - 6s 63us/step - loss: 0.0824 - accuracy: 0.9730 - val_loss: 0.1159 - val_accuracy: 0.9640\n",
            "Epoch 15/30\n",
            "90232/90232 [==============================] - 6s 64us/step - loss: 0.0761 - accuracy: 0.9747 - val_loss: 0.1082 - val_accuracy: 0.9666\n",
            "Epoch 16/30\n",
            "90232/90232 [==============================] - 6s 64us/step - loss: 0.0722 - accuracy: 0.9763 - val_loss: 0.1107 - val_accuracy: 0.9672\n",
            "Epoch 17/30\n",
            "90232/90232 [==============================] - 6s 67us/step - loss: 0.0708 - accuracy: 0.9762 - val_loss: 0.1093 - val_accuracy: 0.9664\n",
            "Epoch 18/30\n",
            "90232/90232 [==============================] - 6s 65us/step - loss: 0.0669 - accuracy: 0.9776 - val_loss: 0.1058 - val_accuracy: 0.9675\n",
            "Epoch 19/30\n",
            "90232/90232 [==============================] - 6s 63us/step - loss: 0.0614 - accuracy: 0.9795 - val_loss: 0.1063 - val_accuracy: 0.9685\n",
            "Epoch 20/30\n",
            "90232/90232 [==============================] - 6s 64us/step - loss: 0.0596 - accuracy: 0.9797 - val_loss: 0.1032 - val_accuracy: 0.9687\n",
            "Epoch 21/30\n",
            "90232/90232 [==============================] - 6s 63us/step - loss: 0.0580 - accuracy: 0.9802 - val_loss: 0.1012 - val_accuracy: 0.9690\n",
            "Epoch 22/30\n",
            "90232/90232 [==============================] - 6s 64us/step - loss: 0.0552 - accuracy: 0.9817 - val_loss: 0.1003 - val_accuracy: 0.9690\n",
            "Epoch 23/30\n",
            "90232/90232 [==============================] - 6s 63us/step - loss: 0.0513 - accuracy: 0.9832 - val_loss: 0.1018 - val_accuracy: 0.9683\n",
            "Epoch 24/30\n",
            "90232/90232 [==============================] - 6s 64us/step - loss: 0.0503 - accuracy: 0.9833 - val_loss: 0.1005 - val_accuracy: 0.9693\n",
            "Epoch 25/30\n",
            "90232/90232 [==============================] - 6s 63us/step - loss: 0.0487 - accuracy: 0.9835 - val_loss: 0.1036 - val_accuracy: 0.9671\n",
            "Epoch 26/30\n",
            "90232/90232 [==============================] - 6s 63us/step - loss: 0.0456 - accuracy: 0.9848 - val_loss: 0.0980 - val_accuracy: 0.9692\n",
            "Epoch 27/30\n",
            "90232/90232 [==============================] - 6s 63us/step - loss: 0.0454 - accuracy: 0.9847 - val_loss: 0.1017 - val_accuracy: 0.9688\n",
            "Epoch 28/30\n",
            "90232/90232 [==============================] - 6s 63us/step - loss: 0.0427 - accuracy: 0.9857 - val_loss: 0.1014 - val_accuracy: 0.9690\n",
            "Epoch 29/30\n",
            "90232/90232 [==============================] - 6s 64us/step - loss: 0.0422 - accuracy: 0.9862 - val_loss: 0.0995 - val_accuracy: 0.9689\n",
            "Epoch 30/30\n",
            "90232/90232 [==============================] - 6s 63us/step - loss: 0.0406 - accuracy: 0.9863 - val_loss: 0.0966 - val_accuracy: 0.9702\n",
            "[[3614    8   26   27   12    4]\n",
            " [   8 3972    0    0    4    1]\n",
            " [  14    0 3002  150    1   62]\n",
            " [   4    0   78 3433    0   51]\n",
            " [  23   21    0    0 3659    0]\n",
            " [   7    0   70   98    3 4207]]\n",
            "0.9702114455427989\n",
            "              precision    recall  f1-score   support\n",
            "\n",
            "           0       0.98      0.98      0.98      3691\n",
            "           1       0.99      1.00      0.99      3985\n",
            "           2       0.95      0.93      0.94      3229\n",
            "           3       0.93      0.96      0.94      3566\n",
            "           4       0.99      0.99      0.99      3703\n",
            "           5       0.97      0.96      0.97      4385\n",
            "\n",
            "    accuracy                           0.97     22559\n",
            "   macro avg       0.97      0.97      0.97     22559\n",
            "weighted avg       0.97      0.97      0.97     22559\n",
            "\n",
            "256\n",
            "Model: \"sequential_4\"\n",
            "_________________________________________________________________\n",
            "Layer (type)                 Output Shape              Param #   \n",
            "=================================================================\n",
            "conv2d_4 (Conv2D)            (None, 200, 3, 64)        640       \n",
            "_________________________________________________________________\n",
            "dropout_7 (Dropout)          (None, 200, 3, 64)        0         \n",
            "_________________________________________________________________\n",
            "max_pooling2d_4 (MaxPooling2 (None, 100, 1, 64)        0         \n",
            "_________________________________________________________________\n",
            "flatten_4 (Flatten)          (None, 6400)              0         \n",
            "_________________________________________________________________\n",
            "dense_7 (Dense)              (None, 1024)              6554624   \n",
            "_________________________________________________________________\n",
            "dropout_8 (Dropout)          (None, 1024)              0         \n",
            "_________________________________________________________________\n",
            "dense_8 (Dense)              (None, 6)                 6150      \n",
            "=================================================================\n",
            "Total params: 6,561,414\n",
            "Trainable params: 6,561,414\n",
            "Non-trainable params: 0\n",
            "_________________________________________________________________\n",
            "Train on 90232 samples, validate on 22559 samples\n",
            "Epoch 1/30\n",
            "90232/90232 [==============================] - 4s 47us/step - loss: 0.6796 - accuracy: 0.7616 - val_loss: 0.4450 - val_accuracy: 0.8792\n",
            "Epoch 2/30\n",
            "90232/90232 [==============================] - 4s 44us/step - loss: 0.3413 - accuracy: 0.8915 - val_loss: 0.2937 - val_accuracy: 0.9291\n",
            "Epoch 3/30\n",
            "90232/90232 [==============================] - 4s 45us/step - loss: 0.2569 - accuracy: 0.9193 - val_loss: 0.2407 - val_accuracy: 0.9402\n",
            "Epoch 4/30\n",
            "90232/90232 [==============================] - 4s 44us/step - loss: 0.2151 - accuracy: 0.9316 - val_loss: 0.2171 - val_accuracy: 0.9424\n",
            "Epoch 5/30\n",
            "90232/90232 [==============================] - 4s 45us/step - loss: 0.1880 - accuracy: 0.9405 - val_loss: 0.1847 - val_accuracy: 0.9505\n",
            "Epoch 6/30\n",
            "90232/90232 [==============================] - 4s 44us/step - loss: 0.1671 - accuracy: 0.9469 - val_loss: 0.1685 - val_accuracy: 0.9549\n",
            "Epoch 7/30\n",
            "90232/90232 [==============================] - 4s 44us/step - loss: 0.1532 - accuracy: 0.9505 - val_loss: 0.1610 - val_accuracy: 0.9545\n",
            "Epoch 8/30\n",
            "90232/90232 [==============================] - 4s 45us/step - loss: 0.1413 - accuracy: 0.9541 - val_loss: 0.1529 - val_accuracy: 0.9582\n",
            "Epoch 9/30\n",
            "90232/90232 [==============================] - 4s 44us/step - loss: 0.1309 - accuracy: 0.9581 - val_loss: 0.1470 - val_accuracy: 0.9582\n",
            "Epoch 10/30\n",
            "90232/90232 [==============================] - 4s 45us/step - loss: 0.1227 - accuracy: 0.9604 - val_loss: 0.1364 - val_accuracy: 0.9607\n",
            "Epoch 11/30\n",
            "90232/90232 [==============================] - 4s 44us/step - loss: 0.1128 - accuracy: 0.9637 - val_loss: 0.1329 - val_accuracy: 0.9621\n",
            "Epoch 12/30\n",
            "90232/90232 [==============================] - 4s 44us/step - loss: 0.1085 - accuracy: 0.9646 - val_loss: 0.1312 - val_accuracy: 0.9627\n",
            "Epoch 13/30\n",
            "90232/90232 [==============================] - 4s 45us/step - loss: 0.1016 - accuracy: 0.9666 - val_loss: 0.1270 - val_accuracy: 0.9628\n",
            "Epoch 14/30\n",
            "90232/90232 [==============================] - 4s 44us/step - loss: 0.0952 - accuracy: 0.9685 - val_loss: 0.1268 - val_accuracy: 0.9626\n",
            "Epoch 15/30\n",
            "90232/90232 [==============================] - 4s 44us/step - loss: 0.0906 - accuracy: 0.9701 - val_loss: 0.1189 - val_accuracy: 0.9646\n",
            "Epoch 16/30\n",
            "90232/90232 [==============================] - 4s 45us/step - loss: 0.0879 - accuracy: 0.9705 - val_loss: 0.1166 - val_accuracy: 0.9652\n",
            "Epoch 17/30\n",
            "90232/90232 [==============================] - 4s 44us/step - loss: 0.0833 - accuracy: 0.9723 - val_loss: 0.1156 - val_accuracy: 0.9658\n",
            "Epoch 18/30\n",
            "90232/90232 [==============================] - 4s 45us/step - loss: 0.0793 - accuracy: 0.9740 - val_loss: 0.1130 - val_accuracy: 0.9661\n",
            "Epoch 19/30\n",
            "90232/90232 [==============================] - 4s 44us/step - loss: 0.0749 - accuracy: 0.9755 - val_loss: 0.1125 - val_accuracy: 0.9656\n",
            "Epoch 20/30\n",
            "90232/90232 [==============================] - 4s 44us/step - loss: 0.0718 - accuracy: 0.9768 - val_loss: 0.1091 - val_accuracy: 0.9675\n",
            "Epoch 21/30\n",
            "90232/90232 [==============================] - 4s 45us/step - loss: 0.0694 - accuracy: 0.9772 - val_loss: 0.1106 - val_accuracy: 0.9656\n",
            "Epoch 22/30\n",
            "90232/90232 [==============================] - 4s 44us/step - loss: 0.0659 - accuracy: 0.9785 - val_loss: 0.1067 - val_accuracy: 0.9674\n",
            "Epoch 23/30\n",
            "90232/90232 [==============================] - 4s 45us/step - loss: 0.0640 - accuracy: 0.9786 - val_loss: 0.1072 - val_accuracy: 0.9690\n",
            "Epoch 24/30\n",
            "90232/90232 [==============================] - 4s 44us/step - loss: 0.0615 - accuracy: 0.9800 - val_loss: 0.1029 - val_accuracy: 0.9680\n",
            "Epoch 25/30\n",
            "90232/90232 [==============================] - 4s 44us/step - loss: 0.0590 - accuracy: 0.9810 - val_loss: 0.1040 - val_accuracy: 0.9685\n",
            "Epoch 26/30\n",
            "90232/90232 [==============================] - 4s 45us/step - loss: 0.0572 - accuracy: 0.9814 - val_loss: 0.1062 - val_accuracy: 0.9674\n",
            "Epoch 27/30\n",
            "90232/90232 [==============================] - 4s 44us/step - loss: 0.0546 - accuracy: 0.9819 - val_loss: 0.1010 - val_accuracy: 0.9674\n",
            "Epoch 28/30\n",
            "90232/90232 [==============================] - 4s 44us/step - loss: 0.0529 - accuracy: 0.9822 - val_loss: 0.1035 - val_accuracy: 0.9686\n",
            "Epoch 29/30\n",
            "90232/90232 [==============================] - 4s 45us/step - loss: 0.0514 - accuracy: 0.9829 - val_loss: 0.1012 - val_accuracy: 0.9687\n",
            "Epoch 30/30\n",
            "90232/90232 [==============================] - 4s 44us/step - loss: 0.0507 - accuracy: 0.9833 - val_loss: 0.1018 - val_accuracy: 0.9691\n",
            "[[3609    7   27   24   16    8]\n",
            " [   9 3970    0    0    5    1]\n",
            " [  14    0 3019  126    1   69]\n",
            " [   8    0  104 3401    0   53]\n",
            " [  23   31    1    0 3648    0]\n",
            " [  10    0   85   71    3 4216]]\n",
            "0.9691475685978989\n",
            "              precision    recall  f1-score   support\n",
            "\n",
            "           0       0.98      0.98      0.98      3691\n",
            "           1       0.99      1.00      0.99      3985\n",
            "           2       0.93      0.93      0.93      3229\n",
            "           3       0.94      0.95      0.95      3566\n",
            "           4       0.99      0.99      0.99      3703\n",
            "           5       0.97      0.96      0.97      4385\n",
            "\n",
            "    accuracy                           0.97     22559\n",
            "   macro avg       0.97      0.97      0.97     22559\n",
            "weighted avg       0.97      0.97      0.97     22559\n",
            "\n",
            "512\n",
            "Model: \"sequential_5\"\n",
            "_________________________________________________________________\n",
            "Layer (type)                 Output Shape              Param #   \n",
            "=================================================================\n",
            "conv2d_5 (Conv2D)            (None, 200, 3, 64)        640       \n",
            "_________________________________________________________________\n",
            "dropout_9 (Dropout)          (None, 200, 3, 64)        0         \n",
            "_________________________________________________________________\n",
            "max_pooling2d_5 (MaxPooling2 (None, 100, 1, 64)        0         \n",
            "_________________________________________________________________\n",
            "flatten_5 (Flatten)          (None, 6400)              0         \n",
            "_________________________________________________________________\n",
            "dense_9 (Dense)              (None, 1024)              6554624   \n",
            "_________________________________________________________________\n",
            "dropout_10 (Dropout)         (None, 1024)              0         \n",
            "_________________________________________________________________\n",
            "dense_10 (Dense)             (None, 6)                 6150      \n",
            "=================================================================\n",
            "Total params: 6,561,414\n",
            "Trainable params: 6,561,414\n",
            "Non-trainable params: 0\n",
            "_________________________________________________________________\n",
            "Train on 90232 samples, validate on 22559 samples\n",
            "Epoch 1/30\n",
            "90232/90232 [==============================] - 3s 37us/step - loss: 0.7899 - accuracy: 0.7190 - val_loss: 0.5400 - val_accuracy: 0.8615\n",
            "Epoch 2/30\n",
            "90232/90232 [==============================] - 3s 33us/step - loss: 0.4202 - accuracy: 0.8664 - val_loss: 0.3729 - val_accuracy: 0.9108\n",
            "Epoch 3/30\n",
            "90232/90232 [==============================] - 3s 33us/step - loss: 0.3173 - accuracy: 0.9009 - val_loss: 0.3012 - val_accuracy: 0.9300\n",
            "Epoch 4/30\n",
            "90232/90232 [==============================] - 3s 34us/step - loss: 0.2643 - accuracy: 0.9161 - val_loss: 0.2579 - val_accuracy: 0.9390\n",
            "Epoch 5/30\n",
            "90232/90232 [==============================] - 3s 33us/step - loss: 0.2272 - accuracy: 0.9280 - val_loss: 0.2261 - val_accuracy: 0.9416\n",
            "Epoch 6/30\n",
            "90232/90232 [==============================] - 3s 33us/step - loss: 0.2037 - accuracy: 0.9366 - val_loss: 0.2066 - val_accuracy: 0.9464\n",
            "Epoch 7/30\n",
            "90232/90232 [==============================] - 3s 34us/step - loss: 0.1839 - accuracy: 0.9419 - val_loss: 0.1900 - val_accuracy: 0.9516\n",
            "Epoch 8/30\n",
            "90232/90232 [==============================] - 3s 34us/step - loss: 0.1678 - accuracy: 0.9471 - val_loss: 0.1755 - val_accuracy: 0.9536\n",
            "Epoch 9/30\n",
            "90232/90232 [==============================] - 3s 34us/step - loss: 0.1568 - accuracy: 0.9504 - val_loss: 0.1666 - val_accuracy: 0.9544\n",
            "Epoch 10/30\n",
            "90232/90232 [==============================] - 3s 33us/step - loss: 0.1448 - accuracy: 0.9542 - val_loss: 0.1567 - val_accuracy: 0.9572\n",
            "Epoch 11/30\n",
            "90232/90232 [==============================] - 3s 33us/step - loss: 0.1366 - accuracy: 0.9563 - val_loss: 0.1524 - val_accuracy: 0.9593\n",
            "Epoch 12/30\n",
            "90232/90232 [==============================] - 3s 32us/step - loss: 0.1287 - accuracy: 0.9589 - val_loss: 0.1451 - val_accuracy: 0.9589\n",
            "Epoch 13/30\n",
            "90232/90232 [==============================] - 3s 32us/step - loss: 0.1236 - accuracy: 0.9598 - val_loss: 0.1427 - val_accuracy: 0.9608\n",
            "Epoch 14/30\n",
            "90232/90232 [==============================] - 3s 34us/step - loss: 0.1173 - accuracy: 0.9618 - val_loss: 0.1362 - val_accuracy: 0.9613\n",
            "Epoch 15/30\n",
            "90232/90232 [==============================] - 3s 33us/step - loss: 0.1086 - accuracy: 0.9649 - val_loss: 0.1350 - val_accuracy: 0.9612\n",
            "Epoch 16/30\n",
            "90232/90232 [==============================] - 3s 33us/step - loss: 0.1047 - accuracy: 0.9660 - val_loss: 0.1300 - val_accuracy: 0.9633\n",
            "Epoch 17/30\n",
            "90232/90232 [==============================] - 3s 34us/step - loss: 0.1009 - accuracy: 0.9672 - val_loss: 0.1254 - val_accuracy: 0.9642\n",
            "Epoch 18/30\n",
            "90232/90232 [==============================] - 3s 33us/step - loss: 0.0965 - accuracy: 0.9685 - val_loss: 0.1239 - val_accuracy: 0.9636\n",
            "Epoch 19/30\n",
            "90232/90232 [==============================] - 3s 33us/step - loss: 0.0932 - accuracy: 0.9697 - val_loss: 0.1228 - val_accuracy: 0.9640\n",
            "Epoch 20/30\n",
            "90232/90232 [==============================] - 3s 33us/step - loss: 0.0888 - accuracy: 0.9712 - val_loss: 0.1168 - val_accuracy: 0.9647\n",
            "Epoch 21/30\n",
            "90232/90232 [==============================] - 3s 33us/step - loss: 0.0843 - accuracy: 0.9724 - val_loss: 0.1174 - val_accuracy: 0.9654\n",
            "Epoch 22/30\n",
            "90232/90232 [==============================] - 3s 33us/step - loss: 0.0831 - accuracy: 0.9728 - val_loss: 0.1156 - val_accuracy: 0.9660\n",
            "Epoch 23/30\n",
            "90232/90232 [==============================] - 3s 33us/step - loss: 0.0800 - accuracy: 0.9744 - val_loss: 0.1132 - val_accuracy: 0.9656\n",
            "Epoch 24/30\n",
            "90232/90232 [==============================] - 3s 34us/step - loss: 0.0755 - accuracy: 0.9748 - val_loss: 0.1119 - val_accuracy: 0.9671\n",
            "Epoch 25/30\n",
            "90232/90232 [==============================] - 3s 33us/step - loss: 0.0742 - accuracy: 0.9756 - val_loss: 0.1121 - val_accuracy: 0.9657\n",
            "Epoch 26/30\n",
            "90232/90232 [==============================] - 3s 33us/step - loss: 0.0725 - accuracy: 0.9761 - val_loss: 0.1112 - val_accuracy: 0.9672\n",
            "Epoch 27/30\n",
            "90232/90232 [==============================] - 3s 33us/step - loss: 0.0698 - accuracy: 0.9775 - val_loss: 0.1098 - val_accuracy: 0.9679\n",
            "Epoch 28/30\n",
            "90232/90232 [==============================] - 3s 33us/step - loss: 0.0663 - accuracy: 0.9782 - val_loss: 0.1088 - val_accuracy: 0.9679\n",
            "Epoch 29/30\n",
            "90232/90232 [==============================] - 3s 33us/step - loss: 0.0636 - accuracy: 0.9791 - val_loss: 0.1060 - val_accuracy: 0.9680\n",
            "Epoch 30/30\n",
            "90232/90232 [==============================] - 3s 33us/step - loss: 0.0626 - accuracy: 0.9793 - val_loss: 0.1052 - val_accuracy: 0.9681\n",
            "[[3620    8   26   20   11    6]\n",
            " [   6 3959    0    0   19    1]\n",
            " [  17    0 2981  162    1   68]\n",
            " [   8    0   88 3417    0   53]\n",
            " [  27   32    1    0 3643    0]\n",
            " [  12    0   68   83    3 4219]]\n",
            "0.9680836916529988\n",
            "              precision    recall  f1-score   support\n",
            "\n",
            "           0       0.98      0.98      0.98      3691\n",
            "           1       0.99      0.99      0.99      3985\n",
            "           2       0.94      0.92      0.93      3229\n",
            "           3       0.93      0.96      0.94      3566\n",
            "           4       0.99      0.98      0.99      3703\n",
            "           5       0.97      0.96      0.97      4385\n",
            "\n",
            "    accuracy                           0.97     22559\n",
            "   macro avg       0.97      0.97      0.97     22559\n",
            "weighted avg       0.97      0.97      0.97     22559\n",
            "\n",
            "1024\n",
            "Model: \"sequential_6\"\n",
            "_________________________________________________________________\n",
            "Layer (type)                 Output Shape              Param #   \n",
            "=================================================================\n",
            "conv2d_6 (Conv2D)            (None, 200, 3, 64)        640       \n",
            "_________________________________________________________________\n",
            "dropout_11 (Dropout)         (None, 200, 3, 64)        0         \n",
            "_________________________________________________________________\n",
            "max_pooling2d_6 (MaxPooling2 (None, 100, 1, 64)        0         \n",
            "_________________________________________________________________\n",
            "flatten_6 (Flatten)          (None, 6400)              0         \n",
            "_________________________________________________________________\n",
            "dense_11 (Dense)             (None, 1024)              6554624   \n",
            "_________________________________________________________________\n",
            "dropout_12 (Dropout)         (None, 1024)              0         \n",
            "_________________________________________________________________\n",
            "dense_12 (Dense)             (None, 6)                 6150      \n",
            "=================================================================\n",
            "Total params: 6,561,414\n",
            "Trainable params: 6,561,414\n",
            "Non-trainable params: 0\n",
            "_________________________________________________________________\n",
            "Train on 90232 samples, validate on 22559 samples\n",
            "Epoch 1/30\n",
            "90232/90232 [==============================] - 3s 31us/step - loss: 0.9277 - accuracy: 0.6627 - val_loss: 0.6854 - val_accuracy: 0.8189\n",
            "Epoch 2/30\n",
            "90232/90232 [==============================] - 2s 27us/step - loss: 0.5353 - accuracy: 0.8267 - val_loss: 0.4799 - val_accuracy: 0.8957\n",
            "Epoch 3/30\n",
            "90232/90232 [==============================] - 2s 28us/step - loss: 0.4015 - accuracy: 0.8768 - val_loss: 0.3820 - val_accuracy: 0.9166\n",
            "Epoch 4/30\n",
            "90232/90232 [==============================] - 3s 28us/step - loss: 0.3306 - accuracy: 0.8983 - val_loss: 0.3268 - val_accuracy: 0.9235\n",
            "Epoch 5/30\n",
            "90232/90232 [==============================] - 2s 28us/step - loss: 0.2876 - accuracy: 0.9113 - val_loss: 0.2821 - val_accuracy: 0.9320\n",
            "Epoch 6/30\n",
            "90232/90232 [==============================] - 3s 28us/step - loss: 0.2570 - accuracy: 0.9207 - val_loss: 0.2570 - val_accuracy: 0.9388\n",
            "Epoch 7/30\n",
            "90232/90232 [==============================] - 3s 28us/step - loss: 0.2312 - accuracy: 0.9289 - val_loss: 0.2357 - val_accuracy: 0.9438\n",
            "Epoch 8/30\n",
            "90232/90232 [==============================] - 3s 28us/step - loss: 0.2138 - accuracy: 0.9338 - val_loss: 0.2174 - val_accuracy: 0.9462\n",
            "Epoch 9/30\n",
            "90232/90232 [==============================] - 3s 28us/step - loss: 0.1994 - accuracy: 0.9379 - val_loss: 0.2068 - val_accuracy: 0.9500\n",
            "Epoch 10/30\n",
            "90232/90232 [==============================] - 2s 27us/step - loss: 0.1831 - accuracy: 0.9435 - val_loss: 0.1929 - val_accuracy: 0.9533\n",
            "Epoch 11/30\n",
            "90232/90232 [==============================] - 2s 28us/step - loss: 0.1734 - accuracy: 0.9460 - val_loss: 0.1889 - val_accuracy: 0.9520\n",
            "Epoch 12/30\n",
            "90232/90232 [==============================] - 3s 28us/step - loss: 0.1644 - accuracy: 0.9489 - val_loss: 0.1771 - val_accuracy: 0.9535\n",
            "Epoch 13/30\n",
            "90232/90232 [==============================] - 2s 27us/step - loss: 0.1533 - accuracy: 0.9524 - val_loss: 0.1692 - val_accuracy: 0.9571\n",
            "Epoch 14/30\n",
            "90232/90232 [==============================] - 2s 27us/step - loss: 0.1465 - accuracy: 0.9536 - val_loss: 0.1608 - val_accuracy: 0.9569\n",
            "Epoch 15/30\n",
            "90232/90232 [==============================] - 2s 27us/step - loss: 0.1388 - accuracy: 0.9573 - val_loss: 0.1553 - val_accuracy: 0.9587\n",
            "Epoch 16/30\n",
            "90232/90232 [==============================] - 3s 28us/step - loss: 0.1334 - accuracy: 0.9575 - val_loss: 0.1510 - val_accuracy: 0.9589\n",
            "Epoch 17/30\n",
            "90232/90232 [==============================] - 2s 27us/step - loss: 0.1284 - accuracy: 0.9591 - val_loss: 0.1480 - val_accuracy: 0.9598\n",
            "Epoch 18/30\n",
            "90232/90232 [==============================] - 2s 28us/step - loss: 0.1237 - accuracy: 0.9611 - val_loss: 0.1452 - val_accuracy: 0.9610\n",
            "Epoch 19/30\n",
            "90232/90232 [==============================] - 2s 27us/step - loss: 0.1188 - accuracy: 0.9622 - val_loss: 0.1385 - val_accuracy: 0.9626\n",
            "Epoch 20/30\n",
            "90232/90232 [==============================] - 3s 28us/step - loss: 0.1142 - accuracy: 0.9644 - val_loss: 0.1364 - val_accuracy: 0.9628\n",
            "Epoch 21/30\n",
            "90232/90232 [==============================] - 2s 27us/step - loss: 0.1107 - accuracy: 0.9650 - val_loss: 0.1359 - val_accuracy: 0.9611\n",
            "Epoch 22/30\n",
            "90232/90232 [==============================] - 2s 27us/step - loss: 0.1062 - accuracy: 0.9660 - val_loss: 0.1304 - val_accuracy: 0.9620\n",
            "Epoch 23/30\n",
            "90232/90232 [==============================] - 2s 28us/step - loss: 0.1024 - accuracy: 0.9671 - val_loss: 0.1260 - val_accuracy: 0.9637\n",
            "Epoch 24/30\n",
            "90232/90232 [==============================] - 3s 28us/step - loss: 0.0986 - accuracy: 0.9684 - val_loss: 0.1271 - val_accuracy: 0.9650\n",
            "Epoch 25/30\n",
            "90232/90232 [==============================] - 2s 28us/step - loss: 0.0958 - accuracy: 0.9697 - val_loss: 0.1270 - val_accuracy: 0.9649\n",
            "Epoch 26/30\n",
            "90232/90232 [==============================] - 2s 28us/step - loss: 0.0919 - accuracy: 0.9709 - val_loss: 0.1213 - val_accuracy: 0.9655\n",
            "Epoch 27/30\n",
            "90232/90232 [==============================] - 2s 27us/step - loss: 0.0896 - accuracy: 0.9716 - val_loss: 0.1214 - val_accuracy: 0.9649\n",
            "Epoch 28/30\n",
            "90232/90232 [==============================] - 3s 28us/step - loss: 0.0862 - accuracy: 0.9726 - val_loss: 0.1210 - val_accuracy: 0.9654\n",
            "Epoch 29/30\n",
            "90232/90232 [==============================] - 2s 28us/step - loss: 0.0836 - accuracy: 0.9737 - val_loss: 0.1172 - val_accuracy: 0.9658\n",
            "Epoch 30/30\n",
            "90232/90232 [==============================] - 2s 27us/step - loss: 0.0814 - accuracy: 0.9738 - val_loss: 0.1176 - val_accuracy: 0.9665\n",
            "[[3616    8   27   23   14    3]\n",
            " [   6 3966    0    0   12    1]\n",
            " [  20    0 3005  168    1   35]\n",
            " [   8    0   93 3426    0   39]\n",
            " [  31   30    1    0 3641    0]\n",
            " [  13    0   94  125    3 4150]]\n",
            "0.9665322044416862\n",
            "              precision    recall  f1-score   support\n",
            "\n",
            "           0       0.98      0.98      0.98      3691\n",
            "           1       0.99      1.00      0.99      3985\n",
            "           2       0.93      0.93      0.93      3229\n",
            "           3       0.92      0.96      0.94      3566\n",
            "           4       0.99      0.98      0.99      3703\n",
            "           5       0.98      0.95      0.96      4385\n",
            "\n",
            "    accuracy                           0.97     22559\n",
            "   macro avg       0.97      0.97      0.97     22559\n",
            "weighted avg       0.97      0.97      0.97     22559\n",
            "\n"
          ],
          "name": "stdout"
        }
      ]
    },
    {
      "cell_type": "code",
      "metadata": {
        "id": "GO95nZfz52IF",
        "colab_type": "code",
        "colab": {
          "base_uri": "https://localhost:8080/",
          "height": 1000
        },
        "outputId": "0077758f-819c-4e2d-e41e-ae8e446b36cf"
      },
      "source": [
        "from mlxtend.plotting import plot_confusion_matrix\n",
        "from sklearn.metrics import confusion_matrix\n",
        "from sklearn.metrics import accuracy_score \n",
        "from sklearn.metrics import classification_report\n",
        "from keras.models import Sequential\n",
        "from keras.layers import Conv2D, MaxPooling2D, Flatten, Dense, Dropout\n",
        "from keras import optimizers\n",
        "\n",
        "fruits = [0.0001,0.001,0.01,0.1,1.0]\n",
        "for x in fruits:\n",
        "  print(x)\n",
        "  model = Sequential()\n",
        "  model.add(Conv2D(filters=64, kernel_size=(3,3), padding='same', activation='relu',input_shape=X_train[0].shape))\n",
        "  model.add(Dropout(0.3))\n",
        "  model.add(MaxPooling2D(pool_size=2))\n",
        "  model.add(Flatten())\n",
        "  model.add(Dense(1024, activation='relu'))\n",
        "  model.add(Dropout(0.5))\n",
        "  model.add(Dense(6, activation='softmax'))\n",
        "  model.summary() \n",
        "  sgd = optimizers.adam(lr=x)\n",
        "  model.compile(loss='sparse_categorical_crossentropy', optimizer=sgd, metrics=['accuracy'])\n",
        "  history = model.fit(X_train, y_train, epochs =30, validation_data= (X_test, y_test),batch_size=64, verbose=1)  \n",
        "  y_pred = model.predict_classes(X_test)\n",
        "  mat = confusion_matrix(y_test, y_pred)\n",
        "  print(confusion_matrix(y_test, y_pred))\n",
        "  print(accuracy_score(y_test,y_pred))\n",
        "  print(classification_report(y_test,y_pred))"
      ],
      "execution_count": 44,
      "outputs": [
        {
          "output_type": "stream",
          "text": [
            "0.0001\n",
            "Model: \"sequential_7\"\n",
            "_________________________________________________________________\n",
            "Layer (type)                 Output Shape              Param #   \n",
            "=================================================================\n",
            "conv2d_7 (Conv2D)            (None, 200, 3, 64)        640       \n",
            "_________________________________________________________________\n",
            "dropout_13 (Dropout)         (None, 200, 3, 64)        0         \n",
            "_________________________________________________________________\n",
            "max_pooling2d_7 (MaxPooling2 (None, 100, 1, 64)        0         \n",
            "_________________________________________________________________\n",
            "flatten_7 (Flatten)          (None, 6400)              0         \n",
            "_________________________________________________________________\n",
            "dense_13 (Dense)             (None, 1024)              6554624   \n",
            "_________________________________________________________________\n",
            "dropout_14 (Dropout)         (None, 1024)              0         \n",
            "_________________________________________________________________\n",
            "dense_14 (Dense)             (None, 6)                 6150      \n",
            "=================================================================\n",
            "Total params: 6,561,414\n",
            "Trainable params: 6,561,414\n",
            "Non-trainable params: 0\n",
            "_________________________________________________________________\n",
            "Train on 90232 samples, validate on 22559 samples\n",
            "Epoch 1/30\n",
            "90232/90232 [==============================] - 10s 109us/step - loss: 0.5198 - accuracy: 0.8171 - val_loss: 0.3075 - val_accuracy: 0.9254\n",
            "Epoch 2/30\n",
            "90232/90232 [==============================] - 9s 105us/step - loss: 0.2637 - accuracy: 0.9154 - val_loss: 0.2247 - val_accuracy: 0.9418\n",
            "Epoch 3/30\n",
            "90232/90232 [==============================] - 9s 105us/step - loss: 0.2045 - accuracy: 0.9334 - val_loss: 0.1872 - val_accuracy: 0.9498\n",
            "Epoch 4/30\n",
            "90232/90232 [==============================] - 9s 105us/step - loss: 0.1706 - accuracy: 0.9441 - val_loss: 0.1673 - val_accuracy: 0.9527\n",
            "Epoch 5/30\n",
            "90232/90232 [==============================] - 9s 105us/step - loss: 0.1511 - accuracy: 0.9499 - val_loss: 0.1453 - val_accuracy: 0.9566\n",
            "Epoch 6/30\n",
            "90232/90232 [==============================] - 10s 105us/step - loss: 0.1338 - accuracy: 0.9553 - val_loss: 0.1382 - val_accuracy: 0.9612\n",
            "Epoch 7/30\n",
            "90232/90232 [==============================] - 9s 104us/step - loss: 0.1219 - accuracy: 0.9593 - val_loss: 0.1278 - val_accuracy: 0.9621\n",
            "Epoch 8/30\n",
            "90232/90232 [==============================] - 9s 105us/step - loss: 0.1114 - accuracy: 0.9627 - val_loss: 0.1270 - val_accuracy: 0.9625\n",
            "Epoch 9/30\n",
            "90232/90232 [==============================] - 9s 105us/step - loss: 0.1034 - accuracy: 0.9661 - val_loss: 0.1193 - val_accuracy: 0.9632\n",
            "Epoch 10/30\n",
            "90232/90232 [==============================] - 9s 105us/step - loss: 0.0938 - accuracy: 0.9691 - val_loss: 0.1167 - val_accuracy: 0.9656\n",
            "Epoch 11/30\n",
            "90232/90232 [==============================] - 9s 105us/step - loss: 0.0900 - accuracy: 0.9697 - val_loss: 0.1178 - val_accuracy: 0.9653\n",
            "Epoch 12/30\n",
            "90232/90232 [==============================] - 10s 106us/step - loss: 0.0823 - accuracy: 0.9730 - val_loss: 0.1095 - val_accuracy: 0.9671\n",
            "Epoch 13/30\n",
            "90232/90232 [==============================] - 10s 105us/step - loss: 0.0782 - accuracy: 0.9743 - val_loss: 0.1063 - val_accuracy: 0.9681\n",
            "Epoch 14/30\n",
            "90232/90232 [==============================] - 10s 106us/step - loss: 0.0733 - accuracy: 0.9757 - val_loss: 0.1069 - val_accuracy: 0.9660\n",
            "Epoch 15/30\n",
            "90232/90232 [==============================] - 10s 106us/step - loss: 0.0674 - accuracy: 0.9773 - val_loss: 0.1068 - val_accuracy: 0.9667\n",
            "Epoch 16/30\n",
            "90232/90232 [==============================] - 10s 106us/step - loss: 0.0653 - accuracy: 0.9777 - val_loss: 0.1012 - val_accuracy: 0.9686\n",
            "Epoch 17/30\n",
            "90232/90232 [==============================] - 10s 108us/step - loss: 0.0614 - accuracy: 0.9794 - val_loss: 0.1017 - val_accuracy: 0.9691\n",
            "Epoch 18/30\n",
            "90232/90232 [==============================] - 10s 105us/step - loss: 0.0575 - accuracy: 0.9810 - val_loss: 0.0994 - val_accuracy: 0.9694\n",
            "Epoch 19/30\n",
            "90232/90232 [==============================] - 10s 106us/step - loss: 0.0574 - accuracy: 0.9801 - val_loss: 0.1042 - val_accuracy: 0.9683\n",
            "Epoch 20/30\n",
            "90232/90232 [==============================] - 9s 105us/step - loss: 0.0524 - accuracy: 0.9824 - val_loss: 0.0991 - val_accuracy: 0.9692\n",
            "Epoch 21/30\n",
            "90232/90232 [==============================] - 9s 105us/step - loss: 0.0505 - accuracy: 0.9827 - val_loss: 0.0985 - val_accuracy: 0.9699\n",
            "Epoch 22/30\n",
            "90232/90232 [==============================] - 9s 105us/step - loss: 0.0488 - accuracy: 0.9835 - val_loss: 0.0981 - val_accuracy: 0.9703\n",
            "Epoch 23/30\n",
            "90232/90232 [==============================] - 9s 105us/step - loss: 0.0471 - accuracy: 0.9843 - val_loss: 0.0985 - val_accuracy: 0.9709\n",
            "Epoch 24/30\n",
            "90232/90232 [==============================] - 9s 105us/step - loss: 0.0439 - accuracy: 0.9854 - val_loss: 0.0992 - val_accuracy: 0.9692\n",
            "Epoch 25/30\n",
            "90232/90232 [==============================] - 9s 105us/step - loss: 0.0442 - accuracy: 0.9850 - val_loss: 0.1012 - val_accuracy: 0.9680\n",
            "Epoch 26/30\n",
            "90232/90232 [==============================] - 10s 106us/step - loss: 0.0405 - accuracy: 0.9864 - val_loss: 0.0968 - val_accuracy: 0.9708\n",
            "Epoch 27/30\n",
            "90232/90232 [==============================] - 10s 108us/step - loss: 0.0395 - accuracy: 0.9866 - val_loss: 0.0970 - val_accuracy: 0.9700\n",
            "Epoch 28/30\n",
            "90232/90232 [==============================] - 9s 105us/step - loss: 0.0404 - accuracy: 0.9867 - val_loss: 0.0933 - val_accuracy: 0.9714\n",
            "Epoch 29/30\n",
            "90232/90232 [==============================] - 9s 104us/step - loss: 0.0367 - accuracy: 0.9877 - val_loss: 0.0972 - val_accuracy: 0.9715\n",
            "Epoch 30/30\n",
            "90232/90232 [==============================] - 9s 104us/step - loss: 0.0372 - accuracy: 0.9876 - val_loss: 0.1007 - val_accuracy: 0.9708\n",
            "[[3615    8   26   29    6    7]\n",
            " [   3 3974    0    0    7    1]\n",
            " [  10    0 3026  154    1   38]\n",
            " [   7    0   83 3448    1   27]\n",
            " [  25   15    1    0 3662    0]\n",
            " [   8    0   89  112    1 4175]]\n",
            "0.9707877122212865\n",
            "              precision    recall  f1-score   support\n",
            "\n",
            "           0       0.99      0.98      0.98      3691\n",
            "           1       0.99      1.00      1.00      3985\n",
            "           2       0.94      0.94      0.94      3229\n",
            "           3       0.92      0.97      0.94      3566\n",
            "           4       1.00      0.99      0.99      3703\n",
            "           5       0.98      0.95      0.97      4385\n",
            "\n",
            "    accuracy                           0.97     22559\n",
            "   macro avg       0.97      0.97      0.97     22559\n",
            "weighted avg       0.97      0.97      0.97     22559\n",
            "\n",
            "0.001\n",
            "Model: \"sequential_8\"\n",
            "_________________________________________________________________\n",
            "Layer (type)                 Output Shape              Param #   \n",
            "=================================================================\n",
            "conv2d_8 (Conv2D)            (None, 200, 3, 64)        640       \n",
            "_________________________________________________________________\n",
            "dropout_15 (Dropout)         (None, 200, 3, 64)        0         \n",
            "_________________________________________________________________\n",
            "max_pooling2d_8 (MaxPooling2 (None, 100, 1, 64)        0         \n",
            "_________________________________________________________________\n",
            "flatten_8 (Flatten)          (None, 6400)              0         \n",
            "_________________________________________________________________\n",
            "dense_15 (Dense)             (None, 1024)              6554624   \n",
            "_________________________________________________________________\n",
            "dropout_16 (Dropout)         (None, 1024)              0         \n",
            "_________________________________________________________________\n",
            "dense_16 (Dense)             (None, 6)                 6150      \n",
            "=================================================================\n",
            "Total params: 6,561,414\n",
            "Trainable params: 6,561,414\n",
            "Non-trainable params: 0\n",
            "_________________________________________________________________\n",
            "Train on 90232 samples, validate on 22559 samples\n",
            "Epoch 1/30\n",
            "90232/90232 [==============================] - 10s 109us/step - loss: 0.4527 - accuracy: 0.8306 - val_loss: 0.2463 - val_accuracy: 0.9244\n",
            "Epoch 2/30\n",
            "90232/90232 [==============================] - 9s 105us/step - loss: 0.2517 - accuracy: 0.9113 - val_loss: 0.1870 - val_accuracy: 0.9429\n",
            "Epoch 3/30\n",
            "90232/90232 [==============================] - 9s 105us/step - loss: 0.2026 - accuracy: 0.9295 - val_loss: 0.1648 - val_accuracy: 0.9524\n",
            "Epoch 4/30\n",
            "90232/90232 [==============================] - 9s 105us/step - loss: 0.1743 - accuracy: 0.9402 - val_loss: 0.1411 - val_accuracy: 0.9576\n",
            "Epoch 5/30\n",
            "90232/90232 [==============================] - 9s 105us/step - loss: 0.1571 - accuracy: 0.9453 - val_loss: 0.1347 - val_accuracy: 0.9598\n",
            "Epoch 6/30\n",
            "90232/90232 [==============================] - 9s 105us/step - loss: 0.1413 - accuracy: 0.9515 - val_loss: 0.1214 - val_accuracy: 0.9627\n",
            "Epoch 7/30\n",
            "90232/90232 [==============================] - 9s 105us/step - loss: 0.1275 - accuracy: 0.9563 - val_loss: 0.1220 - val_accuracy: 0.9603\n",
            "Epoch 8/30\n",
            "90232/90232 [==============================] - 9s 105us/step - loss: 0.1183 - accuracy: 0.9594 - val_loss: 0.1188 - val_accuracy: 0.9625\n",
            "Epoch 9/30\n",
            "90232/90232 [==============================] - 9s 104us/step - loss: 0.1126 - accuracy: 0.9612 - val_loss: 0.1077 - val_accuracy: 0.9668\n",
            "Epoch 10/30\n",
            "90232/90232 [==============================] - 9s 105us/step - loss: 0.1033 - accuracy: 0.9647 - val_loss: 0.1085 - val_accuracy: 0.9673\n",
            "Epoch 11/30\n",
            "90232/90232 [==============================] - 9s 104us/step - loss: 0.0988 - accuracy: 0.9658 - val_loss: 0.1077 - val_accuracy: 0.9668\n",
            "Epoch 12/30\n",
            "90232/90232 [==============================] - 9s 105us/step - loss: 0.0925 - accuracy: 0.9687 - val_loss: 0.1117 - val_accuracy: 0.9665\n",
            "Epoch 13/30\n",
            "90232/90232 [==============================] - 9s 105us/step - loss: 0.0872 - accuracy: 0.9704 - val_loss: 0.1159 - val_accuracy: 0.9648\n",
            "Epoch 14/30\n",
            "90232/90232 [==============================] - 9s 105us/step - loss: 0.0826 - accuracy: 0.9720 - val_loss: 0.1109 - val_accuracy: 0.9671\n",
            "Epoch 15/30\n",
            "90232/90232 [==============================] - 9s 105us/step - loss: 0.0837 - accuracy: 0.9716 - val_loss: 0.1085 - val_accuracy: 0.9665\n",
            "Epoch 16/30\n",
            "90232/90232 [==============================] - 9s 105us/step - loss: 0.0760 - accuracy: 0.9738 - val_loss: 0.1114 - val_accuracy: 0.9679\n",
            "Epoch 17/30\n",
            "90232/90232 [==============================] - 9s 105us/step - loss: 0.0783 - accuracy: 0.9735 - val_loss: 0.1132 - val_accuracy: 0.9672\n",
            "Epoch 18/30\n",
            "90232/90232 [==============================] - 9s 105us/step - loss: 0.0727 - accuracy: 0.9756 - val_loss: 0.1062 - val_accuracy: 0.9690\n",
            "Epoch 19/30\n",
            "90232/90232 [==============================] - 10s 108us/step - loss: 0.0703 - accuracy: 0.9765 - val_loss: 0.1152 - val_accuracy: 0.9668\n",
            "Epoch 20/30\n",
            "90232/90232 [==============================] - 9s 104us/step - loss: 0.0710 - accuracy: 0.9767 - val_loss: 0.1119 - val_accuracy: 0.9685\n",
            "Epoch 21/30\n",
            "90232/90232 [==============================] - 9s 104us/step - loss: 0.0639 - accuracy: 0.9784 - val_loss: 0.1264 - val_accuracy: 0.9650\n",
            "Epoch 22/30\n",
            "90232/90232 [==============================] - 9s 105us/step - loss: 0.0621 - accuracy: 0.9788 - val_loss: 0.1137 - val_accuracy: 0.9692\n",
            "Epoch 23/30\n",
            "90232/90232 [==============================] - 9s 105us/step - loss: 0.0661 - accuracy: 0.9777 - val_loss: 0.1145 - val_accuracy: 0.9699\n",
            "Epoch 24/30\n",
            "90232/90232 [==============================] - 9s 104us/step - loss: 0.0604 - accuracy: 0.9794 - val_loss: 0.1154 - val_accuracy: 0.9695\n",
            "Epoch 25/30\n",
            "90232/90232 [==============================] - 9s 105us/step - loss: 0.0614 - accuracy: 0.9798 - val_loss: 0.1189 - val_accuracy: 0.9699\n",
            "Epoch 26/30\n",
            "90232/90232 [==============================] - 9s 105us/step - loss: 0.0599 - accuracy: 0.9804 - val_loss: 0.1102 - val_accuracy: 0.9716\n",
            "Epoch 27/30\n",
            "90232/90232 [==============================] - 9s 105us/step - loss: 0.0566 - accuracy: 0.9813 - val_loss: 0.1123 - val_accuracy: 0.9705\n",
            "Epoch 28/30\n",
            "90232/90232 [==============================] - 9s 105us/step - loss: 0.0582 - accuracy: 0.9807 - val_loss: 0.1158 - val_accuracy: 0.9707\n",
            "Epoch 29/30\n",
            "90232/90232 [==============================] - 10s 109us/step - loss: 0.0545 - accuracy: 0.9821 - val_loss: 0.1264 - val_accuracy: 0.9691\n",
            "Epoch 30/30\n",
            "90232/90232 [==============================] - 10s 106us/step - loss: 0.0535 - accuracy: 0.9825 - val_loss: 0.1163 - val_accuracy: 0.9706\n",
            "[[3626    6   19   23   14    3]\n",
            " [   0 3981    1    0    2    1]\n",
            " [  10    0 3016  179    1   23]\n",
            " [   4    0   74 3467    0   21]\n",
            " [  19   24    0    1 3659    0]\n",
            " [   9    0  105  124    1 4146]]\n",
            "0.970566071191099\n",
            "              precision    recall  f1-score   support\n",
            "\n",
            "           0       0.99      0.98      0.99      3691\n",
            "           1       0.99      1.00      1.00      3985\n",
            "           2       0.94      0.93      0.94      3229\n",
            "           3       0.91      0.97      0.94      3566\n",
            "           4       1.00      0.99      0.99      3703\n",
            "           5       0.99      0.95      0.97      4385\n",
            "\n",
            "    accuracy                           0.97     22559\n",
            "   macro avg       0.97      0.97      0.97     22559\n",
            "weighted avg       0.97      0.97      0.97     22559\n",
            "\n",
            "0.01\n",
            "Model: \"sequential_9\"\n",
            "_________________________________________________________________\n",
            "Layer (type)                 Output Shape              Param #   \n",
            "=================================================================\n",
            "conv2d_9 (Conv2D)            (None, 200, 3, 64)        640       \n",
            "_________________________________________________________________\n",
            "dropout_17 (Dropout)         (None, 200, 3, 64)        0         \n",
            "_________________________________________________________________\n",
            "max_pooling2d_9 (MaxPooling2 (None, 100, 1, 64)        0         \n",
            "_________________________________________________________________\n",
            "flatten_9 (Flatten)          (None, 6400)              0         \n",
            "_________________________________________________________________\n",
            "dense_17 (Dense)             (None, 1024)              6554624   \n",
            "_________________________________________________________________\n",
            "dropout_18 (Dropout)         (None, 1024)              0         \n",
            "_________________________________________________________________\n",
            "dense_18 (Dense)             (None, 6)                 6150      \n",
            "=================================================================\n",
            "Total params: 6,561,414\n",
            "Trainable params: 6,561,414\n",
            "Non-trainable params: 0\n",
            "_________________________________________________________________\n",
            "Train on 90232 samples, validate on 22559 samples\n",
            "Epoch 1/30\n",
            "90232/90232 [==============================] - 10s 109us/step - loss: 0.6608 - accuracy: 0.7800 - val_loss: 0.3667 - val_accuracy: 0.8808\n",
            "Epoch 2/30\n",
            "90232/90232 [==============================] - 9s 105us/step - loss: 0.4564 - accuracy: 0.8410 - val_loss: 0.3046 - val_accuracy: 0.8987\n",
            "Epoch 3/30\n",
            "90232/90232 [==============================] - 9s 105us/step - loss: 0.4307 - accuracy: 0.8524 - val_loss: 0.3123 - val_accuracy: 0.8990\n",
            "Epoch 4/30\n",
            "90232/90232 [==============================] - 9s 105us/step - loss: 0.4319 - accuracy: 0.8544 - val_loss: 0.3074 - val_accuracy: 0.9023\n",
            "Epoch 5/30\n",
            "90232/90232 [==============================] - 9s 105us/step - loss: 0.3952 - accuracy: 0.8673 - val_loss: 0.2967 - val_accuracy: 0.9020\n",
            "Epoch 6/30\n",
            "90232/90232 [==============================] - 9s 105us/step - loss: 0.4142 - accuracy: 0.8643 - val_loss: 0.2766 - val_accuracy: 0.9092\n",
            "Epoch 7/30\n",
            "90232/90232 [==============================] - 9s 104us/step - loss: 0.3871 - accuracy: 0.8702 - val_loss: 0.2737 - val_accuracy: 0.9121\n",
            "Epoch 8/30\n",
            "90232/90232 [==============================] - 9s 104us/step - loss: 0.3875 - accuracy: 0.8717 - val_loss: 0.2981 - val_accuracy: 0.8980\n",
            "Epoch 9/30\n",
            "90232/90232 [==============================] - 9s 104us/step - loss: 0.3951 - accuracy: 0.8709 - val_loss: 0.2840 - val_accuracy: 0.9037\n",
            "Epoch 10/30\n",
            "90232/90232 [==============================] - 9s 104us/step - loss: 0.3783 - accuracy: 0.8766 - val_loss: 0.2490 - val_accuracy: 0.9196\n",
            "Epoch 11/30\n",
            "90232/90232 [==============================] - 9s 104us/step - loss: 0.3791 - accuracy: 0.8769 - val_loss: 0.3430 - val_accuracy: 0.8847\n",
            "Epoch 12/30\n",
            "90232/90232 [==============================] - 9s 104us/step - loss: 0.4010 - accuracy: 0.8707 - val_loss: 0.2465 - val_accuracy: 0.9257\n",
            "Epoch 13/30\n",
            "90232/90232 [==============================] - 9s 104us/step - loss: 0.3598 - accuracy: 0.8835 - val_loss: 0.2517 - val_accuracy: 0.9161\n",
            "Epoch 14/30\n",
            "90232/90232 [==============================] - 9s 104us/step - loss: 0.3831 - accuracy: 0.8778 - val_loss: 0.2733 - val_accuracy: 0.9093\n",
            "Epoch 15/30\n",
            "90232/90232 [==============================] - 9s 105us/step - loss: 0.3711 - accuracy: 0.8822 - val_loss: 0.2718 - val_accuracy: 0.9126\n",
            "Epoch 16/30\n",
            "90232/90232 [==============================] - 9s 105us/step - loss: 0.3719 - accuracy: 0.8823 - val_loss: 0.2834 - val_accuracy: 0.9103\n",
            "Epoch 17/30\n",
            "90232/90232 [==============================] - 9s 104us/step - loss: 0.3533 - accuracy: 0.8862 - val_loss: 0.2642 - val_accuracy: 0.9116\n",
            "Epoch 18/30\n",
            "90232/90232 [==============================] - 9s 105us/step - loss: 0.4656 - accuracy: 0.8633 - val_loss: 0.2776 - val_accuracy: 0.9142\n",
            "Epoch 19/30\n",
            "90232/90232 [==============================] - 9s 104us/step - loss: 0.3840 - accuracy: 0.8749 - val_loss: 0.2722 - val_accuracy: 0.9166\n",
            "Epoch 20/30\n",
            "90232/90232 [==============================] - 9s 104us/step - loss: 0.3859 - accuracy: 0.8770 - val_loss: 0.2692 - val_accuracy: 0.9215\n",
            "Epoch 21/30\n",
            "90232/90232 [==============================] - 10s 108us/step - loss: 0.3698 - accuracy: 0.8820 - val_loss: 0.2716 - val_accuracy: 0.9147\n",
            "Epoch 22/30\n",
            "90232/90232 [==============================] - 9s 105us/step - loss: 0.3897 - accuracy: 0.8788 - val_loss: 0.2747 - val_accuracy: 0.9165\n",
            "Epoch 23/30\n",
            "90232/90232 [==============================] - 9s 105us/step - loss: 0.3558 - accuracy: 0.8829 - val_loss: 0.2744 - val_accuracy: 0.9156\n",
            "Epoch 24/30\n",
            "90232/90232 [==============================] - 9s 105us/step - loss: 0.3715 - accuracy: 0.8825 - val_loss: 0.2742 - val_accuracy: 0.9181\n",
            "Epoch 25/30\n",
            "90232/90232 [==============================] - 9s 105us/step - loss: 0.3876 - accuracy: 0.8776 - val_loss: 0.2798 - val_accuracy: 0.9132\n",
            "Epoch 26/30\n",
            "90232/90232 [==============================] - 9s 105us/step - loss: 0.4094 - accuracy: 0.8704 - val_loss: 0.2796 - val_accuracy: 0.9045\n",
            "Epoch 27/30\n",
            "90232/90232 [==============================] - 9s 105us/step - loss: 0.3949 - accuracy: 0.8741 - val_loss: 0.2753 - val_accuracy: 0.9197\n",
            "Epoch 28/30\n",
            "90232/90232 [==============================] - 9s 104us/step - loss: 0.4171 - accuracy: 0.8698 - val_loss: 0.2763 - val_accuracy: 0.9155\n",
            "Epoch 29/30\n",
            "90232/90232 [==============================] - 9s 104us/step - loss: 0.3836 - accuracy: 0.8772 - val_loss: 0.2466 - val_accuracy: 0.9208\n",
            "Epoch 30/30\n",
            "90232/90232 [==============================] - 9s 105us/step - loss: 0.4116 - accuracy: 0.8696 - val_loss: 0.3170 - val_accuracy: 0.8961\n",
            "[[3512   12   23  100   41    3]\n",
            " [   4 3669    0    3  309    0]\n",
            " [  25    0 2240  918    0   46]\n",
            " [   9    0   51 3471    6   29]\n",
            " [  46   64    3    1 3588    1]\n",
            " [  19    0   38  590    2 3736]]\n",
            "0.8961390132541336\n",
            "              precision    recall  f1-score   support\n",
            "\n",
            "           0       0.97      0.95      0.96      3691\n",
            "           1       0.98      0.92      0.95      3985\n",
            "           2       0.95      0.69      0.80      3229\n",
            "           3       0.68      0.97      0.80      3566\n",
            "           4       0.91      0.97      0.94      3703\n",
            "           5       0.98      0.85      0.91      4385\n",
            "\n",
            "    accuracy                           0.90     22559\n",
            "   macro avg       0.91      0.89      0.89     22559\n",
            "weighted avg       0.92      0.90      0.90     22559\n",
            "\n",
            "0.1\n",
            "Model: \"sequential_10\"\n",
            "_________________________________________________________________\n",
            "Layer (type)                 Output Shape              Param #   \n",
            "=================================================================\n",
            "conv2d_10 (Conv2D)           (None, 200, 3, 64)        640       \n",
            "_________________________________________________________________\n",
            "dropout_19 (Dropout)         (None, 200, 3, 64)        0         \n",
            "_________________________________________________________________\n",
            "max_pooling2d_10 (MaxPooling (None, 100, 1, 64)        0         \n",
            "_________________________________________________________________\n",
            "flatten_10 (Flatten)         (None, 6400)              0         \n",
            "_________________________________________________________________\n",
            "dense_19 (Dense)             (None, 1024)              6554624   \n",
            "_________________________________________________________________\n",
            "dropout_20 (Dropout)         (None, 1024)              0         \n",
            "_________________________________________________________________\n",
            "dense_20 (Dense)             (None, 6)                 6150      \n",
            "=================================================================\n",
            "Total params: 6,561,414\n",
            "Trainable params: 6,561,414\n",
            "Non-trainable params: 0\n",
            "_________________________________________________________________\n",
            "Train on 90232 samples, validate on 22559 samples\n",
            "Epoch 1/30\n",
            "90232/90232 [==============================] - 10s 113us/step - loss: 4.9563 - accuracy: 0.3515 - val_loss: 1.6049 - val_accuracy: 0.2751\n",
            "Epoch 2/30\n",
            "90232/90232 [==============================] - 10s 109us/step - loss: 1.7376 - accuracy: 0.2205 - val_loss: 1.7915 - val_accuracy: 0.1766\n",
            "Epoch 3/30\n",
            "90232/90232 [==============================] - 10s 106us/step - loss: 1.7943 - accuracy: 0.1820 - val_loss: 1.7959 - val_accuracy: 0.1766\n",
            "Epoch 4/30\n",
            "90232/90232 [==============================] - 10s 106us/step - loss: 1.7939 - accuracy: 0.1837 - val_loss: 1.7940 - val_accuracy: 0.1944\n",
            "Epoch 5/30\n",
            "90232/90232 [==============================] - 10s 106us/step - loss: 1.7935 - accuracy: 0.1821 - val_loss: 1.7902 - val_accuracy: 0.1636\n",
            "Epoch 6/30\n",
            "90232/90232 [==============================] - 10s 106us/step - loss: 1.7938 - accuracy: 0.1842 - val_loss: 1.7946 - val_accuracy: 0.1944\n",
            "Epoch 7/30\n",
            "90232/90232 [==============================] - 10s 106us/step - loss: 1.7939 - accuracy: 0.1846 - val_loss: 1.7904 - val_accuracy: 0.1636\n",
            "Epoch 8/30\n",
            "90232/90232 [==============================] - 9s 105us/step - loss: 1.7940 - accuracy: 0.1840 - val_loss: 1.8014 - val_accuracy: 0.1766\n",
            "Epoch 9/30\n",
            "90232/90232 [==============================] - 10s 106us/step - loss: 1.7934 - accuracy: 0.1837 - val_loss: 1.7945 - val_accuracy: 0.1636\n",
            "Epoch 10/30\n",
            "90232/90232 [==============================] - 10s 106us/step - loss: 1.7933 - accuracy: 0.1843 - val_loss: 1.7919 - val_accuracy: 0.1944\n",
            "Epoch 11/30\n",
            "90232/90232 [==============================] - 10s 106us/step - loss: 5.0423 - accuracy: 0.1864 - val_loss: 1.7977 - val_accuracy: 0.1944\n",
            "Epoch 12/30\n",
            "90232/90232 [==============================] - 10s 106us/step - loss: 1.7938 - accuracy: 0.1840 - val_loss: 1.7920 - val_accuracy: 0.1944\n",
            "Epoch 13/30\n",
            "90232/90232 [==============================] - 10s 106us/step - loss: 1.7942 - accuracy: 0.1819 - val_loss: 1.7904 - val_accuracy: 0.1641\n",
            "Epoch 14/30\n",
            "90232/90232 [==============================] - 9s 105us/step - loss: 1.7939 - accuracy: 0.1820 - val_loss: 1.7918 - val_accuracy: 0.1581\n",
            "Epoch 15/30\n",
            "90232/90232 [==============================] - 10s 106us/step - loss: 1.7938 - accuracy: 0.1839 - val_loss: 1.7969 - val_accuracy: 0.1766\n",
            "Epoch 16/30\n",
            "90232/90232 [==============================] - 10s 106us/step - loss: 1.7939 - accuracy: 0.1841 - val_loss: 1.8039 - val_accuracy: 0.1581\n",
            "Epoch 17/30\n",
            "90232/90232 [==============================] - 10s 105us/step - loss: 1.7941 - accuracy: 0.1840 - val_loss: 1.7908 - val_accuracy: 0.1944\n",
            "Epoch 18/30\n",
            "90232/90232 [==============================] - 9s 105us/step - loss: 1.9224 - accuracy: 0.1813 - val_loss: 1.7895 - val_accuracy: 0.1944\n",
            "Epoch 19/30\n",
            "90232/90232 [==============================] - 9s 105us/step - loss: 1.7934 - accuracy: 0.1832 - val_loss: 1.7952 - val_accuracy: 0.1944\n",
            "Epoch 20/30\n",
            "90232/90232 [==============================] - 9s 105us/step - loss: 1.7941 - accuracy: 0.1835 - val_loss: 1.8036 - val_accuracy: 0.1944\n",
            "Epoch 21/30\n",
            "90232/90232 [==============================] - 9s 105us/step - loss: 1.7940 - accuracy: 0.1834 - val_loss: 1.7910 - val_accuracy: 0.1766\n",
            "Epoch 22/30\n",
            "90232/90232 [==============================] - 9s 105us/step - loss: 1.7946 - accuracy: 0.1802 - val_loss: 1.7939 - val_accuracy: 0.1641\n",
            "Epoch 23/30\n",
            "90232/90232 [==============================] - 10s 108us/step - loss: 1.7936 - accuracy: 0.1823 - val_loss: 1.7923 - val_accuracy: 0.1944\n",
            "Epoch 24/30\n",
            "90232/90232 [==============================] - 10s 106us/step - loss: 1.7935 - accuracy: 0.1837 - val_loss: 1.8024 - val_accuracy: 0.1581\n",
            "Epoch 25/30\n",
            "90232/90232 [==============================] - 9s 105us/step - loss: 1.7936 - accuracy: 0.1832 - val_loss: 1.7878 - val_accuracy: 0.1944\n",
            "Epoch 26/30\n",
            "90232/90232 [==============================] - 9s 105us/step - loss: 1.7933 - accuracy: 0.1858 - val_loss: 1.7993 - val_accuracy: 0.1944\n",
            "Epoch 27/30\n",
            "90232/90232 [==============================] - 9s 105us/step - loss: 1.7941 - accuracy: 0.1815 - val_loss: 1.7934 - val_accuracy: 0.1944\n",
            "Epoch 28/30\n",
            "90232/90232 [==============================] - 10s 105us/step - loss: 1.7940 - accuracy: 0.1850 - val_loss: 1.7929 - val_accuracy: 0.1944\n",
            "Epoch 29/30\n",
            "90232/90232 [==============================] - 9s 105us/step - loss: 1.7948 - accuracy: 0.1807 - val_loss: 1.7964 - val_accuracy: 0.1636\n",
            "Epoch 30/30\n",
            "90232/90232 [==============================] - 9s 105us/step - loss: 1.7939 - accuracy: 0.1822 - val_loss: 1.7918 - val_accuracy: 0.1944\n",
            "[[   0    0    0    0    0 3691]\n",
            " [   0    0    0    0    0 3985]\n",
            " [   0    0    0    0    0 3229]\n",
            " [   0    0    0    0    0 3566]\n",
            " [   0    0    0    0    0 3703]\n",
            " [   0    0    0    0    0 4385]]\n",
            "0.1943791834744448\n",
            "              precision    recall  f1-score   support\n",
            "\n",
            "           0       0.00      0.00      0.00      3691\n",
            "           1       0.00      0.00      0.00      3985\n",
            "           2       0.00      0.00      0.00      3229\n",
            "           3       0.00      0.00      0.00      3566\n",
            "           4       0.00      0.00      0.00      3703\n",
            "           5       0.19      1.00      0.33      4385\n",
            "\n",
            "    accuracy                           0.19     22559\n",
            "   macro avg       0.03      0.17      0.05     22559\n",
            "weighted avg       0.04      0.19      0.06     22559\n",
            "\n",
            "1.0\n",
            "Model: \"sequential_11\"\n",
            "_________________________________________________________________\n",
            "Layer (type)                 Output Shape              Param #   \n",
            "=================================================================\n",
            "conv2d_11 (Conv2D)           (None, 200, 3, 64)        640       \n",
            "_________________________________________________________________\n",
            "dropout_21 (Dropout)         (None, 200, 3, 64)        0         \n",
            "_________________________________________________________________\n",
            "max_pooling2d_11 (MaxPooling (None, 100, 1, 64)        0         \n",
            "_________________________________________________________________\n",
            "flatten_11 (Flatten)         (None, 6400)              0         \n",
            "_________________________________________________________________\n",
            "dense_21 (Dense)             (None, 1024)              6554624   \n",
            "_________________________________________________________________\n",
            "dropout_22 (Dropout)         (None, 1024)              0         \n",
            "_________________________________________________________________\n",
            "dense_22 (Dense)             (None, 6)                 6150      \n",
            "=================================================================\n",
            "Total params: 6,561,414\n",
            "Trainable params: 6,561,414\n",
            "Non-trainable params: 0\n",
            "_________________________________________________________________\n"
          ],
          "name": "stdout"
        },
        {
          "output_type": "stream",
          "text": [
            "/usr/local/lib/python3.6/dist-packages/sklearn/metrics/_classification.py:1272: UndefinedMetricWarning: Precision and F-score are ill-defined and being set to 0.0 in labels with no predicted samples. Use `zero_division` parameter to control this behavior.\n",
            "  _warn_prf(average, modifier, msg_start, len(result))\n"
          ],
          "name": "stderr"
        },
        {
          "output_type": "stream",
          "text": [
            "Train on 90232 samples, validate on 22559 samples\n",
            "Epoch 1/30\n",
            "90232/90232 [==============================] - 10s 109us/step - loss: 7689.2445 - accuracy: 0.1814 - val_loss: 33.4591 - val_accuracy: 0.1579\n",
            "Epoch 2/30\n",
            "90232/90232 [==============================] - 9s 105us/step - loss: 5680.4722 - accuracy: 0.1786 - val_loss: 1.8305 - val_accuracy: 0.1431\n",
            "Epoch 3/30\n",
            "90232/90232 [==============================] - 10s 108us/step - loss: 1316.9417 - accuracy: 0.1750 - val_loss: 7.9477 - val_accuracy: 0.1945\n",
            "Epoch 4/30\n",
            "90232/90232 [==============================] - 10s 109us/step - loss: 5224.9095 - accuracy: 0.1737 - val_loss: 157.1284 - val_accuracy: 0.1947\n",
            "Epoch 5/30\n",
            "90232/90232 [==============================] - 9s 105us/step - loss: 305.4934 - accuracy: 0.1734 - val_loss: 1.8499 - val_accuracy: 0.1767\n",
            "Epoch 6/30\n",
            "90232/90232 [==============================] - 9s 105us/step - loss: 61.9592 - accuracy: 0.1739 - val_loss: 1.8971 - val_accuracy: 0.1944\n",
            "Epoch 7/30\n",
            "90232/90232 [==============================] - 9s 105us/step - loss: 1.8363 - accuracy: 0.1740 - val_loss: 1.8638 - val_accuracy: 0.1767\n",
            "Epoch 8/30\n",
            "90232/90232 [==============================] - 9s 105us/step - loss: 1.8387 - accuracy: 0.1710 - val_loss: 1.8506 - val_accuracy: 0.1581\n",
            "Epoch 9/30\n",
            "90232/90232 [==============================] - 9s 105us/step - loss: 1.8411 - accuracy: 0.1735 - val_loss: 1.9049 - val_accuracy: 0.1581\n",
            "Epoch 10/30\n",
            "90232/90232 [==============================] - 9s 105us/step - loss: 1.8387 - accuracy: 0.1759 - val_loss: 1.8551 - val_accuracy: 0.1642\n",
            "Epoch 11/30\n",
            "90232/90232 [==============================] - 9s 105us/step - loss: 1.8362 - accuracy: 0.1748 - val_loss: 1.9068 - val_accuracy: 0.1944\n",
            "Epoch 12/30\n",
            "90232/90232 [==============================] - 9s 105us/step - loss: 1.8387 - accuracy: 0.1743 - val_loss: 1.8485 - val_accuracy: 0.1944\n",
            "Epoch 13/30\n",
            "90232/90232 [==============================] - 9s 105us/step - loss: 1.8389 - accuracy: 0.1751 - val_loss: 1.8773 - val_accuracy: 0.1944\n",
            "Epoch 14/30\n",
            "90232/90232 [==============================] - 9s 105us/step - loss: 1.8399 - accuracy: 0.1737 - val_loss: 1.8611 - val_accuracy: 0.1944\n",
            "Epoch 15/30\n",
            "90232/90232 [==============================] - 9s 105us/step - loss: 1.8374 - accuracy: 0.1739 - val_loss: 1.8886 - val_accuracy: 0.1642\n",
            "Epoch 16/30\n",
            "90232/90232 [==============================] - 9s 105us/step - loss: 1.8379 - accuracy: 0.1743 - val_loss: 1.9703 - val_accuracy: 0.1944\n",
            "Epoch 17/30\n",
            "90232/90232 [==============================] - 9s 105us/step - loss: 1.8438 - accuracy: 0.1733 - val_loss: 1.9567 - val_accuracy: 0.1637\n",
            "Epoch 18/30\n",
            "90232/90232 [==============================] - 9s 105us/step - loss: 1.8376 - accuracy: 0.1723 - val_loss: 1.8521 - val_accuracy: 0.1767\n",
            "Epoch 19/30\n",
            "90232/90232 [==============================] - 9s 104us/step - loss: 1.8410 - accuracy: 0.1726 - val_loss: 1.8816 - val_accuracy: 0.1431\n",
            "Epoch 20/30\n",
            "90232/90232 [==============================] - 9s 104us/step - loss: 1.8369 - accuracy: 0.1720 - val_loss: 1.8640 - val_accuracy: 0.1767\n",
            "Epoch 21/30\n",
            "90232/90232 [==============================] - 9s 104us/step - loss: 1.8408 - accuracy: 0.1736 - val_loss: 1.8541 - val_accuracy: 0.1944\n",
            "Epoch 22/30\n",
            "90232/90232 [==============================] - 9s 104us/step - loss: 1.8347 - accuracy: 0.1732 - val_loss: 1.9110 - val_accuracy: 0.1767\n",
            "Epoch 23/30\n",
            "90232/90232 [==============================] - 9s 105us/step - loss: 1.8395 - accuracy: 0.1741 - val_loss: 1.8554 - val_accuracy: 0.1944\n",
            "Epoch 24/30\n",
            "90232/90232 [==============================] - 9s 104us/step - loss: 1.8396 - accuracy: 0.1717 - val_loss: 1.8818 - val_accuracy: 0.1642\n",
            "Epoch 25/30\n",
            "90232/90232 [==============================] - 10s 107us/step - loss: 1.8357 - accuracy: 0.1763 - val_loss: 1.8777 - val_accuracy: 0.1581\n",
            "Epoch 26/30\n",
            "90232/90232 [==============================] - 9s 104us/step - loss: 1.8385 - accuracy: 0.1730 - val_loss: 1.8528 - val_accuracy: 0.1944\n",
            "Epoch 27/30\n",
            "90232/90232 [==============================] - 9s 104us/step - loss: 1.8386 - accuracy: 0.1745 - val_loss: 1.8773 - val_accuracy: 0.1642\n",
            "Epoch 28/30\n",
            "90232/90232 [==============================] - 9s 104us/step - loss: 1.8409 - accuracy: 0.1729 - val_loss: 1.8449 - val_accuracy: 0.1944\n",
            "Epoch 29/30\n",
            "90232/90232 [==============================] - 9s 104us/step - loss: 1.8380 - accuracy: 0.1723 - val_loss: 1.8594 - val_accuracy: 0.1637\n",
            "Epoch 30/30\n",
            "90232/90232 [==============================] - 9s 105us/step - loss: 1.8369 - accuracy: 0.1736 - val_loss: 1.8946 - val_accuracy: 0.1581\n",
            "[[   0    0    0 3691    0    0]\n",
            " [   0    0    0 3985    0    0]\n",
            " [   0    0    1 3228    0    0]\n",
            " [   0    0    0 3566    0    0]\n",
            " [   0    0    0 3703    0    0]\n",
            " [   0    0    0 4385    0    0]]\n",
            "0.15811871093576843\n",
            "              precision    recall  f1-score   support\n",
            "\n",
            "           0       0.00      0.00      0.00      3691\n",
            "           1       0.00      0.00      0.00      3985\n",
            "           2       1.00      0.00      0.00      3229\n",
            "           3       0.16      1.00      0.27      3566\n",
            "           4       0.00      0.00      0.00      3703\n",
            "           5       0.00      0.00      0.00      4385\n",
            "\n",
            "    accuracy                           0.16     22559\n",
            "   macro avg       0.19      0.17      0.05     22559\n",
            "weighted avg       0.17      0.16      0.04     22559\n",
            "\n"
          ],
          "name": "stdout"
        },
        {
          "output_type": "stream",
          "text": [
            "/usr/local/lib/python3.6/dist-packages/sklearn/metrics/_classification.py:1272: UndefinedMetricWarning: Precision and F-score are ill-defined and being set to 0.0 in labels with no predicted samples. Use `zero_division` parameter to control this behavior.\n",
            "  _warn_prf(average, modifier, msg_start, len(result))\n"
          ],
          "name": "stderr"
        }
      ]
    }
  ]
}