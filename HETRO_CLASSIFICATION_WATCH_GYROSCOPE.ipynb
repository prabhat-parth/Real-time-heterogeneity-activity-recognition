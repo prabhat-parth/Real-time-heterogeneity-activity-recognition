{
  "nbformat": 4,
  "nbformat_minor": 0,
  "metadata": {
    "colab": {
      "name": "HETRO_CLASSIFICATION_WATCH_GYROSCOPE.ipynb",
      "provenance": [],
      "mount_file_id": "1Y93ubrvyPfQgqcgfx5MOfLzJw0za-pmo",
      "authorship_tag": "ABX9TyN6g3zpQc+V+F9DJXHyFJj7",
      "include_colab_link": true
    },
    "kernelspec": {
      "name": "python3",
      "display_name": "Python 3"
    }
  },
  "cells": [
    {
      "cell_type": "markdown",
      "metadata": {
        "id": "view-in-github",
        "colab_type": "text"
      },
      "source": [
        "<a href=\"https://colab.research.google.com/github/prabhat-parth/Real-time-heterogeneity-activity-recognition/blob/master/HETRO_CLASSIFICATION_WATCH_GYROSCOPE.ipynb\" target=\"_parent\"><img src=\"https://colab.research.google.com/assets/colab-badge.svg\" alt=\"Open In Colab\"/></a>"
      ]
    },
    {
      "cell_type": "code",
      "metadata": {
        "colab_type": "code",
        "outputId": "bb7e71d3-2814-413e-ab28-bab81cca7063",
        "id": "zDhdssmybcxl",
        "colab": {
          "base_uri": "https://localhost:8080/",
          "height": 83
        }
      },
      "source": [
        "import tensorflow as tf\n",
        "from tensorflow.keras import Sequential\n",
        "from tensorflow.keras.layers import Flatten, Dense, Dropout, BatchNormalization\n",
        "from tensorflow.keras.layers import Conv2D, MaxPool2D\n",
        "from tensorflow.keras.optimizers import Adam\n",
        "print(tf.__version__)\n",
        "import pandas as pd\n",
        "import numpy as np\n",
        "import matplotlib.pyplot as plt\n",
        "from sklearn.model_selection import train_test_split\n",
        "from sklearn.preprocessing import StandardScaler, LabelEncoder\n",
        "import pandas as pd\n",
        "import numpy as np\n",
        "import pickle\n",
        "import matplotlib.pyplot as plt\n",
        "from scipy import stats\n",
        "import tensorflow as tf\n",
        "import seaborn as sns\n",
        "from pylab import rcParams\n",
        "from sklearn import metrics\n",
        "from sklearn.model_selection import train_test_split"
      ],
      "execution_count": 0,
      "outputs": [
        {
          "output_type": "display_data",
          "data": {
            "text/html": [
              "<p style=\"color: red;\">\n",
              "The default version of TensorFlow in Colab will soon switch to TensorFlow 2.x.<br>\n",
              "We recommend you <a href=\"https://www.tensorflow.org/guide/migrate\" target=\"_blank\">upgrade</a> now \n",
              "or ensure your notebook will continue to use TensorFlow 1.x via the <code>%tensorflow_version 1.x</code> magic:\n",
              "<a href=\"https://colab.research.google.com/notebooks/tensorflow_version.ipynb\" target=\"_blank\">more info</a>.</p>\n"
            ],
            "text/plain": [
              "<IPython.core.display.HTML object>"
            ]
          },
          "metadata": {
            "tags": []
          }
        },
        {
          "output_type": "stream",
          "text": [
            "1.15.0\n"
          ],
          "name": "stdout"
        }
      ]
    },
    {
      "cell_type": "code",
      "metadata": {
        "colab_type": "code",
        "outputId": "755e852c-ec1c-4a67-bc82-dd97367f21db",
        "id": "nIGEtxpDbcx0",
        "colab": {
          "base_uri": "https://localhost:8080/",
          "height": 35
        }
      },
      "source": [
        "import numpy as np\n",
        "import pandas as pd\n",
        "data = pd.read_csv(\"/content/drive/My Drive/HETRO_DATA/Activity recognition exp/Activity recognition exp/Watch_gyroscope.csv\")\n",
        "data.head()\n",
        "data.shape\n"
      ],
      "execution_count": 0,
      "outputs": [
        {
          "output_type": "execute_result",
          "data": {
            "text/plain": [
              "(3205431, 10)"
            ]
          },
          "metadata": {
            "tags": []
          },
          "execution_count": 2
        }
      ]
    },
    {
      "cell_type": "code",
      "metadata": {
        "colab_type": "code",
        "outputId": "9270604d-1b40-42f3-fc72-029b4a457879",
        "id": "Z7y2Kd1DbcyB",
        "colab": {
          "base_uri": "https://localhost:8080/",
          "height": 35
        }
      },
      "source": [
        "#Check for Duplicates\n",
        "print('No of duplicates in DATA: {}'.format(sum(data.duplicated())))\n"
      ],
      "execution_count": 0,
      "outputs": [
        {
          "output_type": "stream",
          "text": [
            "No of duplicates in DATA: 0\n"
          ],
          "name": "stdout"
        }
      ]
    },
    {
      "cell_type": "code",
      "metadata": {
        "colab_type": "code",
        "outputId": "a5364e4b-9be7-4098-d0a7-188fb5060546",
        "id": "mA6v-TxwbcyT",
        "colab": {
          "base_uri": "https://localhost:8080/",
          "height": 35
        }
      },
      "source": [
        "#Checking for NaN/null values\n",
        "print('We have {} NaN/Null values in data'.format(data.isnull().values.sum()))"
      ],
      "execution_count": 0,
      "outputs": [
        {
          "output_type": "stream",
          "text": [
            "We have 470429 NaN/Null values in data\n"
          ],
          "name": "stdout"
        }
      ]
    },
    {
      "cell_type": "code",
      "metadata": {
        "colab_type": "code",
        "id": "lIc_H68_bcyh",
        "colab": {}
      },
      "source": [
        "#sns.heatmap(data.isnull(), cbar=False)"
      ],
      "execution_count": 0,
      "outputs": []
    },
    {
      "cell_type": "code",
      "metadata": {
        "colab_type": "code",
        "id": "EGjRLDCfbcyt",
        "colab": {}
      },
      "source": [
        "data.dropna(axis=0, how='any', thresh=None, subset=None, inplace= True)"
      ],
      "execution_count": 0,
      "outputs": []
    },
    {
      "cell_type": "code",
      "metadata": {
        "colab_type": "code",
        "id": "ckwwKbjnbcy0",
        "colab": {}
      },
      "source": [
        "#sns.heatmap(data.isnull(), cbar=False)"
      ],
      "execution_count": 0,
      "outputs": []
    },
    {
      "cell_type": "code",
      "metadata": {
        "colab_type": "code",
        "outputId": "ea0f2b81-e063-49df-bf41-506872356034",
        "id": "_6qatUXQbcy7",
        "colab": {
          "base_uri": "https://localhost:8080/",
          "height": 54
        }
      },
      "source": [
        "#Checking for NaN/null values\n",
        "print('We have {} NaN/Null values in data'.format(data.isnull().values.sum()))\n",
        "data.shape"
      ],
      "execution_count": 0,
      "outputs": [
        {
          "output_type": "stream",
          "text": [
            "We have 0 NaN/Null values in data\n"
          ],
          "name": "stdout"
        },
        {
          "output_type": "execute_result",
          "data": {
            "text/plain": [
              "(2735002, 10)"
            ]
          },
          "metadata": {
            "tags": []
          },
          "execution_count": 8
        }
      ]
    },
    {
      "cell_type": "code",
      "metadata": {
        "colab_type": "code",
        "outputId": "a1b9061f-1711-4d7f-d74c-12f874eda93e",
        "id": "EFsM7oBBbczD",
        "colab": {
          "base_uri": "https://localhost:8080/",
          "height": 35
        }
      },
      "source": [
        "#data = data.drop(['Arrival_Time'], axis = 1).copy()\n",
        "data.shape"
      ],
      "execution_count": 0,
      "outputs": [
        {
          "output_type": "execute_result",
          "data": {
            "text/plain": [
              "(2735002, 10)"
            ]
          },
          "metadata": {
            "tags": []
          },
          "execution_count": 9
        }
      ]
    },
    {
      "cell_type": "code",
      "metadata": {
        "colab_type": "code",
        "outputId": "bb3b919f-bdbd-4a06-e8a7-0733e7dbf568",
        "id": "iUHdsSKWbczP",
        "colab": {
          "base_uri": "https://localhost:8080/",
          "height": 198
        }
      },
      "source": [
        "data.head()"
      ],
      "execution_count": 0,
      "outputs": [
        {
          "output_type": "execute_result",
          "data": {
            "text/html": [
              "<div>\n",
              "<style scoped>\n",
              "    .dataframe tbody tr th:only-of-type {\n",
              "        vertical-align: middle;\n",
              "    }\n",
              "\n",
              "    .dataframe tbody tr th {\n",
              "        vertical-align: top;\n",
              "    }\n",
              "\n",
              "    .dataframe thead th {\n",
              "        text-align: right;\n",
              "    }\n",
              "</style>\n",
              "<table border=\"1\" class=\"dataframe\">\n",
              "  <thead>\n",
              "    <tr style=\"text-align: right;\">\n",
              "      <th></th>\n",
              "      <th>Index</th>\n",
              "      <th>Arrival_Time</th>\n",
              "      <th>Creation_Time</th>\n",
              "      <th>x</th>\n",
              "      <th>y</th>\n",
              "      <th>z</th>\n",
              "      <th>User</th>\n",
              "      <th>Model</th>\n",
              "      <th>Device</th>\n",
              "      <th>gt</th>\n",
              "    </tr>\n",
              "  </thead>\n",
              "  <tbody>\n",
              "    <tr>\n",
              "      <th>0</th>\n",
              "      <td>0</td>\n",
              "      <td>1424696638743</td>\n",
              "      <td>27920678496000</td>\n",
              "      <td>-0.162187</td>\n",
              "      <td>-0.022104</td>\n",
              "      <td>0.059655</td>\n",
              "      <td>a</td>\n",
              "      <td>gear</td>\n",
              "      <td>gear_1</td>\n",
              "      <td>stand</td>\n",
              "    </tr>\n",
              "    <tr>\n",
              "      <th>1</th>\n",
              "      <td>1</td>\n",
              "      <td>1424696638743</td>\n",
              "      <td>27920681926000</td>\n",
              "      <td>-0.183225</td>\n",
              "      <td>-0.061785</td>\n",
              "      <td>0.012517</td>\n",
              "      <td>a</td>\n",
              "      <td>gear</td>\n",
              "      <td>gear_1</td>\n",
              "      <td>stand</td>\n",
              "    </tr>\n",
              "    <tr>\n",
              "      <th>2</th>\n",
              "      <td>2</td>\n",
              "      <td>1424696638743</td>\n",
              "      <td>27920692031000</td>\n",
              "      <td>-0.180829</td>\n",
              "      <td>-0.108657</td>\n",
              "      <td>-0.036485</td>\n",
              "      <td>a</td>\n",
              "      <td>gear</td>\n",
              "      <td>gear_1</td>\n",
              "      <td>stand</td>\n",
              "    </tr>\n",
              "    <tr>\n",
              "      <th>3</th>\n",
              "      <td>3</td>\n",
              "      <td>1424696638743</td>\n",
              "      <td>27920701997000</td>\n",
              "      <td>-0.147805</td>\n",
              "      <td>-0.157925</td>\n",
              "      <td>-0.098537</td>\n",
              "      <td>a</td>\n",
              "      <td>gear</td>\n",
              "      <td>gear_1</td>\n",
              "      <td>stand</td>\n",
              "    </tr>\n",
              "    <tr>\n",
              "      <th>4</th>\n",
              "      <td>7</td>\n",
              "      <td>1424696638744</td>\n",
              "      <td>27920743068000</td>\n",
              "      <td>0.182160</td>\n",
              "      <td>-0.323574</td>\n",
              "      <td>-0.277235</td>\n",
              "      <td>a</td>\n",
              "      <td>gear</td>\n",
              "      <td>gear_1</td>\n",
              "      <td>stand</td>\n",
              "    </tr>\n",
              "  </tbody>\n",
              "</table>\n",
              "</div>"
            ],
            "text/plain": [
              "   Index   Arrival_Time   Creation_Time         x  ...  User  Model  Device     gt\n",
              "0      0  1424696638743  27920678496000 -0.162187  ...     a   gear  gear_1  stand\n",
              "1      1  1424696638743  27920681926000 -0.183225  ...     a   gear  gear_1  stand\n",
              "2      2  1424696638743  27920692031000 -0.180829  ...     a   gear  gear_1  stand\n",
              "3      3  1424696638743  27920701997000 -0.147805  ...     a   gear  gear_1  stand\n",
              "4      7  1424696638744  27920743068000  0.182160  ...     a   gear  gear_1  stand\n",
              "\n",
              "[5 rows x 10 columns]"
            ]
          },
          "metadata": {
            "tags": []
          },
          "execution_count": 10
        }
      ]
    },
    {
      "cell_type": "code",
      "metadata": {
        "colab_type": "code",
        "outputId": "c71ce863-889c-4728-f34f-94d78b21624e",
        "id": "JkkPhByYbcza",
        "colab": {
          "base_uri": "https://localhost:8080/",
          "height": 198
        }
      },
      "source": [
        "#data = data.drop(['Index','Creation_Time','User','Model','Device'], axis = 1).copy()\n",
        "data.head()"
      ],
      "execution_count": 0,
      "outputs": [
        {
          "output_type": "execute_result",
          "data": {
            "text/html": [
              "<div>\n",
              "<style scoped>\n",
              "    .dataframe tbody tr th:only-of-type {\n",
              "        vertical-align: middle;\n",
              "    }\n",
              "\n",
              "    .dataframe tbody tr th {\n",
              "        vertical-align: top;\n",
              "    }\n",
              "\n",
              "    .dataframe thead th {\n",
              "        text-align: right;\n",
              "    }\n",
              "</style>\n",
              "<table border=\"1\" class=\"dataframe\">\n",
              "  <thead>\n",
              "    <tr style=\"text-align: right;\">\n",
              "      <th></th>\n",
              "      <th>Index</th>\n",
              "      <th>Arrival_Time</th>\n",
              "      <th>Creation_Time</th>\n",
              "      <th>x</th>\n",
              "      <th>y</th>\n",
              "      <th>z</th>\n",
              "      <th>User</th>\n",
              "      <th>Model</th>\n",
              "      <th>Device</th>\n",
              "      <th>gt</th>\n",
              "    </tr>\n",
              "  </thead>\n",
              "  <tbody>\n",
              "    <tr>\n",
              "      <th>0</th>\n",
              "      <td>0</td>\n",
              "      <td>1424696638743</td>\n",
              "      <td>27920678496000</td>\n",
              "      <td>-0.162187</td>\n",
              "      <td>-0.022104</td>\n",
              "      <td>0.059655</td>\n",
              "      <td>a</td>\n",
              "      <td>gear</td>\n",
              "      <td>gear_1</td>\n",
              "      <td>stand</td>\n",
              "    </tr>\n",
              "    <tr>\n",
              "      <th>1</th>\n",
              "      <td>1</td>\n",
              "      <td>1424696638743</td>\n",
              "      <td>27920681926000</td>\n",
              "      <td>-0.183225</td>\n",
              "      <td>-0.061785</td>\n",
              "      <td>0.012517</td>\n",
              "      <td>a</td>\n",
              "      <td>gear</td>\n",
              "      <td>gear_1</td>\n",
              "      <td>stand</td>\n",
              "    </tr>\n",
              "    <tr>\n",
              "      <th>2</th>\n",
              "      <td>2</td>\n",
              "      <td>1424696638743</td>\n",
              "      <td>27920692031000</td>\n",
              "      <td>-0.180829</td>\n",
              "      <td>-0.108657</td>\n",
              "      <td>-0.036485</td>\n",
              "      <td>a</td>\n",
              "      <td>gear</td>\n",
              "      <td>gear_1</td>\n",
              "      <td>stand</td>\n",
              "    </tr>\n",
              "    <tr>\n",
              "      <th>3</th>\n",
              "      <td>3</td>\n",
              "      <td>1424696638743</td>\n",
              "      <td>27920701997000</td>\n",
              "      <td>-0.147805</td>\n",
              "      <td>-0.157925</td>\n",
              "      <td>-0.098537</td>\n",
              "      <td>a</td>\n",
              "      <td>gear</td>\n",
              "      <td>gear_1</td>\n",
              "      <td>stand</td>\n",
              "    </tr>\n",
              "    <tr>\n",
              "      <th>4</th>\n",
              "      <td>7</td>\n",
              "      <td>1424696638744</td>\n",
              "      <td>27920743068000</td>\n",
              "      <td>0.182160</td>\n",
              "      <td>-0.323574</td>\n",
              "      <td>-0.277235</td>\n",
              "      <td>a</td>\n",
              "      <td>gear</td>\n",
              "      <td>gear_1</td>\n",
              "      <td>stand</td>\n",
              "    </tr>\n",
              "  </tbody>\n",
              "</table>\n",
              "</div>"
            ],
            "text/plain": [
              "   Index   Arrival_Time   Creation_Time         x  ...  User  Model  Device     gt\n",
              "0      0  1424696638743  27920678496000 -0.162187  ...     a   gear  gear_1  stand\n",
              "1      1  1424696638743  27920681926000 -0.183225  ...     a   gear  gear_1  stand\n",
              "2      2  1424696638743  27920692031000 -0.180829  ...     a   gear  gear_1  stand\n",
              "3      3  1424696638743  27920701997000 -0.147805  ...     a   gear  gear_1  stand\n",
              "4      7  1424696638744  27920743068000  0.182160  ...     a   gear  gear_1  stand\n",
              "\n",
              "[5 rows x 10 columns]"
            ]
          },
          "metadata": {
            "tags": []
          },
          "execution_count": 11
        }
      ]
    },
    {
      "cell_type": "code",
      "metadata": {
        "colab_type": "code",
        "outputId": "9f71d6fe-5ac9-45c4-cd59-bc263f79d2fd",
        "id": "4i05g9Eqbczh",
        "colab": {
          "base_uri": "https://localhost:8080/",
          "height": 145
        }
      },
      "source": [
        "data['gt'].value_counts()"
      ],
      "execution_count": 0,
      "outputs": [
        {
          "output_type": "execute_result",
          "data": {
            "text/plain": [
              "bike          522672\n",
              "walk          488309\n",
              "stairsup      446023\n",
              "stand         430223\n",
              "stairsdown    428241\n",
              "sit           419534\n",
              "Name: gt, dtype: int64"
            ]
          },
          "metadata": {
            "tags": []
          },
          "execution_count": 12
        }
      ]
    },
    {
      "cell_type": "code",
      "metadata": {
        "colab_type": "code",
        "outputId": "2f1ea674-9923-40a0-e2cb-fe01c091eaaf",
        "id": "MYXydhakbczo",
        "colab": {
          "base_uri": "https://localhost:8080/",
          "height": 308
        }
      },
      "source": [
        "data['x'] = data['x'].astype('float')\n",
        "data['y'] = data['y'].astype('float')\n",
        "data['z'] = data['z'].astype('float')\n",
        "data.info()\n",
        "data.shape\n"
      ],
      "execution_count": 0,
      "outputs": [
        {
          "output_type": "stream",
          "text": [
            "<class 'pandas.core.frame.DataFrame'>\n",
            "Int64Index: 2735002 entries, 0 to 3205430\n",
            "Data columns (total 10 columns):\n",
            "Index            int64\n",
            "Arrival_Time     int64\n",
            "Creation_Time    int64\n",
            "x                float64\n",
            "y                float64\n",
            "z                float64\n",
            "User             object\n",
            "Model            object\n",
            "Device           object\n",
            "gt               object\n",
            "dtypes: float64(3), int64(3), object(4)\n",
            "memory usage: 229.5+ MB\n"
          ],
          "name": "stdout"
        },
        {
          "output_type": "execute_result",
          "data": {
            "text/plain": [
              "(2735002, 10)"
            ]
          },
          "metadata": {
            "tags": []
          },
          "execution_count": 13
        }
      ]
    },
    {
      "cell_type": "code",
      "metadata": {
        "colab_type": "code",
        "outputId": "9df0d5cf-e602-401b-9938-173a4d632bb0",
        "id": "V02GrAn5bczx",
        "colab": {
          "base_uri": "https://localhost:8080/",
          "height": 35
        }
      },
      "source": [
        "Fs = 20\n",
        "gt= data['gt'].value_counts().index\n",
        "gt"
      ],
      "execution_count": 0,
      "outputs": [
        {
          "output_type": "execute_result",
          "data": {
            "text/plain": [
              "Index(['bike', 'walk', 'stairsup', 'stand', 'stairsdown', 'sit'], dtype='object')"
            ]
          },
          "metadata": {
            "tags": []
          },
          "execution_count": 14
        }
      ]
    },
    {
      "cell_type": "code",
      "metadata": {
        "colab_type": "code",
        "outputId": "dab5f290-12e6-4937-a3b3-bf01f3dae9dc",
        "id": "-T3OH1u0bcz4",
        "colab": {
          "base_uri": "https://localhost:8080/",
          "height": 198
        }
      },
      "source": [
        "from sklearn.preprocessing import LabelEncoder\n",
        "label = LabelEncoder()\n",
        "data['label'] = label.fit_transform(data['gt'])\n",
        "data.head()"
      ],
      "execution_count": 0,
      "outputs": [
        {
          "output_type": "execute_result",
          "data": {
            "text/html": [
              "<div>\n",
              "<style scoped>\n",
              "    .dataframe tbody tr th:only-of-type {\n",
              "        vertical-align: middle;\n",
              "    }\n",
              "\n",
              "    .dataframe tbody tr th {\n",
              "        vertical-align: top;\n",
              "    }\n",
              "\n",
              "    .dataframe thead th {\n",
              "        text-align: right;\n",
              "    }\n",
              "</style>\n",
              "<table border=\"1\" class=\"dataframe\">\n",
              "  <thead>\n",
              "    <tr style=\"text-align: right;\">\n",
              "      <th></th>\n",
              "      <th>Index</th>\n",
              "      <th>Arrival_Time</th>\n",
              "      <th>Creation_Time</th>\n",
              "      <th>x</th>\n",
              "      <th>y</th>\n",
              "      <th>z</th>\n",
              "      <th>User</th>\n",
              "      <th>Model</th>\n",
              "      <th>Device</th>\n",
              "      <th>gt</th>\n",
              "      <th>label</th>\n",
              "    </tr>\n",
              "  </thead>\n",
              "  <tbody>\n",
              "    <tr>\n",
              "      <th>0</th>\n",
              "      <td>0</td>\n",
              "      <td>1424696638743</td>\n",
              "      <td>27920678496000</td>\n",
              "      <td>-0.162187</td>\n",
              "      <td>-0.022104</td>\n",
              "      <td>0.059655</td>\n",
              "      <td>a</td>\n",
              "      <td>gear</td>\n",
              "      <td>gear_1</td>\n",
              "      <td>stand</td>\n",
              "      <td>4</td>\n",
              "    </tr>\n",
              "    <tr>\n",
              "      <th>1</th>\n",
              "      <td>1</td>\n",
              "      <td>1424696638743</td>\n",
              "      <td>27920681926000</td>\n",
              "      <td>-0.183225</td>\n",
              "      <td>-0.061785</td>\n",
              "      <td>0.012517</td>\n",
              "      <td>a</td>\n",
              "      <td>gear</td>\n",
              "      <td>gear_1</td>\n",
              "      <td>stand</td>\n",
              "      <td>4</td>\n",
              "    </tr>\n",
              "    <tr>\n",
              "      <th>2</th>\n",
              "      <td>2</td>\n",
              "      <td>1424696638743</td>\n",
              "      <td>27920692031000</td>\n",
              "      <td>-0.180829</td>\n",
              "      <td>-0.108657</td>\n",
              "      <td>-0.036485</td>\n",
              "      <td>a</td>\n",
              "      <td>gear</td>\n",
              "      <td>gear_1</td>\n",
              "      <td>stand</td>\n",
              "      <td>4</td>\n",
              "    </tr>\n",
              "    <tr>\n",
              "      <th>3</th>\n",
              "      <td>3</td>\n",
              "      <td>1424696638743</td>\n",
              "      <td>27920701997000</td>\n",
              "      <td>-0.147805</td>\n",
              "      <td>-0.157925</td>\n",
              "      <td>-0.098537</td>\n",
              "      <td>a</td>\n",
              "      <td>gear</td>\n",
              "      <td>gear_1</td>\n",
              "      <td>stand</td>\n",
              "      <td>4</td>\n",
              "    </tr>\n",
              "    <tr>\n",
              "      <th>4</th>\n",
              "      <td>7</td>\n",
              "      <td>1424696638744</td>\n",
              "      <td>27920743068000</td>\n",
              "      <td>0.182160</td>\n",
              "      <td>-0.323574</td>\n",
              "      <td>-0.277235</td>\n",
              "      <td>a</td>\n",
              "      <td>gear</td>\n",
              "      <td>gear_1</td>\n",
              "      <td>stand</td>\n",
              "      <td>4</td>\n",
              "    </tr>\n",
              "  </tbody>\n",
              "</table>\n",
              "</div>"
            ],
            "text/plain": [
              "   Index   Arrival_Time   Creation_Time         x  ...  Model  Device     gt label\n",
              "0      0  1424696638743  27920678496000 -0.162187  ...   gear  gear_1  stand     4\n",
              "1      1  1424696638743  27920681926000 -0.183225  ...   gear  gear_1  stand     4\n",
              "2      2  1424696638743  27920692031000 -0.180829  ...   gear  gear_1  stand     4\n",
              "3      3  1424696638743  27920701997000 -0.147805  ...   gear  gear_1  stand     4\n",
              "4      7  1424696638744  27920743068000  0.182160  ...   gear  gear_1  stand     4\n",
              "\n",
              "[5 rows x 11 columns]"
            ]
          },
          "metadata": {
            "tags": []
          },
          "execution_count": 15
        }
      ]
    },
    {
      "cell_type": "code",
      "metadata": {
        "colab_type": "code",
        "outputId": "7444a474-287a-4e0d-e8ad-44712b385234",
        "id": "kSZcjd3ybc0L",
        "colab": {
          "base_uri": "https://localhost:8080/",
          "height": 54
        }
      },
      "source": [
        "label.classes_"
      ],
      "execution_count": 0,
      "outputs": [
        {
          "output_type": "execute_result",
          "data": {
            "text/plain": [
              "array(['bike', 'sit', 'stairsdown', 'stairsup', 'stand', 'walk'],\n",
              "      dtype=object)"
            ]
          },
          "metadata": {
            "tags": []
          },
          "execution_count": 16
        }
      ]
    },
    {
      "cell_type": "code",
      "metadata": {
        "colab_type": "code",
        "outputId": "bcbc9c2b-a3c2-4e76-f22b-42be6c833962",
        "id": "ay7t-BdGbc0V",
        "colab": {
          "base_uri": "https://localhost:8080/",
          "height": 407
        }
      },
      "source": [
        "X = data[['x', 'y', 'z']]\n",
        "y = data['label']\n",
        "scaler = StandardScaler()\n",
        "X = scaler.fit_transform(X)\n",
        "\n",
        "scaled_X = pd.DataFrame(data = X, columns = ['x', 'y', 'z'])\n",
        "scaled_X['label'] = y.values\n",
        "\n",
        "scaled_X"
      ],
      "execution_count": 0,
      "outputs": [
        {
          "output_type": "execute_result",
          "data": {
            "text/html": [
              "<div>\n",
              "<style scoped>\n",
              "    .dataframe tbody tr th:only-of-type {\n",
              "        vertical-align: middle;\n",
              "    }\n",
              "\n",
              "    .dataframe tbody tr th {\n",
              "        vertical-align: top;\n",
              "    }\n",
              "\n",
              "    .dataframe thead th {\n",
              "        text-align: right;\n",
              "    }\n",
              "</style>\n",
              "<table border=\"1\" class=\"dataframe\">\n",
              "  <thead>\n",
              "    <tr style=\"text-align: right;\">\n",
              "      <th></th>\n",
              "      <th>x</th>\n",
              "      <th>y</th>\n",
              "      <th>z</th>\n",
              "      <th>label</th>\n",
              "    </tr>\n",
              "  </thead>\n",
              "  <tbody>\n",
              "    <tr>\n",
              "      <th>0</th>\n",
              "      <td>-0.181342</td>\n",
              "      <td>-0.052623</td>\n",
              "      <td>0.077992</td>\n",
              "      <td>4</td>\n",
              "    </tr>\n",
              "    <tr>\n",
              "      <th>1</th>\n",
              "      <td>-0.202538</td>\n",
              "      <td>-0.126329</td>\n",
              "      <td>0.030247</td>\n",
              "      <td>4</td>\n",
              "    </tr>\n",
              "    <tr>\n",
              "      <th>2</th>\n",
              "      <td>-0.200124</td>\n",
              "      <td>-0.213392</td>\n",
              "      <td>-0.019386</td>\n",
              "      <td>4</td>\n",
              "    </tr>\n",
              "    <tr>\n",
              "      <th>3</th>\n",
              "      <td>-0.166853</td>\n",
              "      <td>-0.304907</td>\n",
              "      <td>-0.082237</td>\n",
              "      <td>4</td>\n",
              "    </tr>\n",
              "    <tr>\n",
              "      <th>4</th>\n",
              "      <td>0.165582</td>\n",
              "      <td>-0.612594</td>\n",
              "      <td>-0.263237</td>\n",
              "      <td>4</td>\n",
              "    </tr>\n",
              "    <tr>\n",
              "      <th>...</th>\n",
              "      <td>...</td>\n",
              "      <td>...</td>\n",
              "      <td>...</td>\n",
              "      <td>...</td>\n",
              "    </tr>\n",
              "    <tr>\n",
              "      <th>2734997</th>\n",
              "      <td>0.045334</td>\n",
              "      <td>0.307120</td>\n",
              "      <td>0.112140</td>\n",
              "      <td>0</td>\n",
              "    </tr>\n",
              "    <tr>\n",
              "      <th>2734998</th>\n",
              "      <td>0.076541</td>\n",
              "      <td>0.235697</td>\n",
              "      <td>0.102403</td>\n",
              "      <td>0</td>\n",
              "    </tr>\n",
              "    <tr>\n",
              "      <th>2734999</th>\n",
              "      <td>0.088378</td>\n",
              "      <td>0.170225</td>\n",
              "      <td>0.076438</td>\n",
              "      <td>0</td>\n",
              "    </tr>\n",
              "    <tr>\n",
              "      <th>2735000</th>\n",
              "      <td>0.105596</td>\n",
              "      <td>0.144433</td>\n",
              "      <td>0.056965</td>\n",
              "      <td>0</td>\n",
              "    </tr>\n",
              "    <tr>\n",
              "      <th>2735001</th>\n",
              "      <td>0.133575</td>\n",
              "      <td>0.172209</td>\n",
              "      <td>0.068865</td>\n",
              "      <td>0</td>\n",
              "    </tr>\n",
              "  </tbody>\n",
              "</table>\n",
              "<p>2735002 rows × 4 columns</p>\n",
              "</div>"
            ],
            "text/plain": [
              "                x         y         z  label\n",
              "0       -0.181342 -0.052623  0.077992      4\n",
              "1       -0.202538 -0.126329  0.030247      4\n",
              "2       -0.200124 -0.213392 -0.019386      4\n",
              "3       -0.166853 -0.304907 -0.082237      4\n",
              "4        0.165582 -0.612594 -0.263237      4\n",
              "...           ...       ...       ...    ...\n",
              "2734997  0.045334  0.307120  0.112140      0\n",
              "2734998  0.076541  0.235697  0.102403      0\n",
              "2734999  0.088378  0.170225  0.076438      0\n",
              "2735000  0.105596  0.144433  0.056965      0\n",
              "2735001  0.133575  0.172209  0.068865      0\n",
              "\n",
              "[2735002 rows x 4 columns]"
            ]
          },
          "metadata": {
            "tags": []
          },
          "execution_count": 17
        }
      ]
    },
    {
      "cell_type": "code",
      "metadata": {
        "colab_type": "code",
        "outputId": "2318cb28-0159-40c3-d1a6-26f29c99da3e",
        "id": "OeeoLVUabc0i",
        "colab": {
          "base_uri": "https://localhost:8080/",
          "height": 54
        }
      },
      "source": [
        "label.classes_"
      ],
      "execution_count": 0,
      "outputs": [
        {
          "output_type": "execute_result",
          "data": {
            "text/plain": [
              "array(['bike', 'sit', 'stairsdown', 'stairsup', 'stand', 'walk'],\n",
              "      dtype=object)"
            ]
          },
          "metadata": {
            "tags": []
          },
          "execution_count": 18
        }
      ]
    },
    {
      "cell_type": "code",
      "metadata": {
        "colab_type": "code",
        "id": "jtmiy59Rbc00",
        "colab": {}
      },
      "source": [
        "Fs = 50\n",
        "frame_size = Fs*4 # 80\n",
        "hop_size = Fs*2 # 40\n"
      ],
      "execution_count": 0,
      "outputs": []
    },
    {
      "cell_type": "code",
      "metadata": {
        "colab_type": "code",
        "id": "8EkQlxyXbc05",
        "colab": {}
      },
      "source": [
        "import math as m\n",
        "def get_frames(data, frame_size, hop_size):\n",
        "\n",
        "  N_FEATURES = 3\n",
        "  frames = []\n",
        "  labels = []\n",
        "  for i in range(0, len(scaled_X) - frame_size,hop_size):\n",
        "    x = data['x'].values[i: i + frame_size]\n",
        "    y = data['y'].values[i: i + frame_size]\n",
        "    z = data['z'].values[i: i + frame_size]\n",
        "        # Retrieve the most often used label in this segment\n",
        "    label = stats.mode(scaled_X['label'][i: i + frame_size])[0][0]\n",
        "    frames.append([x, y, z])\n",
        "    labels.append(label)\n",
        "  # Bring the segments into a better shape\n",
        "  frames = np.asarray(frames, dtype= np.float32).reshape(-1, frame_size, N_FEATURES)\n",
        "  labels = np.asarray(labels)\n",
        "  return frames, labels\n"
      ],
      "execution_count": 0,
      "outputs": []
    },
    {
      "cell_type": "code",
      "metadata": {
        "colab_type": "code",
        "id": "MTKsac_Gbc1H",
        "colab": {}
      },
      "source": [
        "X,y = get_frames(scaled_X, frame_size, hop_size)"
      ],
      "execution_count": 0,
      "outputs": []
    },
    {
      "cell_type": "code",
      "metadata": {
        "colab_type": "code",
        "outputId": "25c4a786-88ae-438f-ce49-c9038195820e",
        "id": "bHEDChZxbc1S",
        "colab": {
          "base_uri": "https://localhost:8080/",
          "height": 35
        }
      },
      "source": [
        "X.shape\n",
        "y.shape"
      ],
      "execution_count": 0,
      "outputs": [
        {
          "output_type": "execute_result",
          "data": {
            "text/plain": [
              "(27349,)"
            ]
          },
          "metadata": {
            "tags": []
          },
          "execution_count": 22
        }
      ]
    },
    {
      "cell_type": "code",
      "metadata": {
        "colab_type": "code",
        "id": "m81b0SfXbc1W",
        "colab": {}
      },
      "source": [
        "X_train, X_test, y_train, y_test = train_test_split(X,y, test_size = 0.2, random_state = 0, stratify = y)\n"
      ],
      "execution_count": 0,
      "outputs": []
    },
    {
      "cell_type": "code",
      "metadata": {
        "colab_type": "code",
        "outputId": "7e60216b-8733-4d0b-bd70-c4f6e48713d1",
        "id": "XFBW9nXTbc1e",
        "colab": {
          "base_uri": "https://localhost:8080/",
          "height": 35
        }
      },
      "source": [
        "X_train.shape, X_test.shape"
      ],
      "execution_count": 0,
      "outputs": [
        {
          "output_type": "execute_result",
          "data": {
            "text/plain": [
              "((21879, 200, 3), (5470, 200, 3))"
            ]
          },
          "metadata": {
            "tags": []
          },
          "execution_count": 26
        }
      ]
    },
    {
      "cell_type": "code",
      "metadata": {
        "colab_type": "code",
        "outputId": "aae3f916-f7cc-4ae2-d865-5736270c8386",
        "id": "-xZfhqEDbc1h",
        "colab": {
          "base_uri": "https://localhost:8080/",
          "height": 35
        }
      },
      "source": [
        "x_train_reshaped = X_train.reshape(21879, frame_size *3)\n",
        "x_test_reshaped = X_test.reshape(5470,frame_size * 3)\n",
        "x_train_reshaped.shape, x_test_reshaped.shape"
      ],
      "execution_count": 0,
      "outputs": [
        {
          "output_type": "execute_result",
          "data": {
            "text/plain": [
              "((21879, 600), (5470, 600))"
            ]
          },
          "metadata": {
            "tags": []
          },
          "execution_count": 27
        }
      ]
    },
    {
      "cell_type": "code",
      "metadata": {
        "colab_type": "code",
        "id": "QsipJ85Obc1k",
        "colab": {}
      },
      "source": [
        "from sklearn.metrics import accuracy_score, log_loss\n",
        "from sklearn.neighbors import KNeighborsClassifier\n",
        "from sklearn.svm import SVC, LinearSVC, NuSVC\n",
        "from sklearn.tree import DecisionTreeClassifier\n",
        "from sklearn.ensemble import RandomForestClassifier, AdaBoostClassifier, GradientBoostingClassifier\n",
        "from sklearn.naive_bayes import GaussianNB\n",
        "from sklearn.discriminant_analysis import LinearDiscriminantAnalysis\n",
        "from sklearn.discriminant_analysis import QuadraticDiscriminantAnalysis\n",
        "from sklearn import linear_model\n",
        "# Python script for confusion matrix creation. \n",
        "from sklearn.metrics import confusion_matrix \n",
        "from sklearn.metrics import accuracy_score \n",
        "from sklearn.metrics import classification_report\n",
        "from mlxtend.plotting import plot_confusion_matrix"
      ],
      "execution_count": 0,
      "outputs": []
    },
    {
      "cell_type": "code",
      "metadata": {
        "colab_type": "code",
        "id": "2JpN1jj3bc1o",
        "colab": {}
      },
      "source": [
        "classifiers = [\n",
        "    linear_model.LogisticRegression(),\n",
        "    #KNeighborsClassifier(3),\n",
        "    #SVC(kernel=\"rbf\", C=0.025, probability=True),\n",
        "    #NuSVC(probability=True),\n",
        "    DecisionTreeClassifier(),\n",
        "    RandomForestClassifier(),\n",
        "    AdaBoostClassifier(),\n",
        "    #GradientBoostingClassifier(),\n",
        "    GaussianNB(),\n",
        "    LinearDiscriminantAnalysis(),\n",
        "    QuadraticDiscriminantAnalysis()\n",
        "    ]"
      ],
      "execution_count": 0,
      "outputs": []
    },
    {
      "cell_type": "code",
      "metadata": {
        "colab_type": "code",
        "id": "Xtd6g4PVbc1r",
        "outputId": "0e3fd761-a1db-4e59-a9d8-eede384af904",
        "colab": {
          "base_uri": "https://localhost:8080/",
          "height": 1000
        }
      },
      "source": [
        "# Logging for Visual Comparison\n",
        "log_cols=[\"Classifier\", \"Accuracy\", \"Log Loss\"]\n",
        "log = pd.DataFrame(columns=log_cols)\n",
        "\n",
        "for clf in classifiers:\n",
        "    clf.fit(x_train_reshaped, y_train)\n",
        "    name = clf.__class__.__name__    \n",
        "    print(\"=\"*30)\n",
        "    print(name)\n",
        "       \n",
        "    print('****Results****')\n",
        "    train_predictions = clf.predict(x_test_reshaped)\n",
        "    \n",
        "    acc = accuracy_score(y_test,train_predictions)\n",
        "    print(\"Accuracy: {:.4%}\".format(acc))\n",
        "    train_predictions = clf.predict_proba(x_test_reshaped)\n",
        "    ll = log_loss(y_test, train_predictions)\n",
        "    print(\"Log Loss: {}\".format(ll))\n",
        "    log_entry = pd.DataFrame([[name, acc*100, ll]], columns=log_cols)\n",
        "    log = log.append(log_entry) \n",
        "    \n",
        "    y_pred = clf.predict(x_test_reshaped)\n",
        "    print(confusion_matrix(y_test,y_pred))\n",
        "    print(accuracy_score(y_test,y_pred))\n",
        "    print(classification_report(y_test,y_pred))  \n",
        "    plot_confusion_matrix(conf_mat=confusion_matrix(y_test,y_pred),colorbar=True,show_absolute=False, show_normed=True, figsize=(7,7))\n",
        "    log_entry = pd.DataFrame([[name, acc*100, ll]], columns=log_cols)\n",
        "    \n",
        "    print(\"complete !!!\")\n",
        "\n",
        "print(\"=\"*30)"
      ],
      "execution_count": 0,
      "outputs": [
        {
          "output_type": "stream",
          "text": [
            "/usr/local/lib/python3.6/dist-packages/sklearn/linear_model/_logistic.py:940: ConvergenceWarning: lbfgs failed to converge (status=1):\n",
            "STOP: TOTAL NO. of ITERATIONS REACHED LIMIT.\n",
            "\n",
            "Increase the number of iterations (max_iter) or scale the data as shown in:\n",
            "    https://scikit-learn.org/stable/modules/preprocessing.html\n",
            "Please also refer to the documentation for alternative solver options:\n",
            "    https://scikit-learn.org/stable/modules/linear_model.html#logistic-regression\n",
            "  extra_warning_msg=_LOGISTIC_SOLVER_CONVERGENCE_MSG)\n"
          ],
          "name": "stderr"
        },
        {
          "output_type": "stream",
          "text": [
            "==============================\n",
            "LogisticRegression\n",
            "****Results****\n",
            "Accuracy: 19.5430%\n",
            "Log Loss: 1.8555622692263523\n",
            "[[384  30 140 172  57 262]\n",
            " [375   0  13   8   4 438]\n",
            " [240  24 184 168  48 193]\n",
            " [278  12 136 178  39 249]\n",
            " [381   3  18  19   7 433]\n",
            " [361  13 143 106  38 316]]\n",
            "0.19542961608775136\n",
            "              precision    recall  f1-score   support\n",
            "\n",
            "           0       0.19      0.37      0.25      1045\n",
            "           1       0.00      0.00      0.00       838\n",
            "           2       0.29      0.21      0.25       857\n",
            "           3       0.27      0.20      0.23       892\n",
            "           4       0.04      0.01      0.01       861\n",
            "           5       0.17      0.32      0.22       977\n",
            "\n",
            "    accuracy                           0.20      5470\n",
            "   macro avg       0.16      0.19      0.16      5470\n",
            "weighted avg       0.16      0.20      0.17      5470\n",
            "\n",
            "complete !!!\n",
            "==============================\n",
            "DecisionTreeClassifier\n",
            "****Results****\n",
            "Accuracy: 51.3346%\n",
            "Log Loss: 16.808450230941915\n",
            "[[577  53  72  96 100 147]\n",
            " [ 39 517   1  14 256  11]\n",
            " [ 75   9 382 187  29 175]\n",
            " [ 73   6 229 386  14 184]\n",
            " [ 77 266  15  14 468  21]\n",
            " [ 96  14 181 177  31 478]]\n",
            "0.513345521023766\n",
            "              precision    recall  f1-score   support\n",
            "\n",
            "           0       0.62      0.55      0.58      1045\n",
            "           1       0.60      0.62      0.61       838\n",
            "           2       0.43      0.45      0.44       857\n",
            "           3       0.44      0.43      0.44       892\n",
            "           4       0.52      0.54      0.53       861\n",
            "           5       0.47      0.49      0.48       977\n",
            "\n",
            "    accuracy                           0.51      5470\n",
            "   macro avg       0.51      0.51      0.51      5470\n",
            "weighted avg       0.52      0.51      0.51      5470\n",
            "\n",
            "complete !!!\n",
            "==============================\n",
            "RandomForestClassifier\n",
            "****Results****\n",
            "Accuracy: 70.4936%\n",
            "Log Loss: 0.9217574966958487\n",
            "[[910   6  36  27  13  53]\n",
            " [ 38 535   5   2 256   2]\n",
            " [ 56   0 573 154   0  74]\n",
            " [ 53   2 188 531   2 116]\n",
            " [110 152   9   9 578   3]\n",
            " [ 53   6  93  89   7 729]]\n",
            "0.7049360146252285\n",
            "              precision    recall  f1-score   support\n",
            "\n",
            "           0       0.75      0.87      0.80      1045\n",
            "           1       0.76      0.64      0.70       838\n",
            "           2       0.63      0.67      0.65       857\n",
            "           3       0.65      0.60      0.62       892\n",
            "           4       0.68      0.67      0.67       861\n",
            "           5       0.75      0.75      0.75       977\n",
            "\n",
            "    accuracy                           0.70      5470\n",
            "   macro avg       0.70      0.70      0.70      5470\n",
            "weighted avg       0.70      0.70      0.70      5470\n",
            "\n",
            "complete !!!\n",
            "==============================\n",
            "AdaBoostClassifier\n",
            "****Results****\n",
            "Accuracy: 42.7605%\n",
            "Log Loss: 1.7339864155757923\n",
            "[[578  57 115  47 101 147]\n",
            " [ 38 747   1   3  48   1]\n",
            " [ 80   3 516 136   9 113]\n",
            " [ 95   3 479 129  14 172]\n",
            " [ 93 654  12   5  89   8]\n",
            " [203  10 358 115  11 280]]\n",
            "0.4276051188299817\n",
            "              precision    recall  f1-score   support\n",
            "\n",
            "           0       0.53      0.55      0.54      1045\n",
            "           1       0.51      0.89      0.65       838\n",
            "           2       0.35      0.60      0.44       857\n",
            "           3       0.30      0.14      0.19       892\n",
            "           4       0.33      0.10      0.16       861\n",
            "           5       0.39      0.29      0.33       977\n",
            "\n",
            "    accuracy                           0.43      5470\n",
            "   macro avg       0.40      0.43      0.39      5470\n",
            "weighted avg       0.40      0.43      0.39      5470\n",
            "\n",
            "complete !!!\n",
            "==============================\n",
            "GaussianNB\n",
            "****Results****\n",
            "Accuracy: 41.6453%\n",
            "Log Loss: 18.526277169126015\n",
            "[[395 160  44  10 354  82]\n",
            " [ 33 764   3   1  28   9]\n",
            " [ 96   0 355 190   8 208]\n",
            " [131   6 211 278   4 262]\n",
            " [ 44 722  10   8  62  15]\n",
            " [326  12 100 108   7 424]]\n",
            "0.41645338208409505\n",
            "              precision    recall  f1-score   support\n",
            "\n",
            "           0       0.39      0.38      0.38      1045\n",
            "           1       0.46      0.91      0.61       838\n",
            "           2       0.49      0.41      0.45       857\n",
            "           3       0.47      0.31      0.37       892\n",
            "           4       0.13      0.07      0.09       861\n",
            "           5       0.42      0.43      0.43       977\n",
            "\n",
            "    accuracy                           0.42      5470\n",
            "   macro avg       0.39      0.42      0.39      5470\n",
            "weighted avg       0.39      0.42      0.39      5470\n",
            "\n",
            "complete !!!\n",
            "==============================\n",
            "LinearDiscriminantAnalysis\n",
            "****Results****\n",
            "Accuracy: 18.7934%\n",
            "Log Loss: 1.871467907755405\n",
            "[[334  43 142 187  63 276]\n",
            " [304   4  11  10   3 506]\n",
            " [217  26 174 178  60 202]\n",
            " [266  22 131 184  67 222]\n",
            " [310   3  17  20  16 495]\n",
            " [327  15 136 117  66 316]]\n",
            "0.18793418647166363\n",
            "              precision    recall  f1-score   support\n",
            "\n",
            "           0       0.19      0.32      0.24      1045\n",
            "           1       0.04      0.00      0.01       838\n",
            "           2       0.28      0.20      0.24       857\n",
            "           3       0.26      0.21      0.23       892\n",
            "           4       0.06      0.02      0.03       861\n",
            "           5       0.16      0.32      0.21       977\n",
            "\n",
            "    accuracy                           0.19      5470\n",
            "   macro avg       0.16      0.18      0.16      5470\n",
            "weighted avg       0.17      0.19      0.16      5470\n",
            "\n",
            "complete !!!\n",
            "==============================\n",
            "QuadraticDiscriminantAnalysis\n",
            "****Results****\n",
            "Accuracy: 44.9909%\n",
            "Log Loss: 18.13633649334721\n",
            "[[671  11  25  42   0 296]\n",
            " [ 10 674   7   5  40 102]\n",
            " [139   0 208  82  12 416]\n",
            " [109   2 114 101 114 452]\n",
            " [ 32 639  13   4  85  88]\n",
            " [135   9  53  41  17 722]]\n",
            "0.449908592321755\n",
            "              precision    recall  f1-score   support\n",
            "\n",
            "           0       0.61      0.64      0.63      1045\n",
            "           1       0.50      0.80      0.62       838\n",
            "           2       0.50      0.24      0.33       857\n",
            "           3       0.37      0.11      0.17       892\n",
            "           4       0.32      0.10      0.15       861\n",
            "           5       0.35      0.74      0.47       977\n",
            "\n",
            "    accuracy                           0.45      5470\n",
            "   macro avg       0.44      0.44      0.39      5470\n",
            "weighted avg       0.44      0.45      0.40      5470\n",
            "\n",
            "complete !!!\n",
            "==============================\n"
          ],
          "name": "stdout"
        },
        {
          "output_type": "display_data",
          "data": {
            "image/png": "[encoded data removed]",
            "text/plain": [
              "<Figure size 504x504 with 2 Axes>"
            ]
          },
          "metadata": {
            "tags": []
          }
        },
        {
          "output_type": "display_data",
          "data": {
            "image/png": "[encoded data removed]",
            "text/plain": [
              "<Figure size 504x504 with 2 Axes>"
            ]
          },
          "metadata": {
            "tags": []
          }
        },
        {
          "output_type": "display_data",
          "data": {
            "image/png": "[encoded data removed]",
            "text/plain": [
              "<Figure size 504x504 with 2 Axes>"
            ]
          },
          "metadata": {
            "tags": []
          }
        },
        {
          "output_type": "display_data",
          "data": {
            "image/png": "[encoded data removed]",
            "text/plain": [
              "<Figure size 504x504 with 2 Axes>"
            ]
          },
          "metadata": {
            "tags": []
          }
        },
        {
          "output_type": "display_data",
          "data": {
            "image/png": "[encoded data removed]",
            "text/plain": [
              "<Figure size 504x504 with 2 Axes>"
            ]
          },
          "metadata": {
            "tags": []
          }
        },
        {
          "output_type": "display_data",
          "data": {
            "image/png": "[encoded data removed]",
            "text/plain": [
              "<Figure size 504x504 with 2 Axes>"
            ]
          },
          "metadata": {
            "tags": []
          }
        },
        {
          "output_type": "display_data",
          "data": {
            "image/png": "[encoded data removed]",
            "text/plain": [
              "<Figure size 504x504 with 2 Axes>"
            ]
          },
          "metadata": {
            "tags": []
          }
        }
      ]
    },
    {
      "cell_type": "code",
      "metadata": {
        "colab_type": "code",
        "id": "PZ-xPgrAbc10",
        "outputId": "d603764c-aab2-422f-a042-e26ed12f602f",
        "colab": {
          "base_uri": "https://localhost:8080/",
          "height": 573
        }
      },
      "source": [
        "sns.set_color_codes(\"muted\")\n",
        "sns.barplot(x='Accuracy', y='Classifier', data=log, color=\"b\")\n",
        "\n",
        "plt.xlabel('Accuracy %')\n",
        "plt.title('Classifier Accuracy')\n",
        "plt.show()\n",
        "\n",
        "sns.set_color_codes(\"muted\")\n",
        "sns.barplot(x='Log Loss', y='Classifier', data=log, color=\"g\")\n",
        "\n",
        "plt.xlabel('Log Loss')\n",
        "plt.title('Classifier Log Loss')\n",
        "plt.show()"
      ],
      "execution_count": 0,
      "outputs": [
        {
          "output_type": "display_data",
          "data": {
            "image/png": "[encoded data removed]",
            "text/plain": [
              "<Figure size 432x288 with 1 Axes>"
            ]
          },
          "metadata": {
            "tags": []
          }
        },
        {
          "output_type": "display_data",
          "data": {
            "image/png": "[encoded data removed]",
            "text/plain": [
              "<Figure size 432x288 with 1 Axes>"
            ]
          },
          "metadata": {
            "tags": []
          }
        }
      ]
    }
  ]
}