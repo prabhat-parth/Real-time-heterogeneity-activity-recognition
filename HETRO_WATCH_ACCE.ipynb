{
  "nbformat": 4,
  "nbformat_minor": 0,
  "metadata": {
    "colab": {
      "name": "HETRO_WATCH_ACCE.ipynb",
      "provenance": [],
      "collapsed_sections": [],
      "machine_shape": "hm",
      "mount_file_id": "1TC9UkNLqzhEvV1kSQ3-8H2pvNSGhWd5k",
      "authorship_tag": "ABX9TyPah5iYewY7+drKPDfhpcDg",
      "include_colab_link": true
    },
    "kernelspec": {
      "name": "python3",
      "display_name": "Python 3"
    },
    "accelerator": "GPU"
  },
  "cells": [
    {
      "cell_type": "markdown",
      "metadata": {
        "id": "view-in-github",
        "colab_type": "text"
      },
      "source": [
        "<a href=\"https://colab.research.google.com/github/prabhat-parth/Real-time-heterogeneity-activity-recognition/blob/master/HETRO_WATCH_ACCE.ipynb\" target=\"_parent\"><img src=\"https://colab.research.google.com/assets/colab-badge.svg\" alt=\"Open In Colab\"/></a>"
      ]
    },
    {
      "cell_type": "code",
      "metadata": {
        "id": "3D-b3qEOtDuF",
        "colab_type": "code",
        "outputId": "5b3378d0-99a7-40c4-ccde-94505cf69e1a",
        "colab": {
          "base_uri": "https://localhost:8080/",
          "height": 83
        }
      },
      "source": [
        "import tensorflow as tf\n",
        "from tensorflow.keras import Sequential\n",
        "from tensorflow.keras.layers import Flatten, Dense, Dropout, BatchNormalization\n",
        "from tensorflow.keras.layers import Conv2D, MaxPool2D\n",
        "from tensorflow.keras.optimizers import Adam\n",
        "print(tf.__version__)\n",
        "import pandas as pd\n",
        "import numpy as np\n",
        "import matplotlib.pyplot as plt\n",
        "from sklearn.model_selection import train_test_split\n",
        "from sklearn.preprocessing import StandardScaler, LabelEncoder\n",
        "import pandas as pd\n",
        "import numpy as np\n",
        "import pickle\n",
        "import matplotlib.pyplot as plt\n",
        "from scipy import stats\n",
        "import tensorflow as tf\n",
        "import seaborn as sns\n",
        "from pylab import rcParams\n",
        "from sklearn import metrics\n",
        "from sklearn.model_selection import train_test_split"
      ],
      "execution_count": 0,
      "outputs": [
        {
          "output_type": "display_data",
          "data": {
            "text/html": [
              "<p style=\"color: red;\">\n",
              "The default version of TensorFlow in Colab will soon switch to TensorFlow 2.x.<br>\n",
              "We recommend you <a href=\"https://www.tensorflow.org/guide/migrate\" target=\"_blank\">upgrade</a> now \n",
              "or ensure your notebook will continue to use TensorFlow 1.x via the <code>%tensorflow_version 1.x</code> magic:\n",
              "<a href=\"https://colab.research.google.com/notebooks/tensorflow_version.ipynb\" target=\"_blank\">more info</a>.</p>\n"
            ],
            "text/plain": [
              "<IPython.core.display.HTML object>"
            ]
          },
          "metadata": {
            "tags": []
          }
        },
        {
          "output_type": "stream",
          "text": [
            "1.15.0\n"
          ],
          "name": "stdout"
        }
      ]
    },
    {
      "cell_type": "code",
      "metadata": {
        "id": "ZRSexPxlOr_t",
        "colab_type": "code",
        "outputId": "83bc0d44-2b26-4485-eb26-af2ac8917f5c",
        "colab": {
          "base_uri": "https://localhost:8080/",
          "height": 35
        }
      },
      "source": [
        "import numpy as np\n",
        "import pandas as pd\n",
        "data = pd.read_csv(\"/content/drive/My Drive/HETRO_DATA/Activity recognition exp/Activity recognition exp/Watch_accelerometer.csv\")\n",
        "data.head()\n",
        "data.shape\n"
      ],
      "execution_count": 0,
      "outputs": [
        {
          "output_type": "execute_result",
          "data": {
            "text/plain": [
              "(3540962, 10)"
            ]
          },
          "metadata": {
            "tags": []
          },
          "execution_count": 2
        }
      ]
    },
    {
      "cell_type": "code",
      "metadata": {
        "id": "3HwiYzUkPnRN",
        "colab_type": "code",
        "outputId": "00823f46-ac28-4e16-9dd8-222cff1218cd",
        "colab": {
          "base_uri": "https://localhost:8080/",
          "height": 35
        }
      },
      "source": [
        "#Check for Duplicates\n",
        "print('No of duplicates in DATA: {}'.format(sum(data.duplicated())))\n"
      ],
      "execution_count": 0,
      "outputs": [
        {
          "output_type": "stream",
          "text": [
            "No of duplicates in DATA: 0\n"
          ],
          "name": "stdout"
        }
      ]
    },
    {
      "cell_type": "code",
      "metadata": {
        "id": "oratZmabQHat",
        "colab_type": "code",
        "outputId": "51a813aa-c796-4cd8-8592-1075d17b5053",
        "colab": {
          "base_uri": "https://localhost:8080/",
          "height": 35
        }
      },
      "source": [
        "#Checking for NaN/null values\n",
        "print('We have {} NaN/Null values in data'.format(data.isnull().values.sum()))"
      ],
      "execution_count": 0,
      "outputs": [
        {
          "output_type": "stream",
          "text": [
            "We have 520357 NaN/Null values in data\n"
          ],
          "name": "stdout"
        }
      ]
    },
    {
      "cell_type": "code",
      "metadata": {
        "colab_type": "code",
        "id": "97Hzdh7SSYch",
        "colab": {}
      },
      "source": [
        "#sns.heatmap(data.isnull(), cbar=False)"
      ],
      "execution_count": 0,
      "outputs": []
    },
    {
      "cell_type": "code",
      "metadata": {
        "id": "gv9vr8XJRtJe",
        "colab_type": "code",
        "colab": {}
      },
      "source": [
        "data.dropna(axis=0, how='any', thresh=None, subset=None, inplace= True)"
      ],
      "execution_count": 0,
      "outputs": []
    },
    {
      "cell_type": "code",
      "metadata": {
        "id": "2HaYimWq7u2b",
        "colab_type": "code",
        "colab": {}
      },
      "source": [
        "#sns.heatmap(data.isnull(), cbar=False)"
      ],
      "execution_count": 0,
      "outputs": []
    },
    {
      "cell_type": "code",
      "metadata": {
        "colab_type": "code",
        "id": "dQcmi0pvS5Rl",
        "outputId": "c1969e6d-8665-4c65-b8d3-58dbeace7934",
        "colab": {
          "base_uri": "https://localhost:8080/",
          "height": 54
        }
      },
      "source": [
        "#Checking for NaN/null values\n",
        "print('We have {} NaN/Null values in data'.format(data.isnull().values.sum()))\n",
        "data.shape"
      ],
      "execution_count": 0,
      "outputs": [
        {
          "output_type": "stream",
          "text": [
            "We have 0 NaN/Null values in data\n"
          ],
          "name": "stdout"
        },
        {
          "output_type": "execute_result",
          "data": {
            "text/plain": [
              "(3020605, 10)"
            ]
          },
          "metadata": {
            "tags": []
          },
          "execution_count": 8
        }
      ]
    },
    {
      "cell_type": "code",
      "metadata": {
        "id": "2pF22Xd6knnC",
        "colab_type": "code",
        "outputId": "5d176cde-4934-41f5-8fbd-8da655b133c9",
        "colab": {
          "base_uri": "https://localhost:8080/",
          "height": 35
        }
      },
      "source": [
        "#data = data.drop(['Arrival_Time'], axis = 1).copy()\n",
        "data.shape"
      ],
      "execution_count": 0,
      "outputs": [
        {
          "output_type": "execute_result",
          "data": {
            "text/plain": [
              "(3020605, 10)"
            ]
          },
          "metadata": {
            "tags": []
          },
          "execution_count": 9
        }
      ]
    },
    {
      "cell_type": "code",
      "metadata": {
        "id": "VcNHiyd0JldN",
        "colab_type": "code",
        "outputId": "009bb1fc-3203-4537-bb64-4e99dad85116",
        "colab": {
          "base_uri": "https://localhost:8080/",
          "height": 198
        }
      },
      "source": [
        "data.head()"
      ],
      "execution_count": 0,
      "outputs": [
        {
          "output_type": "execute_result",
          "data": {
            "text/html": [
              "<div>\n",
              "<style scoped>\n",
              "    .dataframe tbody tr th:only-of-type {\n",
              "        vertical-align: middle;\n",
              "    }\n",
              "\n",
              "    .dataframe tbody tr th {\n",
              "        vertical-align: top;\n",
              "    }\n",
              "\n",
              "    .dataframe thead th {\n",
              "        text-align: right;\n",
              "    }\n",
              "</style>\n",
              "<table border=\"1\" class=\"dataframe\">\n",
              "  <thead>\n",
              "    <tr style=\"text-align: right;\">\n",
              "      <th></th>\n",
              "      <th>Index</th>\n",
              "      <th>Arrival_Time</th>\n",
              "      <th>Creation_Time</th>\n",
              "      <th>x</th>\n",
              "      <th>y</th>\n",
              "      <th>z</th>\n",
              "      <th>User</th>\n",
              "      <th>Model</th>\n",
              "      <th>Device</th>\n",
              "      <th>gt</th>\n",
              "    </tr>\n",
              "  </thead>\n",
              "  <tbody>\n",
              "    <tr>\n",
              "      <th>0</th>\n",
              "      <td>0</td>\n",
              "      <td>1424696638740</td>\n",
              "      <td>27920678471000</td>\n",
              "      <td>-0.565032</td>\n",
              "      <td>-9.572019</td>\n",
              "      <td>-0.614113</td>\n",
              "      <td>a</td>\n",
              "      <td>gear</td>\n",
              "      <td>gear_1</td>\n",
              "      <td>stand</td>\n",
              "    </tr>\n",
              "    <tr>\n",
              "      <th>1</th>\n",
              "      <td>1</td>\n",
              "      <td>1424696638740</td>\n",
              "      <td>27920681910000</td>\n",
              "      <td>-0.832584</td>\n",
              "      <td>-9.713276</td>\n",
              "      <td>-0.606930</td>\n",
              "      <td>a</td>\n",
              "      <td>gear</td>\n",
              "      <td>gear_1</td>\n",
              "      <td>stand</td>\n",
              "    </tr>\n",
              "    <tr>\n",
              "      <th>2</th>\n",
              "      <td>2</td>\n",
              "      <td>1424696638740</td>\n",
              "      <td>27920692014000</td>\n",
              "      <td>-1.018134</td>\n",
              "      <td>-9.935339</td>\n",
              "      <td>-0.544082</td>\n",
              "      <td>a</td>\n",
              "      <td>gear</td>\n",
              "      <td>gear_1</td>\n",
              "      <td>stand</td>\n",
              "    </tr>\n",
              "    <tr>\n",
              "      <th>3</th>\n",
              "      <td>3</td>\n",
              "      <td>1424696638741</td>\n",
              "      <td>27920701983000</td>\n",
              "      <td>-1.222838</td>\n",
              "      <td>-10.142437</td>\n",
              "      <td>-0.566229</td>\n",
              "      <td>a</td>\n",
              "      <td>gear</td>\n",
              "      <td>gear_1</td>\n",
              "      <td>stand</td>\n",
              "    </tr>\n",
              "    <tr>\n",
              "      <th>4</th>\n",
              "      <td>4</td>\n",
              "      <td>1424696638741</td>\n",
              "      <td>27920711906000</td>\n",
              "      <td>-1.577180</td>\n",
              "      <td>-10.480618</td>\n",
              "      <td>-0.402824</td>\n",
              "      <td>a</td>\n",
              "      <td>gear</td>\n",
              "      <td>gear_1</td>\n",
              "      <td>stand</td>\n",
              "    </tr>\n",
              "  </tbody>\n",
              "</table>\n",
              "</div>"
            ],
            "text/plain": [
              "   Index   Arrival_Time   Creation_Time         x  ...  User  Model  Device     gt\n",
              "0      0  1424696638740  27920678471000 -0.565032  ...     a   gear  gear_1  stand\n",
              "1      1  1424696638740  27920681910000 -0.832584  ...     a   gear  gear_1  stand\n",
              "2      2  1424696638740  27920692014000 -1.018134  ...     a   gear  gear_1  stand\n",
              "3      3  1424696638741  27920701983000 -1.222838  ...     a   gear  gear_1  stand\n",
              "4      4  1424696638741  27920711906000 -1.577180  ...     a   gear  gear_1  stand\n",
              "\n",
              "[5 rows x 10 columns]"
            ]
          },
          "metadata": {
            "tags": []
          },
          "execution_count": 10
        }
      ]
    },
    {
      "cell_type": "code",
      "metadata": {
        "id": "0ZdYPJIjJo6I",
        "colab_type": "code",
        "outputId": "29ecc6aa-1286-42a9-b45a-6ea05f0ff5a6",
        "colab": {
          "base_uri": "https://localhost:8080/",
          "height": 198
        }
      },
      "source": [
        "#data = data.drop(['Index','Creation_Time','User','Model','Device'], axis = 1).copy()\n",
        "data.head()"
      ],
      "execution_count": 0,
      "outputs": [
        {
          "output_type": "execute_result",
          "data": {
            "text/html": [
              "<div>\n",
              "<style scoped>\n",
              "    .dataframe tbody tr th:only-of-type {\n",
              "        vertical-align: middle;\n",
              "    }\n",
              "\n",
              "    .dataframe tbody tr th {\n",
              "        vertical-align: top;\n",
              "    }\n",
              "\n",
              "    .dataframe thead th {\n",
              "        text-align: right;\n",
              "    }\n",
              "</style>\n",
              "<table border=\"1\" class=\"dataframe\">\n",
              "  <thead>\n",
              "    <tr style=\"text-align: right;\">\n",
              "      <th></th>\n",
              "      <th>Index</th>\n",
              "      <th>Arrival_Time</th>\n",
              "      <th>Creation_Time</th>\n",
              "      <th>x</th>\n",
              "      <th>y</th>\n",
              "      <th>z</th>\n",
              "      <th>User</th>\n",
              "      <th>Model</th>\n",
              "      <th>Device</th>\n",
              "      <th>gt</th>\n",
              "    </tr>\n",
              "  </thead>\n",
              "  <tbody>\n",
              "    <tr>\n",
              "      <th>0</th>\n",
              "      <td>0</td>\n",
              "      <td>1424696638740</td>\n",
              "      <td>27920678471000</td>\n",
              "      <td>-0.565032</td>\n",
              "      <td>-9.572019</td>\n",
              "      <td>-0.614113</td>\n",
              "      <td>a</td>\n",
              "      <td>gear</td>\n",
              "      <td>gear_1</td>\n",
              "      <td>stand</td>\n",
              "    </tr>\n",
              "    <tr>\n",
              "      <th>1</th>\n",
              "      <td>1</td>\n",
              "      <td>1424696638740</td>\n",
              "      <td>27920681910000</td>\n",
              "      <td>-0.832584</td>\n",
              "      <td>-9.713276</td>\n",
              "      <td>-0.606930</td>\n",
              "      <td>a</td>\n",
              "      <td>gear</td>\n",
              "      <td>gear_1</td>\n",
              "      <td>stand</td>\n",
              "    </tr>\n",
              "    <tr>\n",
              "      <th>2</th>\n",
              "      <td>2</td>\n",
              "      <td>1424696638740</td>\n",
              "      <td>27920692014000</td>\n",
              "      <td>-1.018134</td>\n",
              "      <td>-9.935339</td>\n",
              "      <td>-0.544082</td>\n",
              "      <td>a</td>\n",
              "      <td>gear</td>\n",
              "      <td>gear_1</td>\n",
              "      <td>stand</td>\n",
              "    </tr>\n",
              "    <tr>\n",
              "      <th>3</th>\n",
              "      <td>3</td>\n",
              "      <td>1424696638741</td>\n",
              "      <td>27920701983000</td>\n",
              "      <td>-1.222838</td>\n",
              "      <td>-10.142437</td>\n",
              "      <td>-0.566229</td>\n",
              "      <td>a</td>\n",
              "      <td>gear</td>\n",
              "      <td>gear_1</td>\n",
              "      <td>stand</td>\n",
              "    </tr>\n",
              "    <tr>\n",
              "      <th>4</th>\n",
              "      <td>4</td>\n",
              "      <td>1424696638741</td>\n",
              "      <td>27920711906000</td>\n",
              "      <td>-1.577180</td>\n",
              "      <td>-10.480618</td>\n",
              "      <td>-0.402824</td>\n",
              "      <td>a</td>\n",
              "      <td>gear</td>\n",
              "      <td>gear_1</td>\n",
              "      <td>stand</td>\n",
              "    </tr>\n",
              "  </tbody>\n",
              "</table>\n",
              "</div>"
            ],
            "text/plain": [
              "   Index   Arrival_Time   Creation_Time         x  ...  User  Model  Device     gt\n",
              "0      0  1424696638740  27920678471000 -0.565032  ...     a   gear  gear_1  stand\n",
              "1      1  1424696638740  27920681910000 -0.832584  ...     a   gear  gear_1  stand\n",
              "2      2  1424696638740  27920692014000 -1.018134  ...     a   gear  gear_1  stand\n",
              "3      3  1424696638741  27920701983000 -1.222838  ...     a   gear  gear_1  stand\n",
              "4      4  1424696638741  27920711906000 -1.577180  ...     a   gear  gear_1  stand\n",
              "\n",
              "[5 rows x 10 columns]"
            ]
          },
          "metadata": {
            "tags": []
          },
          "execution_count": 11
        }
      ]
    },
    {
      "cell_type": "code",
      "metadata": {
        "id": "czgSYoh1ktNA",
        "colab_type": "code",
        "outputId": "222b7bb3-5913-4227-8f21-1e14bd0c02c3",
        "colab": {
          "base_uri": "https://localhost:8080/",
          "height": 145
        }
      },
      "source": [
        "data['gt'].value_counts()"
      ],
      "execution_count": 0,
      "outputs": [
        {
          "output_type": "execute_result",
          "data": {
            "text/plain": [
              "bike          635530\n",
              "walk          549761\n",
              "stairsdown    486376\n",
              "stairsup      473754\n",
              "stand         451189\n",
              "sit           423995\n",
              "Name: gt, dtype: int64"
            ]
          },
          "metadata": {
            "tags": []
          },
          "execution_count": 12
        }
      ]
    },
    {
      "cell_type": "code",
      "metadata": {
        "id": "ZxCdtxAxk0t6",
        "colab_type": "code",
        "outputId": "1cea404b-2b89-4f8b-9187-2b43dd916f8b",
        "colab": {
          "base_uri": "https://localhost:8080/",
          "height": 308
        }
      },
      "source": [
        "data['x'] = data['x'].astype('float')\n",
        "data['y'] = data['y'].astype('float')\n",
        "data['z'] = data['z'].astype('float')\n",
        "data.info()\n",
        "data.shape\n"
      ],
      "execution_count": 0,
      "outputs": [
        {
          "output_type": "stream",
          "text": [
            "<class 'pandas.core.frame.DataFrame'>\n",
            "Int64Index: 3020605 entries, 0 to 3540961\n",
            "Data columns (total 10 columns):\n",
            "Index            int64\n",
            "Arrival_Time     int64\n",
            "Creation_Time    int64\n",
            "x                float64\n",
            "y                float64\n",
            "z                float64\n",
            "User             object\n",
            "Model            object\n",
            "Device           object\n",
            "gt               object\n",
            "dtypes: float64(3), int64(3), object(4)\n",
            "memory usage: 253.5+ MB\n"
          ],
          "name": "stdout"
        },
        {
          "output_type": "execute_result",
          "data": {
            "text/plain": [
              "(3020605, 10)"
            ]
          },
          "metadata": {
            "tags": []
          },
          "execution_count": 13
        }
      ]
    },
    {
      "cell_type": "code",
      "metadata": {
        "id": "jW9HWs0pk9vm",
        "colab_type": "code",
        "outputId": "c80bdc15-70f8-44ca-9908-e503460550c7",
        "colab": {
          "base_uri": "https://localhost:8080/",
          "height": 35
        }
      },
      "source": [
        "Fs = 20\n",
        "gt= data['gt'].value_counts().index\n",
        "gt"
      ],
      "execution_count": 0,
      "outputs": [
        {
          "output_type": "execute_result",
          "data": {
            "text/plain": [
              "Index(['bike', 'walk', 'stairsdown', 'stairsup', 'stand', 'sit'], dtype='object')"
            ]
          },
          "metadata": {
            "tags": []
          },
          "execution_count": 14
        }
      ]
    },
    {
      "cell_type": "code",
      "metadata": {
        "id": "b-Yg1SHFlZ-i",
        "colab_type": "code",
        "outputId": "4eb26c5b-e76e-4057-ca9a-16314fa7eebf",
        "colab": {
          "base_uri": "https://localhost:8080/",
          "height": 198
        }
      },
      "source": [
        "from sklearn.preprocessing import LabelEncoder\n",
        "label = LabelEncoder()\n",
        "data['label'] = label.fit_transform(data['gt'])\n",
        "data.head()"
      ],
      "execution_count": 0,
      "outputs": [
        {
          "output_type": "execute_result",
          "data": {
            "text/html": [
              "<div>\n",
              "<style scoped>\n",
              "    .dataframe tbody tr th:only-of-type {\n",
              "        vertical-align: middle;\n",
              "    }\n",
              "\n",
              "    .dataframe tbody tr th {\n",
              "        vertical-align: top;\n",
              "    }\n",
              "\n",
              "    .dataframe thead th {\n",
              "        text-align: right;\n",
              "    }\n",
              "</style>\n",
              "<table border=\"1\" class=\"dataframe\">\n",
              "  <thead>\n",
              "    <tr style=\"text-align: right;\">\n",
              "      <th></th>\n",
              "      <th>Index</th>\n",
              "      <th>Arrival_Time</th>\n",
              "      <th>Creation_Time</th>\n",
              "      <th>x</th>\n",
              "      <th>y</th>\n",
              "      <th>z</th>\n",
              "      <th>User</th>\n",
              "      <th>Model</th>\n",
              "      <th>Device</th>\n",
              "      <th>gt</th>\n",
              "      <th>label</th>\n",
              "    </tr>\n",
              "  </thead>\n",
              "  <tbody>\n",
              "    <tr>\n",
              "      <th>0</th>\n",
              "      <td>0</td>\n",
              "      <td>1424696638740</td>\n",
              "      <td>27920678471000</td>\n",
              "      <td>-0.565032</td>\n",
              "      <td>-9.572019</td>\n",
              "      <td>-0.614113</td>\n",
              "      <td>a</td>\n",
              "      <td>gear</td>\n",
              "      <td>gear_1</td>\n",
              "      <td>stand</td>\n",
              "      <td>4</td>\n",
              "    </tr>\n",
              "    <tr>\n",
              "      <th>1</th>\n",
              "      <td>1</td>\n",
              "      <td>1424696638740</td>\n",
              "      <td>27920681910000</td>\n",
              "      <td>-0.832584</td>\n",
              "      <td>-9.713276</td>\n",
              "      <td>-0.606930</td>\n",
              "      <td>a</td>\n",
              "      <td>gear</td>\n",
              "      <td>gear_1</td>\n",
              "      <td>stand</td>\n",
              "      <td>4</td>\n",
              "    </tr>\n",
              "    <tr>\n",
              "      <th>2</th>\n",
              "      <td>2</td>\n",
              "      <td>1424696638740</td>\n",
              "      <td>27920692014000</td>\n",
              "      <td>-1.018134</td>\n",
              "      <td>-9.935339</td>\n",
              "      <td>-0.544082</td>\n",
              "      <td>a</td>\n",
              "      <td>gear</td>\n",
              "      <td>gear_1</td>\n",
              "      <td>stand</td>\n",
              "      <td>4</td>\n",
              "    </tr>\n",
              "    <tr>\n",
              "      <th>3</th>\n",
              "      <td>3</td>\n",
              "      <td>1424696638741</td>\n",
              "      <td>27920701983000</td>\n",
              "      <td>-1.222838</td>\n",
              "      <td>-10.142437</td>\n",
              "      <td>-0.566229</td>\n",
              "      <td>a</td>\n",
              "      <td>gear</td>\n",
              "      <td>gear_1</td>\n",
              "      <td>stand</td>\n",
              "      <td>4</td>\n",
              "    </tr>\n",
              "    <tr>\n",
              "      <th>4</th>\n",
              "      <td>4</td>\n",
              "      <td>1424696638741</td>\n",
              "      <td>27920711906000</td>\n",
              "      <td>-1.577180</td>\n",
              "      <td>-10.480618</td>\n",
              "      <td>-0.402824</td>\n",
              "      <td>a</td>\n",
              "      <td>gear</td>\n",
              "      <td>gear_1</td>\n",
              "      <td>stand</td>\n",
              "      <td>4</td>\n",
              "    </tr>\n",
              "  </tbody>\n",
              "</table>\n",
              "</div>"
            ],
            "text/plain": [
              "   Index   Arrival_Time   Creation_Time         x  ...  Model  Device     gt label\n",
              "0      0  1424696638740  27920678471000 -0.565032  ...   gear  gear_1  stand     4\n",
              "1      1  1424696638740  27920681910000 -0.832584  ...   gear  gear_1  stand     4\n",
              "2      2  1424696638740  27920692014000 -1.018134  ...   gear  gear_1  stand     4\n",
              "3      3  1424696638741  27920701983000 -1.222838  ...   gear  gear_1  stand     4\n",
              "4      4  1424696638741  27920711906000 -1.577180  ...   gear  gear_1  stand     4\n",
              "\n",
              "[5 rows x 11 columns]"
            ]
          },
          "metadata": {
            "tags": []
          },
          "execution_count": 15
        }
      ]
    },
    {
      "cell_type": "code",
      "metadata": {
        "id": "voiP0mliljDm",
        "colab_type": "code",
        "outputId": "0e9f2b2d-5601-4b6e-ce53-45aef1cc6689",
        "colab": {
          "base_uri": "https://localhost:8080/",
          "height": 54
        }
      },
      "source": [
        "label.classes_"
      ],
      "execution_count": 0,
      "outputs": [
        {
          "output_type": "execute_result",
          "data": {
            "text/plain": [
              "array(['bike', 'sit', 'stairsdown', 'stairsup', 'stand', 'walk'],\n",
              "      dtype=object)"
            ]
          },
          "metadata": {
            "tags": []
          },
          "execution_count": 16
        }
      ]
    },
    {
      "cell_type": "code",
      "metadata": {
        "id": "AsLDkawYlmV4",
        "colab_type": "code",
        "outputId": "0f6f6448-12d0-4fa2-cf7c-a764022e58c8",
        "colab": {
          "base_uri": "https://localhost:8080/",
          "height": 407
        }
      },
      "source": [
        "X = data[['x', 'y', 'z']]\n",
        "y = data['label']\n",
        "scaler = StandardScaler()\n",
        "X = scaler.fit_transform(X)\n",
        "\n",
        "scaled_X = pd.DataFrame(data = X, columns = ['x', 'y', 'z'])\n",
        "scaled_X['label'] = y.values\n",
        "\n",
        "scaled_X"
      ],
      "execution_count": 0,
      "outputs": [
        {
          "output_type": "execute_result",
          "data": {
            "text/html": [
              "<div>\n",
              "<style scoped>\n",
              "    .dataframe tbody tr th:only-of-type {\n",
              "        vertical-align: middle;\n",
              "    }\n",
              "\n",
              "    .dataframe tbody tr th {\n",
              "        vertical-align: top;\n",
              "    }\n",
              "\n",
              "    .dataframe thead th {\n",
              "        text-align: right;\n",
              "    }\n",
              "</style>\n",
              "<table border=\"1\" class=\"dataframe\">\n",
              "  <thead>\n",
              "    <tr style=\"text-align: right;\">\n",
              "      <th></th>\n",
              "      <th>x</th>\n",
              "      <th>y</th>\n",
              "      <th>z</th>\n",
              "      <th>label</th>\n",
              "    </tr>\n",
              "  </thead>\n",
              "  <tbody>\n",
              "    <tr>\n",
              "      <th>0</th>\n",
              "      <td>-0.002248</td>\n",
              "      <td>-1.505324</td>\n",
              "      <td>-0.822083</td>\n",
              "      <td>4</td>\n",
              "    </tr>\n",
              "    <tr>\n",
              "      <th>1</th>\n",
              "      <td>-0.034986</td>\n",
              "      <td>-1.535326</td>\n",
              "      <td>-0.819890</td>\n",
              "      <td>4</td>\n",
              "    </tr>\n",
              "    <tr>\n",
              "      <th>2</th>\n",
              "      <td>-0.057690</td>\n",
              "      <td>-1.582490</td>\n",
              "      <td>-0.800707</td>\n",
              "      <td>4</td>\n",
              "    </tr>\n",
              "    <tr>\n",
              "      <th>3</th>\n",
              "      <td>-0.082737</td>\n",
              "      <td>-1.626476</td>\n",
              "      <td>-0.807467</td>\n",
              "      <td>4</td>\n",
              "    </tr>\n",
              "    <tr>\n",
              "      <th>4</th>\n",
              "      <td>-0.126095</td>\n",
              "      <td>-1.698303</td>\n",
              "      <td>-0.757590</td>\n",
              "      <td>4</td>\n",
              "    </tr>\n",
              "    <tr>\n",
              "      <th>...</th>\n",
              "      <td>...</td>\n",
              "      <td>...</td>\n",
              "      <td>...</td>\n",
              "      <td>...</td>\n",
              "    </tr>\n",
              "    <tr>\n",
              "      <th>3020600</th>\n",
              "      <td>0.607304</td>\n",
              "      <td>-1.321819</td>\n",
              "      <td>-1.158194</td>\n",
              "      <td>0</td>\n",
              "    </tr>\n",
              "    <tr>\n",
              "      <th>3020601</th>\n",
              "      <td>0.720023</td>\n",
              "      <td>-1.495735</td>\n",
              "      <td>-1.007794</td>\n",
              "      <td>0</td>\n",
              "    </tr>\n",
              "    <tr>\n",
              "      <th>3020602</th>\n",
              "      <td>0.872062</td>\n",
              "      <td>-1.542753</td>\n",
              "      <td>-1.028864</td>\n",
              "      <td>0</td>\n",
              "    </tr>\n",
              "    <tr>\n",
              "      <th>3020603</th>\n",
              "      <td>1.037499</td>\n",
              "      <td>-1.493207</td>\n",
              "      <td>-1.125498</td>\n",
              "      <td>0</td>\n",
              "    </tr>\n",
              "    <tr>\n",
              "      <th>3020604</th>\n",
              "      <td>1.288276</td>\n",
              "      <td>-1.389565</td>\n",
              "      <td>-0.805080</td>\n",
              "      <td>0</td>\n",
              "    </tr>\n",
              "  </tbody>\n",
              "</table>\n",
              "<p>3020605 rows × 4 columns</p>\n",
              "</div>"
            ],
            "text/plain": [
              "                x         y         z  label\n",
              "0       -0.002248 -1.505324 -0.822083      4\n",
              "1       -0.034986 -1.535326 -0.819890      4\n",
              "2       -0.057690 -1.582490 -0.800707      4\n",
              "3       -0.082737 -1.626476 -0.807467      4\n",
              "4       -0.126095 -1.698303 -0.757590      4\n",
              "...           ...       ...       ...    ...\n",
              "3020600  0.607304 -1.321819 -1.158194      0\n",
              "3020601  0.720023 -1.495735 -1.007794      0\n",
              "3020602  0.872062 -1.542753 -1.028864      0\n",
              "3020603  1.037499 -1.493207 -1.125498      0\n",
              "3020604  1.288276 -1.389565 -0.805080      0\n",
              "\n",
              "[3020605 rows x 4 columns]"
            ]
          },
          "metadata": {
            "tags": []
          },
          "execution_count": 17
        }
      ]
    },
    {
      "cell_type": "code",
      "metadata": {
        "id": "3hi98Sixl7Ob",
        "colab_type": "code",
        "outputId": "bafc4140-9b15-42ac-9687-8d5effd5672c",
        "colab": {
          "base_uri": "https://localhost:8080/",
          "height": 54
        }
      },
      "source": [
        "label.classes_"
      ],
      "execution_count": 0,
      "outputs": [
        {
          "output_type": "execute_result",
          "data": {
            "text/plain": [
              "array(['bike', 'sit', 'stairsdown', 'stairsup', 'stand', 'walk'],\n",
              "      dtype=object)"
            ]
          },
          "metadata": {
            "tags": []
          },
          "execution_count": 18
        }
      ]
    },
    {
      "cell_type": "code",
      "metadata": {
        "id": "YkOBUiU01Rr7",
        "colab_type": "code",
        "colab": {}
      },
      "source": [
        "Fs = 50\n",
        "frame_size = Fs*4 # 80\n",
        "hop_size = Fs*2 # 40\n"
      ],
      "execution_count": 0,
      "outputs": []
    },
    {
      "cell_type": "code",
      "metadata": {
        "id": "BIOtEbjOoH4t",
        "colab_type": "code",
        "colab": {}
      },
      "source": [
        "import math as m\n",
        "def get_frames(data, frame_size, hop_size):\n",
        "\n",
        "  N_FEATURES = 3\n",
        "  frames = []\n",
        "  labels = []\n",
        "  for i in range(0, len(scaled_X) - frame_size,hop_size):\n",
        "    x = data['x'].values[i: i + frame_size]\n",
        "    y = data['y'].values[i: i + frame_size]\n",
        "    z = data['z'].values[i: i + frame_size]\n",
        "        # Retrieve the most often used label in this segment\n",
        "    label = stats.mode(scaled_X['label'][i: i + frame_size])[0][0]\n",
        "    frames.append([x, y, z])\n",
        "    labels.append(label)\n",
        "  # Bring the segments into a better shape\n",
        "  frames = np.asarray(frames, dtype= np.float32).reshape(-1, frame_size, N_FEATURES)\n",
        "  labels = np.asarray(labels)\n",
        "  return frames, labels\n"
      ],
      "execution_count": 0,
      "outputs": []
    },
    {
      "cell_type": "code",
      "metadata": {
        "colab_type": "code",
        "id": "ZruOiWuCsJ-m",
        "colab": {}
      },
      "source": [
        "X,y = get_frames(scaled_X, frame_size, hop_size)"
      ],
      "execution_count": 0,
      "outputs": []
    },
    {
      "cell_type": "code",
      "metadata": {
        "colab_type": "code",
        "id": "TlKwVuxQsJOX",
        "outputId": "eb388a1e-7bfe-47de-e88e-3a18e40aff87",
        "colab": {
          "base_uri": "https://localhost:8080/",
          "height": 35
        }
      },
      "source": [
        "X.shape\n",
        "y.shape"
      ],
      "execution_count": 0,
      "outputs": [
        {
          "output_type": "execute_result",
          "data": {
            "text/plain": [
              "(30205,)"
            ]
          },
          "metadata": {
            "tags": []
          },
          "execution_count": 22
        }
      ]
    },
    {
      "cell_type": "code",
      "metadata": {
        "id": "nqf7zeTA2WiX",
        "colab_type": "code",
        "colab": {}
      },
      "source": [
        "X_train, X_test, y_train, y_test = train_test_split(X,y, test_size = 0.2, random_state = 0, stratify = y)\n"
      ],
      "execution_count": 0,
      "outputs": []
    },
    {
      "cell_type": "code",
      "metadata": {
        "id": "d4nRHfpq1Rwp",
        "colab_type": "code",
        "outputId": "322df767-bcd4-4b9c-e82c-df5c8131f7b3",
        "colab": {
          "base_uri": "https://localhost:8080/",
          "height": 35
        }
      },
      "source": [
        "X_train.shape, X_test.shape"
      ],
      "execution_count": 0,
      "outputs": [
        {
          "output_type": "execute_result",
          "data": {
            "text/plain": [
              "((24164, 200, 3), (6041, 200, 3))"
            ]
          },
          "metadata": {
            "tags": []
          },
          "execution_count": 24
        }
      ]
    },
    {
      "cell_type": "code",
      "metadata": {
        "id": "2z45rOPQMRLK",
        "colab_type": "code",
        "outputId": "90fcaeaa-b91b-44a0-d8d1-ee5457bb2e4c",
        "colab": {
          "base_uri": "https://localhost:8080/",
          "height": 35
        }
      },
      "source": [
        "X_train = X_train.reshape(24164, 200, 3,1)\n",
        "X_test = X_test.reshape(6041, 200, 3,1)\n",
        "X_train[0].shape, X_test[0].shape"
      ],
      "execution_count": 0,
      "outputs": [
        {
          "output_type": "execute_result",
          "data": {
            "text/plain": [
              "((200, 3, 1), (200, 3, 1))"
            ]
          },
          "metadata": {
            "tags": []
          },
          "execution_count": 25
        }
      ]
    },
    {
      "cell_type": "code",
      "metadata": {
        "id": "yx5ufXF5NWB-",
        "colab_type": "code",
        "outputId": "343b7100-7c29-4b51-9627-e9e7a12e75c2",
        "colab": {
          "base_uri": "https://localhost:8080/",
          "height": 35
        }
      },
      "source": [
        "# Importing libraries\n",
        "import pandas as pd\n",
        "from matplotlib import pyplot\n",
        "from sklearn.preprocessing import StandardScaler\n",
        "from keras.models import Sequential\n",
        "from keras.layers import Dense\n",
        "from keras.layers import Flatten\n",
        "from keras.layers import Dropout\n",
        "from keras.layers.convolutional import Conv1D\n",
        "from keras.layers.convolutional import MaxPooling1D\n",
        "from keras.utils import to_categorical\n",
        "from keras.models import Sequential\n",
        "from keras.layers import LSTM\n",
        "from keras.layers.core import Dense, Dropout"
      ],
      "execution_count": 0,
      "outputs": [
        {
          "output_type": "stream",
          "text": [
            "Using TensorFlow backend.\n"
          ],
          "name": "stderr"
        }
      ]
    },
    {
      "cell_type": "code",
      "metadata": {
        "id": "RzkYLzMfdwXL",
        "colab_type": "code",
        "outputId": "1f0ef76f-15ee-452d-bd4e-00a1848f9f4a",
        "colab": {
          "base_uri": "https://localhost:8080/",
          "height": 674
        }
      },
      "source": [
        "from keras.models import Sequential\n",
        "from keras.layers import Conv2D, MaxPooling2D, Flatten, Dense, Dropout\n",
        "model = Sequential()\n",
        "model.add(Conv2D(filters=64, kernel_size=(3,3), padding='same', activation='relu',input_shape=X_train[0].shape))\n",
        "model.add(Dropout(0.3))\n",
        "model.add(MaxPooling2D(pool_size=2))\n",
        "\n",
        "model.add(Flatten())\n",
        "model.add(Dense(1024, activation='relu'))\n",
        "model.add(Dropout(0.5))\n",
        "model.add(Dense(6, activation='softmax'))\n",
        "model.summary()"
      ],
      "execution_count": 0,
      "outputs": [
        {
          "output_type": "stream",
          "text": [
            "WARNING:tensorflow:From /usr/local/lib/python3.6/dist-packages/keras/backend/tensorflow_backend.py:66: The name tf.get_default_graph is deprecated. Please use tf.compat.v1.get_default_graph instead.\n",
            "\n",
            "WARNING:tensorflow:From /usr/local/lib/python3.6/dist-packages/keras/backend/tensorflow_backend.py:541: The name tf.placeholder is deprecated. Please use tf.compat.v1.placeholder instead.\n",
            "\n",
            "WARNING:tensorflow:From /usr/local/lib/python3.6/dist-packages/keras/backend/tensorflow_backend.py:4432: The name tf.random_uniform is deprecated. Please use tf.random.uniform instead.\n",
            "\n",
            "WARNING:tensorflow:From /usr/local/lib/python3.6/dist-packages/keras/backend/tensorflow_backend.py:148: The name tf.placeholder_with_default is deprecated. Please use tf.compat.v1.placeholder_with_default instead.\n",
            "\n",
            "WARNING:tensorflow:From /usr/local/lib/python3.6/dist-packages/keras/backend/tensorflow_backend.py:3733: calling dropout (from tensorflow.python.ops.nn_ops) with keep_prob is deprecated and will be removed in a future version.\n",
            "Instructions for updating:\n",
            "Please use `rate` instead of `keep_prob`. Rate should be set to `rate = 1 - keep_prob`.\n",
            "WARNING:tensorflow:From /usr/local/lib/python3.6/dist-packages/keras/backend/tensorflow_backend.py:4267: The name tf.nn.max_pool is deprecated. Please use tf.nn.max_pool2d instead.\n",
            "\n",
            "Model: \"sequential_1\"\n",
            "_________________________________________________________________\n",
            "Layer (type)                 Output Shape              Param #   \n",
            "=================================================================\n",
            "conv2d_1 (Conv2D)            (None, 200, 3, 64)        640       \n",
            "_________________________________________________________________\n",
            "dropout_1 (Dropout)          (None, 200, 3, 64)        0         \n",
            "_________________________________________________________________\n",
            "max_pooling2d_1 (MaxPooling2 (None, 100, 1, 64)        0         \n",
            "_________________________________________________________________\n",
            "flatten_1 (Flatten)          (None, 6400)              0         \n",
            "_________________________________________________________________\n",
            "dense_1 (Dense)              (None, 1024)              6554624   \n",
            "_________________________________________________________________\n",
            "dropout_2 (Dropout)          (None, 1024)              0         \n",
            "_________________________________________________________________\n",
            "dense_2 (Dense)              (None, 6)                 6150      \n",
            "=================================================================\n",
            "Total params: 6,561,414\n",
            "Trainable params: 6,561,414\n",
            "Non-trainable params: 0\n",
            "_________________________________________________________________\n"
          ],
          "name": "stdout"
        }
      ]
    },
    {
      "cell_type": "code",
      "metadata": {
        "id": "LSRSMKjIecw4",
        "colab_type": "code",
        "outputId": "ec18c19e-6a15-49bb-f935-06e3860417a5",
        "colab": {
          "base_uri": "https://localhost:8080/",
          "height": 110
        }
      },
      "source": [
        "from keras import optimizers\n",
        "sgd = optimizers.adam(lr=0.0001)\n",
        "model.compile(loss='sparse_categorical_crossentropy', optimizer=sgd, metrics=['accuracy'])"
      ],
      "execution_count": 0,
      "outputs": [
        {
          "output_type": "stream",
          "text": [
            "WARNING:tensorflow:From /usr/local/lib/python3.6/dist-packages/keras/optimizers.py:793: The name tf.train.Optimizer is deprecated. Please use tf.compat.v1.train.Optimizer instead.\n",
            "\n",
            "WARNING:tensorflow:From /usr/local/lib/python3.6/dist-packages/keras/backend/tensorflow_backend.py:3622: The name tf.log is deprecated. Please use tf.math.log instead.\n",
            "\n"
          ],
          "name": "stdout"
        }
      ]
    },
    {
      "cell_type": "code",
      "metadata": {
        "id": "eX_iqGtZegEs",
        "colab_type": "code",
        "outputId": "231ff9be-4902-4b47-8395-c463f71bcceb",
        "colab": {
          "base_uri": "https://localhost:8080/",
          "height": 1000
        }
      },
      "source": [
        "history = model.fit(X_train, y_train, epochs =30, validation_data= (X_test, y_test),batch_size=64, verbose=1)"
      ],
      "execution_count": 0,
      "outputs": [
        {
          "output_type": "stream",
          "text": [
            "WARNING:tensorflow:From /usr/local/lib/python3.6/dist-packages/tensorflow_core/python/ops/math_grad.py:1424: where (from tensorflow.python.ops.array_ops) is deprecated and will be removed in a future version.\n",
            "Instructions for updating:\n",
            "Use tf.where in 2.0, which has the same broadcast rule as np.where\n",
            "WARNING:tensorflow:From /usr/local/lib/python3.6/dist-packages/keras/backend/tensorflow_backend.py:1033: The name tf.assign_add is deprecated. Please use tf.compat.v1.assign_add instead.\n",
            "\n",
            "WARNING:tensorflow:From /usr/local/lib/python3.6/dist-packages/keras/backend/tensorflow_backend.py:1020: The name tf.assign is deprecated. Please use tf.compat.v1.assign instead.\n",
            "\n",
            "WARNING:tensorflow:From /usr/local/lib/python3.6/dist-packages/keras/backend/tensorflow_backend.py:3005: The name tf.Session is deprecated. Please use tf.compat.v1.Session instead.\n",
            "\n",
            "Train on 24164 samples, validate on 6041 samples\n",
            "Epoch 1/30\n",
            "WARNING:tensorflow:From /usr/local/lib/python3.6/dist-packages/keras/backend/tensorflow_backend.py:190: The name tf.get_default_session is deprecated. Please use tf.compat.v1.get_default_session instead.\n",
            "\n",
            "WARNING:tensorflow:From /usr/local/lib/python3.6/dist-packages/keras/backend/tensorflow_backend.py:197: The name tf.ConfigProto is deprecated. Please use tf.compat.v1.ConfigProto instead.\n",
            "\n",
            "WARNING:tensorflow:From /usr/local/lib/python3.6/dist-packages/keras/backend/tensorflow_backend.py:207: The name tf.global_variables is deprecated. Please use tf.compat.v1.global_variables instead.\n",
            "\n",
            "WARNING:tensorflow:From /usr/local/lib/python3.6/dist-packages/keras/backend/tensorflow_backend.py:216: The name tf.is_variable_initialized is deprecated. Please use tf.compat.v1.is_variable_initialized instead.\n",
            "\n",
            "WARNING:tensorflow:From /usr/local/lib/python3.6/dist-packages/keras/backend/tensorflow_backend.py:223: The name tf.variables_initializer is deprecated. Please use tf.compat.v1.variables_initializer instead.\n",
            "\n",
            "24164/24164 [==============================] - 17s 703us/step - loss: 0.9971 - acc: 0.6236 - val_loss: 0.8346 - val_acc: 0.7214\n",
            "Epoch 2/30\n",
            "24164/24164 [==============================] - 3s 116us/step - loss: 0.7438 - acc: 0.7357 - val_loss: 0.7015 - val_acc: 0.7744\n",
            "Epoch 3/30\n",
            "24164/24164 [==============================] - 3s 115us/step - loss: 0.6537 - acc: 0.7622 - val_loss: 0.6375 - val_acc: 0.7942\n",
            "Epoch 4/30\n",
            "24164/24164 [==============================] - 3s 113us/step - loss: 0.5944 - acc: 0.7820 - val_loss: 0.6028 - val_acc: 0.8065\n",
            "Epoch 5/30\n",
            "24164/24164 [==============================] - 3s 114us/step - loss: 0.5553 - acc: 0.7995 - val_loss: 0.5808 - val_acc: 0.7999\n",
            "Epoch 6/30\n",
            "24164/24164 [==============================] - 3s 115us/step - loss: 0.5292 - acc: 0.8106 - val_loss: 0.5513 - val_acc: 0.8068\n",
            "Epoch 7/30\n",
            "24164/24164 [==============================] - 3s 114us/step - loss: 0.5059 - acc: 0.8184 - val_loss: 0.5260 - val_acc: 0.8285\n",
            "Epoch 8/30\n",
            "24164/24164 [==============================] - 3s 115us/step - loss: 0.4808 - acc: 0.8239 - val_loss: 0.5178 - val_acc: 0.8244\n",
            "Epoch 9/30\n",
            "24164/24164 [==============================] - 3s 115us/step - loss: 0.4685 - acc: 0.8302 - val_loss: 0.5059 - val_acc: 0.8235\n",
            "Epoch 10/30\n",
            "24164/24164 [==============================] - 3s 116us/step - loss: 0.4508 - acc: 0.8389 - val_loss: 0.5038 - val_acc: 0.8265\n",
            "Epoch 11/30\n",
            "24164/24164 [==============================] - 3s 115us/step - loss: 0.4373 - acc: 0.8437 - val_loss: 0.4785 - val_acc: 0.8373\n",
            "Epoch 12/30\n",
            "24164/24164 [==============================] - 3s 115us/step - loss: 0.4248 - acc: 0.8480 - val_loss: 0.4736 - val_acc: 0.8373\n",
            "Epoch 13/30\n",
            "24164/24164 [==============================] - 3s 116us/step - loss: 0.4150 - acc: 0.8512 - val_loss: 0.4681 - val_acc: 0.8437\n",
            "Epoch 14/30\n",
            "24164/24164 [==============================] - 3s 115us/step - loss: 0.4028 - acc: 0.8568 - val_loss: 0.4593 - val_acc: 0.8461\n",
            "Epoch 15/30\n",
            "24164/24164 [==============================] - 3s 113us/step - loss: 0.3917 - acc: 0.8619 - val_loss: 0.4584 - val_acc: 0.8404\n",
            "Epoch 16/30\n",
            "24164/24164 [==============================] - 3s 115us/step - loss: 0.3796 - acc: 0.8655 - val_loss: 0.4451 - val_acc: 0.8502\n",
            "Epoch 17/30\n",
            "24164/24164 [==============================] - 3s 113us/step - loss: 0.3713 - acc: 0.8679 - val_loss: 0.4427 - val_acc: 0.8467\n",
            "Epoch 18/30\n",
            "24164/24164 [==============================] - 3s 117us/step - loss: 0.3627 - acc: 0.8694 - val_loss: 0.4534 - val_acc: 0.8411\n",
            "Epoch 19/30\n",
            "24164/24164 [==============================] - 3s 116us/step - loss: 0.3521 - acc: 0.8772 - val_loss: 0.4372 - val_acc: 0.8490\n",
            "Epoch 20/30\n",
            "24164/24164 [==============================] - 3s 114us/step - loss: 0.3405 - acc: 0.8800 - val_loss: 0.4367 - val_acc: 0.8507\n",
            "Epoch 21/30\n",
            "24164/24164 [==============================] - 3s 115us/step - loss: 0.3368 - acc: 0.8821 - val_loss: 0.4387 - val_acc: 0.8444\n",
            "Epoch 22/30\n",
            "24164/24164 [==============================] - 3s 116us/step - loss: 0.3290 - acc: 0.8850 - val_loss: 0.4280 - val_acc: 0.8504\n",
            "Epoch 23/30\n",
            "24164/24164 [==============================] - 3s 114us/step - loss: 0.3225 - acc: 0.8871 - val_loss: 0.4341 - val_acc: 0.8538\n",
            "Epoch 24/30\n",
            "24164/24164 [==============================] - 3s 115us/step - loss: 0.3166 - acc: 0.8906 - val_loss: 0.4347 - val_acc: 0.8533\n",
            "Epoch 25/30\n",
            "24164/24164 [==============================] - 3s 115us/step - loss: 0.3045 - acc: 0.8937 - val_loss: 0.4186 - val_acc: 0.8510\n",
            "Epoch 26/30\n",
            "24164/24164 [==============================] - 3s 115us/step - loss: 0.2983 - acc: 0.8969 - val_loss: 0.4172 - val_acc: 0.8614\n",
            "Epoch 27/30\n",
            "24164/24164 [==============================] - 3s 119us/step - loss: 0.2958 - acc: 0.8967 - val_loss: 0.4236 - val_acc: 0.8522\n",
            "Epoch 28/30\n",
            "24164/24164 [==============================] - 3s 119us/step - loss: 0.2879 - acc: 0.9000 - val_loss: 0.4130 - val_acc: 0.8580\n",
            "Epoch 29/30\n",
            "24164/24164 [==============================] - 3s 118us/step - loss: 0.2782 - acc: 0.9027 - val_loss: 0.4067 - val_acc: 0.8639\n",
            "Epoch 30/30\n",
            "24164/24164 [==============================] - 3s 117us/step - loss: 0.2773 - acc: 0.9034 - val_loss: 0.4157 - val_acc: 0.8528\n"
          ],
          "name": "stdout"
        }
      ]
    },
    {
      "cell_type": "code",
      "metadata": {
        "id": "Av3b7ZuloL82",
        "colab_type": "code",
        "outputId": "4ba8e2ea-af42-459b-e911-57d0b1202249",
        "colab": {
          "base_uri": "https://localhost:8080/",
          "height": 977
        }
      },
      "source": [
        "import matplotlib.pyplot as plt1\n",
        "\n",
        "# Plot training & validation accuracy values\n",
        "plt.figure(figsize=(12,8))\n",
        "plt.plot(history.history['acc'],label='Train acc')\n",
        "plt.plot(history.history['val_acc'],label = 'Validation acc')\n",
        "plt.xlabel('epoch no')\n",
        "plt.ylabel('acc')\n",
        "plt.legend()\n",
        "plt.show()\n",
        "\n",
        "plt.figure(figsize=(12,8))\n",
        "plt.plot(history.history['loss'],label='Train loss')\n",
        "plt.plot(history.history['val_loss'],label = 'Validation loss')\n",
        "plt.xlabel('epoch no')\n",
        "plt.ylabel('loss')\n",
        "plt.legend()\n",
        "plt.show()\n"
      ],
      "execution_count": 0,
      "outputs": [
        {
          "output_type": "display_data",
          "data": {
            "image/png": "[encoded data removed]",
            "text/plain": [
              "<Figure size 864x576 with 1 Axes>"
            ]
          },
          "metadata": {
            "tags": []
          }
        },
        {
          "output_type": "display_data",
          "data": {
            "image/png": "[encoded data removed]",
            "text/plain": [
              "<Figure size 864x576 with 1 Axes>"
            ]
          },
          "metadata": {
            "tags": []
          }
        }
      ]
    },
    {
      "cell_type": "code",
      "metadata": {
        "id": "xQya7dGhoOlv",
        "colab_type": "code",
        "outputId": "3d8f8978-0abb-4074-cfdc-f6919a308931",
        "colab": {
          "base_uri": "https://localhost:8080/",
          "height": 842
        }
      },
      "source": [
        "from mlxtend.plotting import plot_confusion_matrix\n",
        "from sklearn.metrics import confusion_matrix\n",
        "from sklearn.metrics import accuracy_score \n",
        "from sklearn.metrics import classification_report\n",
        "\n",
        "y_pred = model.predict_classes(X_test)\n",
        "mat = confusion_matrix(y_test, y_pred)\n",
        "print(confusion_matrix(y_test, y_pred))\n",
        "print(accuracy_score(y_test,y_pred))\n",
        "print(classification_report(y_test,y_pred))\n",
        "\n",
        "plot_confusion_matrix(conf_mat=mat, show_normed=True, figsize=(7,7))"
      ],
      "execution_count": 0,
      "outputs": [
        {
          "output_type": "stream",
          "text": [
            "[[1237    0   12    9    3   11]\n",
            " [   4  817    4    5   13    5]\n",
            " [  22    1  660  177    7  105]\n",
            " [  19    2  140  715    6   66]\n",
            " [  13   40   15   23  801   10]\n",
            " [  12    9   80   70    6  922]]\n",
            "0.8528389339513326\n",
            "              precision    recall  f1-score   support\n",
            "\n",
            "           0       0.95      0.97      0.96      1272\n",
            "           1       0.94      0.96      0.95       848\n",
            "           2       0.72      0.68      0.70       972\n",
            "           3       0.72      0.75      0.73       948\n",
            "           4       0.96      0.89      0.92       902\n",
            "           5       0.82      0.84      0.83      1099\n",
            "\n",
            "    accuracy                           0.85      6041\n",
            "   macro avg       0.85      0.85      0.85      6041\n",
            "weighted avg       0.85      0.85      0.85      6041\n",
            "\n"
          ],
          "name": "stdout"
        },
        {
          "output_type": "execute_result",
          "data": {
            "text/plain": [
              "(<Figure size 504x504 with 1 Axes>,\n",
              " <matplotlib.axes._subplots.AxesSubplot at 0x7f4b9677d3c8>)"
            ]
          },
          "metadata": {
            "tags": []
          },
          "execution_count": 31
        },
        {
          "output_type": "display_data",
          "data": {
            "image/png": "[encoded data removed]",
            "text/plain": [
              "<Figure size 504x504 with 1 Axes>"
            ]
          },
          "metadata": {
            "tags": []
          }
        }
      ]
    },
    {
      "cell_type": "code",
      "metadata": {
        "id": "sNOPnsI3Dh4s",
        "colab_type": "code",
        "outputId": "fd0a356e-8359-47d6-9b49-680fcba32676",
        "colab": {
          "base_uri": "https://localhost:8080/",
          "height": 1000
        }
      },
      "source": [
        "from mlxtend.plotting import plot_confusion_matrix\n",
        "from sklearn.metrics import confusion_matrix\n",
        "from sklearn.metrics import accuracy_score \n",
        "from sklearn.metrics import classification_report\n",
        "from keras.models import Sequential\n",
        "from keras.layers import Conv2D, MaxPooling2D, Flatten, Dense, Dropout\n",
        "model = Sequential()\n",
        "model.add(Conv2D(filters=64, kernel_size=(3,3), padding='same', activation='relu',input_shape=X_train[0].shape))\n",
        "model.add(Dropout(0.3))\n",
        "model.add(MaxPooling2D(pool_size=2))\n",
        "\n",
        "model.add(Flatten())\n",
        "model.add(Dense(1024, activation='relu'))\n",
        "model.add(Dropout(0.5))\n",
        "model.add(Dense(6, activation='softmax'))\n",
        "model.summary()\n",
        "from keras import optimizers\n",
        "sgd = optimizers.adam(lr=0.0001)\n",
        "model.compile(loss='sparse_categorical_crossentropy', optimizer=sgd, metrics=['accuracy'])\n",
        "\n",
        "fruits = [64,128,256,512,1024]\n",
        "for x in fruits:\n",
        "  print(x)\n",
        "  history = model.fit(X_train, y_train, epochs =30, validation_data= (X_test, y_test),batch_size=x, verbose=1)  \n",
        "  y_pred = model.predict_classes(X_test)\n",
        "  mat = confusion_matrix(y_test, y_pred)\n",
        "  print(confusion_matrix(y_test, y_pred))\n",
        "  print(accuracy_score(y_test,y_pred))\n",
        "  print(classification_report(y_test,y_pred))\n",
        "\n"
      ],
      "execution_count": 0,
      "outputs": [
        {
          "output_type": "stream",
          "text": [
            "Model: \"sequential_2\"\n",
            "_________________________________________________________________\n",
            "Layer (type)                 Output Shape              Param #   \n",
            "=================================================================\n",
            "conv2d_2 (Conv2D)            (None, 200, 3, 64)        640       \n",
            "_________________________________________________________________\n",
            "dropout_3 (Dropout)          (None, 200, 3, 64)        0         \n",
            "_________________________________________________________________\n",
            "max_pooling2d_2 (MaxPooling2 (None, 100, 1, 64)        0         \n",
            "_________________________________________________________________\n",
            "flatten_2 (Flatten)          (None, 6400)              0         \n",
            "_________________________________________________________________\n",
            "dense_3 (Dense)              (None, 1024)              6554624   \n",
            "_________________________________________________________________\n",
            "dropout_4 (Dropout)          (None, 1024)              0         \n",
            "_________________________________________________________________\n",
            "dense_4 (Dense)              (None, 6)                 6150      \n",
            "=================================================================\n",
            "Total params: 6,561,414\n",
            "Trainable params: 6,561,414\n",
            "Non-trainable params: 0\n",
            "_________________________________________________________________\n",
            "64\n",
            "Train on 24164 samples, validate on 6041 samples\n",
            "Epoch 1/30\n",
            "24164/24164 [==============================] - 3s 141us/step - loss: 1.0093 - acc: 0.6152 - val_loss: 0.8362 - val_acc: 0.7345\n",
            "Epoch 2/30\n",
            "24164/24164 [==============================] - 3s 116us/step - loss: 0.7541 - acc: 0.7287 - val_loss: 0.7199 - val_acc: 0.7565\n",
            "Epoch 3/30\n",
            "24164/24164 [==============================] - 3s 115us/step - loss: 0.6573 - acc: 0.7634 - val_loss: 0.6455 - val_acc: 0.8010\n",
            "Epoch 4/30\n",
            "24164/24164 [==============================] - 3s 116us/step - loss: 0.6033 - acc: 0.7807 - val_loss: 0.6029 - val_acc: 0.8028\n",
            "Epoch 5/30\n",
            "24164/24164 [==============================] - 3s 114us/step - loss: 0.5676 - acc: 0.7932 - val_loss: 0.5753 - val_acc: 0.8154\n",
            "Epoch 6/30\n",
            "24164/24164 [==============================] - 3s 113us/step - loss: 0.5342 - acc: 0.8096 - val_loss: 0.5626 - val_acc: 0.8227\n",
            "Epoch 7/30\n",
            "24164/24164 [==============================] - 3s 117us/step - loss: 0.5113 - acc: 0.8149 - val_loss: 0.5372 - val_acc: 0.8249\n",
            "Epoch 8/30\n",
            "24164/24164 [==============================] - 3s 115us/step - loss: 0.4901 - acc: 0.8243 - val_loss: 0.5212 - val_acc: 0.8202\n",
            "Epoch 9/30\n",
            "24164/24164 [==============================] - 3s 115us/step - loss: 0.4758 - acc: 0.8290 - val_loss: 0.5035 - val_acc: 0.8384\n",
            "Epoch 10/30\n",
            "24164/24164 [==============================] - 3s 115us/step - loss: 0.4610 - acc: 0.8343 - val_loss: 0.5026 - val_acc: 0.8366\n",
            "Epoch 11/30\n",
            "24164/24164 [==============================] - 3s 117us/step - loss: 0.4456 - acc: 0.8403 - val_loss: 0.4860 - val_acc: 0.8371\n",
            "Epoch 12/30\n",
            "24164/24164 [==============================] - 3s 114us/step - loss: 0.4329 - acc: 0.8454 - val_loss: 0.4828 - val_acc: 0.8345\n",
            "Epoch 13/30\n",
            "24164/24164 [==============================] - 3s 117us/step - loss: 0.4201 - acc: 0.8491 - val_loss: 0.4822 - val_acc: 0.8434\n",
            "Epoch 14/30\n",
            "24164/24164 [==============================] - 3s 116us/step - loss: 0.4086 - acc: 0.8550 - val_loss: 0.4630 - val_acc: 0.8414\n",
            "Epoch 15/30\n",
            "24164/24164 [==============================] - 3s 117us/step - loss: 0.3983 - acc: 0.8590 - val_loss: 0.4568 - val_acc: 0.8456\n",
            "Epoch 16/30\n",
            "24164/24164 [==============================] - 3s 115us/step - loss: 0.3885 - acc: 0.8622 - val_loss: 0.4493 - val_acc: 0.8470\n",
            "Epoch 17/30\n",
            "24164/24164 [==============================] - 3s 115us/step - loss: 0.3777 - acc: 0.8658 - val_loss: 0.4464 - val_acc: 0.8479\n",
            "Epoch 18/30\n",
            "24164/24164 [==============================] - 3s 114us/step - loss: 0.3697 - acc: 0.8680 - val_loss: 0.4423 - val_acc: 0.8518\n",
            "Epoch 19/30\n",
            "24164/24164 [==============================] - 3s 115us/step - loss: 0.3594 - acc: 0.8716 - val_loss: 0.4384 - val_acc: 0.8489\n",
            "Epoch 20/30\n",
            "24164/24164 [==============================] - 3s 116us/step - loss: 0.3522 - acc: 0.8741 - val_loss: 0.4357 - val_acc: 0.8540\n",
            "Epoch 21/30\n",
            "24164/24164 [==============================] - 3s 116us/step - loss: 0.3432 - acc: 0.8774 - val_loss: 0.4305 - val_acc: 0.8538\n",
            "Epoch 22/30\n",
            "24164/24164 [==============================] - 3s 116us/step - loss: 0.3392 - acc: 0.8799 - val_loss: 0.4349 - val_acc: 0.8545\n",
            "Epoch 23/30\n",
            "24164/24164 [==============================] - 3s 115us/step - loss: 0.3305 - acc: 0.8832 - val_loss: 0.4228 - val_acc: 0.8547\n",
            "Epoch 24/30\n",
            "24164/24164 [==============================] - 3s 115us/step - loss: 0.3202 - acc: 0.8878 - val_loss: 0.4183 - val_acc: 0.8571\n",
            "Epoch 25/30\n",
            "24164/24164 [==============================] - 3s 116us/step - loss: 0.3128 - acc: 0.8892 - val_loss: 0.4231 - val_acc: 0.8585\n",
            "Epoch 26/30\n",
            "24164/24164 [==============================] - 3s 114us/step - loss: 0.3076 - acc: 0.8917 - val_loss: 0.4208 - val_acc: 0.8588\n",
            "Epoch 27/30\n",
            "24164/24164 [==============================] - 3s 116us/step - loss: 0.3017 - acc: 0.8934 - val_loss: 0.4185 - val_acc: 0.8570\n",
            "Epoch 28/30\n",
            "24164/24164 [==============================] - 3s 117us/step - loss: 0.2935 - acc: 0.8964 - val_loss: 0.4186 - val_acc: 0.8540\n",
            "Epoch 29/30\n",
            "24164/24164 [==============================] - 3s 115us/step - loss: 0.2857 - acc: 0.9001 - val_loss: 0.4167 - val_acc: 0.8533\n",
            "Epoch 30/30\n",
            "24164/24164 [==============================] - 3s 114us/step - loss: 0.2829 - acc: 0.9002 - val_loss: 0.4325 - val_acc: 0.8484\n",
            "[[1231    0   13    9    4   15]\n",
            " [   3  813    3    6   13   10]\n",
            " [  26    2  641  149    8  146]\n",
            " [  11    2  135  670    5  125]\n",
            " [  10   40   15   28  796   13]\n",
            " [  13    5   55   49    3  974]]\n",
            "0.8483694752524417\n",
            "              precision    recall  f1-score   support\n",
            "\n",
            "           0       0.95      0.97      0.96      1272\n",
            "           1       0.94      0.96      0.95       848\n",
            "           2       0.74      0.66      0.70       972\n",
            "           3       0.74      0.71      0.72       948\n",
            "           4       0.96      0.88      0.92       902\n",
            "           5       0.76      0.89      0.82      1099\n",
            "\n",
            "    accuracy                           0.85      6041\n",
            "   macro avg       0.85      0.84      0.84      6041\n",
            "weighted avg       0.85      0.85      0.85      6041\n",
            "\n",
            "128\n",
            "Train on 24164 samples, validate on 6041 samples\n",
            "Epoch 1/30\n",
            "24164/24164 [==============================] - 2s 72us/step - loss: 0.2613 - acc: 0.9098 - val_loss: 0.3974 - val_acc: 0.8656\n",
            "Epoch 2/30\n",
            "24164/24164 [==============================] - 2s 68us/step - loss: 0.2507 - acc: 0.9146 - val_loss: 0.3997 - val_acc: 0.8626\n",
            "Epoch 3/30\n",
            "24164/24164 [==============================] - 2s 67us/step - loss: 0.2499 - acc: 0.9143 - val_loss: 0.4018 - val_acc: 0.8631\n",
            "Epoch 4/30\n",
            "24164/24164 [==============================] - 2s 68us/step - loss: 0.2488 - acc: 0.9135 - val_loss: 0.3958 - val_acc: 0.8677\n",
            "Epoch 5/30\n",
            "24164/24164 [==============================] - 2s 68us/step - loss: 0.2438 - acc: 0.9157 - val_loss: 0.3994 - val_acc: 0.8595\n",
            "Epoch 6/30\n",
            "24164/24164 [==============================] - 2s 69us/step - loss: 0.2423 - acc: 0.9175 - val_loss: 0.3975 - val_acc: 0.8643\n",
            "Epoch 7/30\n",
            "24164/24164 [==============================] - 2s 68us/step - loss: 0.2345 - acc: 0.9206 - val_loss: 0.3975 - val_acc: 0.8664\n",
            "Epoch 8/30\n",
            "24164/24164 [==============================] - 2s 71us/step - loss: 0.2349 - acc: 0.9185 - val_loss: 0.4002 - val_acc: 0.8619\n",
            "Epoch 9/30\n",
            "24164/24164 [==============================] - 2s 69us/step - loss: 0.2296 - acc: 0.9234 - val_loss: 0.3988 - val_acc: 0.8611\n",
            "Epoch 10/30\n",
            "24164/24164 [==============================] - 2s 70us/step - loss: 0.2312 - acc: 0.9213 - val_loss: 0.4037 - val_acc: 0.8626\n",
            "Epoch 11/30\n",
            "24164/24164 [==============================] - 2s 67us/step - loss: 0.2255 - acc: 0.9232 - val_loss: 0.3909 - val_acc: 0.8649\n",
            "Epoch 12/30\n",
            "24164/24164 [==============================] - 2s 67us/step - loss: 0.2224 - acc: 0.9252 - val_loss: 0.3986 - val_acc: 0.8626\n",
            "Epoch 13/30\n",
            "24164/24164 [==============================] - 2s 67us/step - loss: 0.2212 - acc: 0.9226 - val_loss: 0.4012 - val_acc: 0.8608\n",
            "Epoch 14/30\n",
            "24164/24164 [==============================] - 2s 69us/step - loss: 0.2133 - acc: 0.9272 - val_loss: 0.4019 - val_acc: 0.8618\n",
            "Epoch 15/30\n",
            "24164/24164 [==============================] - 2s 69us/step - loss: 0.2139 - acc: 0.9269 - val_loss: 0.3923 - val_acc: 0.8656\n",
            "Epoch 16/30\n",
            "24164/24164 [==============================] - 2s 71us/step - loss: 0.2142 - acc: 0.9264 - val_loss: 0.3913 - val_acc: 0.8651\n",
            "Epoch 17/30\n",
            "24164/24164 [==============================] - 2s 71us/step - loss: 0.2040 - acc: 0.9324 - val_loss: 0.3938 - val_acc: 0.8629\n",
            "Epoch 18/30\n",
            "24164/24164 [==============================] - 2s 70us/step - loss: 0.2017 - acc: 0.9319 - val_loss: 0.3945 - val_acc: 0.8591\n",
            "Epoch 19/30\n",
            "24164/24164 [==============================] - 2s 68us/step - loss: 0.1979 - acc: 0.9321 - val_loss: 0.3932 - val_acc: 0.8658\n",
            "Epoch 20/30\n",
            "24164/24164 [==============================] - 2s 68us/step - loss: 0.2009 - acc: 0.9316 - val_loss: 0.3950 - val_acc: 0.8648\n",
            "Epoch 21/30\n",
            "24164/24164 [==============================] - 2s 69us/step - loss: 0.1915 - acc: 0.9356 - val_loss: 0.3910 - val_acc: 0.8666\n",
            "Epoch 22/30\n",
            "24164/24164 [==============================] - 2s 68us/step - loss: 0.1886 - acc: 0.9343 - val_loss: 0.3942 - val_acc: 0.8624\n",
            "Epoch 23/30\n",
            "24164/24164 [==============================] - 2s 69us/step - loss: 0.1881 - acc: 0.9380 - val_loss: 0.3995 - val_acc: 0.8666\n",
            "Epoch 24/30\n",
            "24164/24164 [==============================] - 2s 69us/step - loss: 0.1857 - acc: 0.9357 - val_loss: 0.3939 - val_acc: 0.8686\n",
            "Epoch 25/30\n",
            "24164/24164 [==============================] - 2s 69us/step - loss: 0.1800 - acc: 0.9391 - val_loss: 0.3953 - val_acc: 0.8664\n",
            "Epoch 26/30\n",
            "24164/24164 [==============================] - 2s 69us/step - loss: 0.1768 - acc: 0.9416 - val_loss: 0.3903 - val_acc: 0.8702\n",
            "Epoch 27/30\n",
            "24164/24164 [==============================] - 2s 69us/step - loss: 0.1739 - acc: 0.9410 - val_loss: 0.3888 - val_acc: 0.8687\n",
            "Epoch 28/30\n",
            "24164/24164 [==============================] - 2s 69us/step - loss: 0.1779 - acc: 0.9388 - val_loss: 0.3919 - val_acc: 0.8684\n",
            "Epoch 29/30\n",
            "24164/24164 [==============================] - 2s 68us/step - loss: 0.1708 - acc: 0.9427 - val_loss: 0.3885 - val_acc: 0.8671\n",
            "Epoch 30/30\n",
            "24164/24164 [==============================] - 2s 69us/step - loss: 0.1707 - acc: 0.9429 - val_loss: 0.3936 - val_acc: 0.8689\n",
            "[[1233    1   15    6    6   11]\n",
            " [   3  818    7    3   11    6]\n",
            " [  24    1  720  128   10   89]\n",
            " [  10    2  150  721    9   56]\n",
            " [   8   29   18   16  824    7]\n",
            " [  17    6   74   63    6  933]]\n",
            "0.8688958781658666\n",
            "              precision    recall  f1-score   support\n",
            "\n",
            "           0       0.95      0.97      0.96      1272\n",
            "           1       0.95      0.96      0.96       848\n",
            "           2       0.73      0.74      0.74       972\n",
            "           3       0.77      0.76      0.76       948\n",
            "           4       0.95      0.91      0.93       902\n",
            "           5       0.85      0.85      0.85      1099\n",
            "\n",
            "    accuracy                           0.87      6041\n",
            "   macro avg       0.87      0.87      0.87      6041\n",
            "weighted avg       0.87      0.87      0.87      6041\n",
            "\n",
            "256\n",
            "Train on 24164 samples, validate on 6041 samples\n",
            "Epoch 1/30\n",
            "24164/24164 [==============================] - 1s 45us/step - loss: 0.1579 - acc: 0.9489 - val_loss: 0.3865 - val_acc: 0.8709\n",
            "Epoch 2/30\n",
            "24164/24164 [==============================] - 1s 45us/step - loss: 0.1509 - acc: 0.9510 - val_loss: 0.3884 - val_acc: 0.8679\n",
            "Epoch 3/30\n",
            "24164/24164 [==============================] - 1s 45us/step - loss: 0.1521 - acc: 0.9503 - val_loss: 0.3865 - val_acc: 0.8701\n",
            "Epoch 4/30\n",
            "24164/24164 [==============================] - 1s 44us/step - loss: 0.1478 - acc: 0.9524 - val_loss: 0.3880 - val_acc: 0.8686\n",
            "Epoch 5/30\n",
            "24164/24164 [==============================] - 1s 45us/step - loss: 0.1479 - acc: 0.9526 - val_loss: 0.3901 - val_acc: 0.8706\n",
            "Epoch 6/30\n",
            "24164/24164 [==============================] - 1s 46us/step - loss: 0.1458 - acc: 0.9541 - val_loss: 0.3891 - val_acc: 0.8704\n",
            "Epoch 7/30\n",
            "24164/24164 [==============================] - 1s 45us/step - loss: 0.1397 - acc: 0.9561 - val_loss: 0.3911 - val_acc: 0.8676\n",
            "Epoch 8/30\n",
            "24164/24164 [==============================] - 1s 45us/step - loss: 0.1430 - acc: 0.9526 - val_loss: 0.3963 - val_acc: 0.8624\n",
            "Epoch 9/30\n",
            "24164/24164 [==============================] - 1s 45us/step - loss: 0.1410 - acc: 0.9545 - val_loss: 0.3918 - val_acc: 0.8677\n",
            "Epoch 10/30\n",
            "24164/24164 [==============================] - 1s 45us/step - loss: 0.1390 - acc: 0.9546 - val_loss: 0.3882 - val_acc: 0.8687\n",
            "Epoch 11/30\n",
            "24164/24164 [==============================] - 1s 45us/step - loss: 0.1404 - acc: 0.9536 - val_loss: 0.3884 - val_acc: 0.8684\n",
            "Epoch 12/30\n",
            "24164/24164 [==============================] - 1s 45us/step - loss: 0.1370 - acc: 0.9547 - val_loss: 0.3921 - val_acc: 0.8689\n",
            "Epoch 13/30\n",
            "24164/24164 [==============================] - 1s 45us/step - loss: 0.1371 - acc: 0.9553 - val_loss: 0.3909 - val_acc: 0.8715\n",
            "Epoch 14/30\n",
            "24164/24164 [==============================] - 1s 45us/step - loss: 0.1357 - acc: 0.9556 - val_loss: 0.3940 - val_acc: 0.8681\n",
            "Epoch 15/30\n",
            "24164/24164 [==============================] - 1s 45us/step - loss: 0.1343 - acc: 0.9575 - val_loss: 0.3935 - val_acc: 0.8697\n",
            "Epoch 16/30\n",
            "24164/24164 [==============================] - 1s 45us/step - loss: 0.1330 - acc: 0.9563 - val_loss: 0.3917 - val_acc: 0.8681\n",
            "Epoch 17/30\n",
            "24164/24164 [==============================] - 1s 45us/step - loss: 0.1319 - acc: 0.9564 - val_loss: 0.3994 - val_acc: 0.8664\n",
            "Epoch 18/30\n",
            "24164/24164 [==============================] - 1s 46us/step - loss: 0.1307 - acc: 0.9587 - val_loss: 0.3961 - val_acc: 0.8727\n",
            "Epoch 19/30\n",
            "24164/24164 [==============================] - 1s 45us/step - loss: 0.1293 - acc: 0.9588 - val_loss: 0.3977 - val_acc: 0.8707\n",
            "Epoch 20/30\n",
            "24164/24164 [==============================] - 1s 45us/step - loss: 0.1293 - acc: 0.9588 - val_loss: 0.3975 - val_acc: 0.8722\n",
            "Epoch 21/30\n",
            "24164/24164 [==============================] - 1s 44us/step - loss: 0.1266 - acc: 0.9578 - val_loss: 0.4003 - val_acc: 0.8737\n",
            "Epoch 22/30\n",
            "24164/24164 [==============================] - 1s 44us/step - loss: 0.1276 - acc: 0.9591 - val_loss: 0.3988 - val_acc: 0.8717\n",
            "Epoch 23/30\n",
            "24164/24164 [==============================] - 1s 44us/step - loss: 0.1231 - acc: 0.9602 - val_loss: 0.3956 - val_acc: 0.8686\n",
            "Epoch 24/30\n",
            "24164/24164 [==============================] - 1s 44us/step - loss: 0.1242 - acc: 0.9613 - val_loss: 0.3981 - val_acc: 0.8692\n",
            "Epoch 25/30\n",
            "24164/24164 [==============================] - 1s 44us/step - loss: 0.1242 - acc: 0.9598 - val_loss: 0.4004 - val_acc: 0.8669\n",
            "Epoch 26/30\n",
            "24164/24164 [==============================] - 1s 44us/step - loss: 0.1190 - acc: 0.9610 - val_loss: 0.4010 - val_acc: 0.8704\n",
            "Epoch 27/30\n",
            "24164/24164 [==============================] - 1s 44us/step - loss: 0.1207 - acc: 0.9616 - val_loss: 0.4006 - val_acc: 0.8696\n",
            "Epoch 28/30\n",
            "24164/24164 [==============================] - 1s 44us/step - loss: 0.1202 - acc: 0.9608 - val_loss: 0.4025 - val_acc: 0.8661\n",
            "Epoch 29/30\n",
            "24164/24164 [==============================] - 1s 44us/step - loss: 0.1210 - acc: 0.9616 - val_loss: 0.3983 - val_acc: 0.8732\n",
            "Epoch 30/30\n",
            "24164/24164 [==============================] - 1s 45us/step - loss: 0.1183 - acc: 0.9616 - val_loss: 0.4020 - val_acc: 0.8687\n",
            "[[1233    1   15    8    3   12]\n",
            " [   4  816    7    2   11    8]\n",
            " [  30    2  708  125    7  100]\n",
            " [  16    2  147  713    8   62]\n",
            " [   9   35   16   13  819   10]\n",
            " [  14    5   64   51    6  959]]\n",
            "0.8687303426585002\n",
            "              precision    recall  f1-score   support\n",
            "\n",
            "           0       0.94      0.97      0.96      1272\n",
            "           1       0.95      0.96      0.95       848\n",
            "           2       0.74      0.73      0.73       972\n",
            "           3       0.78      0.75      0.77       948\n",
            "           4       0.96      0.91      0.93       902\n",
            "           5       0.83      0.87      0.85      1099\n",
            "\n",
            "    accuracy                           0.87      6041\n",
            "   macro avg       0.87      0.87      0.87      6041\n",
            "weighted avg       0.87      0.87      0.87      6041\n",
            "\n",
            "512\n",
            "Train on 24164 samples, validate on 6041 samples\n",
            "Epoch 1/30\n",
            "24164/24164 [==============================] - 1s 35us/step - loss: 0.1089 - acc: 0.9662 - val_loss: 0.4000 - val_acc: 0.8715\n",
            "Epoch 2/30\n",
            "24164/24164 [==============================] - 1s 34us/step - loss: 0.1061 - acc: 0.9662 - val_loss: 0.4003 - val_acc: 0.8706\n",
            "Epoch 3/30\n",
            "24164/24164 [==============================] - 1s 33us/step - loss: 0.1036 - acc: 0.9671 - val_loss: 0.4014 - val_acc: 0.8727\n",
            "Epoch 4/30\n",
            "24164/24164 [==============================] - 1s 33us/step - loss: 0.1033 - acc: 0.9672 - val_loss: 0.3985 - val_acc: 0.8739\n",
            "Epoch 5/30\n",
            "24164/24164 [==============================] - 1s 33us/step - loss: 0.1024 - acc: 0.9681 - val_loss: 0.4041 - val_acc: 0.8706\n",
            "Epoch 6/30\n",
            "24164/24164 [==============================] - 1s 33us/step - loss: 0.1025 - acc: 0.9676 - val_loss: 0.4022 - val_acc: 0.8706\n",
            "Epoch 7/30\n",
            "24164/24164 [==============================] - 1s 33us/step - loss: 0.1000 - acc: 0.9697 - val_loss: 0.4012 - val_acc: 0.8712\n",
            "Epoch 8/30\n",
            "24164/24164 [==============================] - 1s 33us/step - loss: 0.0997 - acc: 0.9691 - val_loss: 0.4102 - val_acc: 0.8701\n",
            "Epoch 9/30\n",
            "24164/24164 [==============================] - 1s 33us/step - loss: 0.1011 - acc: 0.9685 - val_loss: 0.4036 - val_acc: 0.8734\n",
            "Epoch 10/30\n",
            "24164/24164 [==============================] - 1s 33us/step - loss: 0.1009 - acc: 0.9682 - val_loss: 0.4038 - val_acc: 0.8709\n",
            "Epoch 11/30\n",
            "24164/24164 [==============================] - 1s 33us/step - loss: 0.0979 - acc: 0.9695 - val_loss: 0.4010 - val_acc: 0.8739\n",
            "Epoch 12/30\n",
            "24164/24164 [==============================] - 1s 34us/step - loss: 0.0984 - acc: 0.9704 - val_loss: 0.4042 - val_acc: 0.8742\n",
            "Epoch 13/30\n",
            "24164/24164 [==============================] - 1s 33us/step - loss: 0.0994 - acc: 0.9693 - val_loss: 0.4051 - val_acc: 0.8724\n",
            "Epoch 14/30\n",
            "24164/24164 [==============================] - 1s 33us/step - loss: 0.0985 - acc: 0.9695 - val_loss: 0.4024 - val_acc: 0.8714\n",
            "Epoch 15/30\n",
            "24164/24164 [==============================] - 1s 33us/step - loss: 0.1000 - acc: 0.9699 - val_loss: 0.4086 - val_acc: 0.8715\n",
            "Epoch 16/30\n",
            "24164/24164 [==============================] - 1s 33us/step - loss: 0.0977 - acc: 0.9696 - val_loss: 0.4047 - val_acc: 0.8742\n",
            "Epoch 17/30\n",
            "24164/24164 [==============================] - 1s 33us/step - loss: 0.0965 - acc: 0.9691 - val_loss: 0.4050 - val_acc: 0.8750\n",
            "Epoch 18/30\n",
            "24164/24164 [==============================] - 1s 34us/step - loss: 0.0957 - acc: 0.9700 - val_loss: 0.4096 - val_acc: 0.8686\n",
            "Epoch 19/30\n",
            "24164/24164 [==============================] - 1s 34us/step - loss: 0.0957 - acc: 0.9711 - val_loss: 0.4075 - val_acc: 0.8707\n",
            "Epoch 20/30\n",
            "24164/24164 [==============================] - 1s 34us/step - loss: 0.0942 - acc: 0.9707 - val_loss: 0.4062 - val_acc: 0.8727\n",
            "Epoch 21/30\n",
            "24164/24164 [==============================] - 1s 33us/step - loss: 0.0953 - acc: 0.9712 - val_loss: 0.4076 - val_acc: 0.8730\n",
            "Epoch 22/30\n",
            "24164/24164 [==============================] - 1s 33us/step - loss: 0.0969 - acc: 0.9692 - val_loss: 0.4073 - val_acc: 0.8740\n",
            "Epoch 23/30\n",
            "24164/24164 [==============================] - 1s 33us/step - loss: 0.0918 - acc: 0.9722 - val_loss: 0.4087 - val_acc: 0.8730\n",
            "Epoch 24/30\n",
            "24164/24164 [==============================] - 1s 33us/step - loss: 0.0916 - acc: 0.9715 - val_loss: 0.4062 - val_acc: 0.8707\n",
            "Epoch 25/30\n",
            "24164/24164 [==============================] - 1s 33us/step - loss: 0.0919 - acc: 0.9717 - val_loss: 0.4138 - val_acc: 0.8687\n",
            "Epoch 26/30\n",
            "24164/24164 [==============================] - 1s 33us/step - loss: 0.0928 - acc: 0.9708 - val_loss: 0.4066 - val_acc: 0.8724\n",
            "Epoch 27/30\n",
            "24164/24164 [==============================] - 1s 33us/step - loss: 0.0942 - acc: 0.9700 - val_loss: 0.4105 - val_acc: 0.8707\n",
            "Epoch 28/30\n",
            "24164/24164 [==============================] - 1s 33us/step - loss: 0.0919 - acc: 0.9705 - val_loss: 0.4116 - val_acc: 0.8706\n",
            "Epoch 29/30\n",
            "24164/24164 [==============================] - 1s 33us/step - loss: 0.0907 - acc: 0.9707 - val_loss: 0.4117 - val_acc: 0.8712\n",
            "Epoch 30/30\n",
            "24164/24164 [==============================] - 1s 33us/step - loss: 0.0871 - acc: 0.9717 - val_loss: 0.4095 - val_acc: 0.8715\n",
            "[[1231    1   15    8    3   14]\n",
            " [   5  821    6    2   10    4]\n",
            " [  23    3  744  104    9   89]\n",
            " [  12    2  167  701    7   59]\n",
            " [   8   33   18    8  829    6]\n",
            " [  15    7   74   56    8  939]]\n",
            "0.8715444462837278\n",
            "              precision    recall  f1-score   support\n",
            "\n",
            "           0       0.95      0.97      0.96      1272\n",
            "           1       0.95      0.97      0.96       848\n",
            "           2       0.73      0.77      0.75       972\n",
            "           3       0.80      0.74      0.77       948\n",
            "           4       0.96      0.92      0.94       902\n",
            "           5       0.85      0.85      0.85      1099\n",
            "\n",
            "    accuracy                           0.87      6041\n",
            "   macro avg       0.87      0.87      0.87      6041\n",
            "weighted avg       0.87      0.87      0.87      6041\n",
            "\n",
            "1024\n",
            "Train on 24164 samples, validate on 6041 samples\n",
            "Epoch 1/30\n",
            "24164/24164 [==============================] - 1s 32us/step - loss: 0.0870 - acc: 0.9744 - val_loss: 0.4133 - val_acc: 0.8709\n",
            "Epoch 2/30\n",
            "24164/24164 [==============================] - 1s 27us/step - loss: 0.0860 - acc: 0.9741 - val_loss: 0.4120 - val_acc: 0.8730\n",
            "Epoch 3/30\n",
            "24164/24164 [==============================] - 1s 28us/step - loss: 0.0814 - acc: 0.9760 - val_loss: 0.4110 - val_acc: 0.8725\n",
            "Epoch 4/30\n",
            "24164/24164 [==============================] - 1s 28us/step - loss: 0.0804 - acc: 0.9760 - val_loss: 0.4097 - val_acc: 0.8754\n",
            "Epoch 5/30\n",
            "24164/24164 [==============================] - 1s 28us/step - loss: 0.0810 - acc: 0.9758 - val_loss: 0.4084 - val_acc: 0.8737\n",
            "Epoch 6/30\n",
            "24164/24164 [==============================] - 1s 28us/step - loss: 0.0805 - acc: 0.9759 - val_loss: 0.4146 - val_acc: 0.8727\n",
            "Epoch 7/30\n",
            "24164/24164 [==============================] - 1s 28us/step - loss: 0.0802 - acc: 0.9760 - val_loss: 0.4115 - val_acc: 0.8744\n",
            "Epoch 8/30\n",
            "24164/24164 [==============================] - 1s 27us/step - loss: 0.0799 - acc: 0.9762 - val_loss: 0.4166 - val_acc: 0.8722\n",
            "Epoch 9/30\n",
            "24164/24164 [==============================] - 1s 28us/step - loss: 0.0806 - acc: 0.9749 - val_loss: 0.4128 - val_acc: 0.8720\n",
            "Epoch 10/30\n",
            "24164/24164 [==============================] - 1s 28us/step - loss: 0.0795 - acc: 0.9770 - val_loss: 0.4161 - val_acc: 0.8725\n",
            "Epoch 11/30\n",
            "24164/24164 [==============================] - 1s 28us/step - loss: 0.0781 - acc: 0.9767 - val_loss: 0.4146 - val_acc: 0.8720\n",
            "Epoch 12/30\n",
            "24164/24164 [==============================] - 1s 28us/step - loss: 0.0776 - acc: 0.9760 - val_loss: 0.4144 - val_acc: 0.8745\n",
            "Epoch 13/30\n",
            "24164/24164 [==============================] - 1s 28us/step - loss: 0.0792 - acc: 0.9760 - val_loss: 0.4139 - val_acc: 0.8737\n",
            "Epoch 14/30\n",
            "24164/24164 [==============================] - 1s 28us/step - loss: 0.0792 - acc: 0.9763 - val_loss: 0.4143 - val_acc: 0.8757\n",
            "Epoch 15/30\n",
            "24164/24164 [==============================] - 1s 28us/step - loss: 0.0771 - acc: 0.9777 - val_loss: 0.4170 - val_acc: 0.8717\n",
            "Epoch 16/30\n",
            "24164/24164 [==============================] - 1s 28us/step - loss: 0.0774 - acc: 0.9774 - val_loss: 0.4173 - val_acc: 0.8739\n",
            "Epoch 17/30\n",
            "24164/24164 [==============================] - 1s 28us/step - loss: 0.0776 - acc: 0.9767 - val_loss: 0.4154 - val_acc: 0.8745\n",
            "Epoch 18/30\n",
            "24164/24164 [==============================] - 1s 28us/step - loss: 0.0778 - acc: 0.9763 - val_loss: 0.4159 - val_acc: 0.8724\n",
            "Epoch 19/30\n",
            "24164/24164 [==============================] - 1s 27us/step - loss: 0.0790 - acc: 0.9769 - val_loss: 0.4194 - val_acc: 0.8742\n",
            "Epoch 20/30\n",
            "24164/24164 [==============================] - 1s 28us/step - loss: 0.0757 - acc: 0.9782 - val_loss: 0.4157 - val_acc: 0.8742\n",
            "Epoch 21/30\n",
            "24164/24164 [==============================] - 1s 28us/step - loss: 0.0762 - acc: 0.9763 - val_loss: 0.4154 - val_acc: 0.8745\n",
            "Epoch 22/30\n",
            "24164/24164 [==============================] - 1s 27us/step - loss: 0.0783 - acc: 0.9760 - val_loss: 0.4157 - val_acc: 0.8744\n",
            "Epoch 23/30\n",
            "24164/24164 [==============================] - 1s 28us/step - loss: 0.0766 - acc: 0.9776 - val_loss: 0.4205 - val_acc: 0.8712\n",
            "Epoch 24/30\n",
            "24164/24164 [==============================] - 1s 27us/step - loss: 0.0745 - acc: 0.9776 - val_loss: 0.4185 - val_acc: 0.8730\n",
            "Epoch 25/30\n",
            "24164/24164 [==============================] - 1s 27us/step - loss: 0.0741 - acc: 0.9770 - val_loss: 0.4187 - val_acc: 0.8732\n",
            "Epoch 26/30\n",
            "24164/24164 [==============================] - 1s 28us/step - loss: 0.0769 - acc: 0.9764 - val_loss: 0.4187 - val_acc: 0.8758\n",
            "Epoch 27/30\n",
            "24164/24164 [==============================] - 1s 28us/step - loss: 0.0762 - acc: 0.9771 - val_loss: 0.4214 - val_acc: 0.8730\n",
            "Epoch 28/30\n",
            "24164/24164 [==============================] - 1s 28us/step - loss: 0.0735 - acc: 0.9777 - val_loss: 0.4201 - val_acc: 0.8745\n",
            "Epoch 29/30\n",
            "24164/24164 [==============================] - 1s 28us/step - loss: 0.0741 - acc: 0.9779 - val_loss: 0.4200 - val_acc: 0.8727\n",
            "Epoch 30/30\n",
            "24164/24164 [==============================] - 1s 27us/step - loss: 0.0727 - acc: 0.9784 - val_loss: 0.4180 - val_acc: 0.8734\n",
            "[[1232    1   14    9    2   14]\n",
            " [   4  818    7    2   11    6]\n",
            " [  23    3  739  110    8   89]\n",
            " [  13    2  159  710    8   56]\n",
            " [   9   31   19    8  829    6]\n",
            " [  15    6   73   49    8  948]]\n",
            "0.8733653368647575\n",
            "              precision    recall  f1-score   support\n",
            "\n",
            "           0       0.95      0.97      0.96      1272\n",
            "           1       0.95      0.96      0.96       848\n",
            "           2       0.73      0.76      0.75       972\n",
            "           3       0.80      0.75      0.77       948\n",
            "           4       0.96      0.92      0.94       902\n",
            "           5       0.85      0.86      0.85      1099\n",
            "\n",
            "    accuracy                           0.87      6041\n",
            "   macro avg       0.87      0.87      0.87      6041\n",
            "weighted avg       0.87      0.87      0.87      6041\n",
            "\n"
          ],
          "name": "stdout"
        }
      ]
    },
    {
      "cell_type": "code",
      "metadata": {
        "id": "s_8HI9z5Dodo",
        "colab_type": "code",
        "outputId": "e0cd4ab6-a52d-4c33-e666-a41faab5959f",
        "colab": {
          "base_uri": "https://localhost:8080/",
          "height": 1000
        }
      },
      "source": [
        "from mlxtend.plotting import plot_confusion_matrix\n",
        "from sklearn.metrics import confusion_matrix\n",
        "from sklearn.metrics import accuracy_score \n",
        "from sklearn.metrics import classification_report\n",
        "from keras.models import Sequential\n",
        "from keras.layers import Conv2D, MaxPooling2D, Flatten, Dense, Dropout\n",
        "model = Sequential()\n",
        "model.add(Conv2D(filters=64, kernel_size=(3,3), padding='same', activation='relu',input_shape=X_train[0].shape))\n",
        "model.add(Dropout(0.3))\n",
        "model.add(MaxPooling2D(pool_size=2))\n",
        "model.add(Flatten())\n",
        "model.add(Dense(1024, activation='relu'))\n",
        "model.add(Dropout(0.5))\n",
        "model.add(Dense(6, activation='softmax'))\n",
        "model.summary()\n",
        "from keras import optimizers\n",
        "\n",
        "fruits = [0.0001,0.001,0.01,0.1,1.0]\n",
        "for x in fruits:\n",
        "  print(x)\n",
        "  sgd = optimizers.adam(lr=x)\n",
        "  model.compile(loss='sparse_categorical_crossentropy', optimizer=sgd, metrics=['accuracy'])\n",
        "  history = model.fit(X_train, y_train, epochs =30, validation_data= (X_test, y_test),batch_size=64, verbose=1)  \n",
        "  y_pred = model.predict_classes(X_test)\n",
        "  mat = confusion_matrix(y_test, y_pred)\n",
        "  print(confusion_matrix(y_test, y_pred))\n",
        "  print(accuracy_score(y_test,y_pred))\n",
        "  print(classification_report(y_test,y_pred))"
      ],
      "execution_count": 0,
      "outputs": [
        {
          "output_type": "stream",
          "text": [
            "Model: \"sequential_3\"\n",
            "_________________________________________________________________\n",
            "Layer (type)                 Output Shape              Param #   \n",
            "=================================================================\n",
            "conv2d_3 (Conv2D)            (None, 200, 3, 64)        640       \n",
            "_________________________________________________________________\n",
            "dropout_5 (Dropout)          (None, 200, 3, 64)        0         \n",
            "_________________________________________________________________\n",
            "max_pooling2d_3 (MaxPooling2 (None, 100, 1, 64)        0         \n",
            "_________________________________________________________________\n",
            "flatten_3 (Flatten)          (None, 6400)              0         \n",
            "_________________________________________________________________\n",
            "dense_5 (Dense)              (None, 1024)              6554624   \n",
            "_________________________________________________________________\n",
            "dropout_6 (Dropout)          (None, 1024)              0         \n",
            "_________________________________________________________________\n",
            "dense_6 (Dense)              (None, 6)                 6150      \n",
            "=================================================================\n",
            "Total params: 6,561,414\n",
            "Trainable params: 6,561,414\n",
            "Non-trainable params: 0\n",
            "_________________________________________________________________\n",
            "0.0001\n",
            "Train on 24164 samples, validate on 6041 samples\n",
            "Epoch 1/30\n",
            "24164/24164 [==============================] - 3s 140us/step - loss: 1.0022 - acc: 0.6203 - val_loss: 0.8430 - val_acc: 0.7399\n",
            "Epoch 2/30\n",
            "24164/24164 [==============================] - 3s 116us/step - loss: 0.7434 - acc: 0.7324 - val_loss: 0.7051 - val_acc: 0.7754\n",
            "Epoch 3/30\n",
            "24164/24164 [==============================] - 3s 114us/step - loss: 0.6435 - acc: 0.7649 - val_loss: 0.6345 - val_acc: 0.7999\n",
            "Epoch 4/30\n",
            "24164/24164 [==============================] - 3s 114us/step - loss: 0.5893 - acc: 0.7873 - val_loss: 0.6027 - val_acc: 0.8126\n",
            "Epoch 5/30\n",
            "24164/24164 [==============================] - 3s 115us/step - loss: 0.5519 - acc: 0.7992 - val_loss: 0.5735 - val_acc: 0.8032\n",
            "Epoch 6/30\n",
            "24164/24164 [==============================] - 3s 114us/step - loss: 0.5238 - acc: 0.8110 - val_loss: 0.5599 - val_acc: 0.8192\n",
            "Epoch 7/30\n",
            "24164/24164 [==============================] - 3s 115us/step - loss: 0.5020 - acc: 0.8208 - val_loss: 0.5232 - val_acc: 0.8295\n",
            "Epoch 8/30\n",
            "24164/24164 [==============================] - 3s 114us/step - loss: 0.4787 - acc: 0.8280 - val_loss: 0.5089 - val_acc: 0.8285\n",
            "Epoch 9/30\n",
            "24164/24164 [==============================] - 3s 115us/step - loss: 0.4622 - acc: 0.8360 - val_loss: 0.4996 - val_acc: 0.8321\n",
            "Epoch 10/30\n",
            "24164/24164 [==============================] - 3s 113us/step - loss: 0.4471 - acc: 0.8416 - val_loss: 0.5022 - val_acc: 0.8378\n",
            "Epoch 11/30\n",
            "24164/24164 [==============================] - 3s 113us/step - loss: 0.4368 - acc: 0.8432 - val_loss: 0.4861 - val_acc: 0.8421\n",
            "Epoch 12/30\n",
            "24164/24164 [==============================] - 3s 113us/step - loss: 0.4255 - acc: 0.8494 - val_loss: 0.4733 - val_acc: 0.8384\n",
            "Epoch 13/30\n",
            "24164/24164 [==============================] - 3s 115us/step - loss: 0.4100 - acc: 0.8537 - val_loss: 0.4710 - val_acc: 0.8416\n",
            "Epoch 14/30\n",
            "24164/24164 [==============================] - 3s 114us/step - loss: 0.3988 - acc: 0.8594 - val_loss: 0.4678 - val_acc: 0.8446\n",
            "Epoch 15/30\n",
            "24164/24164 [==============================] - 3s 113us/step - loss: 0.3902 - acc: 0.8618 - val_loss: 0.4630 - val_acc: 0.8456\n",
            "Epoch 16/30\n",
            "24164/24164 [==============================] - 3s 113us/step - loss: 0.3794 - acc: 0.8676 - val_loss: 0.4612 - val_acc: 0.8398\n",
            "Epoch 17/30\n",
            "24164/24164 [==============================] - 3s 113us/step - loss: 0.3685 - acc: 0.8712 - val_loss: 0.4465 - val_acc: 0.8441\n",
            "Epoch 18/30\n",
            "24164/24164 [==============================] - 3s 115us/step - loss: 0.3625 - acc: 0.8708 - val_loss: 0.4413 - val_acc: 0.8532\n",
            "Epoch 19/30\n",
            "24164/24164 [==============================] - 3s 114us/step - loss: 0.3514 - acc: 0.8749 - val_loss: 0.4414 - val_acc: 0.8537\n",
            "Epoch 20/30\n",
            "24164/24164 [==============================] - 3s 113us/step - loss: 0.3400 - acc: 0.8797 - val_loss: 0.4321 - val_acc: 0.8523\n",
            "Epoch 21/30\n",
            "24164/24164 [==============================] - 3s 116us/step - loss: 0.3325 - acc: 0.8826 - val_loss: 0.4377 - val_acc: 0.8513\n",
            "Epoch 22/30\n",
            "24164/24164 [==============================] - 3s 113us/step - loss: 0.3260 - acc: 0.8852 - val_loss: 0.4292 - val_acc: 0.8540\n",
            "Epoch 23/30\n",
            "24164/24164 [==============================] - 3s 116us/step - loss: 0.3197 - acc: 0.8881 - val_loss: 0.4242 - val_acc: 0.8575\n",
            "Epoch 24/30\n",
            "24164/24164 [==============================] - 3s 114us/step - loss: 0.3146 - acc: 0.8893 - val_loss: 0.4277 - val_acc: 0.8578\n",
            "Epoch 25/30\n",
            "24164/24164 [==============================] - 3s 114us/step - loss: 0.3097 - acc: 0.8906 - val_loss: 0.4177 - val_acc: 0.8555\n",
            "Epoch 26/30\n",
            "24164/24164 [==============================] - 3s 114us/step - loss: 0.2962 - acc: 0.8957 - val_loss: 0.4195 - val_acc: 0.8530\n",
            "Epoch 27/30\n",
            "24164/24164 [==============================] - 3s 114us/step - loss: 0.2930 - acc: 0.8974 - val_loss: 0.4181 - val_acc: 0.8563\n",
            "Epoch 28/30\n",
            "24164/24164 [==============================] - 3s 115us/step - loss: 0.2846 - acc: 0.9001 - val_loss: 0.4206 - val_acc: 0.8575\n",
            "Epoch 29/30\n",
            "24164/24164 [==============================] - 3s 113us/step - loss: 0.2815 - acc: 0.9032 - val_loss: 0.4142 - val_acc: 0.8603\n",
            "Epoch 30/30\n",
            "24164/24164 [==============================] - 3s 114us/step - loss: 0.2735 - acc: 0.9058 - val_loss: 0.4198 - val_acc: 0.8553\n",
            "[[1235    0   19    6    4    8]\n",
            " [   5  812    6    3   18    4]\n",
            " [  33    1  726  114   13   85]\n",
            " [  16    0  188  673   12   59]\n",
            " [  12   41   18   20  803    8]\n",
            " [  18    9   89   54   11  918]]\n",
            "0.8553219665618275\n",
            "              precision    recall  f1-score   support\n",
            "\n",
            "           0       0.94      0.97      0.95      1272\n",
            "           1       0.94      0.96      0.95       848\n",
            "           2       0.69      0.75      0.72       972\n",
            "           3       0.77      0.71      0.74       948\n",
            "           4       0.93      0.89      0.91       902\n",
            "           5       0.85      0.84      0.84      1099\n",
            "\n",
            "    accuracy                           0.86      6041\n",
            "   macro avg       0.85      0.85      0.85      6041\n",
            "weighted avg       0.86      0.86      0.86      6041\n",
            "\n",
            "0.001\n",
            "Train on 24164 samples, validate on 6041 samples\n",
            "Epoch 1/30\n",
            "24164/24164 [==============================] - 4s 147us/step - loss: 0.5117 - acc: 0.8134 - val_loss: 0.5671 - val_acc: 0.8131\n",
            "Epoch 2/30\n",
            "24164/24164 [==============================] - 3s 119us/step - loss: 0.4511 - acc: 0.8363 - val_loss: 0.4809 - val_acc: 0.8363\n",
            "Epoch 3/30\n",
            "24164/24164 [==============================] - 3s 119us/step - loss: 0.4155 - acc: 0.8487 - val_loss: 0.4718 - val_acc: 0.8381\n",
            "Epoch 4/30\n",
            "24164/24164 [==============================] - 3s 115us/step - loss: 0.3828 - acc: 0.8612 - val_loss: 0.4522 - val_acc: 0.8396\n",
            "Epoch 5/30\n",
            "24164/24164 [==============================] - 3s 115us/step - loss: 0.3500 - acc: 0.8703 - val_loss: 0.4840 - val_acc: 0.8366\n",
            "Epoch 6/30\n",
            "24164/24164 [==============================] - 3s 114us/step - loss: 0.3345 - acc: 0.8804 - val_loss: 0.4469 - val_acc: 0.8575\n",
            "Epoch 7/30\n",
            "24164/24164 [==============================] - 3s 115us/step - loss: 0.3120 - acc: 0.8897 - val_loss: 0.4495 - val_acc: 0.8490\n",
            "Epoch 8/30\n",
            "24164/24164 [==============================] - 3s 113us/step - loss: 0.2956 - acc: 0.8954 - val_loss: 0.4391 - val_acc: 0.8523\n",
            "Epoch 9/30\n",
            "24164/24164 [==============================] - 3s 116us/step - loss: 0.2785 - acc: 0.9000 - val_loss: 0.4320 - val_acc: 0.8578\n",
            "Epoch 10/30\n",
            "24164/24164 [==============================] - 3s 114us/step - loss: 0.2603 - acc: 0.9037 - val_loss: 0.4218 - val_acc: 0.8636\n",
            "Epoch 11/30\n",
            "24164/24164 [==============================] - 3s 115us/step - loss: 0.2443 - acc: 0.9127 - val_loss: 0.4546 - val_acc: 0.8479\n",
            "Epoch 12/30\n",
            "24164/24164 [==============================] - 3s 114us/step - loss: 0.2366 - acc: 0.9156 - val_loss: 0.4468 - val_acc: 0.8557\n",
            "Epoch 13/30\n",
            "24164/24164 [==============================] - 3s 115us/step - loss: 0.2213 - acc: 0.9207 - val_loss: 0.4387 - val_acc: 0.8608\n",
            "Epoch 14/30\n",
            "24164/24164 [==============================] - 3s 115us/step - loss: 0.2159 - acc: 0.9232 - val_loss: 0.4508 - val_acc: 0.8593\n",
            "Epoch 15/30\n",
            "24164/24164 [==============================] - 3s 116us/step - loss: 0.2086 - acc: 0.9262 - val_loss: 0.4542 - val_acc: 0.8598\n",
            "Epoch 16/30\n",
            "24164/24164 [==============================] - 3s 116us/step - loss: 0.1924 - acc: 0.9335 - val_loss: 0.4596 - val_acc: 0.8593\n",
            "Epoch 17/30\n",
            "24164/24164 [==============================] - 3s 115us/step - loss: 0.1894 - acc: 0.9326 - val_loss: 0.4629 - val_acc: 0.8588\n",
            "Epoch 18/30\n",
            "24164/24164 [==============================] - 3s 116us/step - loss: 0.1817 - acc: 0.9375 - val_loss: 0.4823 - val_acc: 0.8626\n",
            "Epoch 19/30\n",
            "24164/24164 [==============================] - 3s 116us/step - loss: 0.1768 - acc: 0.9373 - val_loss: 0.4932 - val_acc: 0.8641\n",
            "Epoch 20/30\n",
            "24164/24164 [==============================] - 3s 115us/step - loss: 0.1813 - acc: 0.9369 - val_loss: 0.4976 - val_acc: 0.8606\n",
            "Epoch 21/30\n",
            "24164/24164 [==============================] - 3s 115us/step - loss: 0.1615 - acc: 0.9426 - val_loss: 0.5283 - val_acc: 0.8603\n",
            "Epoch 22/30\n",
            "24164/24164 [==============================] - 3s 115us/step - loss: 0.1604 - acc: 0.9433 - val_loss: 0.4877 - val_acc: 0.8606\n",
            "Epoch 23/30\n",
            "24164/24164 [==============================] - 3s 115us/step - loss: 0.1462 - acc: 0.9487 - val_loss: 0.5201 - val_acc: 0.8641\n",
            "Epoch 24/30\n",
            "24164/24164 [==============================] - 3s 115us/step - loss: 0.1485 - acc: 0.9504 - val_loss: 0.5154 - val_acc: 0.8634\n",
            "Epoch 25/30\n",
            " 4992/24164 [=====>........................] - ETA: 2s - loss: 0.1263 - acc: 0.9549"
          ],
          "name": "stdout"
        }
      ]
    }
  ]
}