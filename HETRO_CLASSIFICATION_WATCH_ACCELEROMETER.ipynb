{
  "nbformat": 4,
  "nbformat_minor": 0,
  "metadata": {
    "colab": {
      "name": "HETRO_CLASSIFICATION_WATCH_ACCELEROMETER.ipynb",
      "provenance": [],
      "mount_file_id": "10reU-opjq227YE0x-5hS5gYz0Uckj1y5",
      "authorship_tag": "ABX9TyOHbgboQc3SarT/PYWAa0Ht",
      "include_colab_link": true
    },
    "kernelspec": {
      "name": "python3",
      "display_name": "Python 3"
    }
  },
  "cells": [
    {
      "cell_type": "markdown",
      "metadata": {
        "id": "view-in-github",
        "colab_type": "text"
      },
      "source": [
        "<a href=\"https://colab.research.google.com/github/prabhat-parth/Real-time-heterogeneity-activity-recognition/blob/master/HETRO_CLASSIFICATION_WATCH_ACCELEROMETER.ipynb\" target=\"_parent\"><img src=\"https://colab.research.google.com/assets/colab-badge.svg\" alt=\"Open In Colab\"/></a>"
      ]
    },
    {
      "cell_type": "code",
      "metadata": {
        "colab_type": "code",
        "outputId": "160598e2-8154-4410-cee6-dc5c2caf1cab",
        "id": "YcyzlwWibbIA",
        "colab": {
          "base_uri": "https://localhost:8080/",
          "height": 83
        }
      },
      "source": [
        "import tensorflow as tf\n",
        "from tensorflow.keras import Sequential\n",
        "from tensorflow.keras.layers import Flatten, Dense, Dropout, BatchNormalization\n",
        "from tensorflow.keras.layers import Conv2D, MaxPool2D\n",
        "from tensorflow.keras.optimizers import Adam\n",
        "print(tf.__version__)\n",
        "import pandas as pd\n",
        "import numpy as np\n",
        "import matplotlib.pyplot as plt\n",
        "from sklearn.model_selection import train_test_split\n",
        "from sklearn.preprocessing import StandardScaler, LabelEncoder\n",
        "import pandas as pd\n",
        "import numpy as np\n",
        "import pickle\n",
        "import matplotlib.pyplot as plt\n",
        "from scipy import stats\n",
        "import tensorflow as tf\n",
        "import seaborn as sns\n",
        "from pylab import rcParams\n",
        "from sklearn import metrics\n",
        "from sklearn.model_selection import train_test_split"
      ],
      "execution_count": 0,
      "outputs": [
        {
          "output_type": "display_data",
          "data": {
            "text/html": [
              "<p style=\"color: red;\">\n",
              "The default version of TensorFlow in Colab will soon switch to TensorFlow 2.x.<br>\n",
              "We recommend you <a href=\"https://www.tensorflow.org/guide/migrate\" target=\"_blank\">upgrade</a> now \n",
              "or ensure your notebook will continue to use TensorFlow 1.x via the <code>%tensorflow_version 1.x</code> magic:\n",
              "<a href=\"https://colab.research.google.com/notebooks/tensorflow_version.ipynb\" target=\"_blank\">more info</a>.</p>\n"
            ],
            "text/plain": [
              "<IPython.core.display.HTML object>"
            ]
          },
          "metadata": {
            "tags": []
          }
        },
        {
          "output_type": "stream",
          "text": [
            "1.15.0\n"
          ],
          "name": "stdout"
        }
      ]
    },
    {
      "cell_type": "code",
      "metadata": {
        "colab_type": "code",
        "outputId": "e9f5a6fa-fec5-42fb-a86a-ec6e507f8b9f",
        "id": "zDhdssmybcxl",
        "colab": {
          "base_uri": "https://localhost:8080/",
          "height": 35
        }
      },
      "source": [
        "import tensorflow as tf\n",
        "from tensorflow.keras import Sequential\n",
        "from tensorflow.keras.layers import Flatten, Dense, Dropout, BatchNormalization\n",
        "from tensorflow.keras.layers import Conv2D, MaxPool2D\n",
        "from tensorflow.keras.optimizers import Adam\n",
        "print(tf.__version__)\n",
        "import pandas as pd\n",
        "import numpy as np\n",
        "import matplotlib.pyplot as plt\n",
        "from sklearn.model_selection import train_test_split\n",
        "from sklearn.preprocessing import StandardScaler, LabelEncoder\n",
        "import pandas as pd\n",
        "import numpy as np\n",
        "import pickle\n",
        "import matplotlib.pyplot as plt\n",
        "from scipy import stats\n",
        "import tensorflow as tf\n",
        "import seaborn as sns\n",
        "from pylab import rcParams\n",
        "from sklearn import metrics\n",
        "from sklearn.model_selection import train_test_split"
      ],
      "execution_count": 0,
      "outputs": [
        {
          "output_type": "stream",
          "text": [
            "1.15.0\n"
          ],
          "name": "stdout"
        }
      ]
    },
    {
      "cell_type": "code",
      "metadata": {
        "colab_type": "code",
        "outputId": "bc01a5ce-a31e-49f0-9e28-7c32612a008f",
        "id": "nIGEtxpDbcx0",
        "colab": {
          "base_uri": "https://localhost:8080/",
          "height": 35
        }
      },
      "source": [
        "import numpy as np\n",
        "import pandas as pd\n",
        "data = pd.read_csv(\"/content/drive/My Drive/HETRO_DATA/Activity recognition exp/Activity recognition exp/Watch_accelerometer.csv\")\n",
        "data.head()\n",
        "data.shape\n"
      ],
      "execution_count": 0,
      "outputs": [
        {
          "output_type": "execute_result",
          "data": {
            "text/plain": [
              "(3540962, 10)"
            ]
          },
          "metadata": {
            "tags": []
          },
          "execution_count": 3
        }
      ]
    },
    {
      "cell_type": "code",
      "metadata": {
        "colab_type": "code",
        "outputId": "00e82a1a-d042-48f7-932e-e903f23b4e83",
        "id": "Z7y2Kd1DbcyB",
        "colab": {
          "base_uri": "https://localhost:8080/",
          "height": 35
        }
      },
      "source": [
        "#Check for Duplicates\n",
        "print('No of duplicates in DATA: {}'.format(sum(data.duplicated())))\n"
      ],
      "execution_count": 0,
      "outputs": [
        {
          "output_type": "stream",
          "text": [
            "No of duplicates in DATA: 0\n"
          ],
          "name": "stdout"
        }
      ]
    },
    {
      "cell_type": "code",
      "metadata": {
        "colab_type": "code",
        "outputId": "01108f1a-d615-4b22-b866-d2c0e3127038",
        "id": "mA6v-TxwbcyT",
        "colab": {
          "base_uri": "https://localhost:8080/",
          "height": 35
        }
      },
      "source": [
        "#Checking for NaN/null values\n",
        "print('We have {} NaN/Null values in data'.format(data.isnull().values.sum()))"
      ],
      "execution_count": 0,
      "outputs": [
        {
          "output_type": "stream",
          "text": [
            "We have 520357 NaN/Null values in data\n"
          ],
          "name": "stdout"
        }
      ]
    },
    {
      "cell_type": "code",
      "metadata": {
        "colab_type": "code",
        "id": "lIc_H68_bcyh",
        "colab": {}
      },
      "source": [
        "#sns.heatmap(data.isnull(), cbar=False)"
      ],
      "execution_count": 0,
      "outputs": []
    },
    {
      "cell_type": "code",
      "metadata": {
        "colab_type": "code",
        "id": "EGjRLDCfbcyt",
        "colab": {}
      },
      "source": [
        "data.dropna(axis=0, how='any', thresh=None, subset=None, inplace= True)"
      ],
      "execution_count": 0,
      "outputs": []
    },
    {
      "cell_type": "code",
      "metadata": {
        "colab_type": "code",
        "id": "ckwwKbjnbcy0",
        "colab": {}
      },
      "source": [
        "#sns.heatmap(data.isnull(), cbar=False)"
      ],
      "execution_count": 0,
      "outputs": []
    },
    {
      "cell_type": "code",
      "metadata": {
        "colab_type": "code",
        "outputId": "fcee45fb-6722-4675-db0f-01b7883bd938",
        "id": "_6qatUXQbcy7",
        "colab": {
          "base_uri": "https://localhost:8080/",
          "height": 54
        }
      },
      "source": [
        "#Checking for NaN/null values\n",
        "print('We have {} NaN/Null values in data'.format(data.isnull().values.sum()))\n",
        "data.shape"
      ],
      "execution_count": 0,
      "outputs": [
        {
          "output_type": "stream",
          "text": [
            "We have 0 NaN/Null values in data\n"
          ],
          "name": "stdout"
        },
        {
          "output_type": "execute_result",
          "data": {
            "text/plain": [
              "(3020605, 10)"
            ]
          },
          "metadata": {
            "tags": []
          },
          "execution_count": 9
        }
      ]
    },
    {
      "cell_type": "code",
      "metadata": {
        "colab_type": "code",
        "outputId": "35f237c4-b79f-4d4a-8ca6-64d2fb2a2b3a",
        "id": "EFsM7oBBbczD",
        "colab": {
          "base_uri": "https://localhost:8080/",
          "height": 35
        }
      },
      "source": [
        "#data = data.drop(['Arrival_Time'], axis = 1).copy()\n",
        "data.shape"
      ],
      "execution_count": 0,
      "outputs": [
        {
          "output_type": "execute_result",
          "data": {
            "text/plain": [
              "(3020605, 10)"
            ]
          },
          "metadata": {
            "tags": []
          },
          "execution_count": 10
        }
      ]
    },
    {
      "cell_type": "code",
      "metadata": {
        "colab_type": "code",
        "outputId": "28431019-7423-456e-8e49-9126dce7fb9b",
        "id": "iUHdsSKWbczP",
        "colab": {
          "base_uri": "https://localhost:8080/",
          "height": 198
        }
      },
      "source": [
        "data.head()"
      ],
      "execution_count": 0,
      "outputs": [
        {
          "output_type": "execute_result",
          "data": {
            "text/html": [
              "<div>\n",
              "<style scoped>\n",
              "    .dataframe tbody tr th:only-of-type {\n",
              "        vertical-align: middle;\n",
              "    }\n",
              "\n",
              "    .dataframe tbody tr th {\n",
              "        vertical-align: top;\n",
              "    }\n",
              "\n",
              "    .dataframe thead th {\n",
              "        text-align: right;\n",
              "    }\n",
              "</style>\n",
              "<table border=\"1\" class=\"dataframe\">\n",
              "  <thead>\n",
              "    <tr style=\"text-align: right;\">\n",
              "      <th></th>\n",
              "      <th>Index</th>\n",
              "      <th>Arrival_Time</th>\n",
              "      <th>Creation_Time</th>\n",
              "      <th>x</th>\n",
              "      <th>y</th>\n",
              "      <th>z</th>\n",
              "      <th>User</th>\n",
              "      <th>Model</th>\n",
              "      <th>Device</th>\n",
              "      <th>gt</th>\n",
              "    </tr>\n",
              "  </thead>\n",
              "  <tbody>\n",
              "    <tr>\n",
              "      <th>0</th>\n",
              "      <td>0</td>\n",
              "      <td>1424696638740</td>\n",
              "      <td>27920678471000</td>\n",
              "      <td>-0.565032</td>\n",
              "      <td>-9.572019</td>\n",
              "      <td>-0.614113</td>\n",
              "      <td>a</td>\n",
              "      <td>gear</td>\n",
              "      <td>gear_1</td>\n",
              "      <td>stand</td>\n",
              "    </tr>\n",
              "    <tr>\n",
              "      <th>1</th>\n",
              "      <td>1</td>\n",
              "      <td>1424696638740</td>\n",
              "      <td>27920681910000</td>\n",
              "      <td>-0.832584</td>\n",
              "      <td>-9.713276</td>\n",
              "      <td>-0.606930</td>\n",
              "      <td>a</td>\n",
              "      <td>gear</td>\n",
              "      <td>gear_1</td>\n",
              "      <td>stand</td>\n",
              "    </tr>\n",
              "    <tr>\n",
              "      <th>2</th>\n",
              "      <td>2</td>\n",
              "      <td>1424696638740</td>\n",
              "      <td>27920692014000</td>\n",
              "      <td>-1.018134</td>\n",
              "      <td>-9.935339</td>\n",
              "      <td>-0.544082</td>\n",
              "      <td>a</td>\n",
              "      <td>gear</td>\n",
              "      <td>gear_1</td>\n",
              "      <td>stand</td>\n",
              "    </tr>\n",
              "    <tr>\n",
              "      <th>3</th>\n",
              "      <td>3</td>\n",
              "      <td>1424696638741</td>\n",
              "      <td>27920701983000</td>\n",
              "      <td>-1.222838</td>\n",
              "      <td>-10.142437</td>\n",
              "      <td>-0.566229</td>\n",
              "      <td>a</td>\n",
              "      <td>gear</td>\n",
              "      <td>gear_1</td>\n",
              "      <td>stand</td>\n",
              "    </tr>\n",
              "    <tr>\n",
              "      <th>4</th>\n",
              "      <td>4</td>\n",
              "      <td>1424696638741</td>\n",
              "      <td>27920711906000</td>\n",
              "      <td>-1.577180</td>\n",
              "      <td>-10.480618</td>\n",
              "      <td>-0.402824</td>\n",
              "      <td>a</td>\n",
              "      <td>gear</td>\n",
              "      <td>gear_1</td>\n",
              "      <td>stand</td>\n",
              "    </tr>\n",
              "  </tbody>\n",
              "</table>\n",
              "</div>"
            ],
            "text/plain": [
              "   Index   Arrival_Time   Creation_Time         x  ...  User  Model  Device     gt\n",
              "0      0  1424696638740  27920678471000 -0.565032  ...     a   gear  gear_1  stand\n",
              "1      1  1424696638740  27920681910000 -0.832584  ...     a   gear  gear_1  stand\n",
              "2      2  1424696638740  27920692014000 -1.018134  ...     a   gear  gear_1  stand\n",
              "3      3  1424696638741  27920701983000 -1.222838  ...     a   gear  gear_1  stand\n",
              "4      4  1424696638741  27920711906000 -1.577180  ...     a   gear  gear_1  stand\n",
              "\n",
              "[5 rows x 10 columns]"
            ]
          },
          "metadata": {
            "tags": []
          },
          "execution_count": 11
        }
      ]
    },
    {
      "cell_type": "code",
      "metadata": {
        "colab_type": "code",
        "outputId": "e60758ec-8a91-4eb1-e35c-05e57eef21c5",
        "id": "JkkPhByYbcza",
        "colab": {
          "base_uri": "https://localhost:8080/",
          "height": 198
        }
      },
      "source": [
        "#data = data.drop(['Index','Creation_Time','User','Model','Device'], axis = 1).copy()\n",
        "data.head()"
      ],
      "execution_count": 0,
      "outputs": [
        {
          "output_type": "execute_result",
          "data": {
            "text/html": [
              "<div>\n",
              "<style scoped>\n",
              "    .dataframe tbody tr th:only-of-type {\n",
              "        vertical-align: middle;\n",
              "    }\n",
              "\n",
              "    .dataframe tbody tr th {\n",
              "        vertical-align: top;\n",
              "    }\n",
              "\n",
              "    .dataframe thead th {\n",
              "        text-align: right;\n",
              "    }\n",
              "</style>\n",
              "<table border=\"1\" class=\"dataframe\">\n",
              "  <thead>\n",
              "    <tr style=\"text-align: right;\">\n",
              "      <th></th>\n",
              "      <th>Index</th>\n",
              "      <th>Arrival_Time</th>\n",
              "      <th>Creation_Time</th>\n",
              "      <th>x</th>\n",
              "      <th>y</th>\n",
              "      <th>z</th>\n",
              "      <th>User</th>\n",
              "      <th>Model</th>\n",
              "      <th>Device</th>\n",
              "      <th>gt</th>\n",
              "    </tr>\n",
              "  </thead>\n",
              "  <tbody>\n",
              "    <tr>\n",
              "      <th>0</th>\n",
              "      <td>0</td>\n",
              "      <td>1424696638740</td>\n",
              "      <td>27920678471000</td>\n",
              "      <td>-0.565032</td>\n",
              "      <td>-9.572019</td>\n",
              "      <td>-0.614113</td>\n",
              "      <td>a</td>\n",
              "      <td>gear</td>\n",
              "      <td>gear_1</td>\n",
              "      <td>stand</td>\n",
              "    </tr>\n",
              "    <tr>\n",
              "      <th>1</th>\n",
              "      <td>1</td>\n",
              "      <td>1424696638740</td>\n",
              "      <td>27920681910000</td>\n",
              "      <td>-0.832584</td>\n",
              "      <td>-9.713276</td>\n",
              "      <td>-0.606930</td>\n",
              "      <td>a</td>\n",
              "      <td>gear</td>\n",
              "      <td>gear_1</td>\n",
              "      <td>stand</td>\n",
              "    </tr>\n",
              "    <tr>\n",
              "      <th>2</th>\n",
              "      <td>2</td>\n",
              "      <td>1424696638740</td>\n",
              "      <td>27920692014000</td>\n",
              "      <td>-1.018134</td>\n",
              "      <td>-9.935339</td>\n",
              "      <td>-0.544082</td>\n",
              "      <td>a</td>\n",
              "      <td>gear</td>\n",
              "      <td>gear_1</td>\n",
              "      <td>stand</td>\n",
              "    </tr>\n",
              "    <tr>\n",
              "      <th>3</th>\n",
              "      <td>3</td>\n",
              "      <td>1424696638741</td>\n",
              "      <td>27920701983000</td>\n",
              "      <td>-1.222838</td>\n",
              "      <td>-10.142437</td>\n",
              "      <td>-0.566229</td>\n",
              "      <td>a</td>\n",
              "      <td>gear</td>\n",
              "      <td>gear_1</td>\n",
              "      <td>stand</td>\n",
              "    </tr>\n",
              "    <tr>\n",
              "      <th>4</th>\n",
              "      <td>4</td>\n",
              "      <td>1424696638741</td>\n",
              "      <td>27920711906000</td>\n",
              "      <td>-1.577180</td>\n",
              "      <td>-10.480618</td>\n",
              "      <td>-0.402824</td>\n",
              "      <td>a</td>\n",
              "      <td>gear</td>\n",
              "      <td>gear_1</td>\n",
              "      <td>stand</td>\n",
              "    </tr>\n",
              "  </tbody>\n",
              "</table>\n",
              "</div>"
            ],
            "text/plain": [
              "   Index   Arrival_Time   Creation_Time         x  ...  User  Model  Device     gt\n",
              "0      0  1424696638740  27920678471000 -0.565032  ...     a   gear  gear_1  stand\n",
              "1      1  1424696638740  27920681910000 -0.832584  ...     a   gear  gear_1  stand\n",
              "2      2  1424696638740  27920692014000 -1.018134  ...     a   gear  gear_1  stand\n",
              "3      3  1424696638741  27920701983000 -1.222838  ...     a   gear  gear_1  stand\n",
              "4      4  1424696638741  27920711906000 -1.577180  ...     a   gear  gear_1  stand\n",
              "\n",
              "[5 rows x 10 columns]"
            ]
          },
          "metadata": {
            "tags": []
          },
          "execution_count": 12
        }
      ]
    },
    {
      "cell_type": "code",
      "metadata": {
        "colab_type": "code",
        "outputId": "66ecf5ca-2e49-4917-ebdd-ecc1c71d4418",
        "id": "4i05g9Eqbczh",
        "colab": {
          "base_uri": "https://localhost:8080/",
          "height": 145
        }
      },
      "source": [
        "data['gt'].value_counts()"
      ],
      "execution_count": 0,
      "outputs": [
        {
          "output_type": "execute_result",
          "data": {
            "text/plain": [
              "bike          635530\n",
              "walk          549761\n",
              "stairsdown    486376\n",
              "stairsup      473754\n",
              "stand         451189\n",
              "sit           423995\n",
              "Name: gt, dtype: int64"
            ]
          },
          "metadata": {
            "tags": []
          },
          "execution_count": 13
        }
      ]
    },
    {
      "cell_type": "code",
      "metadata": {
        "colab_type": "code",
        "outputId": "dcaac886-3a74-495d-855e-34488fb84503",
        "id": "MYXydhakbczo",
        "colab": {
          "base_uri": "https://localhost:8080/",
          "height": 308
        }
      },
      "source": [
        "data['x'] = data['x'].astype('float')\n",
        "data['y'] = data['y'].astype('float')\n",
        "data['z'] = data['z'].astype('float')\n",
        "data.info()\n",
        "data.shape\n"
      ],
      "execution_count": 0,
      "outputs": [
        {
          "output_type": "stream",
          "text": [
            "<class 'pandas.core.frame.DataFrame'>\n",
            "Int64Index: 3020605 entries, 0 to 3540961\n",
            "Data columns (total 10 columns):\n",
            "Index            int64\n",
            "Arrival_Time     int64\n",
            "Creation_Time    int64\n",
            "x                float64\n",
            "y                float64\n",
            "z                float64\n",
            "User             object\n",
            "Model            object\n",
            "Device           object\n",
            "gt               object\n",
            "dtypes: float64(3), int64(3), object(4)\n",
            "memory usage: 253.5+ MB\n"
          ],
          "name": "stdout"
        },
        {
          "output_type": "execute_result",
          "data": {
            "text/plain": [
              "(3020605, 10)"
            ]
          },
          "metadata": {
            "tags": []
          },
          "execution_count": 14
        }
      ]
    },
    {
      "cell_type": "code",
      "metadata": {
        "colab_type": "code",
        "outputId": "62cfe119-2090-4c26-98e5-9eb869f1d2aa",
        "id": "V02GrAn5bczx",
        "colab": {
          "base_uri": "https://localhost:8080/",
          "height": 35
        }
      },
      "source": [
        "Fs = 20\n",
        "gt= data['gt'].value_counts().index\n",
        "gt"
      ],
      "execution_count": 0,
      "outputs": [
        {
          "output_type": "execute_result",
          "data": {
            "text/plain": [
              "Index(['bike', 'walk', 'stairsdown', 'stairsup', 'stand', 'sit'], dtype='object')"
            ]
          },
          "metadata": {
            "tags": []
          },
          "execution_count": 15
        }
      ]
    },
    {
      "cell_type": "code",
      "metadata": {
        "colab_type": "code",
        "outputId": "92984e1a-7e8b-46a0-d78d-eaadb1a4a787",
        "id": "-T3OH1u0bcz4",
        "colab": {
          "base_uri": "https://localhost:8080/",
          "height": 198
        }
      },
      "source": [
        "from sklearn.preprocessing import LabelEncoder\n",
        "label = LabelEncoder()\n",
        "data['label'] = label.fit_transform(data['gt'])\n",
        "data.head()"
      ],
      "execution_count": 0,
      "outputs": [
        {
          "output_type": "execute_result",
          "data": {
            "text/html": [
              "<div>\n",
              "<style scoped>\n",
              "    .dataframe tbody tr th:only-of-type {\n",
              "        vertical-align: middle;\n",
              "    }\n",
              "\n",
              "    .dataframe tbody tr th {\n",
              "        vertical-align: top;\n",
              "    }\n",
              "\n",
              "    .dataframe thead th {\n",
              "        text-align: right;\n",
              "    }\n",
              "</style>\n",
              "<table border=\"1\" class=\"dataframe\">\n",
              "  <thead>\n",
              "    <tr style=\"text-align: right;\">\n",
              "      <th></th>\n",
              "      <th>Index</th>\n",
              "      <th>Arrival_Time</th>\n",
              "      <th>Creation_Time</th>\n",
              "      <th>x</th>\n",
              "      <th>y</th>\n",
              "      <th>z</th>\n",
              "      <th>User</th>\n",
              "      <th>Model</th>\n",
              "      <th>Device</th>\n",
              "      <th>gt</th>\n",
              "      <th>label</th>\n",
              "    </tr>\n",
              "  </thead>\n",
              "  <tbody>\n",
              "    <tr>\n",
              "      <th>0</th>\n",
              "      <td>0</td>\n",
              "      <td>1424696638740</td>\n",
              "      <td>27920678471000</td>\n",
              "      <td>-0.565032</td>\n",
              "      <td>-9.572019</td>\n",
              "      <td>-0.614113</td>\n",
              "      <td>a</td>\n",
              "      <td>gear</td>\n",
              "      <td>gear_1</td>\n",
              "      <td>stand</td>\n",
              "      <td>4</td>\n",
              "    </tr>\n",
              "    <tr>\n",
              "      <th>1</th>\n",
              "      <td>1</td>\n",
              "      <td>1424696638740</td>\n",
              "      <td>27920681910000</td>\n",
              "      <td>-0.832584</td>\n",
              "      <td>-9.713276</td>\n",
              "      <td>-0.606930</td>\n",
              "      <td>a</td>\n",
              "      <td>gear</td>\n",
              "      <td>gear_1</td>\n",
              "      <td>stand</td>\n",
              "      <td>4</td>\n",
              "    </tr>\n",
              "    <tr>\n",
              "      <th>2</th>\n",
              "      <td>2</td>\n",
              "      <td>1424696638740</td>\n",
              "      <td>27920692014000</td>\n",
              "      <td>-1.018134</td>\n",
              "      <td>-9.935339</td>\n",
              "      <td>-0.544082</td>\n",
              "      <td>a</td>\n",
              "      <td>gear</td>\n",
              "      <td>gear_1</td>\n",
              "      <td>stand</td>\n",
              "      <td>4</td>\n",
              "    </tr>\n",
              "    <tr>\n",
              "      <th>3</th>\n",
              "      <td>3</td>\n",
              "      <td>1424696638741</td>\n",
              "      <td>27920701983000</td>\n",
              "      <td>-1.222838</td>\n",
              "      <td>-10.142437</td>\n",
              "      <td>-0.566229</td>\n",
              "      <td>a</td>\n",
              "      <td>gear</td>\n",
              "      <td>gear_1</td>\n",
              "      <td>stand</td>\n",
              "      <td>4</td>\n",
              "    </tr>\n",
              "    <tr>\n",
              "      <th>4</th>\n",
              "      <td>4</td>\n",
              "      <td>1424696638741</td>\n",
              "      <td>27920711906000</td>\n",
              "      <td>-1.577180</td>\n",
              "      <td>-10.480618</td>\n",
              "      <td>-0.402824</td>\n",
              "      <td>a</td>\n",
              "      <td>gear</td>\n",
              "      <td>gear_1</td>\n",
              "      <td>stand</td>\n",
              "      <td>4</td>\n",
              "    </tr>\n",
              "  </tbody>\n",
              "</table>\n",
              "</div>"
            ],
            "text/plain": [
              "   Index   Arrival_Time   Creation_Time         x  ...  Model  Device     gt label\n",
              "0      0  1424696638740  27920678471000 -0.565032  ...   gear  gear_1  stand     4\n",
              "1      1  1424696638740  27920681910000 -0.832584  ...   gear  gear_1  stand     4\n",
              "2      2  1424696638740  27920692014000 -1.018134  ...   gear  gear_1  stand     4\n",
              "3      3  1424696638741  27920701983000 -1.222838  ...   gear  gear_1  stand     4\n",
              "4      4  1424696638741  27920711906000 -1.577180  ...   gear  gear_1  stand     4\n",
              "\n",
              "[5 rows x 11 columns]"
            ]
          },
          "metadata": {
            "tags": []
          },
          "execution_count": 16
        }
      ]
    },
    {
      "cell_type": "code",
      "metadata": {
        "colab_type": "code",
        "outputId": "7efa7eb8-cd34-4f95-dcb3-b079aa210a79",
        "id": "kSZcjd3ybc0L",
        "colab": {
          "base_uri": "https://localhost:8080/",
          "height": 54
        }
      },
      "source": [
        "label.classes_"
      ],
      "execution_count": 0,
      "outputs": [
        {
          "output_type": "execute_result",
          "data": {
            "text/plain": [
              "array(['bike', 'sit', 'stairsdown', 'stairsup', 'stand', 'walk'],\n",
              "      dtype=object)"
            ]
          },
          "metadata": {
            "tags": []
          },
          "execution_count": 17
        }
      ]
    },
    {
      "cell_type": "code",
      "metadata": {
        "colab_type": "code",
        "outputId": "9802f42c-0bbd-4004-9bd5-d859bc0778e4",
        "id": "ay7t-BdGbc0V",
        "colab": {
          "base_uri": "https://localhost:8080/",
          "height": 407
        }
      },
      "source": [
        "X = data[['x', 'y', 'z']]\n",
        "y = data['label']\n",
        "scaler = StandardScaler()\n",
        "X = scaler.fit_transform(X)\n",
        "\n",
        "scaled_X = pd.DataFrame(data = X, columns = ['x', 'y', 'z'])\n",
        "scaled_X['label'] = y.values\n",
        "\n",
        "scaled_X"
      ],
      "execution_count": 0,
      "outputs": [
        {
          "output_type": "execute_result",
          "data": {
            "text/html": [
              "<div>\n",
              "<style scoped>\n",
              "    .dataframe tbody tr th:only-of-type {\n",
              "        vertical-align: middle;\n",
              "    }\n",
              "\n",
              "    .dataframe tbody tr th {\n",
              "        vertical-align: top;\n",
              "    }\n",
              "\n",
              "    .dataframe thead th {\n",
              "        text-align: right;\n",
              "    }\n",
              "</style>\n",
              "<table border=\"1\" class=\"dataframe\">\n",
              "  <thead>\n",
              "    <tr style=\"text-align: right;\">\n",
              "      <th></th>\n",
              "      <th>x</th>\n",
              "      <th>y</th>\n",
              "      <th>z</th>\n",
              "      <th>label</th>\n",
              "    </tr>\n",
              "  </thead>\n",
              "  <tbody>\n",
              "    <tr>\n",
              "      <th>0</th>\n",
              "      <td>-0.002248</td>\n",
              "      <td>-1.505324</td>\n",
              "      <td>-0.822083</td>\n",
              "      <td>4</td>\n",
              "    </tr>\n",
              "    <tr>\n",
              "      <th>1</th>\n",
              "      <td>-0.034986</td>\n",
              "      <td>-1.535326</td>\n",
              "      <td>-0.819890</td>\n",
              "      <td>4</td>\n",
              "    </tr>\n",
              "    <tr>\n",
              "      <th>2</th>\n",
              "      <td>-0.057690</td>\n",
              "      <td>-1.582490</td>\n",
              "      <td>-0.800707</td>\n",
              "      <td>4</td>\n",
              "    </tr>\n",
              "    <tr>\n",
              "      <th>3</th>\n",
              "      <td>-0.082737</td>\n",
              "      <td>-1.626476</td>\n",
              "      <td>-0.807467</td>\n",
              "      <td>4</td>\n",
              "    </tr>\n",
              "    <tr>\n",
              "      <th>4</th>\n",
              "      <td>-0.126095</td>\n",
              "      <td>-1.698303</td>\n",
              "      <td>-0.757590</td>\n",
              "      <td>4</td>\n",
              "    </tr>\n",
              "    <tr>\n",
              "      <th>...</th>\n",
              "      <td>...</td>\n",
              "      <td>...</td>\n",
              "      <td>...</td>\n",
              "      <td>...</td>\n",
              "    </tr>\n",
              "    <tr>\n",
              "      <th>3020600</th>\n",
              "      <td>0.607304</td>\n",
              "      <td>-1.321819</td>\n",
              "      <td>-1.158194</td>\n",
              "      <td>0</td>\n",
              "    </tr>\n",
              "    <tr>\n",
              "      <th>3020601</th>\n",
              "      <td>0.720023</td>\n",
              "      <td>-1.495735</td>\n",
              "      <td>-1.007794</td>\n",
              "      <td>0</td>\n",
              "    </tr>\n",
              "    <tr>\n",
              "      <th>3020602</th>\n",
              "      <td>0.872062</td>\n",
              "      <td>-1.542753</td>\n",
              "      <td>-1.028864</td>\n",
              "      <td>0</td>\n",
              "    </tr>\n",
              "    <tr>\n",
              "      <th>3020603</th>\n",
              "      <td>1.037499</td>\n",
              "      <td>-1.493207</td>\n",
              "      <td>-1.125498</td>\n",
              "      <td>0</td>\n",
              "    </tr>\n",
              "    <tr>\n",
              "      <th>3020604</th>\n",
              "      <td>1.288276</td>\n",
              "      <td>-1.389565</td>\n",
              "      <td>-0.805080</td>\n",
              "      <td>0</td>\n",
              "    </tr>\n",
              "  </tbody>\n",
              "</table>\n",
              "<p>3020605 rows × 4 columns</p>\n",
              "</div>"
            ],
            "text/plain": [
              "                x         y         z  label\n",
              "0       -0.002248 -1.505324 -0.822083      4\n",
              "1       -0.034986 -1.535326 -0.819890      4\n",
              "2       -0.057690 -1.582490 -0.800707      4\n",
              "3       -0.082737 -1.626476 -0.807467      4\n",
              "4       -0.126095 -1.698303 -0.757590      4\n",
              "...           ...       ...       ...    ...\n",
              "3020600  0.607304 -1.321819 -1.158194      0\n",
              "3020601  0.720023 -1.495735 -1.007794      0\n",
              "3020602  0.872062 -1.542753 -1.028864      0\n",
              "3020603  1.037499 -1.493207 -1.125498      0\n",
              "3020604  1.288276 -1.389565 -0.805080      0\n",
              "\n",
              "[3020605 rows x 4 columns]"
            ]
          },
          "metadata": {
            "tags": []
          },
          "execution_count": 18
        }
      ]
    },
    {
      "cell_type": "code",
      "metadata": {
        "colab_type": "code",
        "outputId": "391adafa-73cf-4c3f-8b2f-59c355e366e0",
        "id": "OeeoLVUabc0i",
        "colab": {
          "base_uri": "https://localhost:8080/",
          "height": 54
        }
      },
      "source": [
        "label.classes_"
      ],
      "execution_count": 0,
      "outputs": [
        {
          "output_type": "execute_result",
          "data": {
            "text/plain": [
              "array(['bike', 'sit', 'stairsdown', 'stairsup', 'stand', 'walk'],\n",
              "      dtype=object)"
            ]
          },
          "metadata": {
            "tags": []
          },
          "execution_count": 19
        }
      ]
    },
    {
      "cell_type": "code",
      "metadata": {
        "colab_type": "code",
        "id": "jtmiy59Rbc00",
        "colab": {}
      },
      "source": [
        "Fs = 50\n",
        "frame_size = Fs*4 # 80\n",
        "hop_size = Fs*2 # 40\n"
      ],
      "execution_count": 0,
      "outputs": []
    },
    {
      "cell_type": "code",
      "metadata": {
        "colab_type": "code",
        "id": "8EkQlxyXbc05",
        "colab": {}
      },
      "source": [
        "import math as m\n",
        "def get_frames(data, frame_size, hop_size):\n",
        "\n",
        "  N_FEATURES = 3\n",
        "  frames = []\n",
        "  labels = []\n",
        "  for i in range(0, len(scaled_X) - frame_size,hop_size):\n",
        "    x = data['x'].values[i: i + frame_size]\n",
        "    y = data['y'].values[i: i + frame_size]\n",
        "    z = data['z'].values[i: i + frame_size]\n",
        "        # Retrieve the most often used label in this segment\n",
        "    label = stats.mode(scaled_X['label'][i: i + frame_size])[0][0]\n",
        "    frames.append([x, y, z])\n",
        "    labels.append(label)\n",
        "  # Bring the segments into a better shape\n",
        "  frames = np.asarray(frames, dtype= np.float32).reshape(-1, frame_size, N_FEATURES)\n",
        "  labels = np.asarray(labels)\n",
        "  return frames, labels\n"
      ],
      "execution_count": 0,
      "outputs": []
    },
    {
      "cell_type": "code",
      "metadata": {
        "colab_type": "code",
        "id": "MTKsac_Gbc1H",
        "colab": {}
      },
      "source": [
        "X,y = get_frames(scaled_X, frame_size, hop_size)"
      ],
      "execution_count": 0,
      "outputs": []
    },
    {
      "cell_type": "code",
      "metadata": {
        "colab_type": "code",
        "outputId": "2cb6efac-6f46-41ff-a8e5-282ed1f01f89",
        "id": "bHEDChZxbc1S",
        "colab": {
          "base_uri": "https://localhost:8080/",
          "height": 35
        }
      },
      "source": [
        "X.shape\n",
        "y.shape"
      ],
      "execution_count": 0,
      "outputs": [
        {
          "output_type": "execute_result",
          "data": {
            "text/plain": [
              "(30205,)"
            ]
          },
          "metadata": {
            "tags": []
          },
          "execution_count": 23
        }
      ]
    },
    {
      "cell_type": "code",
      "metadata": {
        "colab_type": "code",
        "id": "m81b0SfXbc1W",
        "colab": {}
      },
      "source": [
        "X_train, X_test, y_train, y_test = train_test_split(X,y, test_size = 0.2, random_state = 0, stratify = y)\n"
      ],
      "execution_count": 0,
      "outputs": []
    },
    {
      "cell_type": "code",
      "metadata": {
        "colab_type": "code",
        "outputId": "1fadd944-d0fb-4836-cbd8-02f52f146348",
        "id": "XFBW9nXTbc1e",
        "colab": {
          "base_uri": "https://localhost:8080/",
          "height": 35
        }
      },
      "source": [
        "X_train.shape, X_test.shape"
      ],
      "execution_count": 0,
      "outputs": [
        {
          "output_type": "execute_result",
          "data": {
            "text/plain": [
              "((24164, 200, 3), (6041, 200, 3))"
            ]
          },
          "metadata": {
            "tags": []
          },
          "execution_count": 27
        }
      ]
    },
    {
      "cell_type": "code",
      "metadata": {
        "colab_type": "code",
        "outputId": "8dad90d5-5eb2-4c42-c3a6-62aa21b1300d",
        "id": "-xZfhqEDbc1h",
        "colab": {
          "base_uri": "https://localhost:8080/",
          "height": 35
        }
      },
      "source": [
        "x_train_reshaped = X_train.reshape(24164, frame_size *3)\n",
        "x_test_reshaped = X_test.reshape(6041,frame_size * 3)\n",
        "x_train_reshaped.shape, x_test_reshaped.shape"
      ],
      "execution_count": 0,
      "outputs": [
        {
          "output_type": "execute_result",
          "data": {
            "text/plain": [
              "((24164, 600), (6041, 600))"
            ]
          },
          "metadata": {
            "tags": []
          },
          "execution_count": 28
        }
      ]
    },
    {
      "cell_type": "code",
      "metadata": {
        "colab_type": "code",
        "id": "QsipJ85Obc1k",
        "colab": {}
      },
      "source": [
        "from sklearn.metrics import accuracy_score, log_loss\n",
        "from sklearn.neighbors import KNeighborsClassifier\n",
        "from sklearn.svm import SVC, LinearSVC, NuSVC\n",
        "from sklearn.tree import DecisionTreeClassifier\n",
        "from sklearn.ensemble import RandomForestClassifier, AdaBoostClassifier, GradientBoostingClassifier\n",
        "from sklearn.naive_bayes import GaussianNB\n",
        "from sklearn.discriminant_analysis import LinearDiscriminantAnalysis\n",
        "from sklearn.discriminant_analysis import QuadraticDiscriminantAnalysis\n",
        "from sklearn import linear_model\n",
        "# Python script for confusion matrix creation. \n",
        "from sklearn.metrics import confusion_matrix \n",
        "from sklearn.metrics import accuracy_score \n",
        "from sklearn.metrics import classification_report\n",
        "from mlxtend.plotting import plot_confusion_matrix"
      ],
      "execution_count": 0,
      "outputs": []
    },
    {
      "cell_type": "code",
      "metadata": {
        "colab_type": "code",
        "id": "2JpN1jj3bc1o",
        "colab": {}
      },
      "source": [
        "classifiers = [\n",
        "    linear_model.LogisticRegression(),\n",
        "    #KNeighborsClassifier(3),\n",
        "    #SVC(kernel=\"rbf\", C=0.025, probability=True),\n",
        "    #NuSVC(probability=True),\n",
        "    DecisionTreeClassifier(),\n",
        "    RandomForestClassifier(),\n",
        "    AdaBoostClassifier(),\n",
        "    #GradientBoostingClassifier(),\n",
        "    GaussianNB(),\n",
        "    LinearDiscriminantAnalysis(),\n",
        "    QuadraticDiscriminantAnalysis()\n",
        "    ]"
      ],
      "execution_count": 0,
      "outputs": []
    },
    {
      "cell_type": "code",
      "metadata": {
        "colab_type": "code",
        "id": "Xtd6g4PVbc1r",
        "outputId": "0783b07f-b57a-40e9-92a7-ad6df3c7e0be",
        "colab": {
          "base_uri": "https://localhost:8080/",
          "height": 1000
        }
      },
      "source": [
        "# Logging for Visual Comparison\n",
        "log_cols=[\"Classifier\", \"Accuracy\", \"Log Loss\"]\n",
        "log = pd.DataFrame(columns=log_cols)\n",
        "\n",
        "for clf in classifiers:\n",
        "    clf.fit(x_train_reshaped, y_train)\n",
        "    name = clf.__class__.__name__    \n",
        "    print(\"=\"*30)\n",
        "    print(name)\n",
        "       \n",
        "    print('****Results****')\n",
        "    train_predictions = clf.predict(x_test_reshaped)\n",
        "    \n",
        "    acc = accuracy_score(y_test,train_predictions)\n",
        "    print(\"Accuracy: {:.4%}\".format(acc))\n",
        "    train_predictions = clf.predict_proba(x_test_reshaped)\n",
        "    ll = log_loss(y_test, train_predictions)\n",
        "    print(\"Log Loss: {}\".format(ll))\n",
        "    log_entry = pd.DataFrame([[name, acc*100, ll]], columns=log_cols)\n",
        "    log = log.append(log_entry) \n",
        "    \n",
        "    y_pred = clf.predict(x_test_reshaped)\n",
        "    print(confusion_matrix(y_test,y_pred))\n",
        "    print(accuracy_score(y_test,y_pred))\n",
        "    print(classification_report(y_test,y_pred))  \n",
        "    plot_confusion_matrix(conf_mat=confusion_matrix(y_test,y_pred),colorbar=True,show_absolute=False, show_normed=True, figsize=(7,7))\n",
        "    log_entry = pd.DataFrame([[name, acc*100, ll]], columns=log_cols)\n",
        "    \n",
        "    print(\"complete !!!\")\n",
        "\n",
        "print(\"=\"*30)"
      ],
      "execution_count": 0,
      "outputs": [
        {
          "output_type": "stream",
          "text": [
            "/usr/local/lib/python3.6/dist-packages/sklearn/linear_model/_logistic.py:940: ConvergenceWarning: lbfgs failed to converge (status=1):\n",
            "STOP: TOTAL NO. of ITERATIONS REACHED LIMIT.\n",
            "\n",
            "Increase the number of iterations (max_iter) or scale the data as shown in:\n",
            "    https://scikit-learn.org/stable/modules/preprocessing.html\n",
            "Please also refer to the documentation for alternative solver options:\n",
            "    https://scikit-learn.org/stable/modules/linear_model.html#logistic-regression\n",
            "  extra_warning_msg=_LOGISTIC_SOLVER_CONVERGENCE_MSG)\n"
          ],
          "name": "stderr"
        },
        {
          "output_type": "stream",
          "text": [
            "==============================\n",
            "LogisticRegression\n",
            "****Results****\n",
            "Accuracy: 34.3652%\n",
            "Log Loss: 1.6002289825545342\n",
            "[[789 254  74  49  16  90]\n",
            " [295 416   7   3   0 127]\n",
            " [146  30 207 142  39 408]\n",
            " [159  46 177 112  26 428]\n",
            " [ 92  23  23  15   6 743]\n",
            " [ 30  27 284 172  40 546]]\n",
            "0.3436517132925012\n",
            "              precision    recall  f1-score   support\n",
            "\n",
            "           0       0.52      0.62      0.57      1272\n",
            "           1       0.52      0.49      0.51       848\n",
            "           2       0.27      0.21      0.24       972\n",
            "           3       0.23      0.12      0.16       948\n",
            "           4       0.05      0.01      0.01       902\n",
            "           5       0.23      0.50      0.32      1099\n",
            "\n",
            "    accuracy                           0.34      6041\n",
            "   macro avg       0.30      0.32      0.30      6041\n",
            "weighted avg       0.31      0.34      0.31      6041\n",
            "\n",
            "complete !!!\n",
            "==============================\n",
            "DecisionTreeClassifier\n",
            "****Results****\n",
            "Accuracy: 69.9388%\n",
            "Log Loss: 10.382787275808283\n",
            "[[1011   20  100   53   46   42]\n",
            " [   9  794    7    8   21    9]\n",
            " [  71    6  471  248   30  146]\n",
            " [  38   12  219  474   29  176]\n",
            " [  11   36   27   26  781   21]\n",
            " [  29   10  140  203   23  694]]\n",
            "0.6993875186227446\n",
            "              precision    recall  f1-score   support\n",
            "\n",
            "           0       0.86      0.79      0.83      1272\n",
            "           1       0.90      0.94      0.92       848\n",
            "           2       0.49      0.48      0.49       972\n",
            "           3       0.47      0.50      0.48       948\n",
            "           4       0.84      0.87      0.85       902\n",
            "           5       0.64      0.63      0.63      1099\n",
            "\n",
            "    accuracy                           0.70      6041\n",
            "   macro avg       0.70      0.70      0.70      6041\n",
            "weighted avg       0.70      0.70      0.70      6041\n",
            "\n",
            "complete !!!\n",
            "==============================\n",
            "RandomForestClassifier\n",
            "****Results****\n",
            "Accuracy: 84.7707%\n",
            "Log Loss: 0.5282605907825826\n",
            "[[1214    0   32   15    1   10]\n",
            " [  11  814    5    3   13    2]\n",
            " [  70    0  689  144    2   67]\n",
            " [  42    1  146  688    7   64]\n",
            " [  22   18   22   15  814   11]\n",
            " [  20    2   72   99    4  902]]\n",
            "0.8477073332229763\n",
            "              precision    recall  f1-score   support\n",
            "\n",
            "           0       0.88      0.95      0.92      1272\n",
            "           1       0.97      0.96      0.97       848\n",
            "           2       0.71      0.71      0.71       972\n",
            "           3       0.71      0.73      0.72       948\n",
            "           4       0.97      0.90      0.93       902\n",
            "           5       0.85      0.82      0.84      1099\n",
            "\n",
            "    accuracy                           0.85      6041\n",
            "   macro avg       0.85      0.85      0.85      6041\n",
            "weighted avg       0.85      0.85      0.85      6041\n",
            "\n",
            "complete !!!\n",
            "==============================\n",
            "AdaBoostClassifier\n",
            "****Results****\n",
            "Accuracy: 55.3716%\n",
            "Log Loss: 1.7014749477030902\n",
            "[[972  82  62  40  52  64]\n",
            " [205 602   5   1  31   4]\n",
            " [124   6 385 158  36 263]\n",
            " [ 89  14 347 171  50 277]\n",
            " [ 60  37  13  14 756  22]\n",
            " [ 42   9 424 126  39 459]]\n",
            "0.5537162721403741\n",
            "              precision    recall  f1-score   support\n",
            "\n",
            "           0       0.65      0.76      0.70      1272\n",
            "           1       0.80      0.71      0.75       848\n",
            "           2       0.31      0.40      0.35       972\n",
            "           3       0.34      0.18      0.23       948\n",
            "           4       0.78      0.84      0.81       902\n",
            "           5       0.42      0.42      0.42      1099\n",
            "\n",
            "    accuracy                           0.55      6041\n",
            "   macro avg       0.55      0.55      0.54      6041\n",
            "weighted avg       0.55      0.55      0.54      6041\n",
            "\n",
            "complete !!!\n",
            "==============================\n",
            "GaussianNB\n",
            "****Results****\n",
            "Accuracy: 40.1258%\n",
            "Log Loss: 17.764789716493194\n",
            "[[806 275 150  18  11  12]\n",
            " [ 38 593  57   0 153   7]\n",
            " [123  27 196  84 371 171]\n",
            " [ 77  51 147  52 488 133]\n",
            " [ 49  19  38  12 602 182]\n",
            " [ 17  20 144  54 689 175]]\n",
            "0.4012580698559841\n",
            "              precision    recall  f1-score   support\n",
            "\n",
            "           0       0.73      0.63      0.68      1272\n",
            "           1       0.60      0.70      0.65       848\n",
            "           2       0.27      0.20      0.23       972\n",
            "           3       0.24      0.05      0.09       948\n",
            "           4       0.26      0.67      0.37       902\n",
            "           5       0.26      0.16      0.20      1099\n",
            "\n",
            "    accuracy                           0.40      6041\n",
            "   macro avg       0.39      0.40      0.37      6041\n",
            "weighted avg       0.40      0.40      0.38      6041\n",
            "\n",
            "complete !!!\n",
            "==============================\n",
            "LinearDiscriminantAnalysis\n",
            "****Results****\n",
            "Accuracy: 36.0371%\n",
            "Log Loss: 1.645310144664341\n",
            "[[743 278  77  72  29  73]\n",
            " [186 522   4   4   1 131]\n",
            " [147  34 215 135  31 410]\n",
            " [144  36 176 104  26 462]\n",
            " [ 77  31  19  15   4 756]\n",
            " [ 28  24 270 153  35 589]]\n",
            "0.3603707995365006\n",
            "              precision    recall  f1-score   support\n",
            "\n",
            "           0       0.56      0.58      0.57      1272\n",
            "           1       0.56      0.62      0.59       848\n",
            "           2       0.28      0.22      0.25       972\n",
            "           3       0.22      0.11      0.15       948\n",
            "           4       0.03      0.00      0.01       902\n",
            "           5       0.24      0.54      0.33      1099\n",
            "\n",
            "    accuracy                           0.36      6041\n",
            "   macro avg       0.32      0.35      0.32      6041\n",
            "weighted avg       0.33      0.36      0.33      6041\n",
            "\n",
            "complete !!!\n",
            "==============================\n",
            "QuadraticDiscriminantAnalysis\n",
            "****Results****\n",
            "Accuracy: 47.7570%\n",
            "Log Loss: 17.439190067247726\n",
            "[[1057   10  179    1    0   25]\n",
            " [  12  723   14    6    7   86]\n",
            " [ 184    1  231   59    1  496]\n",
            " [ 113    4  185   62    5  579]\n",
            " [  31  745   15   15   14   82]\n",
            " [ 121    9  155   16    0  798]]\n",
            "0.47756993875186227\n",
            "              precision    recall  f1-score   support\n",
            "\n",
            "           0       0.70      0.83      0.76      1272\n",
            "           1       0.48      0.85      0.62       848\n",
            "           2       0.30      0.24      0.26       972\n",
            "           3       0.39      0.07      0.11       948\n",
            "           4       0.52      0.02      0.03       902\n",
            "           5       0.39      0.73      0.50      1099\n",
            "\n",
            "    accuracy                           0.48      6041\n",
            "   macro avg       0.46      0.45      0.38      6041\n",
            "weighted avg       0.47      0.48      0.40      6041\n",
            "\n",
            "complete !!!\n",
            "==============================\n"
          ],
          "name": "stdout"
        },
        {
          "output_type": "display_data",
          "data": {
            "image/png": "[encoded data removed]",
            "text/plain": [
              "<Figure size 504x504 with 2 Axes>"
            ]
          },
          "metadata": {
            "tags": []
          }
        },
        {
          "output_type": "display_data",
          "data": {
            "image/png": "[encoded data removed]",
            "text/plain": [
              "<Figure size 504x504 with 2 Axes>"
            ]
          },
          "metadata": {
            "tags": []
          }
        },
        {
          "output_type": "display_data",
          "data": {
            "image/png": "[encoded data removed]",
            "text/plain": [
              "<Figure size 504x504 with 2 Axes>"
            ]
          },
          "metadata": {
            "tags": []
          }
        },
        {
          "output_type": "display_data",
          "data": {
            "image/png": "[encoded data removed]",
            "text/plain": [
              "<Figure size 504x504 with 2 Axes>"
            ]
          },
          "metadata": {
            "tags": []
          }
        },
        {
          "output_type": "display_data",
          "data": {
            "image/png": "[encoded data removed]",
            "text/plain": [
              "<Figure size 504x504 with 2 Axes>"
            ]
          },
          "metadata": {
            "tags": []
          }
        },
        {
          "output_type": "display_data",
          "data": {
            "image/png": "[encoded data removed]",
            "text/plain": [
              "<Figure size 504x504 with 2 Axes>"
            ]
          },
          "metadata": {
            "tags": []
          }
        },
        {
          "output_type": "display_data",
          "data": {
            "image/png": "[encoded data removed]",
            "text/plain": [
              "<Figure size 504x504 with 2 Axes>"
            ]
          },
          "metadata": {
            "tags": []
          }
        }
      ]
    },
    {
      "cell_type": "code",
      "metadata": {
        "colab_type": "code",
        "id": "PZ-xPgrAbc10",
        "outputId": "62a6b74c-6d95-4724-8057-6f51da460799",
        "colab": {
          "base_uri": "https://localhost:8080/",
          "height": 573
        }
      },
      "source": [
        "sns.set_color_codes(\"muted\")\n",
        "sns.barplot(x='Accuracy', y='Classifier', data=log, color=\"b\")\n",
        "\n",
        "plt.xlabel('Accuracy %')\n",
        "plt.title('Classifier Accuracy')\n",
        "plt.show()\n",
        "\n",
        "sns.set_color_codes(\"muted\")\n",
        "sns.barplot(x='Log Loss', y='Classifier', data=log, color=\"g\")\n",
        "\n",
        "plt.xlabel('Log Loss')\n",
        "plt.title('Classifier Log Loss')\n",
        "plt.show()"
      ],
      "execution_count": 0,
      "outputs": [
        {
          "output_type": "display_data",
          "data": {
            "image/png": "[encoded data removed]",
            "text/plain": [
              "<Figure size 432x288 with 1 Axes>"
            ]
          },
          "metadata": {
            "tags": []
          }
        },
        {
          "output_type": "display_data",
          "data": {
            "image/png": "[encoded data removed]",
            "text/plain": [
              "<Figure size 432x288 with 1 Axes>"
            ]
          },
          "metadata": {
            "tags": []
          }
        }
      ]
    }
  ]
}