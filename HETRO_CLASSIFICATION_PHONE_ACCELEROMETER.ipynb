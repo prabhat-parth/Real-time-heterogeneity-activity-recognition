{
  "nbformat": 4,
  "nbformat_minor": 0,
  "metadata": {
    "colab": {
      "name": "HETRO_CLASSIFICATION_PHONE_ACCELEROMETER.ipynb",
      "provenance": [],
      "collapsed_sections": [],
      "mount_file_id": "1MQmqcdGHzyu-2j_PngOLCjBQf80P1c69",
      "authorship_tag": "ABX9TyOp+36xvydezwtNOEeugj+8",
      "include_colab_link": true
    },
    "kernelspec": {
      "name": "python3",
      "display_name": "Python 3"
    },
    "accelerator": "GPU"
  },
  "cells": [
    {
      "cell_type": "markdown",
      "metadata": {
        "id": "view-in-github",
        "colab_type": "text"
      },
      "source": [
        "<a href=\"https://colab.research.google.com/github/prabhat-parth/Real-time-heterogeneity-activity-recognition/blob/master/HETRO_CLASSIFICATION_PHONE_ACCELEROMETER.ipynb\" target=\"_parent\"><img src=\"https://colab.research.google.com/assets/colab-badge.svg\" alt=\"Open In Colab\"/></a>"
      ]
    },
    {
      "cell_type": "code",
      "metadata": {
        "id": "3D-b3qEOtDuF",
        "colab_type": "code",
        "outputId": "f5086f95-2e11-4ac2-de52-ce43f726ed41",
        "colab": {
          "base_uri": "https://localhost:8080/",
          "height": 83
        }
      },
      "source": [
        "import tensorflow as tf\n",
        "from tensorflow.keras import Sequential\n",
        "from tensorflow.keras.layers import Flatten, Dense, Dropout, BatchNormalization\n",
        "from tensorflow.keras.layers import Conv2D, MaxPool2D\n",
        "from tensorflow.keras.optimizers import Adam\n",
        "print(tf.__version__)\n",
        "import pandas as pd\n",
        "import numpy as np\n",
        "import matplotlib.pyplot as plt\n",
        "from sklearn.model_selection import train_test_split\n",
        "from sklearn.preprocessing import StandardScaler, LabelEncoder\n",
        "import pandas as pd\n",
        "import numpy as np\n",
        "import pickle\n",
        "import matplotlib.pyplot as plt\n",
        "from scipy import stats\n",
        "import tensorflow as tf\n",
        "import seaborn as sns\n",
        "from pylab import rcParams\n",
        "from sklearn import metrics\n",
        "from sklearn.model_selection import train_test_split"
      ],
      "execution_count": 0,
      "outputs": [
        {
          "output_type": "display_data",
          "data": {
            "text/html": [
              "<p style=\"color: red;\">\n",
              "The default version of TensorFlow in Colab will soon switch to TensorFlow 2.x.<br>\n",
              "We recommend you <a href=\"https://www.tensorflow.org/guide/migrate\" target=\"_blank\">upgrade</a> now \n",
              "or ensure your notebook will continue to use TensorFlow 1.x via the <code>%tensorflow_version 1.x</code> magic:\n",
              "<a href=\"https://colab.research.google.com/notebooks/tensorflow_version.ipynb\" target=\"_blank\">more info</a>.</p>\n"
            ],
            "text/plain": [
              "<IPython.core.display.HTML object>"
            ]
          },
          "metadata": {
            "tags": []
          }
        },
        {
          "output_type": "stream",
          "text": [
            "1.15.0\n"
          ],
          "name": "stdout"
        }
      ]
    },
    {
      "cell_type": "code",
      "metadata": {
        "id": "ZRSexPxlOr_t",
        "colab_type": "code",
        "outputId": "61cb5238-6080-4aee-81f8-e605c510d3fb",
        "colab": {
          "base_uri": "https://localhost:8080/",
          "height": 35
        }
      },
      "source": [
        "import numpy as np\n",
        "import pandas as pd\n",
        "data = pd.read_csv(\"/content/drive/My Drive/HETRO_DATA/Activity recognition exp/Activity recognition exp/Phones_accelerometer.csv\")\n",
        "data.head()\n",
        "data.shape\n"
      ],
      "execution_count": 0,
      "outputs": [
        {
          "output_type": "execute_result",
          "data": {
            "text/plain": [
              "(13062475, 10)"
            ]
          },
          "metadata": {
            "tags": []
          },
          "execution_count": 2
        }
      ]
    },
    {
      "cell_type": "code",
      "metadata": {
        "id": "3HwiYzUkPnRN",
        "colab_type": "code",
        "outputId": "88df4391-00a7-4a14-bac4-b96e317b124f",
        "colab": {
          "base_uri": "https://localhost:8080/",
          "height": 35
        }
      },
      "source": [
        "#Check for Duplicates\n",
        "print('No of duplicates in DATA: {}'.format(sum(data.duplicated())))\n"
      ],
      "execution_count": 0,
      "outputs": [
        {
          "output_type": "stream",
          "text": [
            "No of duplicates in DATA: 0\n"
          ],
          "name": "stdout"
        }
      ]
    },
    {
      "cell_type": "code",
      "metadata": {
        "id": "oratZmabQHat",
        "colab_type": "code",
        "outputId": "eb5bae30-0316-4138-9eaa-0ac93348c6ae",
        "colab": {
          "base_uri": "https://localhost:8080/",
          "height": 35
        }
      },
      "source": [
        "#Checking for NaN/null values\n",
        "print('We have {} NaN/Null values in data'.format(data.isnull().values.sum()))"
      ],
      "execution_count": 0,
      "outputs": [
        {
          "output_type": "stream",
          "text": [
            "We have 1783200 NaN/Null values in data\n"
          ],
          "name": "stdout"
        }
      ]
    },
    {
      "cell_type": "code",
      "metadata": {
        "colab_type": "code",
        "id": "97Hzdh7SSYch",
        "colab": {}
      },
      "source": [
        "#sns.heatmap(data.isnull(), cbar=False)"
      ],
      "execution_count": 0,
      "outputs": []
    },
    {
      "cell_type": "code",
      "metadata": {
        "id": "gv9vr8XJRtJe",
        "colab_type": "code",
        "colab": {}
      },
      "source": [
        "data.dropna(axis=0, how='any', thresh=None, subset=None, inplace= True)"
      ],
      "execution_count": 0,
      "outputs": []
    },
    {
      "cell_type": "code",
      "metadata": {
        "id": "2HaYimWq7u2b",
        "colab_type": "code",
        "colab": {}
      },
      "source": [
        "#sns.heatmap(data.isnull(), cbar=False)"
      ],
      "execution_count": 0,
      "outputs": []
    },
    {
      "cell_type": "code",
      "metadata": {
        "colab_type": "code",
        "id": "dQcmi0pvS5Rl",
        "outputId": "5b544ab8-b935-4595-956f-411cfcc4ccec",
        "colab": {
          "base_uri": "https://localhost:8080/",
          "height": 54
        }
      },
      "source": [
        "#Checking for NaN/null values\n",
        "print('We have {} NaN/Null values in data'.format(data.isnull().values.sum()))\n",
        "data.shape"
      ],
      "execution_count": 0,
      "outputs": [
        {
          "output_type": "stream",
          "text": [
            "We have 0 NaN/Null values in data\n"
          ],
          "name": "stdout"
        },
        {
          "output_type": "execute_result",
          "data": {
            "text/plain": [
              "(11279275, 10)"
            ]
          },
          "metadata": {
            "tags": []
          },
          "execution_count": 8
        }
      ]
    },
    {
      "cell_type": "code",
      "metadata": {
        "id": "2pF22Xd6knnC",
        "colab_type": "code",
        "outputId": "addce877-39dd-45a7-f42f-3e572b8b8fae",
        "colab": {
          "base_uri": "https://localhost:8080/",
          "height": 35
        }
      },
      "source": [
        "#data = data.drop(['Arrival_Time'], axis = 1).copy()\n",
        "data.shape"
      ],
      "execution_count": 0,
      "outputs": [
        {
          "output_type": "execute_result",
          "data": {
            "text/plain": [
              "(11279275, 10)"
            ]
          },
          "metadata": {
            "tags": []
          },
          "execution_count": 9
        }
      ]
    },
    {
      "cell_type": "code",
      "metadata": {
        "id": "VcNHiyd0JldN",
        "colab_type": "code",
        "outputId": "48fac52c-6024-4e33-9efb-f5cfb98f447b",
        "colab": {
          "base_uri": "https://localhost:8080/",
          "height": 198
        }
      },
      "source": [
        "data.head()"
      ],
      "execution_count": 0,
      "outputs": [
        {
          "output_type": "execute_result",
          "data": {
            "text/html": [
              "<div>\n",
              "<style scoped>\n",
              "    .dataframe tbody tr th:only-of-type {\n",
              "        vertical-align: middle;\n",
              "    }\n",
              "\n",
              "    .dataframe tbody tr th {\n",
              "        vertical-align: top;\n",
              "    }\n",
              "\n",
              "    .dataframe thead th {\n",
              "        text-align: right;\n",
              "    }\n",
              "</style>\n",
              "<table border=\"1\" class=\"dataframe\">\n",
              "  <thead>\n",
              "    <tr style=\"text-align: right;\">\n",
              "      <th></th>\n",
              "      <th>Index</th>\n",
              "      <th>Arrival_Time</th>\n",
              "      <th>Creation_Time</th>\n",
              "      <th>x</th>\n",
              "      <th>y</th>\n",
              "      <th>z</th>\n",
              "      <th>User</th>\n",
              "      <th>Model</th>\n",
              "      <th>Device</th>\n",
              "      <th>gt</th>\n",
              "    </tr>\n",
              "  </thead>\n",
              "  <tbody>\n",
              "    <tr>\n",
              "      <th>0</th>\n",
              "      <td>0</td>\n",
              "      <td>1424696633908</td>\n",
              "      <td>1424696631913248572</td>\n",
              "      <td>-5.958191</td>\n",
              "      <td>0.688065</td>\n",
              "      <td>8.135345</td>\n",
              "      <td>a</td>\n",
              "      <td>nexus4</td>\n",
              "      <td>nexus4_1</td>\n",
              "      <td>stand</td>\n",
              "    </tr>\n",
              "    <tr>\n",
              "      <th>1</th>\n",
              "      <td>1</td>\n",
              "      <td>1424696633909</td>\n",
              "      <td>1424696631918283972</td>\n",
              "      <td>-5.952240</td>\n",
              "      <td>0.670212</td>\n",
              "      <td>8.136536</td>\n",
              "      <td>a</td>\n",
              "      <td>nexus4</td>\n",
              "      <td>nexus4_1</td>\n",
              "      <td>stand</td>\n",
              "    </tr>\n",
              "    <tr>\n",
              "      <th>2</th>\n",
              "      <td>2</td>\n",
              "      <td>1424696633918</td>\n",
              "      <td>1424696631923288855</td>\n",
              "      <td>-5.995087</td>\n",
              "      <td>0.653549</td>\n",
              "      <td>8.204376</td>\n",
              "      <td>a</td>\n",
              "      <td>nexus4</td>\n",
              "      <td>nexus4_1</td>\n",
              "      <td>stand</td>\n",
              "    </tr>\n",
              "    <tr>\n",
              "      <th>3</th>\n",
              "      <td>3</td>\n",
              "      <td>1424696633919</td>\n",
              "      <td>1424696631928385290</td>\n",
              "      <td>-5.942718</td>\n",
              "      <td>0.676163</td>\n",
              "      <td>8.128204</td>\n",
              "      <td>a</td>\n",
              "      <td>nexus4</td>\n",
              "      <td>nexus4_1</td>\n",
              "      <td>stand</td>\n",
              "    </tr>\n",
              "    <tr>\n",
              "      <th>4</th>\n",
              "      <td>4</td>\n",
              "      <td>1424696633929</td>\n",
              "      <td>1424696631933420691</td>\n",
              "      <td>-5.991516</td>\n",
              "      <td>0.641647</td>\n",
              "      <td>8.135345</td>\n",
              "      <td>a</td>\n",
              "      <td>nexus4</td>\n",
              "      <td>nexus4_1</td>\n",
              "      <td>stand</td>\n",
              "    </tr>\n",
              "  </tbody>\n",
              "</table>\n",
              "</div>"
            ],
            "text/plain": [
              "   Index   Arrival_Time        Creation_Time  ...   Model    Device     gt\n",
              "0      0  1424696633908  1424696631913248572  ...  nexus4  nexus4_1  stand\n",
              "1      1  1424696633909  1424696631918283972  ...  nexus4  nexus4_1  stand\n",
              "2      2  1424696633918  1424696631923288855  ...  nexus4  nexus4_1  stand\n",
              "3      3  1424696633919  1424696631928385290  ...  nexus4  nexus4_1  stand\n",
              "4      4  1424696633929  1424696631933420691  ...  nexus4  nexus4_1  stand\n",
              "\n",
              "[5 rows x 10 columns]"
            ]
          },
          "metadata": {
            "tags": []
          },
          "execution_count": 10
        }
      ]
    },
    {
      "cell_type": "code",
      "metadata": {
        "id": "0ZdYPJIjJo6I",
        "colab_type": "code",
        "outputId": "335531f5-7b8b-4de1-cb1a-c03ba5f681b9",
        "colab": {
          "base_uri": "https://localhost:8080/",
          "height": 198
        }
      },
      "source": [
        "#data = data.drop(['Index','Creation_Time','User','Model','Device'], axis = 1).copy()\n",
        "data.head()"
      ],
      "execution_count": 0,
      "outputs": [
        {
          "output_type": "execute_result",
          "data": {
            "text/html": [
              "<div>\n",
              "<style scoped>\n",
              "    .dataframe tbody tr th:only-of-type {\n",
              "        vertical-align: middle;\n",
              "    }\n",
              "\n",
              "    .dataframe tbody tr th {\n",
              "        vertical-align: top;\n",
              "    }\n",
              "\n",
              "    .dataframe thead th {\n",
              "        text-align: right;\n",
              "    }\n",
              "</style>\n",
              "<table border=\"1\" class=\"dataframe\">\n",
              "  <thead>\n",
              "    <tr style=\"text-align: right;\">\n",
              "      <th></th>\n",
              "      <th>Index</th>\n",
              "      <th>Arrival_Time</th>\n",
              "      <th>Creation_Time</th>\n",
              "      <th>x</th>\n",
              "      <th>y</th>\n",
              "      <th>z</th>\n",
              "      <th>User</th>\n",
              "      <th>Model</th>\n",
              "      <th>Device</th>\n",
              "      <th>gt</th>\n",
              "    </tr>\n",
              "  </thead>\n",
              "  <tbody>\n",
              "    <tr>\n",
              "      <th>0</th>\n",
              "      <td>0</td>\n",
              "      <td>1424696633908</td>\n",
              "      <td>1424696631913248572</td>\n",
              "      <td>-5.958191</td>\n",
              "      <td>0.688065</td>\n",
              "      <td>8.135345</td>\n",
              "      <td>a</td>\n",
              "      <td>nexus4</td>\n",
              "      <td>nexus4_1</td>\n",
              "      <td>stand</td>\n",
              "    </tr>\n",
              "    <tr>\n",
              "      <th>1</th>\n",
              "      <td>1</td>\n",
              "      <td>1424696633909</td>\n",
              "      <td>1424696631918283972</td>\n",
              "      <td>-5.952240</td>\n",
              "      <td>0.670212</td>\n",
              "      <td>8.136536</td>\n",
              "      <td>a</td>\n",
              "      <td>nexus4</td>\n",
              "      <td>nexus4_1</td>\n",
              "      <td>stand</td>\n",
              "    </tr>\n",
              "    <tr>\n",
              "      <th>2</th>\n",
              "      <td>2</td>\n",
              "      <td>1424696633918</td>\n",
              "      <td>1424696631923288855</td>\n",
              "      <td>-5.995087</td>\n",
              "      <td>0.653549</td>\n",
              "      <td>8.204376</td>\n",
              "      <td>a</td>\n",
              "      <td>nexus4</td>\n",
              "      <td>nexus4_1</td>\n",
              "      <td>stand</td>\n",
              "    </tr>\n",
              "    <tr>\n",
              "      <th>3</th>\n",
              "      <td>3</td>\n",
              "      <td>1424696633919</td>\n",
              "      <td>1424696631928385290</td>\n",
              "      <td>-5.942718</td>\n",
              "      <td>0.676163</td>\n",
              "      <td>8.128204</td>\n",
              "      <td>a</td>\n",
              "      <td>nexus4</td>\n",
              "      <td>nexus4_1</td>\n",
              "      <td>stand</td>\n",
              "    </tr>\n",
              "    <tr>\n",
              "      <th>4</th>\n",
              "      <td>4</td>\n",
              "      <td>1424696633929</td>\n",
              "      <td>1424696631933420691</td>\n",
              "      <td>-5.991516</td>\n",
              "      <td>0.641647</td>\n",
              "      <td>8.135345</td>\n",
              "      <td>a</td>\n",
              "      <td>nexus4</td>\n",
              "      <td>nexus4_1</td>\n",
              "      <td>stand</td>\n",
              "    </tr>\n",
              "  </tbody>\n",
              "</table>\n",
              "</div>"
            ],
            "text/plain": [
              "   Index   Arrival_Time        Creation_Time  ...   Model    Device     gt\n",
              "0      0  1424696633908  1424696631913248572  ...  nexus4  nexus4_1  stand\n",
              "1      1  1424696633909  1424696631918283972  ...  nexus4  nexus4_1  stand\n",
              "2      2  1424696633918  1424696631923288855  ...  nexus4  nexus4_1  stand\n",
              "3      3  1424696633919  1424696631928385290  ...  nexus4  nexus4_1  stand\n",
              "4      4  1424696633929  1424696631933420691  ...  nexus4  nexus4_1  stand\n",
              "\n",
              "[5 rows x 10 columns]"
            ]
          },
          "metadata": {
            "tags": []
          },
          "execution_count": 11
        }
      ]
    },
    {
      "cell_type": "code",
      "metadata": {
        "id": "czgSYoh1ktNA",
        "colab_type": "code",
        "outputId": "60c626f8-00f9-4e0d-b458-802dc567d538",
        "colab": {
          "base_uri": "https://localhost:8080/",
          "height": 145
        }
      },
      "source": [
        "data['gt'].value_counts()"
      ],
      "execution_count": 0,
      "outputs": [
        {
          "output_type": "execute_result",
          "data": {
            "text/plain": [
              "walk          2192401\n",
              "sit           1991919\n",
              "stand         1851492\n",
              "bike          1845557\n",
              "stairsup      1782010\n",
              "stairsdown    1615896\n",
              "Name: gt, dtype: int64"
            ]
          },
          "metadata": {
            "tags": []
          },
          "execution_count": 12
        }
      ]
    },
    {
      "cell_type": "code",
      "metadata": {
        "id": "ZxCdtxAxk0t6",
        "colab_type": "code",
        "outputId": "be833cce-fb98-46ab-c1c2-74f71793077e",
        "colab": {
          "base_uri": "https://localhost:8080/",
          "height": 308
        }
      },
      "source": [
        "data['x'] = data['x'].astype('float')\n",
        "data['y'] = data['y'].astype('float')\n",
        "data['z'] = data['z'].astype('float')\n",
        "data.info()\n",
        "data.shape\n"
      ],
      "execution_count": 0,
      "outputs": [
        {
          "output_type": "stream",
          "text": [
            "<class 'pandas.core.frame.DataFrame'>\n",
            "Int64Index: 11279275 entries, 0 to 13062474\n",
            "Data columns (total 10 columns):\n",
            "Index            int64\n",
            "Arrival_Time     int64\n",
            "Creation_Time    int64\n",
            "x                float64\n",
            "y                float64\n",
            "z                float64\n",
            "User             object\n",
            "Model            object\n",
            "Device           object\n",
            "gt               object\n",
            "dtypes: float64(3), int64(3), object(4)\n",
            "memory usage: 946.6+ MB\n"
          ],
          "name": "stdout"
        },
        {
          "output_type": "execute_result",
          "data": {
            "text/plain": [
              "(11279275, 10)"
            ]
          },
          "metadata": {
            "tags": []
          },
          "execution_count": 13
        }
      ]
    },
    {
      "cell_type": "code",
      "metadata": {
        "id": "jW9HWs0pk9vm",
        "colab_type": "code",
        "outputId": "a69bf814-6ce3-4252-de6a-75757cc9ea2d",
        "colab": {
          "base_uri": "https://localhost:8080/",
          "height": 35
        }
      },
      "source": [
        "Fs = 20\n",
        "gt= data['gt'].value_counts().index\n",
        "gt"
      ],
      "execution_count": 0,
      "outputs": [
        {
          "output_type": "execute_result",
          "data": {
            "text/plain": [
              "Index(['walk', 'sit', 'stand', 'bike', 'stairsup', 'stairsdown'], dtype='object')"
            ]
          },
          "metadata": {
            "tags": []
          },
          "execution_count": 14
        }
      ]
    },
    {
      "cell_type": "code",
      "metadata": {
        "id": "b-Yg1SHFlZ-i",
        "colab_type": "code",
        "outputId": "74ecce70-ee3b-4260-b9fd-874c4199a0e6",
        "colab": {
          "base_uri": "https://localhost:8080/",
          "height": 198
        }
      },
      "source": [
        "from sklearn.preprocessing import LabelEncoder\n",
        "label = LabelEncoder()\n",
        "data['label'] = label.fit_transform(data['gt'])\n",
        "data.head()"
      ],
      "execution_count": 0,
      "outputs": [
        {
          "output_type": "execute_result",
          "data": {
            "text/html": [
              "<div>\n",
              "<style scoped>\n",
              "    .dataframe tbody tr th:only-of-type {\n",
              "        vertical-align: middle;\n",
              "    }\n",
              "\n",
              "    .dataframe tbody tr th {\n",
              "        vertical-align: top;\n",
              "    }\n",
              "\n",
              "    .dataframe thead th {\n",
              "        text-align: right;\n",
              "    }\n",
              "</style>\n",
              "<table border=\"1\" class=\"dataframe\">\n",
              "  <thead>\n",
              "    <tr style=\"text-align: right;\">\n",
              "      <th></th>\n",
              "      <th>Index</th>\n",
              "      <th>Arrival_Time</th>\n",
              "      <th>Creation_Time</th>\n",
              "      <th>x</th>\n",
              "      <th>y</th>\n",
              "      <th>z</th>\n",
              "      <th>User</th>\n",
              "      <th>Model</th>\n",
              "      <th>Device</th>\n",
              "      <th>gt</th>\n",
              "      <th>label</th>\n",
              "    </tr>\n",
              "  </thead>\n",
              "  <tbody>\n",
              "    <tr>\n",
              "      <th>0</th>\n",
              "      <td>0</td>\n",
              "      <td>1424696633908</td>\n",
              "      <td>1424696631913248572</td>\n",
              "      <td>-5.958191</td>\n",
              "      <td>0.688065</td>\n",
              "      <td>8.135345</td>\n",
              "      <td>a</td>\n",
              "      <td>nexus4</td>\n",
              "      <td>nexus4_1</td>\n",
              "      <td>stand</td>\n",
              "      <td>4</td>\n",
              "    </tr>\n",
              "    <tr>\n",
              "      <th>1</th>\n",
              "      <td>1</td>\n",
              "      <td>1424696633909</td>\n",
              "      <td>1424696631918283972</td>\n",
              "      <td>-5.952240</td>\n",
              "      <td>0.670212</td>\n",
              "      <td>8.136536</td>\n",
              "      <td>a</td>\n",
              "      <td>nexus4</td>\n",
              "      <td>nexus4_1</td>\n",
              "      <td>stand</td>\n",
              "      <td>4</td>\n",
              "    </tr>\n",
              "    <tr>\n",
              "      <th>2</th>\n",
              "      <td>2</td>\n",
              "      <td>1424696633918</td>\n",
              "      <td>1424696631923288855</td>\n",
              "      <td>-5.995087</td>\n",
              "      <td>0.653549</td>\n",
              "      <td>8.204376</td>\n",
              "      <td>a</td>\n",
              "      <td>nexus4</td>\n",
              "      <td>nexus4_1</td>\n",
              "      <td>stand</td>\n",
              "      <td>4</td>\n",
              "    </tr>\n",
              "    <tr>\n",
              "      <th>3</th>\n",
              "      <td>3</td>\n",
              "      <td>1424696633919</td>\n",
              "      <td>1424696631928385290</td>\n",
              "      <td>-5.942718</td>\n",
              "      <td>0.676163</td>\n",
              "      <td>8.128204</td>\n",
              "      <td>a</td>\n",
              "      <td>nexus4</td>\n",
              "      <td>nexus4_1</td>\n",
              "      <td>stand</td>\n",
              "      <td>4</td>\n",
              "    </tr>\n",
              "    <tr>\n",
              "      <th>4</th>\n",
              "      <td>4</td>\n",
              "      <td>1424696633929</td>\n",
              "      <td>1424696631933420691</td>\n",
              "      <td>-5.991516</td>\n",
              "      <td>0.641647</td>\n",
              "      <td>8.135345</td>\n",
              "      <td>a</td>\n",
              "      <td>nexus4</td>\n",
              "      <td>nexus4_1</td>\n",
              "      <td>stand</td>\n",
              "      <td>4</td>\n",
              "    </tr>\n",
              "  </tbody>\n",
              "</table>\n",
              "</div>"
            ],
            "text/plain": [
              "   Index   Arrival_Time        Creation_Time  ...    Device     gt  label\n",
              "0      0  1424696633908  1424696631913248572  ...  nexus4_1  stand      4\n",
              "1      1  1424696633909  1424696631918283972  ...  nexus4_1  stand      4\n",
              "2      2  1424696633918  1424696631923288855  ...  nexus4_1  stand      4\n",
              "3      3  1424696633919  1424696631928385290  ...  nexus4_1  stand      4\n",
              "4      4  1424696633929  1424696631933420691  ...  nexus4_1  stand      4\n",
              "\n",
              "[5 rows x 11 columns]"
            ]
          },
          "metadata": {
            "tags": []
          },
          "execution_count": 15
        }
      ]
    },
    {
      "cell_type": "code",
      "metadata": {
        "id": "voiP0mliljDm",
        "colab_type": "code",
        "outputId": "6d6dff7d-c018-4782-ab87-a5f19fe1f528",
        "colab": {
          "base_uri": "https://localhost:8080/",
          "height": 54
        }
      },
      "source": [
        "label.classes_"
      ],
      "execution_count": 0,
      "outputs": [
        {
          "output_type": "execute_result",
          "data": {
            "text/plain": [
              "array(['bike', 'sit', 'stairsdown', 'stairsup', 'stand', 'walk'],\n",
              "      dtype=object)"
            ]
          },
          "metadata": {
            "tags": []
          },
          "execution_count": 16
        }
      ]
    },
    {
      "cell_type": "code",
      "metadata": {
        "id": "AsLDkawYlmV4",
        "colab_type": "code",
        "outputId": "69711e68-a74d-4f77-bbb8-575542ece2a0",
        "colab": {
          "base_uri": "https://localhost:8080/",
          "height": 407
        }
      },
      "source": [
        "X = data[['x', 'y', 'z']]\n",
        "y = data['label']\n",
        "scaler = StandardScaler()\n",
        "X = scaler.fit_transform(X)\n",
        "\n",
        "scaled_X = pd.DataFrame(data = X, columns = ['x', 'y', 'z'])\n",
        "scaled_X['label'] = y.values\n",
        "\n",
        "scaled_X"
      ],
      "execution_count": 0,
      "outputs": [
        {
          "output_type": "execute_result",
          "data": {
            "text/html": [
              "<div>\n",
              "<style scoped>\n",
              "    .dataframe tbody tr th:only-of-type {\n",
              "        vertical-align: middle;\n",
              "    }\n",
              "\n",
              "    .dataframe tbody tr th {\n",
              "        vertical-align: top;\n",
              "    }\n",
              "\n",
              "    .dataframe thead th {\n",
              "        text-align: right;\n",
              "    }\n",
              "</style>\n",
              "<table border=\"1\" class=\"dataframe\">\n",
              "  <thead>\n",
              "    <tr style=\"text-align: right;\">\n",
              "      <th></th>\n",
              "      <th>x</th>\n",
              "      <th>y</th>\n",
              "      <th>z</th>\n",
              "      <th>label</th>\n",
              "    </tr>\n",
              "  </thead>\n",
              "  <tbody>\n",
              "    <tr>\n",
              "      <th>0</th>\n",
              "      <td>-1.105237</td>\n",
              "      <td>0.345730</td>\n",
              "      <td>-0.340154</td>\n",
              "      <td>4</td>\n",
              "    </tr>\n",
              "    <tr>\n",
              "      <th>1</th>\n",
              "      <td>-1.103729</td>\n",
              "      <td>0.334192</td>\n",
              "      <td>-0.339632</td>\n",
              "      <td>4</td>\n",
              "    </tr>\n",
              "    <tr>\n",
              "      <th>2</th>\n",
              "      <td>-1.114581</td>\n",
              "      <td>0.323423</td>\n",
              "      <td>-0.309885</td>\n",
              "      <td>4</td>\n",
              "    </tr>\n",
              "    <tr>\n",
              "      <th>3</th>\n",
              "      <td>-1.101318</td>\n",
              "      <td>0.338038</td>\n",
              "      <td>-0.343285</td>\n",
              "      <td>4</td>\n",
              "    </tr>\n",
              "    <tr>\n",
              "      <th>4</th>\n",
              "      <td>-1.113677</td>\n",
              "      <td>0.315731</td>\n",
              "      <td>-0.340154</td>\n",
              "      <td>4</td>\n",
              "    </tr>\n",
              "    <tr>\n",
              "      <th>...</th>\n",
              "      <td>...</td>\n",
              "      <td>...</td>\n",
              "      <td>...</td>\n",
              "      <td>...</td>\n",
              "    </tr>\n",
              "    <tr>\n",
              "      <th>11279270</th>\n",
              "      <td>0.753091</td>\n",
              "      <td>0.000076</td>\n",
              "      <td>0.459814</td>\n",
              "      <td>0</td>\n",
              "    </tr>\n",
              "    <tr>\n",
              "      <th>11279271</th>\n",
              "      <td>0.753091</td>\n",
              "      <td>0.000076</td>\n",
              "      <td>0.392627</td>\n",
              "      <td>0</td>\n",
              "    </tr>\n",
              "    <tr>\n",
              "      <th>11279272</th>\n",
              "      <td>0.791899</td>\n",
              "      <td>0.000076</td>\n",
              "      <td>0.392627</td>\n",
              "      <td>0</td>\n",
              "    </tr>\n",
              "    <tr>\n",
              "      <th>11279273</th>\n",
              "      <td>0.791899</td>\n",
              "      <td>-0.098951</td>\n",
              "      <td>0.459814</td>\n",
              "      <td>0</td>\n",
              "    </tr>\n",
              "    <tr>\n",
              "      <th>11279274</th>\n",
              "      <td>0.753091</td>\n",
              "      <td>-0.098951</td>\n",
              "      <td>0.459814</td>\n",
              "      <td>0</td>\n",
              "    </tr>\n",
              "  </tbody>\n",
              "</table>\n",
              "<p>11279275 rows × 4 columns</p>\n",
              "</div>"
            ],
            "text/plain": [
              "                 x         y         z  label\n",
              "0        -1.105237  0.345730 -0.340154      4\n",
              "1        -1.103729  0.334192 -0.339632      4\n",
              "2        -1.114581  0.323423 -0.309885      4\n",
              "3        -1.101318  0.338038 -0.343285      4\n",
              "4        -1.113677  0.315731 -0.340154      4\n",
              "...            ...       ...       ...    ...\n",
              "11279270  0.753091  0.000076  0.459814      0\n",
              "11279271  0.753091  0.000076  0.392627      0\n",
              "11279272  0.791899  0.000076  0.392627      0\n",
              "11279273  0.791899 -0.098951  0.459814      0\n",
              "11279274  0.753091 -0.098951  0.459814      0\n",
              "\n",
              "[11279275 rows x 4 columns]"
            ]
          },
          "metadata": {
            "tags": []
          },
          "execution_count": 17
        }
      ]
    },
    {
      "cell_type": "code",
      "metadata": {
        "id": "3hi98Sixl7Ob",
        "colab_type": "code",
        "outputId": "a3beea2e-8e9b-448e-ae6e-bd054e68208d",
        "colab": {
          "base_uri": "https://localhost:8080/",
          "height": 54
        }
      },
      "source": [
        "label.classes_"
      ],
      "execution_count": 0,
      "outputs": [
        {
          "output_type": "execute_result",
          "data": {
            "text/plain": [
              "array(['bike', 'sit', 'stairsdown', 'stairsup', 'stand', 'walk'],\n",
              "      dtype=object)"
            ]
          },
          "metadata": {
            "tags": []
          },
          "execution_count": 18
        }
      ]
    },
    {
      "cell_type": "code",
      "metadata": {
        "id": "YkOBUiU01Rr7",
        "colab_type": "code",
        "colab": {}
      },
      "source": [
        "Fs = 50\n",
        "frame_size = Fs*4 # 80\n",
        "hop_size = Fs*2 # 40\n"
      ],
      "execution_count": 0,
      "outputs": []
    },
    {
      "cell_type": "code",
      "metadata": {
        "id": "BIOtEbjOoH4t",
        "colab_type": "code",
        "colab": {}
      },
      "source": [
        "import math as m\n",
        "def get_frames(data, frame_size, hop_size):\n",
        "\n",
        "  N_FEATURES = 3\n",
        "  frames = []\n",
        "  labels = []\n",
        "  for i in range(0, len(scaled_X) - frame_size,hop_size):\n",
        "    x = data['x'].values[i: i + frame_size]\n",
        "    y = data['y'].values[i: i + frame_size]\n",
        "    z = data['z'].values[i: i + frame_size]\n",
        "        # Retrieve the most often used label in this segment\n",
        "    label = stats.mode(scaled_X['label'][i: i + frame_size])[0][0]\n",
        "    frames.append([x, y, z])\n",
        "    labels.append(label)\n",
        "  # Bring the segments into a better shape\n",
        "  frames = np.asarray(frames, dtype= np.float32).reshape(-1, frame_size, N_FEATURES)\n",
        "  labels = np.asarray(labels)\n",
        "  return frames, labels\n"
      ],
      "execution_count": 0,
      "outputs": []
    },
    {
      "cell_type": "code",
      "metadata": {
        "colab_type": "code",
        "id": "ZruOiWuCsJ-m",
        "colab": {}
      },
      "source": [
        "X,y = get_frames(scaled_X, frame_size, hop_size)"
      ],
      "execution_count": 0,
      "outputs": []
    },
    {
      "cell_type": "code",
      "metadata": {
        "colab_type": "code",
        "id": "TlKwVuxQsJOX",
        "outputId": "f0145286-9e0e-4f3d-bdf7-2410b326014c",
        "colab": {
          "base_uri": "https://localhost:8080/",
          "height": 35
        }
      },
      "source": [
        "X.shape\n",
        "y.shape"
      ],
      "execution_count": 0,
      "outputs": [
        {
          "output_type": "execute_result",
          "data": {
            "text/plain": [
              "(112791,)"
            ]
          },
          "metadata": {
            "tags": []
          },
          "execution_count": 22
        }
      ]
    },
    {
      "cell_type": "code",
      "metadata": {
        "id": "nqf7zeTA2WiX",
        "colab_type": "code",
        "colab": {}
      },
      "source": [
        "X_train, X_test, y_train, y_test = train_test_split(X,y, test_size = 0.2, random_state = 0, stratify = y)\n"
      ],
      "execution_count": 0,
      "outputs": []
    },
    {
      "cell_type": "code",
      "metadata": {
        "id": "d4nRHfpq1Rwp",
        "colab_type": "code",
        "outputId": "81fef356-56d4-4668-fe39-7b5411041569",
        "colab": {
          "base_uri": "https://localhost:8080/",
          "height": 35
        }
      },
      "source": [
        "X_train.shape, X_test.shape"
      ],
      "execution_count": 0,
      "outputs": [
        {
          "output_type": "execute_result",
          "data": {
            "text/plain": [
              "((90232, 200, 3), (22559, 200, 3))"
            ]
          },
          "metadata": {
            "tags": []
          },
          "execution_count": 24
        }
      ]
    },
    {
      "cell_type": "code",
      "metadata": {
        "id": "2z45rOPQMRLK",
        "colab_type": "code",
        "outputId": "f496e652-a294-460d-c9af-26db15712b34",
        "colab": {
          "base_uri": "https://localhost:8080/",
          "height": 35
        }
      },
      "source": [
        "x_train_reshaped = X_train.reshape(90232, frame_size *3)\n",
        "x_test_reshaped = X_test.reshape(22559,frame_size * 3)\n",
        "x_train_reshaped.shape, x_test_reshaped.shape"
      ],
      "execution_count": 0,
      "outputs": [
        {
          "output_type": "execute_result",
          "data": {
            "text/plain": [
              "((90232, 600), (22559, 600))"
            ]
          },
          "metadata": {
            "tags": []
          },
          "execution_count": 25
        }
      ]
    },
    {
      "cell_type": "code",
      "metadata": {
        "id": "zqTTrd74h2GL",
        "colab_type": "code",
        "colab": {}
      },
      "source": [
        "from sklearn.metrics import accuracy_score, log_loss\n",
        "from sklearn.neighbors import KNeighborsClassifier\n",
        "from sklearn.svm import SVC, LinearSVC, NuSVC\n",
        "from sklearn.tree import DecisionTreeClassifier\n",
        "from sklearn.ensemble import RandomForestClassifier, AdaBoostClassifier, GradientBoostingClassifier\n",
        "from sklearn.naive_bayes import GaussianNB\n",
        "from sklearn.discriminant_analysis import LinearDiscriminantAnalysis\n",
        "from sklearn.discriminant_analysis import QuadraticDiscriminantAnalysis\n",
        "from sklearn import linear_model\n",
        "# Python script for confusion matrix creation. \n",
        "from sklearn.metrics import confusion_matrix \n",
        "from sklearn.metrics import accuracy_score \n",
        "from sklearn.metrics import classification_report\n",
        "from mlxtend.plotting import plot_confusion_matrix"
      ],
      "execution_count": 0,
      "outputs": []
    },
    {
      "cell_type": "code",
      "metadata": {
        "id": "GfmEPg8dh6Li",
        "colab_type": "code",
        "colab": {}
      },
      "source": [
        "classifiers = [\n",
        "    linear_model.LogisticRegression(),\n",
        "    #KNeighborsClassifier(3),\n",
        "    #SVC(kernel=\"rbf\", C=0.025, probability=True),\n",
        "    #NuSVC(probability=True),\n",
        "    DecisionTreeClassifier(),\n",
        "    RandomForestClassifier(),\n",
        "    AdaBoostClassifier(),\n",
        "    #GradientBoostingClassifier(),\n",
        "    GaussianNB(),\n",
        "    LinearDiscriminantAnalysis(),\n",
        "    QuadraticDiscriminantAnalysis()\n",
        "    ]"
      ],
      "execution_count": 0,
      "outputs": []
    },
    {
      "cell_type": "code",
      "metadata": {
        "colab_type": "code",
        "id": "m1NjawM0zs6X",
        "outputId": "e0d770e8-838e-41b5-e9ee-7099d498c0fa",
        "colab": {
          "base_uri": "https://localhost:8080/",
          "height": 1000
        }
      },
      "source": [
        "# Logging for Visual Comparison\n",
        "log_cols=[\"Classifier\", \"Accuracy\", \"Log Loss\"]\n",
        "log = pd.DataFrame(columns=log_cols)\n",
        "\n",
        "for clf in classifiers:\n",
        "    clf.fit(x_train_reshaped, y_train)\n",
        "    name = clf.__class__.__name__    \n",
        "    print(\"=\"*30)\n",
        "    print(name)\n",
        "       \n",
        "    print('****Results****')\n",
        "    train_predictions = clf.predict(x_test_reshaped)\n",
        "    \n",
        "    acc = accuracy_score(y_test,train_predictions)\n",
        "    print(\"Accuracy: {:.4%}\".format(acc))\n",
        "    train_predictions = clf.predict_proba(x_test_reshaped)\n",
        "    ll = log_loss(y_test, train_predictions)\n",
        "    print(\"Log Loss: {}\".format(ll))\n",
        "    log_entry = pd.DataFrame([[name, acc*100, ll]], columns=log_cols)\n",
        "    log = log.append(log_entry) \n",
        "    \n",
        "    y_pred = clf.predict(x_test_reshaped)\n",
        "    print(confusion_matrix(y_test,y_pred))\n",
        "    print(accuracy_score(y_test,y_pred))\n",
        "    print(classification_report(y_test,y_pred))  \n",
        "    plot_confusion_matrix(conf_mat=confusion_matrix(y_test,y_pred),colorbar=True,show_absolute=False, show_normed=True, figsize=(7,7))\n",
        "    log_entry = pd.DataFrame([[name, acc*100, ll]], columns=log_cols)\n",
        "    \n",
        "    print(\"complete !!!\")\n",
        "\n",
        "print(\"=\"*30)"
      ],
      "execution_count": 0,
      "outputs": [
        {
          "output_type": "stream",
          "text": [
            "/usr/local/lib/python3.6/dist-packages/sklearn/linear_model/_logistic.py:940: ConvergenceWarning: lbfgs failed to converge (status=1):\n",
            "STOP: TOTAL NO. of ITERATIONS REACHED LIMIT.\n",
            "\n",
            "Increase the number of iterations (max_iter) or scale the data as shown in:\n",
            "    https://scikit-learn.org/stable/modules/preprocessing.html\n",
            "Please also refer to the documentation for alternative solver options:\n",
            "    https://scikit-learn.org/stable/modules/linear_model.html#logistic-regression\n",
            "  extra_warning_msg=_LOGISTIC_SOLVER_CONVERGENCE_MSG)\n"
          ],
          "name": "stderr"
        },
        {
          "output_type": "stream",
          "text": [
            "==============================\n",
            "LogisticRegression\n",
            "****Results****\n",
            "Accuracy: 37.9183%\n",
            "Log Loss: 1.4571388093997564\n",
            "[[1530  589   21  356  682  513]\n",
            " [ 713 3271    0    1    0    0]\n",
            " [ 541  171  207  949  536  825]\n",
            " [ 235  167  182 1542  270 1170]\n",
            " [1005  137    0  432  859 1270]\n",
            " [1047  180  180 1028  805 1145]]\n",
            "0.3791834744447892\n",
            "              precision    recall  f1-score   support\n",
            "\n",
            "           0       0.30      0.41      0.35      3691\n",
            "           1       0.72      0.82      0.77      3985\n",
            "           2       0.35      0.06      0.11      3229\n",
            "           3       0.36      0.43      0.39      3566\n",
            "           4       0.27      0.23      0.25      3703\n",
            "           5       0.23      0.26      0.25      4385\n",
            "\n",
            "    accuracy                           0.38     22559\n",
            "   macro avg       0.37      0.37      0.35     22559\n",
            "weighted avg       0.37      0.38      0.36     22559\n",
            "\n",
            "complete !!!\n",
            "==============================\n",
            "DecisionTreeClassifier\n",
            "****Results****\n",
            "Accuracy: 78.0575%\n",
            "Log Loss: 7.578657881768161\n",
            "[[2934   47  215  236  127  132]\n",
            " [  31 3936    6    6    6    0]\n",
            " [ 258    7 1807  671   16  470]\n",
            " [ 211    6  624 2132   16  577]\n",
            " [ 113   11    1   14 3562    2]\n",
            " [ 152    5  439  543    8 3238]]\n",
            "0.7805753801143668\n",
            "              precision    recall  f1-score   support\n",
            "\n",
            "           0       0.79      0.79      0.79      3691\n",
            "           1       0.98      0.99      0.98      3985\n",
            "           2       0.58      0.56      0.57      3229\n",
            "           3       0.59      0.60      0.59      3566\n",
            "           4       0.95      0.96      0.96      3703\n",
            "           5       0.73      0.74      0.74      4385\n",
            "\n",
            "    accuracy                           0.78     22559\n",
            "   macro avg       0.77      0.77      0.77     22559\n",
            "weighted avg       0.78      0.78      0.78     22559\n",
            "\n",
            "complete !!!\n",
            "==============================\n",
            "RandomForestClassifier\n",
            "****Results****\n",
            "Accuracy: 93.6478%\n",
            "Log Loss: 0.35172856051536067\n",
            "[[3551   11   74   34   10   11]\n",
            " [   6 3976    0    0    2    1]\n",
            " [  75    0 2703  378    1   72]\n",
            " [  67    0  196 3216    0   87]\n",
            " [  57    6    0    3 3637    0]\n",
            " [  34    0   52  256    0 4043]]\n",
            "0.9364776807482601\n",
            "              precision    recall  f1-score   support\n",
            "\n",
            "           0       0.94      0.96      0.95      3691\n",
            "           1       1.00      1.00      1.00      3985\n",
            "           2       0.89      0.84      0.86      3229\n",
            "           3       0.83      0.90      0.86      3566\n",
            "           4       1.00      0.98      0.99      3703\n",
            "           5       0.96      0.92      0.94      4385\n",
            "\n",
            "    accuracy                           0.94     22559\n",
            "   macro avg       0.93      0.93      0.93     22559\n",
            "weighted avg       0.94      0.94      0.94     22559\n",
            "\n",
            "complete !!!\n",
            "==============================\n",
            "AdaBoostClassifier\n",
            "****Results****\n",
            "Accuracy: 51.2257%\n",
            "Log Loss: 1.601581969413105\n",
            "[[2049  147  376  504  522   93]\n",
            " [  49 3225    4  415   18  274]\n",
            " [ 340   14  896 1688   15  276]\n",
            " [ 303   22  530 2591   23   97]\n",
            " [ 213  505    1  630 2352    2]\n",
            " [ 260   15 1662 1993   12  443]]\n",
            "0.5122567489693692\n",
            "              precision    recall  f1-score   support\n",
            "\n",
            "           0       0.64      0.56      0.59      3691\n",
            "           1       0.82      0.81      0.82      3985\n",
            "           2       0.26      0.28      0.27      3229\n",
            "           3       0.33      0.73      0.46      3566\n",
            "           4       0.80      0.64      0.71      3703\n",
            "           5       0.37      0.10      0.16      4385\n",
            "\n",
            "    accuracy                           0.51     22559\n",
            "   macro avg       0.54      0.52      0.50     22559\n",
            "weighted avg       0.54      0.51      0.50     22559\n",
            "\n",
            "complete !!!\n",
            "==============================\n",
            "GaussianNB\n",
            "****Results****\n",
            "Accuracy: 62.8308%\n",
            "Log Loss: 10.644892291657541\n",
            "[[2542  145   10  198  712   84]\n",
            " [ 655 2981    0    0  349    0]\n",
            " [ 256  155  972  890   17  939]\n",
            " [ 614  136  197 2123   24  472]\n",
            " [ 237  139    0  364 2963    0]\n",
            " [ 132  177  170 1294   19 2593]]\n",
            "0.6283079923755486\n",
            "              precision    recall  f1-score   support\n",
            "\n",
            "           0       0.57      0.69      0.63      3691\n",
            "           1       0.80      0.75      0.77      3985\n",
            "           2       0.72      0.30      0.42      3229\n",
            "           3       0.44      0.60      0.50      3566\n",
            "           4       0.73      0.80      0.76      3703\n",
            "           5       0.63      0.59      0.61      4385\n",
            "\n",
            "    accuracy                           0.63     22559\n",
            "   macro avg       0.65      0.62      0.62     22559\n",
            "weighted avg       0.65      0.63      0.62     22559\n",
            "\n",
            "complete !!!\n",
            "==============================\n",
            "LinearDiscriminantAnalysis\n",
            "****Results****\n",
            "Accuracy: 36.6993%\n",
            "Log Loss: 1.546030235559926\n",
            "[[1770  265   51  389  762  454]\n",
            " [1093 2818    2    1   71    0]\n",
            " [ 546  157  287  933  540  766]\n",
            " [ 282  167  266 1524  285 1042]\n",
            " [1047  138    2  525  858 1133]\n",
            " [1048  177  289 1031  818 1022]]\n",
            "0.36699321778447624\n",
            "              precision    recall  f1-score   support\n",
            "\n",
            "           0       0.31      0.48      0.37      3691\n",
            "           1       0.76      0.71      0.73      3985\n",
            "           2       0.32      0.09      0.14      3229\n",
            "           3       0.35      0.43      0.38      3566\n",
            "           4       0.26      0.23      0.24      3703\n",
            "           5       0.23      0.23      0.23      4385\n",
            "\n",
            "    accuracy                           0.37     22559\n",
            "   macro avg       0.37      0.36      0.35     22559\n",
            "weighted avg       0.37      0.37      0.36     22559\n",
            "\n",
            "complete !!!\n",
            "==============================\n",
            "QuadraticDiscriminantAnalysis\n",
            "****Results****\n",
            "Accuracy: 55.7250%\n",
            "Log Loss: 11.688888892005018\n",
            "[[3069   16  206  118   19  263]\n",
            " [ 294 3174    4   16  497    0]\n",
            " [ 719    0 1189  958    1  362]\n",
            " [1418    0  626 1012    1  509]\n",
            " [ 360 1312   11    6 2010    4]\n",
            " [ 946    0  774  548    0 2117]]\n",
            "0.5572498780974334\n",
            "              precision    recall  f1-score   support\n",
            "\n",
            "           0       0.45      0.83      0.58      3691\n",
            "           1       0.71      0.80      0.75      3985\n",
            "           2       0.42      0.37      0.39      3229\n",
            "           3       0.38      0.28      0.33      3566\n",
            "           4       0.80      0.54      0.65      3703\n",
            "           5       0.65      0.48      0.55      4385\n",
            "\n",
            "    accuracy                           0.56     22559\n",
            "   macro avg       0.57      0.55      0.54     22559\n",
            "weighted avg       0.58      0.56      0.55     22559\n",
            "\n",
            "complete !!!\n",
            "==============================\n"
          ],
          "name": "stdout"
        },
        {
          "output_type": "display_data",
          "data": {
            "image/png": "[encoded data removed]",
            "text/plain": [
              "<Figure size 504x504 with 2 Axes>"
            ]
          },
          "metadata": {
            "tags": []
          }
        },
        {
          "output_type": "display_data",
          "data": {
            "image/png": "[encoded data removed]",
            "text/plain": [
              "<Figure size 504x504 with 2 Axes>"
            ]
          },
          "metadata": {
            "tags": []
          }
        },
        {
          "output_type": "display_data",
          "data": {
            "image/png": "[encoded data removed]",
            "text/plain": [
              "<Figure size 504x504 with 2 Axes>"
            ]
          },
          "metadata": {
            "tags": []
          }
        },
        {
          "output_type": "display_data",
          "data": {
            "image/png": "[encoded data removed]",
            "text/plain": [
              "<Figure size 504x504 with 2 Axes>"
            ]
          },
          "metadata": {
            "tags": []
          }
        },
        {
          "output_type": "display_data",
          "data": {
            "image/png": "[encoded data removed]",
            "text/plain": [
              "<Figure size 504x504 with 2 Axes>"
            ]
          },
          "metadata": {
            "tags": []
          }
        },
        {
          "output_type": "display_data",
          "data": {
            "image/png": "[encoded data removed]",
            "text/plain": [
              "<Figure size 504x504 with 2 Axes>"
            ]
          },
          "metadata": {
            "tags": []
          }
        },
        {
          "output_type": "display_data",
          "data": {
            "image/png": "[encoded data removed]",
            "text/plain": [
              "<Figure size 504x504 with 2 Axes>"
            ]
          },
          "metadata": {
            "tags": []
          }
        }
      ]
    },
    {
      "cell_type": "code",
      "metadata": {
        "id": "s_u10HW1uDAe",
        "colab_type": "code",
        "outputId": "7a52b87a-23ee-4500-d43f-17c4f5c7a3ee",
        "colab": {
          "base_uri": "https://localhost:8080/"
        }
      },
      "source": [
        "sns.set_color_codes(\"muted\")\n",
        "sns.barplot(x='Accuracy', y='Classifier', data=log, color=\"b\")\n",
        "\n",
        "plt.xlabel('Accuracy %')\n",
        "plt.title('Classifier Accuracy')\n",
        "plt.show()\n",
        "\n",
        "sns.set_color_codes(\"muted\")\n",
        "sns.barplot(x='Log Loss', y='Classifier', data=log, color=\"g\")\n",
        "\n",
        "plt.xlabel('Log Loss')\n",
        "plt.title('Classifier Log Loss')\n",
        "plt.show()"
      ],
      "execution_count": 0,
      "outputs": [
        {
          "output_type": "display_data",
          "data": {
            "image/png": "[encoded data removed]",
            "text/plain": [
              "<Figure size 432x288 with 1 Axes>"
            ]
          },
          "metadata": {
            "tags": []
          }
        },
        {
          "output_type": "display_data",
          "data": {
            "image/png": "[encoded data removed]",
            "text/plain": [
              "<Figure size 432x288 with 1 Axes>"
            ]
          },
          "metadata": {
            "tags": []
          }
        }
      ]
    }
  ]
}